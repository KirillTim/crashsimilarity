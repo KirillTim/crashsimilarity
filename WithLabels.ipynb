{
 "cells": [
  {
   "cell_type": "code",
   "execution_count": 187,
   "metadata": {
    "collapsed": true
   },
   "outputs": [],
   "source": [
    "import pickle\n",
    "from gensim.models import doc2vec\n",
    "import numpy as np\n",
    "import time \n",
    "import matplotlib.pyplot as plt\n",
    "from sklearn.cluster import DBSCAN\n",
    "from sklearn.cluster import MeanShift\n",
    "from collections import defaultdict\n",
    "from sklearn.metrics import fowlkes_mallows_score\n",
    "from hdbscan import HDBSCAN"
   ]
  },
  {
   "cell_type": "code",
   "execution_count": 21,
   "metadata": {
    "collapsed": false
   },
   "outputs": [
    {
     "data": {
      "text/plain": [
       "222895"
      ]
     },
     "execution_count": 21,
     "metadata": {},
     "output_type": "execute_result"
    }
   ],
   "source": [
    "# corpus is compressed now\n",
    "vocab = pickle.load(open('data/compressed_vocab.pickle', 'rb'))\n",
    "pos2vocab = dict([(i[1], i[0]) for i in vocab.items()])\n",
    "len(vocab)"
   ]
  },
  {
   "cell_type": "code",
   "execution_count": 22,
   "metadata": {
    "collapsed": false
   },
   "outputs": [
    {
     "data": {
      "text/plain": [
       "261"
      ]
     },
     "execution_count": 22,
     "metadata": {},
     "output_type": "execute_result"
    }
   ],
   "source": [
    "multiple_sig = pickle.load(open('data/multiple_sig_last_year.pickle', 'rb'))\n",
    "prepared = [sig['prepared'] for sig in multiple_sig]\n",
    "len(multiple_sig)"
   ]
  },
  {
   "cell_type": "code",
   "execution_count": 15,
   "metadata": {
    "collapsed": false
   },
   "outputs": [],
   "source": [
    "# multiple_sig[0]"
   ]
  },
  {
   "cell_type": "code",
   "execution_count": 9,
   "metadata": {
    "collapsed": false
   },
   "outputs": [],
   "source": [
    "# see BugzillaDownloader.ipynb for calculation details"
   ]
  },
  {
   "cell_type": "code",
   "execution_count": 53,
   "metadata": {
    "collapsed": false
   },
   "outputs": [
    {
     "data": {
      "text/plain": [
       "(1, 1)"
      ]
     },
     "execution_count": 53,
     "metadata": {},
     "output_type": "execute_result"
    }
   ],
   "source": [
    "ccc  = lambda a,b:1\n",
    "ccc (1,2), ccc('a', 'b')"
   ]
  },
  {
   "cell_type": "code",
   "execution_count": 111,
   "metadata": {
    "collapsed": true
   },
   "outputs": [],
   "source": [
    "def edit_distance2(s1, s2, ins_cost=lambda a,b:1, del_cost=lambda a,b:1, subst_cost=lambda a,b:1):\n",
    "    if len(s1) < len(s2):\n",
    "        return edit_distance(s2, s1, ins_cost, del_cost, subst_cost)\n",
    "\n",
    "    # len(s1) >= len(s2)\n",
    "    if len(s2) == 0:\n",
    "        return len(s1)\n",
    "\n",
    "    previous_row = range(len(s2) + 1)\n",
    "    for i, c1 in enumerate(s1):\n",
    "        current_row = [i + 1]\n",
    "        for j, c2 in enumerate(s2):\n",
    "            insertions = previous_row[j + 1] + ins_cost(s1[i], s2[j]) # j+1 instead of j since previous_row and current_row are one character longer\n",
    "            deletions = current_row[j] + del_cost(s2[j], s2[j-1])      # than s2\n",
    "            substitutions = previous_row[j] + (c1 != c2) * subst_cost(c1, c2)\n",
    "            current_row.append(min(insertions, deletions, substitutions))\n",
    "        previous_row = current_row\n",
    "    \n",
    "    return previous_row[-1]"
   ]
  },
  {
   "cell_type": "code",
   "execution_count": 23,
   "metadata": {
    "collapsed": true
   },
   "outputs": [],
   "source": [
    "def labels_to_clusters(labels):\n",
    "    clusters = defaultdict(list)\n",
    "    for i, c in enumerate(labels):\n",
    "        if c != -1:\n",
    "            clusters[c].append(i)\n",
    "    return clusters"
   ]
  },
  {
   "cell_type": "code",
   "execution_count": 24,
   "metadata": {
    "collapsed": true
   },
   "outputs": [],
   "source": [
    "def predicted_for_group(group, predicted):\n",
    "    rv = defaultdict(int)\n",
    "    for g in group:\n",
    "        for c, points in predicted.items():\n",
    "            if g in points:\n",
    "                rv[c] += 1\n",
    "    return rv\n",
    "\n",
    "def calc_accuracy(predicted, true):\n",
    "    total = sum([len(i) for i in predicted.values()])     \n",
    "    good = sum([max(predicted_for_group(g, predicted).values() or [0]) for g in true])\n",
    "    return good / float(total)"
   ]
  },
  {
   "cell_type": "code",
   "execution_count": 135,
   "metadata": {
    "collapsed": true
   },
   "outputs": [],
   "source": [
    "def calc_score(predicted, true):\n",
    "    total = sum([len(i) for i in predicted.values()])\n",
    "    err = sum([len(g) - max(predicted_for_group(g, predicted).values() or [0]) for g in true])\n",
    "    return 1 - err/ float(total)"
   ]
  },
  {
   "cell_type": "code",
   "execution_count": 26,
   "metadata": {
    "collapsed": false
   },
   "outputs": [],
   "source": [
    "groups = []\n",
    "corpus = []\n",
    "for p in prepared:\n",
    "    group = []\n",
    "    for t in p:\n",
    "        corpus.append(t)\n",
    "        group.append(len(corpus)-1)\n",
    "    groups.append(group)\n",
    "compressed_corpus = [[str(vocab.get(i, i)) for i in c] for c in corpus]\n",
    "compressed_corpus = [doc2vec.TaggedDocument(trace, [i]) for i, trace in enumerate(compressed_corpus)]\n",
    "groups = [g for g in groups if len(g) > 1]"
   ]
  },
  {
   "cell_type": "code",
   "execution_count": 27,
   "metadata": {
    "collapsed": false
   },
   "outputs": [
    {
     "data": {
      "text/plain": [
       "755"
      ]
     },
     "execution_count": 27,
     "metadata": {},
     "output_type": "execute_result"
    }
   ],
   "source": [
    "len(compressed_corpus)"
   ]
  },
  {
   "cell_type": "code",
   "execution_count": 19,
   "metadata": {
    "collapsed": false
   },
   "outputs": [
    {
     "data": {
      "text/plain": [
       "(755, 755)"
      ]
     },
     "execution_count": 19,
     "metadata": {},
     "output_type": "execute_result"
    }
   ],
   "source": [
    "edit_dist_no_coff = pickle.load(open('data/edit_dist_no_coff_last_year.pickle', 'rb'))\n",
    "edit_dist_no_coff.shape"
   ]
  },
  {
   "cell_type": "code",
   "execution_count": 20,
   "metadata": {
    "collapsed": false
   },
   "outputs": [
    {
     "data": {
      "text/plain": [
       "(755, 755)"
      ]
     },
     "execution_count": 20,
     "metadata": {},
     "output_type": "execute_result"
    }
   ],
   "source": [
    "edit_dist_coff = pickle.load(open('data/edit_dist_coff_last_year.pickle', 'rb'))\n",
    "edit_dist_coff.shape"
   ]
  },
  {
   "cell_type": "code",
   "execution_count": 209,
   "metadata": {
    "collapsed": false
   },
   "outputs": [
    {
     "data": {
      "text/plain": [
       "(755, 755)"
      ]
     },
     "execution_count": 209,
     "metadata": {},
     "output_type": "execute_result"
    }
   ],
   "source": [
    "wmd_all = pickle.load(open('data/wmd_last_year.pickle', 'rb'))\n",
    "wmd_all[wmd_all == np.inf] = -1\n",
    "m = np.max(wmd_all)\n",
    "wmd_all[wmd_all == -1] = m\n",
    "wmd_all.shape"
   ]
  },
  {
   "cell_type": "code",
   "execution_count": 22,
   "metadata": {
    "collapsed": false
   },
   "outputs": [
    {
     "data": {
      "text/plain": [
       "36.08441384122623"
      ]
     },
     "execution_count": 22,
     "metadata": {},
     "output_type": "execute_result"
    }
   ],
   "source": [
    "np.mean(edit_dist_coff)"
   ]
  },
  {
   "cell_type": "code",
   "execution_count": 23,
   "metadata": {
    "collapsed": false
   },
   "outputs": [
    {
     "data": {
      "text/plain": [
       "30.378516731722293"
      ]
     },
     "execution_count": 23,
     "metadata": {},
     "output_type": "execute_result"
    }
   ],
   "source": [
    "np.mean(edit_dist_no_coff)"
   ]
  },
  {
   "cell_type": "code",
   "execution_count": 24,
   "metadata": {
    "collapsed": false
   },
   "outputs": [
    {
     "data": {
      "text/plain": [
       "1.2975248343326107"
      ]
     },
     "execution_count": 24,
     "metadata": {},
     "output_type": "execute_result"
    }
   ],
   "source": [
    "np.mean(wmd_all)"
   ]
  },
  {
   "cell_type": "code",
   "execution_count": 120,
   "metadata": {
    "collapsed": false
   },
   "outputs": [],
   "source": [
    "def dbscan(dist, eps=0.5, min_samples=5):\n",
    "    db = DBSCAN(eps=eps, min_samples=min_samples, metric='precomputed').fit(dist)\n",
    "    core_samples_mask = np.zeros_like(db.labels_, dtype=bool)\n",
    "    core_samples_mask[db.core_sample_indices_] = True\n",
    "    labels = db.labels_\n",
    "    n_clusters = len(set(labels)) - (1 if -1 in labels else 0)\n",
    "    return labels, n_clusters, core_samples_mask"
   ]
  },
  {
   "cell_type": "code",
   "execution_count": 26,
   "metadata": {
    "collapsed": true
   },
   "outputs": [],
   "source": [
    "def hdbscan(dist, min_samples=5):\n",
    "    hdb = HDBSCAN(eps = 0.5, min_samples=min_samples, metric='precomputed').fit(dist)\n",
    "    labels = hdb.labels_\n",
    "    n_clusters = len(set(labels)) - (1 if -1 in labels else 0)\n",
    "    return labels, n_clusters"
   ]
  },
  {
   "cell_type": "code",
   "execution_count": 121,
   "metadata": {
    "collapsed": true
   },
   "outputs": [],
   "source": [
    "def plot_clusters(labels, n_clusters, core_samples_mask, dist, remove_outliers=True):\n",
    "    # Black removed and is used for noise instead.\n",
    "    unique_labels = set(labels)\n",
    "    colors = plt.cm.Spectral(np.linspace(0, 1, len(unique_labels)))\n",
    "    for k, col in zip(unique_labels, colors):\n",
    "        if k == -1:\n",
    "            if remove_outliers:\n",
    "                continue\n",
    "            # Black used for noise.\n",
    "            col = 'k'\n",
    "\n",
    "        class_member_mask = (labels == k)\n",
    "\n",
    "        xy = dist[class_member_mask & core_samples_mask]\n",
    "        plt.plot(xy[:, 0], xy[:, 1], 'o', markerfacecolor=col,\n",
    "                 markeredgecolor='k', markersize=8)\n",
    "\n",
    "        xy = dist[class_member_mask & ~core_samples_mask]\n",
    "        plt.plot(xy[:, 0], xy[:, 1], 'o', markerfacecolor=col,\n",
    "                 markeredgecolor='k', markersize=4)\n",
    "\n",
    "    plt.title('Estimated number of clusters: %d' % n_clusters)\n",
    "    plt.show()"
   ]
  },
  {
   "cell_type": "code",
   "execution_count": 210,
   "metadata": {
    "collapsed": false
   },
   "outputs": [
    {
     "data": {
      "text/plain": [
       "117"
      ]
     },
     "execution_count": 210,
     "metadata": {},
     "output_type": "execute_result"
    }
   ],
   "source": [
    "labels, n_clusters, core_samples_mask = dbscan(wmd_all, min_samples=2)\n",
    "n_clusters"
   ]
  },
  {
   "cell_type": "code",
   "execution_count": 29,
   "metadata": {
    "collapsed": false
   },
   "outputs": [
    {
     "data": {
      "text/plain": [
       "49"
      ]
     },
     "execution_count": 29,
     "metadata": {},
     "output_type": "execute_result"
    }
   ],
   "source": [
    "hlabels, hn_clusters = hdbscan(wmd_all, min_samples=1)\n",
    "hn_clusters"
   ]
  },
  {
   "cell_type": "code",
   "execution_count": 30,
   "metadata": {
    "collapsed": false
   },
   "outputs": [
    {
     "data": {
      "text/plain": [
       "(49, 8.6326530612244898)"
      ]
     },
     "execution_count": 30,
     "metadata": {},
     "output_type": "execute_result"
    }
   ],
   "source": [
    "hclusters_wmd = labels_to_clusters(hlabels)\n",
    "len(hclusters_wmd), np.mean([len(i) for i in hclusters_wmd.values()])"
   ]
  },
  {
   "cell_type": "code",
   "execution_count": 64,
   "metadata": {
    "collapsed": true
   },
   "outputs": [],
   "source": [
    "true_labels = [-1] * len(compressed_corpus)\n",
    "for i, g in enumerate(groups):\n",
    "    for x in g:\n",
    "        true_labels[x] = i"
   ]
  },
  {
   "cell_type": "code",
   "execution_count": 69,
   "metadata": {
    "collapsed": false
   },
   "outputs": [
    {
     "data": {
      "text/plain": [
       "0.089596260546777981"
      ]
     },
     "execution_count": 69,
     "metadata": {},
     "output_type": "execute_result"
    }
   ],
   "source": [
    "fowlkes_mallows_score(true_labels, labels_nec)"
   ]
  },
  {
   "cell_type": "code",
   "execution_count": 72,
   "metadata": {
    "collapsed": false
   },
   "outputs": [
    {
     "data": {
      "text/plain": [
       "0.306930693069307"
      ]
     },
     "execution_count": 72,
     "metadata": {},
     "output_type": "execute_result"
    }
   ],
   "source": [
    "calc_score(clusters_wmd, groups)"
   ]
  },
  {
   "cell_type": "code",
   "execution_count": 41,
   "metadata": {
    "collapsed": false
   },
   "outputs": [
    {
     "data": {
      "text/plain": [
       "(0.8014184397163121, 0.40710726742116876)"
      ]
     },
     "execution_count": 41,
     "metadata": {},
     "output_type": "execute_result"
    }
   ],
   "source": [
    "calc_accuracy(hclusters_wmd, groups)"
   ]
  },
  {
   "cell_type": "code",
   "execution_count": null,
   "metadata": {
    "collapsed": true
   },
   "outputs": [],
   "source": [
    "fowlkes_mallows_score()"
   ]
  },
  {
   "cell_type": "code",
   "execution_count": 42,
   "metadata": {
    "collapsed": false
   },
   "outputs": [
    {
     "data": {
      "text/plain": [
       "(117, 4.316239316239316)"
      ]
     },
     "execution_count": 42,
     "metadata": {},
     "output_type": "execute_result"
    }
   ],
   "source": [
    "clusters_wmd = labels_to_clusters(labels)\n",
    "len(clusters_wmd), np.mean([len(i) for i in clusters_wmd.values()])"
   ]
  },
  {
   "cell_type": "code",
   "execution_count": 43,
   "metadata": {
    "collapsed": false
   },
   "outputs": [
    {
     "data": {
      "text/plain": [
       "(0.7524752475247525, 0.50839561534628797)"
      ]
     },
     "execution_count": 43,
     "metadata": {},
     "output_type": "execute_result"
    }
   ],
   "source": [
    "calc_accuracy(clusters_wmd, groups)"
   ]
  },
  {
   "cell_type": "code",
   "execution_count": 44,
   "metadata": {
    "collapsed": false
   },
   "outputs": [
    {
     "name": "stderr",
     "output_type": "stream",
     "text": [
      "/home/kirill/anaconda3/lib/python3.6/site-packages/matplotlib/lines.py:1206: FutureWarning: comparison to `None` will result in an elementwise object comparison in the future.\n",
      "  if self._markerfacecolor != fc:\n"
     ]
    },
    {
     "data": {
      "image/png": "[encoded data removed]",
      "text/plain": [
       "<matplotlib.figure.Figure at 0x7fa36236e780>"
      ]
     },
     "metadata": {},
     "output_type": "display_data"
    }
   ],
   "source": [
    "plot_clusters(hlabels, hn_clusters, core_samples_mask, wmd_all)"
   ]
  },
  {
   "cell_type": "code",
   "execution_count": 211,
   "metadata": {
    "collapsed": false
   },
   "outputs": [
    {
     "name": "stderr",
     "output_type": "stream",
     "text": [
      "/home/kirill/anaconda3/lib/python3.6/site-packages/matplotlib/lines.py:1206: FutureWarning: comparison to `None` will result in an elementwise object comparison in the future.\n",
      "  if self._markerfacecolor != fc:\n"
     ]
    },
    {
     "data": {
      "image/png": "[encoded data removed]",
      "text/plain": [
       "<matplotlib.figure.Figure at 0x7f263f101748>"
      ]
     },
     "metadata": {},
     "output_type": "display_data"
    }
   ],
   "source": [
    "plot_clusters(labels, n_clusters, core_samples_mask, wmd_all)"
   ]
  },
  {
   "cell_type": "code",
   "execution_count": 45,
   "metadata": {
    "collapsed": false
   },
   "outputs": [
    {
     "data": {
      "text/plain": [
       "106"
      ]
     },
     "execution_count": 45,
     "metadata": {},
     "output_type": "execute_result"
    }
   ],
   "source": [
    "labels_ec, n_clusters_ec, core_samples_mask_ec = dbscan(edit_dist_coff, eps=5, min_samples=2)\n",
    "n_clusters_ec"
   ]
  },
  {
   "cell_type": "code",
   "execution_count": 46,
   "metadata": {
    "collapsed": false
   },
   "outputs": [
    {
     "data": {
      "text/plain": [
       "(0.7627118644067796, 0.41391202220798634)"
      ]
     },
     "execution_count": 46,
     "metadata": {},
     "output_type": "execute_result"
    }
   ],
   "source": [
    "calc_accuracy(labels_to_clusters(labels_ec), groups)"
   ]
  },
  {
   "cell_type": "code",
   "execution_count": 73,
   "metadata": {
    "collapsed": false
   },
   "outputs": [
    {
     "data": {
      "text/plain": [
       "-0.004842615012106588"
      ]
     },
     "execution_count": 73,
     "metadata": {},
     "output_type": "execute_result"
    }
   ],
   "source": [
    "calc_score(labels_to_clusters(labels_ec), groups)"
   ]
  },
  {
   "cell_type": "code",
   "execution_count": 155,
   "metadata": {
    "collapsed": false
   },
   "outputs": [
    {
     "name": "stderr",
     "output_type": "stream",
     "text": [
      "/home/kirill/anaconda3/lib/python3.6/site-packages/matplotlib/lines.py:1206: FutureWarning: comparison to `None` will result in an elementwise object comparison in the future.\n",
      "  if self._markerfacecolor != fc:\n"
     ]
    },
    {
     "data": {
      "image/png": "[encoded data removed]",
      "text/plain": [
       "<matplotlib.figure.Figure at 0x7f59a774b748>"
      ]
     },
     "metadata": {},
     "output_type": "display_data"
    }
   ],
   "source": [
    "plot_clusters(labels_ec, n_clusters_ec, core_samples_mask_ec, edit_dist_coff)"
   ]
  },
  {
   "cell_type": "code",
   "execution_count": 47,
   "metadata": {
    "collapsed": false
   },
   "outputs": [
    {
     "data": {
      "text/plain": [
       "105"
      ]
     },
     "execution_count": 47,
     "metadata": {},
     "output_type": "execute_result"
    }
   ],
   "source": [
    "labels_nec, n_clusters_nec, core_samples_mask_nec = dbscan(edit_dist_no_coff, eps=5, min_samples=2)\n",
    "n_clusters_nec"
   ]
  },
  {
   "cell_type": "code",
   "execution_count": 48,
   "metadata": {
    "collapsed": false
   },
   "outputs": [
    {
     "data": {
      "text/plain": [
       "(0.7505938242280285, 0.42162787387002637)"
      ]
     },
     "execution_count": 48,
     "metadata": {},
     "output_type": "execute_result"
    }
   ],
   "source": [
    "calc_accuracy(labels_to_clusters(labels_nec), groups)"
   ]
  },
  {
   "cell_type": "code",
   "execution_count": 157,
   "metadata": {
    "collapsed": false
   },
   "outputs": [
    {
     "name": "stderr",
     "output_type": "stream",
     "text": [
      "/home/kirill/anaconda3/lib/python3.6/site-packages/matplotlib/lines.py:1206: FutureWarning: comparison to `None` will result in an elementwise object comparison in the future.\n",
      "  if self._markerfacecolor != fc:\n"
     ]
    },
    {
     "data": {
      "image/png": "[encoded data removed]",
      "text/plain": [
       "<matplotlib.figure.Figure at 0x7f59a89452b0>"
      ]
     },
     "metadata": {},
     "output_type": "display_data"
    }
   ],
   "source": [
    "plot_clusters(labels_nec, n_clusters_nec, core_samples_mask_nec, edit_dist_no_coff)"
   ]
  },
  {
   "cell_type": "code",
   "execution_count": 55,
   "metadata": {
    "collapsed": true
   },
   "outputs": [],
   "source": [
    "def struct_dist_calc(s1, s2):\n",
    "    if len(s1) < len(s2):\n",
    "        return struct_dist_calc(s2, s1)\n",
    "    s2 += [''] * (len(s1)-len(s2))\n",
    "    return sum([struct_word_dist(i[0], i[1]) for i in zip(s1, s2)])"
   ]
  },
  {
   "cell_type": "code",
   "execution_count": 112,
   "metadata": {
    "collapsed": false
   },
   "outputs": [],
   "source": [
    "def struct_word_dist(w1, w2):\n",
    "    parts1 = w1.split('::')\n",
    "    parts2 = w2.split('::')\n",
    "    if len(parts1) < len(parts2):\n",
    "        return struct_word_dist(w2, w1)\n",
    "    prefix = 0\n",
    "    i = 0\n",
    "    while i < len(parts2) and i < len(parts1) and parts1[i] == parts2[i]:\n",
    "        prefix += 1\n",
    "        i += 1\n",
    "    return 1 - float(prefix) / max(len(parts1), len(parts2))"
   ]
  },
  {
   "cell_type": "code",
   "execution_count": 113,
   "metadata": {
    "collapsed": false
   },
   "outputs": [
    {
     "data": {
      "text/plain": [
       "0.25"
      ]
     },
     "execution_count": 113,
     "metadata": {},
     "output_type": "execute_result"
    }
   ],
   "source": [
    "struct_word_dist('a::b::c','a::b::c::d')"
   ]
  },
  {
   "cell_type": "code",
   "execution_count": 114,
   "metadata": {
    "collapsed": true
   },
   "outputs": [],
   "source": [
    "def edit_distance_matrix(corpus, calculator, prog=10):\n",
    "    dist = np.zeros((len(corpus), len(corpus)), dtype=np.double)\n",
    "    idx = []\n",
    "    for i in range(len(corpus)):\n",
    "        for j in range(i+1, len(corpus)):\n",
    "            idx.append((i, j))\n",
    "    say = len(idx) // prog\n",
    "    t = time.time()\n",
    "    for s, (i, j) in enumerate(idx):\n",
    "        if s and s % say == 0:\n",
    "            print('{}%, {} s.'.format(s / (len(idx) * 0.01), time.time() - t))\n",
    "        doc1 = corpus[i].words\n",
    "        doc2 = corpus[j].words\n",
    "        dist[i, j] = dist[j, i] = calculator(doc1, doc2)\n",
    "    return dist"
   ]
  },
  {
   "cell_type": "code",
   "execution_count": 115,
   "metadata": {
    "collapsed": false
   },
   "outputs": [],
   "source": [
    "class Tmp(object):\n",
    "    def __init__(self, words):\n",
    "        self.words = words"
   ]
  },
  {
   "cell_type": "code",
   "execution_count": 116,
   "metadata": {
    "collapsed": true
   },
   "outputs": [],
   "source": [
    "def struct_dist_calc(s1, s2):\n",
    "    return edit_distance2(s1, s2, subst_cost=struct_word_dist)"
   ]
  },
  {
   "cell_type": "code",
   "execution_count": 118,
   "metadata": {
    "collapsed": false
   },
   "outputs": [
    {
     "name": "stdout",
     "output_type": "stream",
     "text": [
      "9.999824336430867%, 71.65830969810486 s.\n",
      "19.999648672861735%, 128.64697909355164 s.\n",
      "29.999473009292604%, 201.19729733467102 s.\n",
      "39.99929734572347%, 262.8518741130829 s.\n",
      "49.99912168215434%, 327.5255489349365 s.\n",
      "59.99894601858521%, 381.7634754180908 s.\n",
      "69.99877035501608%, 437.0748143196106 s.\n",
      "79.99859469144694%, 499.5568869113922 s.\n",
      "89.99841902787782%, 556.2634818553925 s.\n",
      "99.99824336430868%, 610.9814057350159 s.\n"
     ]
    }
   ],
   "source": [
    "struct_dist = edit_distance_matrix([Tmp(i) for i in corpus], struct_dist_calc)"
   ]
  },
  {
   "cell_type": "code",
   "execution_count": 168,
   "metadata": {
    "collapsed": false
   },
   "outputs": [
    {
     "data": {
      "text/plain": [
       "104"
      ]
     },
     "execution_count": 168,
     "metadata": {},
     "output_type": "execute_result"
    }
   ],
   "source": [
    "labels_struct, n_clusters_struct, core_samples_mask_struct = dbscan(struct_dist, eps=5, min_samples=2)\n",
    "n_clusters_struct"
   ]
  },
  {
   "cell_type": "code",
   "execution_count": 169,
   "metadata": {
    "collapsed": true
   },
   "outputs": [],
   "source": [
    "pred = list(labels_to_clusters(labels_struct).values())"
   ]
  },
  {
   "cell_type": "code",
   "execution_count": 164,
   "metadata": {
    "collapsed": true
   },
   "outputs": [],
   "source": [
    "def dist_for_cluster(cluster, dist):\n",
    "    rv = np.zeros((len(cluster), len(cluster)), dtype=np.double)\n",
    "    for i, c in enumerate(cluster):\n",
    "        for j, v in enumerate(cluster):\n",
    "            rv[i, j] = dist[c, v]\n",
    "    return rv"
   ]
  },
  {
   "cell_type": "code",
   "execution_count": 188,
   "metadata": {
    "collapsed": true
   },
   "outputs": [],
   "source": [
    "ms = MeanShift(cluster_all=False).fit(struct_dist)\n",
    "labels = ms.labels_"
   ]
  },
  {
   "cell_type": "code",
   "execution_count": 212,
   "metadata": {
    "collapsed": false
   },
   "outputs": [],
   "source": [
    "mmmax = [np.max(dist_for_cluster(g, wmd_all)) for g in groups]\n",
    "mmavg = [np.average(dist_for_cluster(g, wmd_all)) for g in groups]"
   ]
  },
  {
   "cell_type": "code",
   "execution_count": 213,
   "metadata": {
    "collapsed": false
   },
   "outputs": [
    {
     "data": {
      "text/plain": [
       "[0.0,\n",
       " 0.16455364557773777,\n",
       " 1.3560466011923007,\n",
       " 0.74215119642462224,\n",
       " 0.73337774053998306,\n",
       " 0.470341660650063,\n",
       " 0.53204466448187315,\n",
       " 0.68987251849196596,\n",
       " 1.0509877710226843,\n",
       " 1.0653374075384652,\n",
       " 0.59927020150559041,\n",
       " 1.3429966131368156,\n",
       " 0.19567003976082228,\n",
       " 0.92297023095527875,\n",
       " 0.55120213581418342]"
      ]
     },
     "execution_count": 213,
     "metadata": {},
     "output_type": "execute_result"
    }
   ],
   "source": [
    "mmmax[-15:]"
   ]
  },
  {
   "cell_type": "code",
   "execution_count": 214,
   "metadata": {
    "collapsed": false
   },
   "outputs": [
    {
     "data": {
      "text/plain": [
       "[0.0,\n",
       " 0.082276822788868886,\n",
       " 0.67802330059615035,\n",
       " 0.37107559821231112,\n",
       " 0.36668887026999153,\n",
       " 0.2351708303250315,\n",
       " 0.26602233224093658,\n",
       " 0.34493625924598298,\n",
       " 0.52549388551134213,\n",
       " 0.53266870376923259,\n",
       " 0.2996351007527952,\n",
       " 0.67149830656840781,\n",
       " 0.097835019880411142,\n",
       " 0.46148511547763937,\n",
       " 0.27560106790709171]"
      ]
     },
     "execution_count": 214,
     "metadata": {},
     "output_type": "execute_result"
    }
   ],
   "source": [
    "mmavg[-15:]"
   ]
  },
  {
   "cell_type": "code",
   "execution_count": 197,
   "metadata": {
    "collapsed": false
   },
   "outputs": [
    {
     "data": {
      "text/plain": [
       "32.5"
      ]
     },
     "execution_count": 197,
     "metadata": {},
     "output_type": "execute_result"
    }
   ],
   "source": [
    "np.max(dist_for_cluster(groups[42], struct_dist))"
   ]
  },
  {
   "cell_type": "code",
   "execution_count": 192,
   "metadata": {
    "collapsed": false
   },
   "outputs": [
    {
     "data": {
      "text/plain": [
       "[307, 308, 309, 310]"
      ]
     },
     "execution_count": 192,
     "metadata": {},
     "output_type": "execute_result"
    }
   ],
   "source": [
    "groups[42]"
   ]
  },
  {
   "cell_type": "code",
   "execution_count": 195,
   "metadata": {
    "collapsed": false
   },
   "outputs": [
    {
     "data": {
      "text/plain": [
       "['d3d10warp.dll@0x',\n",
       " 'd3d11.dll@0x',\n",
       " 'd3d11.dll@0x',\n",
       " 'd3d11.dll@0x',\n",
       " 'mozilla::layers::syncobjectd3d11::finalizeframe',\n",
       " 'mozilla::layers::clientlayermanager::forwardtransaction',\n",
       " 'mozilla::layers::clientlayermanager::endtransaction',\n",
       " 'nsdisplaylist::paintroot',\n",
       " 'nslayoututils::paintframe',\n",
       " 'presshell::paint']"
      ]
     },
     "execution_count": 195,
     "metadata": {},
     "output_type": "execute_result"
    }
   ],
   "source": [
    "corpus[308]"
   ]
  },
  {
   "cell_type": "code",
   "execution_count": 194,
   "metadata": {
    "collapsed": false
   },
   "outputs": [
    {
     "data": {
      "text/plain": [
       "['d3d10warp.dll@0x',\n",
       " 'd3d10warp.dll@0x',\n",
       " 'd3d11.dll@0x',\n",
       " 'mozilla::layers::compositord3d11::drawquad',\n",
       " 'mozilla::layers::imagehost::composite',\n",
       " '<t>::operator()',\n",
       " 'mozilla::layers::renderwithallmasks<t>',\n",
       " 'mozilla::layers::renderlayers<t>',\n",
       " '_md_current_thread']"
      ]
     },
     "execution_count": 194,
     "metadata": {},
     "output_type": "execute_result"
    }
   ],
   "source": [
    "corpus[307]"
   ]
  },
  {
   "cell_type": "code",
   "execution_count": 179,
   "metadata": {
    "collapsed": false
   },
   "outputs": [
    {
     "data": {
      "text/plain": [
       "['js::wasm::deserializepodvector<t>',\n",
       " 'js::wasm::module::deserialize',\n",
       " 'lookupasmjsmoduleincache',\n",
       " 'js::compileasmjs',\n",
       " 'js::frontend::parser<t>::asmjs']"
      ]
     },
     "execution_count": 179,
     "metadata": {},
     "output_type": "execute_result"
    }
   ],
   "source": [
    "corpus[8]"
   ]
  },
  {
   "cell_type": "code",
   "execution_count": 184,
   "metadata": {
    "collapsed": false
   },
   "outputs": [
    {
     "data": {
      "text/plain": [
       "6.3333333333333339"
      ]
     },
     "execution_count": 184,
     "metadata": {},
     "output_type": "execute_result"
    }
   ],
   "source": [
    "struct_dist[121, 9]"
   ]
  },
  {
   "cell_type": "code",
   "execution_count": 182,
   "metadata": {
    "collapsed": false
   },
   "outputs": [
    {
     "data": {
      "text/plain": [
       "['memcpy',\n",
       " 'js::wasm::deserializepodvector<t>',\n",
       " 'js::wasm::metadata::deserialize',\n",
       " 'js::asmjsmetadata::deserialize',\n",
       " 'js::wasm::module::deserialize',\n",
       " 'lookupasmjsmoduleincache',\n",
       " 'js::compileasmjs',\n",
       " 'js::frontend::parser<t>::asmjs']"
      ]
     },
     "execution_count": 182,
     "metadata": {},
     "output_type": "execute_result"
    }
   ],
   "source": [
    "corpus[9]"
   ]
  },
  {
   "cell_type": "code",
   "execution_count": 180,
   "metadata": {
    "collapsed": false
   },
   "outputs": [
    {
     "data": {
      "text/plain": [
       "['js::jit::backtrackingallocator::buildlivenessinfo',\n",
       " 'js::jit::backtrackingallocator::go',\n",
       " 'js::jit::generatelir',\n",
       " 'js::jit::compilebackend',\n",
       " 'js::helperthread::handleionworkload',\n",
       " 'js::helperthread::threadloop']"
      ]
     },
     "execution_count": 180,
     "metadata": {},
     "output_type": "execute_result"
    }
   ],
   "source": [
    "corpus[121]"
   ]
  },
  {
   "cell_type": "code",
   "execution_count": 186,
   "metadata": {
    "collapsed": false
   },
   "outputs": [
    {
     "data": {
      "text/plain": [
       "11.0"
      ]
     },
     "execution_count": 186,
     "metadata": {},
     "output_type": "execute_result"
    }
   ],
   "source": [
    "np.max(dist_for_cluster(pred[4], struct_dist))"
   ]
  },
  {
   "cell_type": "code",
   "execution_count": 178,
   "metadata": {
    "collapsed": false
   },
   "outputs": [
    {
     "data": {
      "text/plain": [
       "[8, 9, 37, 40, 41, 96, 113, 114, 116, 121]"
      ]
     },
     "execution_count": 178,
     "metadata": {},
     "output_type": "execute_result"
    }
   ],
   "source": [
    "pred[4][:10]"
   ]
  },
  {
   "cell_type": "code",
   "execution_count": 146,
   "metadata": {
    "collapsed": false
   },
   "outputs": [
    {
     "data": {
      "text/plain": [
       "0.6556291390728477"
      ]
     },
     "execution_count": 146,
     "metadata": {},
     "output_type": "execute_result"
    }
   ],
   "source": [
    "calc_accuracy(labels_to_clusters(labels_struct), groups)"
   ]
  },
  {
   "cell_type": "code",
   "execution_count": 147,
   "metadata": {
    "collapsed": false
   },
   "outputs": [
    {
     "data": {
      "text/plain": [
       "0.6887417218543046"
      ]
     },
     "execution_count": 147,
     "metadata": {},
     "output_type": "execute_result"
    }
   ],
   "source": [
    "calc_score(labels_to_clusters(labels_struct), groups)"
   ]
  },
  {
   "cell_type": "code",
   "execution_count": 62,
   "metadata": {
    "collapsed": false
   },
   "outputs": [
    {
     "name": "stderr",
     "output_type": "stream",
     "text": [
      "/home/kirill/anaconda3/lib/python3.6/site-packages/matplotlib/lines.py:1206: FutureWarning: comparison to `None` will result in an elementwise object comparison in the future.\n",
      "  if self._markerfacecolor != fc:\n"
     ]
    },
    {
     "data": {
      "image/png": "[encoded data removed]",
      "text/plain": [
       "<matplotlib.figure.Figure at 0x7fa35fcaeb70>"
      ]
     },
     "metadata": {},
     "output_type": "display_data"
    }
   ],
   "source": [
    "plot_clusters(labels_struct, n_clusters_struct, core_samples_mask_struct, struct_dist)"
   ]
  },
  {
   "cell_type": "code",
   "execution_count": 28,
   "metadata": {
    "collapsed": true
   },
   "outputs": [],
   "source": [
    "def traces_in_cluster(cluster):\n",
    "    return [corpus[i] for i in cluster]"
   ]
  },
  {
   "cell_type": "code",
   "execution_count": null,
   "metadata": {
    "collapsed": true
   },
   "outputs": [],
   "source": [
    "def distances_in_cluster(cluster, dist):\n",
    "    rv = np.zeros((len(cluster), len(cluster)), dtype=np.double)\n",
    "    return rv"
   ]
  }
 ],
 "metadata": {
  "kernelspec": {
   "display_name": "Python 3",
   "language": "python",
   "name": "python3"
  },
  "language_info": {
   "codemirror_mode": {
    "name": "ipython",
    "version": 3
   },
   "file_extension": ".py",
   "mimetype": "text/x-python",
   "name": "python",
   "nbconvert_exporter": "python",
   "pygments_lexer": "ipython3",
   "version": "3.6.0"
  }
 },
 "nbformat": 4,
 "nbformat_minor": 2
}
