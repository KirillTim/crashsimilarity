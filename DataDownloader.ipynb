{
 "cells": [
  {
   "cell_type": "code",
   "execution_count": 2,
   "metadata": {
    "collapsed": false
   },
   "outputs": [],
   "source": [
    "import json\n",
    "import requests\n",
    "import pickle\n",
    "import crashsimilarity.downloader as cd\n",
    "from crashsimilarity.utils import StackTraceProcessor\n",
    "import crashsimilarity.tmp as tmp\n",
    "from gensim.models import doc2vec\n",
    "import numpy as np\n",
    "import matplotlib.pyplot as plt\n",
    "import logging"
   ]
  },
  {
   "cell_type": "code",
   "execution_count": null,
   "metadata": {
    "collapsed": true
   },
   "outputs": [],
   "source": [
    "r = requests.get('https://crash-stats.mozilla.com/api/SuperSearch/?product=Firefox&_facets=signature&_facets_size=20')"
   ]
  },
  {
   "cell_type": "code",
   "execution_count": null,
   "metadata": {
    "collapsed": false
   },
   "outputs": [],
   "source": [
    "facets = r.json()['facets']\n",
    "# facets"
   ]
  },
  {
   "cell_type": "code",
   "execution_count": null,
   "metadata": {
    "collapsed": false
   },
   "outputs": [],
   "source": [
    "sig1 = facets['signature'][6]\n",
    "sig1"
   ]
  },
  {
   "cell_type": "code",
   "execution_count": null,
   "metadata": {
    "collapsed": false
   },
   "outputs": [],
   "source": [
    "sig2 = facets['signature'][10]\n",
    "sig2"
   ]
  },
  {
   "cell_type": "code",
   "execution_count": null,
   "metadata": {
    "collapsed": false
   },
   "outputs": [],
   "source": [
    "traces = cd.SocorroDownloader().download_stack_traces_for_signature(sig1['term'], 150)\n",
    "traces1 = list(traces)\n",
    "traces = cd.SocorroDownloader().download_stack_traces_for_signature(sig2['term'], 150)\n",
    "traces2 = list(traces)"
   ]
  },
  {
   "cell_type": "code",
   "execution_count": null,
   "metadata": {
    "collapsed": false
   },
   "outputs": [],
   "source": [
    "traces1 = [StackTraceProcessor.preprocess(i) for i in traces1]\n",
    "traces2 = [StackTraceProcessor.preprocess(i) for i in traces2]"
   ]
  },
  {
   "cell_type": "code",
   "execution_count": null,
   "metadata": {
    "collapsed": false
   },
   "outputs": [],
   "source": [
    "vocab = pickle.load(open('data/compressed_vocab.pickle', 'rb'))\n",
    "len(vocab)"
   ]
  },
  {
   "cell_type": "code",
   "execution_count": null,
   "metadata": {
    "collapsed": false
   },
   "outputs": [],
   "source": [
    "def compress(words):\n",
    "    new = 0\n",
    "    rv = []\n",
    "    for w in words:\n",
    "        if w not in vocab:\n",
    "            new += 1\n",
    "            rv.append(w)\n",
    "        else:\n",
    "            rv.append(str(vocab[w]))\n",
    "    return new, rv"
   ]
  },
  {
   "cell_type": "code",
   "execution_count": null,
   "metadata": {
    "collapsed": false
   },
   "outputs": [],
   "source": [
    "compressed_traces1 = []\n",
    "new = []\n",
    "for t in traces1:\n",
    "    n, c = compress(t)\n",
    "    new.append(n)\n",
    "    compressed_traces1.append(c)\n",
    "sum(new)"
   ]
  },
  {
   "cell_type": "code",
   "execution_count": null,
   "metadata": {
    "collapsed": false
   },
   "outputs": [],
   "source": [
    "compressed_traces2 = []\n",
    "new = []\n",
    "for t in traces2:\n",
    "    n, c = compress(t)\n",
    "    new.append(n)\n",
    "    compressed_traces2.append(c)\n",
    "sum(new)"
   ]
  },
  {
   "cell_type": "code",
   "execution_count": null,
   "metadata": {
    "collapsed": true
   },
   "outputs": [],
   "source": [
    "sample = []\n",
    "for i, c in enumerate(compressed_traces1):\n",
    "    sample.append(doc2vec.TaggedDocument(c, [i]))\n",
    "for i, c in enumerate(compressed_traces2):\n",
    "    sample.append(doc2vec.TaggedDocument(c, [i+len(compressed_traces1)]))"
   ]
  },
  {
   "cell_type": "code",
   "execution_count": null,
   "metadata": {
    "collapsed": true
   },
   "outputs": [],
   "source": [
    "corpus = list(tmp.corpus_generator('data/new_clean_compressed.json'))"
   ]
  },
  {
   "cell_type": "code",
   "execution_count": null,
   "metadata": {
    "collapsed": false
   },
   "outputs": [],
   "source": [
    "model = doc2vec.Doc2Vec(size=200, window=15, iter=10, workers=8, min_count=1)\n",
    "model.build_vocab(corpus)\n",
    "len(model.wv.vocab)"
   ]
  },
  {
   "cell_type": "code",
   "execution_count": null,
   "metadata": {
    "collapsed": false
   },
   "outputs": [],
   "source": [
    "model.train(corpus)"
   ]
  },
  {
   "cell_type": "code",
   "execution_count": null,
   "metadata": {
    "collapsed": false
   },
   "outputs": [],
   "source": [
    "model.save('data/model/dm_d200_all.model')"
   ]
  },
  {
   "cell_type": "code",
   "execution_count": null,
   "metadata": {
    "collapsed": false
   },
   "outputs": [],
   "source": [
    "model = doc2vec.Doc2Vec.load('data/model/dm_d200_all.model')"
   ]
  },
  {
   "cell_type": "code",
   "execution_count": null,
   "metadata": {
    "collapsed": false
   },
   "outputs": [],
   "source": [
    "type(model)"
   ]
  },
  {
   "cell_type": "code",
   "execution_count": null,
   "metadata": {
    "collapsed": false
   },
   "outputs": [],
   "source": [
    "words = set()\n",
    "for c in sample:\n",
    "    for w in c.words:\n",
    "        words.add(w)\n",
    "words = list(words)\n",
    "c = sum([1 if w in vocab.values() else 0 for w in words])\n",
    "c"
   ]
  },
  {
   "cell_type": "code",
   "execution_count": null,
   "metadata": {
    "collapsed": false
   },
   "outputs": [],
   "source": [
    "type(words[0])"
   ]
  },
  {
   "cell_type": "code",
   "execution_count": null,
   "metadata": {
    "collapsed": false
   },
   "outputs": [],
   "source": [
    "sample[0]"
   ]
  },
  {
   "cell_type": "code",
   "execution_count": null,
   "metadata": {
    "collapsed": false
   },
   "outputs": [],
   "source": [
    "m = sum([1 if str(w) in model else 0 for w in words])\n",
    "m"
   ]
  },
  {
   "cell_type": "code",
   "execution_count": null,
   "metadata": {
    "collapsed": false
   },
   "outputs": [],
   "source": [
    "len(vocab)"
   ]
  },
  {
   "cell_type": "code",
   "execution_count": null,
   "metadata": {
    "collapsed": false
   },
   "outputs": [],
   "source": [
    "sample[228]"
   ]
  },
  {
   "cell_type": "code",
   "execution_count": null,
   "metadata": {
    "collapsed": false
   },
   "outputs": [],
   "source": [
    "ans = tmp.rwmd_distances(model, sample, 228)"
   ]
  },
  {
   "cell_type": "code",
   "execution_count": null,
   "metadata": {
    "collapsed": false
   },
   "outputs": [],
   "source": [
    "logging.root.setLevel(logging.CRITICAL)\n",
    "dist = np.zeros((len(sample), len(sample)), dtype=np.double)\n",
    "for i in range(len(sample)):\n",
    "    if i % 50 == 0:\n",
    "        print(i)\n",
    "    dist[i] = np.array(tmp.rwmd_distances(model, sample, i))[:,1]\n",
    "logging.root.setLevel(logging.INFO)"
   ]
  },
  {
   "cell_type": "code",
   "execution_count": null,
   "metadata": {
    "collapsed": false
   },
   "outputs": [],
   "source": [
    "dist"
   ]
  },
  {
   "cell_type": "code",
   "execution_count": null,
   "metadata": {
    "collapsed": false
   },
   "outputs": [],
   "source": [
    "from sklearn.manifold import MDS\n",
    "clf = MDS()\n",
    "X_mds = clf.fit_transform(dist)\n",
    "X_mds.shape"
   ]
  },
  {
   "cell_type": "code",
   "execution_count": null,
   "metadata": {
    "collapsed": false
   },
   "outputs": [],
   "source": [
    "color = 'r' * len(compressed_traces1) + 'b' * len(compressed_traces1)\n",
    "plt.scatter(X_mds[:, 0], X_mds[:, 1], c=color)\n",
    "plt.show()"
   ]
  }
 ],
 "metadata": {
  "kernelspec": {
   "display_name": "Python 3",
   "language": "python",
   "name": "python3"
  },
  "language_info": {
   "codemirror_mode": {
    "name": "ipython",
    "version": 3
   },
   "file_extension": ".py",
   "mimetype": "text/x-python",
   "name": "python",
   "nbconvert_exporter": "python",
   "pygments_lexer": "ipython3",
   "version": "3.6.0"
  }
 },
 "nbformat": 4,
 "nbformat_minor": 2
}
