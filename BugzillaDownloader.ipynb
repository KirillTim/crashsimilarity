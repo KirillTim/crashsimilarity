{
 "cells": [
  {
   "cell_type": "code",
   "execution_count": 1,
   "metadata": {
    "collapsed": true
   },
   "outputs": [],
   "source": [
    "import requests\n",
    "import re\n",
    "import time\n",
    "import numpy as np\n",
    "import pickle\n",
    "from datetime import timedelta\n",
    "from crashsimilarity.downloader import SocorroDownloader\n",
    "from crashsimilarity import utils\n",
    "from crashsimilarity.distance import DistanceCalculator\n",
    "from gensim.models import doc2vec\n",
    "import crashsimilarity.tmp as tmp\n",
    "import logging"
   ]
  },
  {
   "cell_type": "code",
   "execution_count": null,
   "metadata": {
    "collapsed": true
   },
   "outputs": [],
   "source": [
    "url1 = 'https://bugzilla.mozilla.org/rest/bug?include_fields=id,summary,status,cf_crash_signature,see_also&f1=cf_crash_signature&f2=see_also&o1=isnotempty&o2=isnotempty&product=Core&product=Firefox'"
   ]
  },
  {
   "cell_type": "code",
   "execution_count": 3,
   "metadata": {
    "collapsed": false
   },
   "outputs": [],
   "source": [
    "BASE_URL = 'https://bugzilla.mozilla.org/rest/bug?'\n",
    "fields = ['id', 'summary', 'status', 'cf_crash_signature', 'see_also']\n",
    "from_date = '2016-05-31'\n",
    "to_date = 'Now'\n",
    "suffix = '&chfield=[Bug creation]&chfieldfrom='+from_date+'&chfieldto='+to_date+'&f2=cf_crash_signature&o2=isnotempty&product=Core&product=Firefox'\n",
    "url_cf_not_empty_core_firefox_last_year = BASE_URL+'include_fields='+','.join(fields)+suffix"
   ]
  },
  {
   "cell_type": "code",
   "execution_count": 5,
   "metadata": {
    "collapsed": true
   },
   "outputs": [],
   "source": [
    "r1 = requests.get(url_cf_not_empty_core_firefox_last_year)\n",
    "data = r1.json()\n",
    "bugs = data['bugs']\n",
    "len(bugs)"
   ]
  },
  {
   "cell_type": "code",
   "execution_count": 7,
   "metadata": {
    "collapsed": false
   },
   "outputs": [
    {
     "data": {
      "text/plain": [
       "336"
      ]
     },
     "execution_count": 7,
     "metadata": {},
     "output_type": "execute_result"
    }
   ],
   "source": [
    "see_also = [i for i in bugs if i['see_also'] and any(['bugzilla.mozilla' in s for s in i['see_also']])]\n",
    "len(see_also)"
   ]
  },
  {
   "cell_type": "code",
   "execution_count": 10,
   "metadata": {
    "collapsed": false
   },
   "outputs": [
    {
     "data": {
      "text/plain": [
       "267"
      ]
     },
     "execution_count": 10,
     "metadata": {},
     "output_type": "execute_result"
    }
   ],
   "source": [
    "def clean_signatures(sigs):\n",
    "    sigs = [re.sub(r'\\(.*\\)', '', s.strip('[] ')) for s in sigs.split('\\r\\n')]\n",
    "    sigs = [s[2:] if s.startswith('@ ') else s for s in sigs]\n",
    "    sigs = [s.strip() for s in sigs]\n",
    "    return list(set(sigs))\n",
    "multiple_sig = [i for i in bugs if len(clean_signatures(i['cf_crash_signature'])) > 1]\n",
    "for sig in multiple_sig:\n",
    "    sig['clean'] = clean_signatures(sig['cf_crash_signature'])\n",
    "len(multiple_sig)"
   ]
  },
  {
   "cell_type": "code",
   "execution_count": 11,
   "metadata": {
    "collapsed": false
   },
   "outputs": [],
   "source": [
    "multiple_sig.sort(key=lambda x: len(x['clean']), reverse=True)"
   ]
  },
  {
   "cell_type": "code",
   "execution_count": 29,
   "metadata": {
    "collapsed": false
   },
   "outputs": [],
   "source": [
    "def download_stack_traces(sigs, traces_num=1):\n",
    "    from_date = utils.utc_today() - timedelta(days=360)\n",
    "    if isinstance(sigs, str):\n",
    "        sigs = [sigs]\n",
    "    params = {'signature': ['^'+i for i in sigs],\n",
    "              'date': ['>=' + str(from_date)],\n",
    "              '_facets': ['proto_signature'],\n",
    "              '_facets_size': traces_num\n",
    "             }\n",
    "    _SUPER_SEARCH_URL = 'https://crash-stats.mozilla.com/api/SuperSearch'\n",
    "    r = requests.get(_SUPER_SEARCH_URL, params)\n",
    "    return r.json()['facets']['proto_signature']"
   ]
  },
  {
   "cell_type": "code",
   "execution_count": 26,
   "metadata": {
    "collapsed": false
   },
   "outputs": [],
   "source": [
    "multiple_sig = [i for i in multiple_sig if len(i['clean']) < 20]"
   ]
  },
  {
   "cell_type": "code",
   "execution_count": 69,
   "metadata": {
    "collapsed": false
   },
   "outputs": [],
   "source": [
    "for i in range(len(traces)):\n",
    "    multiple_sig[i]['prepared'] = groups[i]"
   ]
  },
  {
   "cell_type": "code",
   "execution_count": 72,
   "metadata": {
    "collapsed": true
   },
   "outputs": [],
   "source": [
    "# pickle.dump(multiple_sig, open('data/multiple_sig_last_year.pickle', 'wb'))"
   ]
  },
  {
   "cell_type": "code",
   "execution_count": 39,
   "metadata": {
    "collapsed": false,
    "scrolled": true
   },
   "outputs": [
    {
     "name": "stdout",
     "output_type": "stream",
     "text": [
      "0 0.0001933574676513672\n",
      "20 232.29435515403748\n",
      "40 376.63871216773987\n",
      "60 480.8655836582184\n",
      "80 568.5984752178192\n",
      "100 649.6185700893402\n",
      "120 710.3791477680206\n",
      "140 771.6959414482117\n",
      "160 834.670690536499\n",
      "180 897.7750999927521\n",
      "200 957.2367789745331\n",
      "220 1018.5516102313995\n",
      "240 1078.5588011741638\n",
      "250 1111.7117698192596\n"
     ]
    }
   ],
   "source": [
    "# traces = []\n",
    "# t = time.time()\n",
    "# for i, sig in enumerate(multiple_sig):\n",
    "#     if i % 20 == 0:\n",
    "#         print(i, time.time() - t)\n",
    "#     cur = [download_stack_traces(x) for x in sig['clean']]\n",
    "#     traces.append(cur)\n",
    "# print(i, time.time() - t)"
   ]
  },
  {
   "cell_type": "code",
   "execution_count": 61,
   "metadata": {
    "collapsed": false
   },
   "outputs": [],
   "source": [
    "# groups = []\n",
    "# for i, t in enumerate(traces):\n",
    "#     clean = []\n",
    "#     for x in t:\n",
    "#         if x:\n",
    "#             x = x[0]\n",
    "#             words = utils.StackTraceProcessor.preprocess(x['term'])\n",
    "#             if words[0] == '@0x':\n",
    "#                 words = words[1:]\n",
    "#             clean.append(words)\n",
    "#     groups.append(clean)"
   ]
  },
  {
   "cell_type": "code",
   "execution_count": null,
   "metadata": {
    "collapsed": false
   },
   "outputs": [],
   "source": [
    "# prepared = []\n",
    "# for group in traces:\n",
    "#     processed = [utils.StackTraceProcessor.preprocess(i) for i in group]\n",
    "#     prepared.append(processed)"
   ]
  },
  {
   "cell_type": "code",
   "execution_count": null,
   "metadata": {
    "collapsed": false
   },
   "outputs": [],
   "source": [
    "# for i, p in enumerate(prepared):\n",
    "#     multiple_sig[i]['prepared'] = p"
   ]
  },
  {
   "cell_type": "code",
   "execution_count": 2,
   "metadata": {
    "collapsed": false
   },
   "outputs": [
    {
     "data": {
      "text/plain": [
       "222895"
      ]
     },
     "execution_count": 2,
     "metadata": {},
     "output_type": "execute_result"
    }
   ],
   "source": [
    "vocab = pickle.load(open('data/compressed_vocab.pickle', 'rb'))\n",
    "len(vocab)"
   ]
  },
  {
   "cell_type": "code",
   "execution_count": 3,
   "metadata": {
    "collapsed": false
   },
   "outputs": [
    {
     "data": {
      "text/plain": [
       "261"
      ]
     },
     "execution_count": 3,
     "metadata": {},
     "output_type": "execute_result"
    }
   ],
   "source": [
    "# pickle.dump(multiple_sig, open('data/multiple_sig.pickle', 'wb'))\n",
    "multiple_sig = pickle.load(open('data/multiple_sig_last_year.pickle', 'rb'))\n",
    "prepared = [sig['prepared'] for sig in multiple_sig]\n",
    "len(multiple_sig)"
   ]
  },
  {
   "cell_type": "code",
   "execution_count": 4,
   "metadata": {
    "collapsed": false
   },
   "outputs": [],
   "source": [
    "groups = []\n",
    "corpus = []\n",
    "for p in prepared:\n",
    "    group = []\n",
    "    for t in p:\n",
    "        corpus.append(t)\n",
    "        group.append(len(corpus)-1)\n",
    "    groups.append(group)\n",
    "compressed_corpus = [[str(vocab.get(i, i)) for i in c] for c in corpus]\n",
    "compressed_corpus = [doc2vec.TaggedDocument(trace, [i]) for i, trace in enumerate(compressed_corpus)]\n",
    "groups = [g for g in groups if len(g) > 1]"
   ]
  },
  {
   "cell_type": "code",
   "execution_count": 14,
   "metadata": {
    "collapsed": false
   },
   "outputs": [],
   "source": [
    "def edit_distance(s1, s2, dist):\n",
    "    if len(s1) < len(s2):\n",
    "        return edit_distance(s2, s1, dist)\n",
    "\n",
    "    # len(s1) >= len(s2)\n",
    "    if len(s2) == 0:\n",
    "        return len(s1)\n",
    "\n",
    "    previous_row = range(len(s2) + 1)\n",
    "    for i, c1 in enumerate(s1):\n",
    "        current_row = [i + 1]\n",
    "        for j, c2 in enumerate(s2):\n",
    "            d = [dist(s1[i], s2[j]), #insert\n",
    "                 dist(s2[j], s2[j-1]), #del\n",
    "                 dist(c1, c2)] #subst\n",
    "            d = [2 if i < 0 else i for i in d]\n",
    "            insertions = previous_row[j + 1] + d[0] # j+1 instead of j since previous_row and current_row are one character longer\n",
    "            deletions = current_row[j] + d[1]      # than s2\n",
    "            substitutions = previous_row[j] + (c1 != c2) * d[2]\n",
    "            current_row.append(min(insertions, deletions, substitutions))\n",
    "        previous_row = current_row\n",
    "    \n",
    "    return previous_row[-1]"
   ]
  },
  {
   "cell_type": "code",
   "execution_count": 164,
   "metadata": {
    "collapsed": false
   },
   "outputs": [
    {
     "name": "stderr",
     "output_type": "stream",
     "text": [
      "/home/kirill/anaconda3/lib/python3.6/site-packages/numpy/core/_methods.py:59: RuntimeWarning: Mean of empty slice.\n",
      "  warnings.warn(\"Mean of empty slice.\", RuntimeWarning)\n",
      "/home/kirill/anaconda3/lib/python3.6/site-packages/numpy/core/_methods.py:70: RuntimeWarning: invalid value encountered in double_scalars\n",
      "  ret = ret.dtype.type(ret / rcount)\n",
      "/home/kirill/anaconda3/lib/python3.6/site-packages/ipykernel/__main__.py:2: RuntimeWarning: divide by zero encountered in double_scalars\n",
      "  from ipykernel import kernelapp as app\n"
     ]
    }
   ],
   "source": [
    "groups_with_dist = [(np.average(group_dist(i)),np.average([len(corpus[c]) for c in i]), i) for i in groups]\n",
    "sort_by_dist = sorted(groups_with_dist, key=lambda x: x[1] / x[0], reverse=True)"
   ]
  },
  {
   "cell_type": "code",
   "execution_count": 165,
   "metadata": {
    "collapsed": false
   },
   "outputs": [
    {
     "data": {
      "text/plain": [
       "[(0.0, 14.0, [151]),\n",
       " (0.0, 6.0, [152, 153, 154, 155]),\n",
       " (0.0, 36.0, [402]),\n",
       " (0.0, 13.0, [405, 406]),\n",
       " (0.0, 25.0, [525]),\n",
       " (0.0, 14.0, [528]),\n",
       " (0.0, 25.0, [531]),\n",
       " (1.1527777777777777, 8.75, [43, 44, 45, 46, 47, 48, 49, 50, 51, 52, 53, 54]),\n",
       " (9.1644444444444453,\n",
       "  35.533333333333331,\n",
       "  [6, 7, 8, 9, 10, 11, 12, 13, 14, 15, 16, 17, 18, 19, 20]),\n",
       " (11.666666666666666, 40.0, [77, 78, 79, 80, 81, 82, 83, 84, 85, 86, 87, 88]),\n",
       " (9.0123456790123448,\n",
       "  25.777777777777779,\n",
       "  [123, 124, 125, 126, 127, 128, 129, 130, 131]),\n",
       " (12.32, 23.399999999999999, [195, 196, 197, 198, 199]),\n",
       " (19.930555555555557,\n",
       "  34.416666666666664,\n",
       "  [89, 90, 91, 92, 93, 94, 95, 96, 97, 98, 99, 100]),\n",
       " (22.444444444444443, 36.5, [182, 183, 184, 185, 186, 187]),\n",
       " (23.346938775510203, 36.714285714285715, [212, 213, 214, 215, 216, 217, 218]),\n",
       " (22.722222222222221,\n",
       "  31.5,\n",
       "  [101, 102, 103, 104, 105, 106, 107, 108, 109, 110, 111, 112]),\n",
       " (24.620000000000001,\n",
       "  33.700000000000003,\n",
       "  [55, 56, 57, 58, 59, 60, 61, 62, 63, 64]),\n",
       " (23.84, 31.800000000000001, [207, 208, 209, 210, 211]),\n",
       " (22.204081632653061, 28.857142857142858, [156, 157, 158, 159, 160, 161, 162]),\n",
       " (22.204081632653061, 28.857142857142858, [163, 164, 165, 166, 167, 168, 169])]"
      ]
     },
     "execution_count": 165,
     "metadata": {},
     "output_type": "execute_result"
    }
   ],
   "source": [
    "sort_by_dist[:20]"
   ]
  },
  {
   "cell_type": "code",
   "execution_count": 54,
   "metadata": {
    "collapsed": false
   },
   "outputs": [],
   "source": [
    "def group_dist(group, dist_mat):\n",
    "    x = np.zeros((len(group), len(group)), dtype=np.float)\n",
    "    for i, a in enumerate(group):\n",
    "        for j, b in enumerate(group):\n",
    "            x[i][j] = dist_mat[a, b]\n",
    "    return x"
   ]
  },
  {
   "cell_type": "code",
   "execution_count": 103,
   "metadata": {
    "collapsed": false
   },
   "outputs": [
    {
     "name": "stdout",
     "output_type": "stream",
     "text": [
      "9.999824336430867%, 11.434091806411743 s.\n",
      "19.999648672861735%, 20.28085708618164 s.\n",
      "29.999473009292604%, 31.29946756362915 s.\n",
      "39.99929734572347%, 40.412012815475464 s.\n",
      "49.99912168215434%, 50.13745069503784 s.\n",
      "59.99894601858521%, 58.34752535820007 s.\n",
      "69.99877035501608%, 66.77782106399536 s.\n",
      "79.99859469144694%, 76.21581983566284 s.\n",
      "89.99841902787782%, 84.72040176391602 s.\n",
      "99.99824336430868%, 93.05971121788025 s.\n"
     ]
    }
   ],
   "source": [
    "edit_dist_mat = edit_distance_matrix(compressed_corpus, edit_distance)"
   ]
  },
  {
   "cell_type": "code",
   "execution_count": 8,
   "metadata": {
    "collapsed": false
   },
   "outputs": [],
   "source": [
    "# scores = []\n",
    "# for group in groups:\n",
    "#     scores.append(group_score(group, edit_dist_mat))"
   ]
  },
  {
   "cell_type": "code",
   "execution_count": 6,
   "metadata": {
    "collapsed": false
   },
   "outputs": [],
   "source": [
    "def edit_distance_matrix(corpus, calculator, prog=10):\n",
    "    dist = np.zeros((len(corpus), len(corpus)), dtype=np.double)\n",
    "    idx = []\n",
    "    for i in range(len(corpus)):\n",
    "        for j in range(i+1, len(corpus)):\n",
    "            idx.append((i, j))\n",
    "    say = len(idx) // prog\n",
    "    t = time.time()\n",
    "    for s, (i, j) in enumerate(idx):\n",
    "        if s and s % say == 0:\n",
    "            print('{}%, {} s.'.format(s / (len(idx) * 0.01), time.time() - t))\n",
    "        doc1 = corpus[i].words\n",
    "        doc2 = corpus[j].words\n",
    "        dist[i, j] = dist[j, i] = calculator(doc1, doc2)\n",
    "    return dist"
   ]
  },
  {
   "cell_type": "code",
   "execution_count": 7,
   "metadata": {
    "collapsed": false
   },
   "outputs": [
    {
     "name": "stderr",
     "output_type": "stream",
     "text": [
      "INFO:gensim.utils:loading Doc2Vec object from data/model/dm_d200_all.model\n",
      "INFO:gensim.utils:loading wv recursively from data/model/dm_d200_all.model.wv.* with mmap=None\n",
      "INFO:gensim.utils:loading syn0 from data/model/dm_d200_all.model.wv.syn0.npy with mmap=None\n",
      "INFO:gensim.utils:setting ignored attribute syn0norm to None\n",
      "INFO:gensim.utils:loading docvecs recursively from data/model/dm_d200_all.model.docvecs.* with mmap=None\n",
      "INFO:gensim.utils:loading doctag_syn0 from data/model/dm_d200_all.model.docvecs.doctag_syn0.npy with mmap=None\n",
      "INFO:gensim.utils:loading syn1neg from data/model/dm_d200_all.model.syn1neg.npy with mmap=None\n",
      "INFO:gensim.utils:setting ignored attribute cum_table to None\n",
      "INFO:gensim.utils:loaded data/model/dm_d200_all.model\n"
     ]
    },
    {
     "data": {
      "text/plain": [
       "<gensim.models.doc2vec.Doc2Vec at 0x7f8e9058d080>"
      ]
     },
     "execution_count": 7,
     "metadata": {},
     "output_type": "execute_result"
    }
   ],
   "source": [
    "model = doc2vec.Doc2Vec.load('data/model/dm_d200_all.model')\n",
    "model"
   ]
  },
  {
   "cell_type": "code",
   "execution_count": 52,
   "metadata": {
    "collapsed": false
   },
   "outputs": [
    {
     "data": {
      "text/plain": [
       "26"
      ]
     },
     "execution_count": 52,
     "metadata": {},
     "output_type": "execute_result"
    }
   ],
   "source": [
    "group_5_and_more = [g for g in groups if len(g) >= 5]\n",
    "len(group_5_and_more)"
   ]
  },
  {
   "cell_type": "code",
   "execution_count": 8,
   "metadata": {
    "collapsed": false
   },
   "outputs": [
    {
     "name": "stderr",
     "output_type": "stream",
     "text": [
      "INFO:gensim.models.keyedvectors:precomputing L2-norms of word weight vectors\n"
     ]
    },
    {
     "name": "stdout",
     "output_type": "stream",
     "text": [
      "len(words) = 2808\n"
     ]
    }
   ],
   "source": [
    "dist, w2pos =  DistanceCalculator.words_distance(compressed_corpus, model)\n",
    "distance_calculator = DistanceCalculator(model, w2pos, dist)\n",
    "pos2w = dict([(i[1], i[0]) for i in w2pos.items()])\n",
    "pos2vocab = dict([(i[1], i[0]) for i in vocab.items()])"
   ]
  },
  {
   "cell_type": "code",
   "execution_count": 9,
   "metadata": {
    "collapsed": false
   },
   "outputs": [
    {
     "ename": "NameError",
     "evalue": "name 'my_edit_distance' is not defined",
     "output_type": "error",
     "traceback": [
      "\u001b[0;31m---------------------------------------------------------------------------\u001b[0m",
      "\u001b[0;31mNameError\u001b[0m                                 Traceback (most recent call last)",
      "\u001b[0;32m<ipython-input-9-b20edecb5cee>\u001b[0m in \u001b[0;36m<module>\u001b[0;34m()\u001b[0m\n\u001b[0;32m----> 1\u001b[0;31m \u001b[0mmy_edit_distance\u001b[0m\u001b[0;34m(\u001b[0m\u001b[0mcompressed_corpus\u001b[0m\u001b[0;34m[\u001b[0m\u001b[0;36m0\u001b[0m\u001b[0;34m]\u001b[0m\u001b[0;34m.\u001b[0m\u001b[0mwords\u001b[0m\u001b[0;34m,\u001b[0m \u001b[0mcompressed_corpus\u001b[0m\u001b[0;34m[\u001b[0m\u001b[0;36m42\u001b[0m\u001b[0;34m]\u001b[0m\u001b[0;34m.\u001b[0m\u001b[0mwords\u001b[0m\u001b[0;34m)\u001b[0m\u001b[0;34m\u001b[0m\u001b[0m\n\u001b[0m",
      "\u001b[0;31mNameError\u001b[0m: name 'my_edit_distance' is not defined"
     ]
    }
   ],
   "source": [
    "my_edit_distance(compressed_corpus[0].words, compressed_corpus[42].words)"
   ]
  },
  {
   "cell_type": "code",
   "execution_count": 15,
   "metadata": {
    "collapsed": false
   },
   "outputs": [
    {
     "name": "stdout",
     "output_type": "stream",
     "text": [
      "9.999824336430867%, 276.3983690738678 s.\n",
      "19.999648672861735%, 479.3484363555908 s.\n",
      "29.999473009292604%, 721.350652217865 s.\n",
      "39.99929734572347%, 945.0965888500214 s.\n",
      "49.99912168215434%, 1179.1764607429504 s.\n",
      "59.99894601858521%, 1381.7647356987 s.\n",
      "69.99877035501608%, 1590.889322757721 s.\n",
      "79.99859469144694%, 1828.4149420261383 s.\n",
      "89.99841902787782%, 2035.4698460102081 s.\n",
      "99.99824336430868%, 2242.823565006256 s.\n"
     ]
    }
   ],
   "source": [
    "def my_edit_distance(s1, s2):\n",
    "    return edit_distance(s1, s2, distance_calculator.compressed_words_dist)\n",
    "edit_dist_coff = edit_distance_matrix(compressed_corpus, my_edit_distance)"
   ]
  },
  {
   "cell_type": "code",
   "execution_count": 29,
   "metadata": {
    "collapsed": false
   },
   "outputs": [],
   "source": [
    "def _no_coff_dist(s1, s2):\n",
    "    return edit_distance(s1, s2, lambda a,b: 1)\n",
    "# edit_dist_no_coff = edit_distance_matrix(compressed_corpus, _no_coff_dist)\n",
    "edit_dist_no_coff = pickle.load(open('data/edit_dist_no_coff_last_year.pickle', 'rb'))"
   ]
  },
  {
   "cell_type": "code",
   "execution_count": 28,
   "metadata": {
    "collapsed": true
   },
   "outputs": [],
   "source": [
    "# pickle.dump(edit_dist_no_coff, open('data/edit_dist_no_coff_last_year.pickle', 'wb'))"
   ]
  },
  {
   "cell_type": "code",
   "execution_count": 27,
   "metadata": {
    "collapsed": true
   },
   "outputs": [],
   "source": [
    "# pickle.dump(edit_dist_coff, open('data/edit_dist_coff_last_year.pickle', 'wb'))"
   ]
  },
  {
   "cell_type": "code",
   "execution_count": 40,
   "metadata": {
    "collapsed": true
   },
   "outputs": [],
   "source": [
    "def wmd_mat(corpus, calculator, prog=10):\n",
    "    wmd_dist = np.zeros((len(corpus), len(corpus)), dtype=np.double)\n",
    "    idx = []\n",
    "    for i in range(len(corpus)):\n",
    "        for j in range(i+1, len(corpus)):\n",
    "            idx.append((i, j))\n",
    "    say = len(idx) // prog\n",
    "    t = time.time()\n",
    "    for s, (i, j) in enumerate(idx):\n",
    "        if s and s % say == 0:\n",
    "            print('{}%, {} s.'.format(s / (len(idx) * 0.01), time.time() - t))\n",
    "        doc1 = corpus[i].words\n",
    "        doc2 = corpus[j].words\n",
    "        wmd_dist[i, j] = wmd_dist[j, i] = calculator.fast_wmd(doc1, doc2)\n",
    "    return wmd_dist"
   ]
  },
  {
   "cell_type": "code",
   "execution_count": 130,
   "metadata": {
    "collapsed": false
   },
   "outputs": [],
   "source": [
    "# wmd_all = wmd_mat(compressed_corpus, distance_calculator, 50)\n",
    "# pickle.dump(wmd_all, open('data/wmd_all.pickle', 'wb'))\n",
    "wmd_all = pickle.load(open('data/wmd_all.pickle', 'rb'))"
   ]
  },
  {
   "cell_type": "code",
   "execution_count": 131,
   "metadata": {
    "collapsed": false
   },
   "outputs": [],
   "source": [
    "wmd_all[wmd_all == np.inf] = -1\n",
    "m = np.max(wmd_all)\n",
    "wmd_all[wmd_all == -1] = m"
   ]
  },
  {
   "cell_type": "code",
   "execution_count": 132,
   "metadata": {
    "collapsed": false
   },
   "outputs": [
    {
     "data": {
      "text/plain": [
       "(1051, 1051)"
      ]
     },
     "execution_count": 132,
     "metadata": {},
     "output_type": "execute_result"
    }
   ],
   "source": [
    "wmd_all.shape"
   ]
  },
  {
   "cell_type": "code",
   "execution_count": 106,
   "metadata": {
    "collapsed": false
   },
   "outputs": [],
   "source": [
    "from sklearn.cluster import DBSCAN\n",
    "db = DBSCAN(metric='precomputed').fit(edit_dist_mat)"
   ]
  },
  {
   "cell_type": "code",
   "execution_count": 107,
   "metadata": {
    "collapsed": false
   },
   "outputs": [
    {
     "name": "stdout",
     "output_type": "stream",
     "text": [
      "Estimated number of clusters: 3\n"
     ]
    }
   ],
   "source": [
    "import numpy as np\n",
    "\n",
    "from sklearn.cluster import DBSCAN\n",
    "from sklearn import metrics\n",
    "from sklearn.datasets.samples_generator import make_blobs\n",
    "from sklearn.preprocessing import StandardScaler\n",
    "\n",
    "db = DBSCAN(metric='precomputed').fit(edit_dist_mat)\n",
    "core_samples_mask = np.zeros_like(db.labels_, dtype=bool)\n",
    "core_samples_mask[db.core_sample_indices_] = True\n",
    "labels = db.labels_\n",
    "\n",
    "# Number of clusters in labels, ignoring noise if present.\n",
    "n_clusters_ = len(set(labels)) - (1 if -1 in labels else 0)\n",
    "\n",
    "print('Estimated number of clusters: %d' % n_clusters_)\n"
   ]
  },
  {
   "cell_type": "code",
   "execution_count": 162,
   "metadata": {
    "collapsed": false
   },
   "outputs": [
    {
     "data": {
      "text/plain": [
       "(1.4533113241195679, 1.4192333221435547, 1.3977205753326416)"
      ]
     },
     "execution_count": 162,
     "metadata": {},
     "output_type": "execute_result"
    }
   ],
   "source": [
    "cluster = np.argwhere(db.labels_==0)\n",
    "cluster = cluster.flatten()\n",
    "wmd_all[cluster[0], cluster[42]], wmd_all[cluster[13], cluster[42]], wmd_all[cluster[0], cluster[13]]"
   ]
  },
  {
   "cell_type": "code",
   "execution_count": 163,
   "metadata": {
    "collapsed": false
   },
   "outputs": [
    {
     "data": {
      "text/plain": [
       "['nscomptr_base::assign_from_qi']"
      ]
     },
     "execution_count": 163,
     "metadata": {},
     "output_type": "execute_result"
    }
   ],
   "source": [
    "corpus[cluster[0]]"
   ]
  },
  {
   "cell_type": "code",
   "execution_count": 168,
   "metadata": {
    "collapsed": false
   },
   "outputs": [
    {
     "data": {
      "text/plain": [
       "818"
      ]
     },
     "execution_count": 168,
     "metadata": {},
     "output_type": "execute_result"
    }
   ],
   "source": [
    "long_traces = [c for c in corpus if len(c) > 4]\n",
    "len(long_traces)"
   ]
  },
  {
   "cell_type": "code",
   "execution_count": 165,
   "metadata": {
    "collapsed": false
   },
   "outputs": [
    {
     "data": {
      "text/plain": [
       "['nsstyletransformmatrix::readtransforms']"
      ]
     },
     "execution_count": 165,
     "metadata": {},
     "output_type": "execute_result"
    }
   ],
   "source": [
    "corpus[cluster[90]]"
   ]
  },
  {
   "cell_type": "code",
   "execution_count": 153,
   "metadata": {
    "collapsed": false
   },
   "outputs": [
    {
     "data": {
      "text/plain": [
       "Counter({0: 145,\n",
       "         1: 9,\n",
       "         2: 27,\n",
       "         3: 7,\n",
       "         4: 12,\n",
       "         5: 9,\n",
       "         6: 6,\n",
       "         7: 6,\n",
       "         8: 5,\n",
       "         9: 10,\n",
       "         10: 6,\n",
       "         11: 5,\n",
       "         12: 11,\n",
       "         13: 7,\n",
       "         14: 5,\n",
       "         15: 5,\n",
       "         16: 5,\n",
       "         17: 9,\n",
       "         18: 9,\n",
       "         19: 5,\n",
       "         20: 5})"
      ]
     },
     "execution_count": 153,
     "metadata": {},
     "output_type": "execute_result"
    }
   ],
   "source": [
    "from collections import Counter\n",
    "x = [i for i in list(db.labels_) if i != -1]\n",
    "Counter(x)"
   ]
  },
  {
   "cell_type": "code",
   "execution_count": 141,
   "metadata": {
    "collapsed": false
   },
   "outputs": [
    {
     "data": {
      "text/plain": [
       "array([  18,   47,   60,   63,   67,   75,   76,   80,   88,   90,  119,\n",
       "        120,  140,  143,  144,  154,  169,  188,  217,  228,  244,  285,\n",
       "        287,  293,  303,  304,  305,  308,  317,  324,  326,  343,  344,\n",
       "        348,  352,  360,  363,  370,  381,  384,  390,  391,  392,  398,\n",
       "        404,  406,  411,  414,  426,  430,  440,  442,  445,  446,  455,\n",
       "        468,  470,  471,  488,  489,  499,  501,  511,  523,  528,  530,\n",
       "        531,  533,  534,  535,  536,  551,  552,  553,  554,  555,  559,\n",
       "        567,  574,  579,  580,  581,  585,  589,  598,  602,  629,  637,\n",
       "        638,  643,  644,  652,  677,  681,  685,  696,  697,  698,  701,\n",
       "        704,  705,  706,  707,  708,  709,  720,  741,  757,  759,  766,\n",
       "        767,  773,  775,  777,  782,  787,  807,  808,  811,  820,  821,\n",
       "        822,  825,  833,  836,  845,  865,  868,  873,  876,  878,  882,\n",
       "        888,  891,  892,  894,  896,  898,  899,  900,  903,  922,  923,\n",
       "        927,  930,  941,  948,  951,  961,  962,  973,  980,  983,  984,\n",
       "        987,  988,  991,  992, 1002, 1010, 1017, 1019, 1026, 1038, 1040,\n",
       "       1042, 1043])"
      ]
     },
     "execution_count": 141,
     "metadata": {},
     "output_type": "execute_result"
    }
   ],
   "source": [
    "db.core_sample_indices_"
   ]
  },
  {
   "cell_type": "code",
   "execution_count": 135,
   "metadata": {
    "collapsed": false
   },
   "outputs": [
    {
     "name": "stderr",
     "output_type": "stream",
     "text": [
      "/home/kirill/anaconda3/lib/python3.6/site-packages/matplotlib/lines.py:1206: FutureWarning: comparison to `None` will result in an elementwise object comparison in the future.\n",
      "  if self._markerfacecolor != fc:\n"
     ]
    },
    {
     "data": {
      "image/png": "[encoded data removed]",
      "text/plain": [
       "<matplotlib.figure.Figure at 0x7f9ad1b49e48>"
      ]
     },
     "metadata": {},
     "output_type": "display_data"
    }
   ],
   "source": [
    "import matplotlib.pyplot as plt\n",
    "\n",
    "# Black removed and is used for noise instead.\n",
    "unique_labels = set(labels)\n",
    "colors = plt.cm.Spectral(np.linspace(0, 1, len(unique_labels)))\n",
    "for k, col in zip(unique_labels, colors):\n",
    "    if k == -1:\n",
    "        # Black used for noise.\n",
    "        col = 'k'\n",
    "\n",
    "    class_member_mask = (labels == k)\n",
    "\n",
    "    xy = wmd_all[class_member_mask & core_samples_mask]\n",
    "    plt.plot(xy[:, 0], xy[:, 1], 'o', markerfacecolor=col,\n",
    "             markeredgecolor='k', markersize=14)\n",
    "\n",
    "    xy = wmd_all[class_member_mask & ~core_samples_mask]\n",
    "    plt.plot(xy[:, 0], xy[:, 1], 'o', markerfacecolor=col,\n",
    "             markeredgecolor='k', markersize=6)\n",
    "\n",
    "plt.title('Estimated number of clusters: %d' % n_clusters_)\n",
    "plt.show()"
   ]
  },
  {
   "cell_type": "code",
   "execution_count": 22,
   "metadata": {
    "collapsed": false
   },
   "outputs": [],
   "source": [
    "def group_score(group, dist):\n",
    "    closest = [[x[0] for x in sorted(enumerate(dist[i]), key=lambda x:x[1])] for i in group]\n",
    "    score = []\n",
    "    for i, c in enumerate(closest):\n",
    "        others = [x for x in group if x != group[i]]\n",
    "        pos = [c.index(o) for o in others]\n",
    "        score.append((np.mean(pos), np.max(pos)))\n",
    "    return score"
   ]
  },
  {
   "cell_type": "code",
   "execution_count": 21,
   "metadata": {
    "collapsed": false
   },
   "outputs": [
    {
     "data": {
      "text/plain": [
       "[0, 1, 2, 3, 4, 5]"
      ]
     },
     "execution_count": 21,
     "metadata": {},
     "output_type": "execute_result"
    }
   ],
   "source": [
    "groups[0]"
   ]
  },
  {
   "cell_type": "code",
   "execution_count": 31,
   "metadata": {
    "collapsed": false
   },
   "outputs": [],
   "source": [
    "scores_no_coff = []\n",
    "for group in groups:\n",
    "    scores_no_coff.append(group_score(group, edit_dist_no_coff))"
   ]
  },
  {
   "cell_type": "code",
   "execution_count": 43,
   "metadata": {
    "collapsed": false
   },
   "outputs": [
    {
     "data": {
      "text/plain": [
       "['mozilla::layers::dxgitexturehostd3d11::getdevice',\n",
       " 'mozilla::layers::dxgitexturehostd3d11::lockinternal',\n",
       " 'mozilla::gfx::vrdisplayhost::submitframe',\n",
       " 'mozilla::gfx::vrmanager::submitframe',\n",
       " 'mozilla::gfx::vrlayerparent::recvsubmitframe',\n",
       " 'mozilla::gfx::pvrlayerparent::onmessagereceived',\n",
       " 'mozilla::gfx::pvrmanagerparent::onmessagereceived',\n",
       " 'mozilla::ipc::messagechannel::dispatchasyncmessage',\n",
       " 'mozilla::ipc::messagechannel::dispatchmessagew',\n",
       " 'mozilla::ipc::messagechannel::runmessage',\n",
       " 'mozilla::ipc::messagechannel::messagetask::run',\n",
       " 'messageloop::runtask',\n",
       " 'messageloop::deferorrunpendingtask',\n",
       " 'messageloop::dowork',\n",
       " 'base::messagepumpforui::dorunloop',\n",
       " 'base::messagepumpwin::run',\n",
       " 'messageloop::runhandler',\n",
       " 'messageloop::run',\n",
       " 'base::thread::threadmain',\n",
       " \"`anonymous namespace'::threadfunc\",\n",
       " 'basethreadinitthunk',\n",
       " 'rtluserthreadstart']"
      ]
     },
     "execution_count": 43,
     "metadata": {},
     "output_type": "execute_result"
    }
   ],
   "source": [
    "corpus[706]"
   ]
  },
  {
   "cell_type": "code",
   "execution_count": 42,
   "metadata": {
    "collapsed": false
   },
   "outputs": [
    {
     "data": {
      "text/plain": [
       "['mozilla::layers::dxgiycbcrtexturehostd3d11::getdevice',\n",
       " 'mozilla::layers::dxgitexturehostd3d11::lockinternal',\n",
       " 'mozilla::gfx::vrdisplayhost::submitframe',\n",
       " 'mozilla::gfx::vrmanager::submitframe',\n",
       " 'mozilla::gfx::vrlayerparent::recvsubmitframe',\n",
       " 'mozilla::gfx::pvrlayerparent::onmessagereceived',\n",
       " 'mozilla::gfx::pvrmanagerparent::onmessagereceived',\n",
       " 'mozilla::ipc::messagechannel::dispatchasyncmessage',\n",
       " 'mozilla::ipc::messagechannel::dispatchmessagew',\n",
       " 'mozilla::ipc::messagechannel::runmessage',\n",
       " 'mozilla::ipc::messagechannel::messagetask::run',\n",
       " 'messageloop::runtask',\n",
       " 'messageloop::deferorrunpendingtask',\n",
       " 'messageloop::dowork',\n",
       " 'base::messagepumpforui::dorunloop',\n",
       " 'base::messagepumpwin::run',\n",
       " 'messageloop::runhandler',\n",
       " 'messageloop::run',\n",
       " 'base::thread::threadmain',\n",
       " \"`anonymous namespace'::threadfunc\",\n",
       " 'basethreadinitthunk',\n",
       " 'rtluserthreadstart']"
      ]
     },
     "execution_count": 42,
     "metadata": {},
     "output_type": "execute_result"
    }
   ],
   "source": [
    "corpus[705]"
   ]
  },
  {
   "cell_type": "code",
   "execution_count": 41,
   "metadata": {
    "collapsed": false
   },
   "outputs": [
    {
     "data": {
      "text/plain": [
       "[705, 706]"
      ]
     },
     "execution_count": 41,
     "metadata": {},
     "output_type": "execute_result"
    }
   ],
   "source": [
    "groups[200]"
   ]
  },
  {
   "cell_type": "code",
   "execution_count": 30,
   "metadata": {
    "collapsed": false
   },
   "outputs": [
    {
     "data": {
      "text/plain": [
       "40.0"
      ]
     },
     "execution_count": 30,
     "metadata": {},
     "output_type": "execute_result"
    }
   ],
   "source": [
    "edit_dist_no_coff[705, 77]"
   ]
  },
  {
   "cell_type": "code",
   "execution_count": 19,
   "metadata": {
    "collapsed": false
   },
   "outputs": [
    {
     "data": {
      "text/plain": [
       "[(705, 0.0),\n",
       " (706, 1.0820066928863525),\n",
       " (721, 7.1238025426864624),\n",
       " (423, 10.841357886791229),\n",
       " (720, 12.221334636211395),\n",
       " (426, 12.614270925521851),\n",
       " (425, 15.082615077495575),\n",
       " (560, 15.395968064665794),\n",
       " (702, 15.770150452852249),\n",
       " (230, 16.24800980091095),\n",
       " (236, 16.24800980091095),\n",
       " (740, 16.318815022706985),\n",
       " (714, 16.325929820537567),\n",
       " (715, 16.325929820537567),\n",
       " (227, 16.572196245193481),\n",
       " (233, 16.572196245193481),\n",
       " (107, 17.306257426738739),\n",
       " (225, 17.316359102725983),\n",
       " (231, 17.316359102725983),\n",
       " (725, 17.582080960273743),\n",
       " (724, 18.102490544319153),\n",
       " (240, 19.391111820936203),\n",
       " (739, 19.848719105124474),\n",
       " (34, 19.857996910810471),\n",
       " (72, 20.292174339294434),\n",
       " (526, 20.292174339294434),\n",
       " (701, 20.755557268857956),\n",
       " (422, 20.848806992173195),\n",
       " (654, 20.962189972400665),\n",
       " (600, 21.664913356304169),\n",
       " (67, 21.973966538906097),\n",
       " (527, 21.973966538906097),\n",
       " (201, 22.0),\n",
       " (202, 22.0),\n",
       " (205, 22.0),\n",
       " (206, 22.0),\n",
       " (239, 22.0),\n",
       " (299, 22.0),\n",
       " (300, 22.0),\n",
       " (329, 22.0),\n",
       " (349, 22.0),\n",
       " (350, 22.0),\n",
       " (355, 22.0),\n",
       " (508, 22.0),\n",
       " (557, 22.0),\n",
       " (561, 22.0),\n",
       " (650, 22.0),\n",
       " (698, 22.0),\n",
       " (599, 22.056367337703705),\n",
       " (453, 22.155748724937439),\n",
       " (451, 22.19532322883606),\n",
       " (625, 22.195426464080811),\n",
       " (96, 22.298702418804169),\n",
       " (741, 22.306209027767181),\n",
       " (737, 22.420526057481766),\n",
       " (403, 22.430381059646606),\n",
       " (324, 22.453497886657715),\n",
       " (470, 22.657463431358337),\n",
       " (119, 22.703372597694397),\n",
       " (228, 22.7833571434021),\n",
       " (234, 22.7833571434021),\n",
       " (65, 22.78479415178299),\n",
       " (484, 22.784982085227966),\n",
       " (25, 22.827943801879883),\n",
       " (120, 22.860674500465393),\n",
       " (41, 22.875749945640564),\n",
       " (684, 22.903799653053284),\n",
       " (365, 22.915355682373047),\n",
       " (629, 22.978805065155029),\n",
       " (331, 22.986733317375183),\n",
       " (321, 23.052247807383537),\n",
       " (322, 23.052247807383537),\n",
       " (424, 23.08871091902256),\n",
       " (226, 23.094905257225037),\n",
       " (232, 23.094905257225037),\n",
       " (507, 23.134133577346802),\n",
       " (602, 23.134855002164841),\n",
       " (229, 23.148377656936646),\n",
       " (235, 23.148377656936646),\n",
       " (559, 23.212725281715393),\n",
       " (532, 23.217733860015869),\n",
       " (122, 23.252945065498352),\n",
       " (491, 23.277936697006226),\n",
       " (315, 23.285491421818733),\n",
       " (181, 23.288431629538536),\n",
       " (323, 23.290629506111145),\n",
       " (571, 23.291552901268005),\n",
       " (373, 23.29169750213623),\n",
       " (412, 23.29169750213623),\n",
       " (245, 23.301005244255066),\n",
       " (179, 23.31307552754879),\n",
       " (1, 23.313225746154785),\n",
       " (68, 23.313225746154785),\n",
       " (429, 23.324097990989685),\n",
       " (558, 23.348109602928162),\n",
       " (509, 23.458418369293213),\n",
       " (8, 23.46115005761385),\n",
       " (517, 23.464766383171082),\n",
       " (303, 23.492232441902161),\n",
       " (306, 23.492232441902161),\n",
       " (452, 23.528308153152466),\n",
       " (502, 23.588214427232742),\n",
       " (241, 23.591724038124084),\n",
       " (148, 23.598650455474854),\n",
       " (317, 23.607467651367188),\n",
       " (639, 23.608367368578911),\n",
       " (638, 23.614912554621696),\n",
       " (146, 23.620502114295959),\n",
       " (147, 23.620502114295959),\n",
       " (520, 23.624036312103271),\n",
       " (318, 23.63190108537674),\n",
       " (610, 23.647594690322876),\n",
       " (518, 23.648940190672874),\n",
       " (332, 23.65053927898407),\n",
       " (265, 23.652063131332397),\n",
       " (489, 23.652063131332397),\n",
       " (523, 23.659188270568848),\n",
       " (522, 23.663920521736145),\n",
       " (330, 23.672626495361328),\n",
       " (175, 23.697418555617332),\n",
       " (533, 23.701647967100143),\n",
       " (74, 23.715669676661491),\n",
       " (177, 23.719367131590843),\n",
       " (562, 23.804587364196777),\n",
       " (170, 23.809539079666138),\n",
       " (510, 23.811107277870178),\n",
       " (372, 23.856424868106842),\n",
       " (405, 23.867973431944847),\n",
       " (406, 23.867973431944847),\n",
       " (400, 23.920533001422882),\n",
       " (628, 23.955721229314804),\n",
       " (646, 23.956559300422668),\n",
       " (539, 23.969365239143372),\n",
       " (118, 23.987437590956688),\n",
       " (144, 24.027785062789917),\n",
       " (31, 24.028159454464912),\n",
       " (673, 24.036639824509621),\n",
       " (469, 24.048677504062653),\n",
       " (392, 24.066493451595306),\n",
       " (145, 24.10816752910614),\n",
       " (42, 24.109173983335495),\n",
       " (37, 24.126254558563232),\n",
       " (40, 24.126254558563232),\n",
       " (440, 24.131037145853043),\n",
       " (521, 24.148232340812683),\n",
       " (33, 24.15898323059082),\n",
       " (550, 24.160990476608276),\n",
       " (291, 24.177479863166809),\n",
       " (194, 24.195406138896942),\n",
       " (585, 24.195406138896942),\n",
       " (506, 24.215725302696228),\n",
       " (727, 24.227933675050735),\n",
       " (584, 24.239794731140137),\n",
       " (536, 24.292837977409363),\n",
       " (519, 24.29335954785347),\n",
       " (63, 24.308665633201599),\n",
       " (545, 24.320549130439758),\n",
       " (264, 24.358572602272034),\n",
       " (117, 24.362368941307068),\n",
       " (143, 24.389554619789124),\n",
       " (149, 24.398104667663574),\n",
       " (142, 24.411299705505371),\n",
       " (9, 24.453413583338261),\n",
       " (528, 24.453747451305389),\n",
       " (463, 24.458831310272217),\n",
       " (687, 24.519429326057434),\n",
       " (151, 24.522198915481567),\n",
       " (152, 24.549072280526161),\n",
       " (153, 24.549072280526161),\n",
       " (154, 24.549072280526161),\n",
       " (155, 24.549072280526161),\n",
       " (686, 24.566595792770386),\n",
       " (459, 24.577035546302795),\n",
       " (614, 24.586098909378052),\n",
       " (121, 24.593746423721313),\n",
       " (471, 24.604769051074982),\n",
       " (458, 24.608883619308472),\n",
       " (35, 24.611852645874023),\n",
       " (113, 24.626525640487671),\n",
       " (114, 24.647003769874573),\n",
       " (579, 24.647003769874573),\n",
       " (497, 24.660022020339966),\n",
       " (675, 24.665572866797447),\n",
       " (501, 24.702653706073761),\n",
       " (390, 24.705741345882416),\n",
       " (319, 24.719269156455994),\n",
       " (345, 24.719269156455994),\n",
       " (414, 24.719269156455994),\n",
       " (439, 24.719269156455994),\n",
       " (3, 24.748201251029968),\n",
       " (366, 24.830262333154678),\n",
       " (441, 24.843377023935318),\n",
       " (294, 24.864138245582581),\n",
       " (589, 24.869960427284241),\n",
       " (36, 24.88014954328537),\n",
       " (292, 24.8895263671875),\n",
       " (515, 24.88971221446991),\n",
       " (273, 24.907530903816223),\n",
       " (656, 24.907530903816223),\n",
       " (295, 24.916697144508362),\n",
       " (46, 24.920613586902618),\n",
       " (583, 24.921908140182495),\n",
       " (480, 24.952273011207581),\n",
       " (50, 24.958056032657623),\n",
       " (38, 24.967100262641907),\n",
       " (116, 24.999537467956543),\n",
       " (547, 25.020340442657471),\n",
       " (43, 25.033280342817307),\n",
       " (574, 25.052461981773376),\n",
       " (540, 25.057024762034416),\n",
       " (307, 25.058225512504578),\n",
       " (572, 25.058786973357201),\n",
       " (339, 25.0765620470047),\n",
       " (325, 25.10266101360321),\n",
       " (364, 25.114199936389923),\n",
       " (674, 25.114890098571777),\n",
       " (66, 25.178011685609818),\n",
       " (221, 25.198053956031799),\n",
       " (552, 25.198053956031799),\n",
       " (280, 25.222863852977753),\n",
       " (613, 25.27684473991394),\n",
       " (59, 25.277886986732483),\n",
       " (578, 25.28554892539978),\n",
       " (609, 25.317535072565079),\n",
       " (554, 25.32030463218689),\n",
       " (44, 25.324603110551834),\n",
       " (45, 25.324603110551834),\n",
       " (47, 25.324603110551834),\n",
       " (48, 25.324603110551834),\n",
       " (49, 25.324603110551834),\n",
       " (51, 25.324603110551834),\n",
       " (52, 25.324603110551834),\n",
       " (53, 25.324603110551834),\n",
       " (54, 25.324603110551834),\n",
       " (308, 25.328490018844604),\n",
       " (544, 25.329254865646362),\n",
       " (70, 25.333115369081497),\n",
       " (543, 25.343148589134216),\n",
       " (258, 25.356101334095001),\n",
       " (259, 25.356848776340485),\n",
       " (483, 25.398323804140091),\n",
       " (626, 25.408823609352112),\n",
       " (542, 25.41336464881897),\n",
       " (401, 25.462295889854431),\n",
       " (309, 25.485561370849609),\n",
       " (341, 25.497076258063316),\n",
       " (337, 25.516595005989075),\n",
       " (516, 25.589291155338287),\n",
       " (735, 25.589291155338287),\n",
       " (736, 25.589291155338287),\n",
       " (115, 25.624377250671387),\n",
       " (750, 25.627025365829468),\n",
       " (494, 25.638205945491791),\n",
       " (495, 25.638205945491791),\n",
       " (388, 25.673837959766388),\n",
       " (150, 25.699711680412292),\n",
       " (555, 25.744516730308533),\n",
       " (588, 25.746850520372391),\n",
       " (237, 25.764092087745667),\n",
       " (577, 25.774789571762085),\n",
       " (320, 25.810398876667023),\n",
       " (198, 25.816021680831909),\n",
       " (371, 25.832016706466675),\n",
       " (256, 25.859710469841957),\n",
       " (338, 25.914472818374634),\n",
       " (340, 25.914472818374634),\n",
       " (482, 25.920658707618713),\n",
       " (375, 25.927672505378723),\n",
       " (203, 25.929715037345886),\n",
       " (204, 25.938117861747742),\n",
       " (615, 26.008211433887482),\n",
       " (28, 26.057994931936264),\n",
       " (648, 26.065134882926941),\n",
       " (660, 26.065134882926941),\n",
       " (622, 26.065514385700226),\n",
       " (631, 26.065514385700226),\n",
       " (635, 26.065514385700226),\n",
       " (455, 26.081483602523804),\n",
       " (454, 26.083739027380943),\n",
       " (752, 26.097051024436951),\n",
       " (277, 26.097943067550659),\n",
       " (566, 26.10351188480854),\n",
       " (711, 26.114798873662949),\n",
       " (723, 26.122130215167999),\n",
       " (713, 26.137817740440369),\n",
       " (481, 26.147513300180435),\n",
       " (744, 26.156174540519714),\n",
       " (738, 26.198801279067993),\n",
       " (746, 26.241046786308289),\n",
       " (384, 26.243681311607361),\n",
       " (200, 26.243759274482727),\n",
       " (271, 26.245515704154968),\n",
       " (397, 26.246281862258911),\n",
       " (486, 26.275949701666832),\n",
       " (173, 26.346173346042633),\n",
       " (111, 26.421320170164108),\n",
       " (590, 26.448848977684975),\n",
       " (110, 26.478699743747711),\n",
       " (461, 26.511397585272789),\n",
       " (95, 26.52378511428833),\n",
       " (276, 26.544923186302185),\n",
       " (112, 26.566670596599579),\n",
       " (108, 26.586988061666489),\n",
       " (109, 26.637888163328171),\n",
       " (655, 26.650903567671776),\n",
       " (624, 26.663145840167999),\n",
       " (669, 26.696826696395874),\n",
       " (595, 26.70906463265419),\n",
       " (433, 26.725475251674652),\n",
       " (124, 26.780554428696632),\n",
       " (417, 26.780554428696632),\n",
       " (263, 26.787716016173363),\n",
       " (749, 26.791854619979858),\n",
       " (573, 26.806347846984863),\n",
       " (697, 26.806347846984863),\n",
       " (369, 26.835382133722305),\n",
       " (343, 26.847583711147308),\n",
       " (30, 26.863072276115417),\n",
       " (180, 26.917153611779213),\n",
       " (386, 26.950349450111389),\n",
       " (605, 26.958723232150078),\n",
       " (606, 26.958723232150078),\n",
       " (342, 26.960834965109825),\n",
       " (722, 27.007774412631989),\n",
       " (162, 27.013168931007385),\n",
       " (169, 27.013168931007385),\n",
       " (334, 27.013168931007385),\n",
       " (347, 27.013168931007385),\n",
       " (275, 27.031449690461159),\n",
       " (428, 27.032084584236145),\n",
       " (603, 27.053445160388947),\n",
       " (456, 27.081483602523804),\n",
       " (383, 27.09829480946064),\n",
       " (568, 27.131178736686707),\n",
       " (416, 27.138796463608742),\n",
       " (129, 27.232898980379105),\n",
       " (189, 27.2508425116539),\n",
       " (586, 27.2508425116539),\n",
       " (596, 27.25634828209877),\n",
       " (260, 27.310070395469666),\n",
       " (289, 27.322627976536751),\n",
       " (216, 27.329398095607758),\n",
       " (103, 27.333541005849838),\n",
       " (254, 27.355315327644348),\n",
       " (477, 27.355315327644348),\n",
       " (255, 27.415758192539215),\n",
       " (427, 27.496788024902344),\n",
       " (457, 27.502389907836914),\n",
       " (531, 27.524257183074951),\n",
       " (567, 27.567799687385559),\n",
       " (524, 27.623351812362671),\n",
       " (556, 27.674351930618286),\n",
       " (621, 27.748034596443176),\n",
       " (630, 27.748034596443176),\n",
       " (634, 27.748034596443176),\n",
       " (492, 27.856119900941849),\n",
       " (493, 27.85644605755806),\n",
       " (496, 27.898500084877014),\n",
       " (460, 27.907052129507065),\n",
       " (666, 27.909734427928925),\n",
       " (667, 27.909734427928925),\n",
       " (379, 28.057101666927338),\n",
       " (174, 28.144226551055908),\n",
       " (498, 28.157005786895752),\n",
       " (434, 28.186250880360603),\n",
       " (385, 28.224071741104126),\n",
       " (411, 28.230624943971634),\n",
       " (278, 28.31755730509758),\n",
       " (394, 28.31755730509758),\n",
       " (395, 28.31755730509758),\n",
       " (293, 28.392123579978943),\n",
       " (410, 28.408895969390869),\n",
       " (430, 28.412113428115845),\n",
       " (623, 28.412113428115845),\n",
       " (421, 28.624567031860352),\n",
       " (565, 28.670917809009552),\n",
       " (172, 28.697423338890076),\n",
       " (462, 28.793892845511436),\n",
       " (618, 28.811302691698074),\n",
       " (649, 28.890424311161041),\n",
       " (661, 28.890424311161041),\n",
       " (160, 29.012679159641266),\n",
       " (167, 29.012679159641266),\n",
       " (261, 29.063114404678345),\n",
       " (488, 29.063114404678345),\n",
       " (601, 29.115819960832596),\n",
       " (718, 29.119505673646927),\n",
       " (431, 29.148071557283401),\n",
       " (449, 29.209505319595337),\n",
       " (445, 29.289903163909912),\n",
       " (447, 29.289903163909912),\n",
       " (123, 29.361683487892151),\n",
       " (450, 29.389482975006104),\n",
       " (653, 29.389824151992798),\n",
       " (195, 29.509845942258835),\n",
       " (446, 29.546337842941284),\n",
       " (4, 29.549355059862137),\n",
       " (707, 29.556947261095047),\n",
       " (2, 29.597026616334915),\n",
       " (301, 29.657611817121506),\n",
       " (351, 29.657611817121506),\n",
       " (197, 29.699200004339218),\n",
       " (407, 29.733478307723999),\n",
       " (505, 29.762645930051804),\n",
       " (127, 29.847314685583115),\n",
       " (106, 29.867598831653595),\n",
       " (302, 29.919963985681534),\n",
       " (352, 29.919963985681534),\n",
       " (719, 29.99708554148674),\n",
       " (700, 30.047617614269257),\n",
       " (370, 30.077300131320953),\n",
       " (310, 30.207274183630943),\n",
       " (597, 30.224751502275467),\n",
       " (632, 30.357650071382523),\n",
       " (604, 30.364703297615051),\n",
       " (553, 30.439657598733902),\n",
       " (130, 30.480262279510498),\n",
       " (222, 30.539196759462357),\n",
       " (551, 30.539196759462357),\n",
       " (381, 30.590380936861038),\n",
       " (76, 30.737918883562088),\n",
       " (183, 30.761173635721207),\n",
       " (286, 30.761173635721207),\n",
       " (326, 30.761173635721207),\n",
       " (251, 30.764091610908508),\n",
       " (157, 30.771816611289978),\n",
       " (164, 30.771816611289978),\n",
       " (346, 30.771816611289978),\n",
       " (594, 30.771816611289978),\n",
       " (178, 30.856409013271332),\n",
       " (693, 30.91056863963604),\n",
       " (694, 30.91056863963604),\n",
       " (171, 30.984556347131729),\n",
       " (27, 30.987203508615494),\n",
       " (61, 30.987203508615494),\n",
       " (537, 31.09443211555481),\n",
       " (359, 31.1146280169487),\n",
       " (607, 31.1146280169487),\n",
       " (652, 31.281552314758301),\n",
       " (196, 31.31500831246376),\n",
       " (640, 31.409043788909912),\n",
       " (274, 31.440326452255249),\n",
       " (704, 31.521316826343536),\n",
       " (199, 31.525767117738724),\n",
       " (0, 31.549355059862137),\n",
       " (479, 31.567024022340775),\n",
       " (642, 31.585149437189102),\n",
       " (374, 31.596712157130241),\n",
       " (413, 31.596712157130241),\n",
       " (529, 31.608881801366806),\n",
       " (549, 31.830982834100723),\n",
       " (608, 31.902930527925491),\n",
       " (563, 32.025948405265808),\n",
       " (525, 32.16356885433197),\n",
       " (619, 32.16356885433197),\n",
       " (620, 32.16356885433197),\n",
       " (685, 32.170381247997284),\n",
       " (207, 32.509754657745361),\n",
       " (678, 32.549180060625076),\n",
       " (745, 32.69630166888237),\n",
       " (158, 32.771816611289978),\n",
       " (165, 32.771816611289978),\n",
       " (128, 33.072755366563797),\n",
       " (131, 33.072755366563797),\n",
       " (712, 33.077367454767227),\n",
       " (598, 33.388666778802872),\n",
       " (211, 33.413092762231827),\n",
       " (580, 33.461441874504089),\n",
       " (188, 33.563737064599991),\n",
       " (679, 33.573992401361465),\n",
       " (335, 33.587654113769531),\n",
       " (305, 33.798586249351501),\n",
       " (499, 33.82341280579567),\n",
       " (538, 33.862030118703842),\n",
       " (548, 33.955745249986649),\n",
       " (448, 34.051171898841858),\n",
       " (39, 34.080647021532059),\n",
       " (159, 34.289903163909912),\n",
       " (166, 34.289903163909912),\n",
       " (593, 34.289903163909912),\n",
       " (333, 34.435393571853638),\n",
       " (747, 34.477354913949966),\n",
       " (716, 34.549180060625076),\n",
       " (304, 34.653304636478424),\n",
       " (530, 34.716843396425247),\n",
       " (478, 34.837397247552872),\n",
       " (611, 34.912779718637466),\n",
       " (541, 35.067020535469055),\n",
       " (511, 35.111176818609238),\n",
       " (348, 35.167483031749725),\n",
       " (409, 35.194403320550919),\n",
       " (257, 35.268089801073074),\n",
       " (485, 35.313157588243484),\n",
       " (591, 35.579385548830032),\n",
       " (627, 35.819973140954971),\n",
       " (125, 35.925999611616135),\n",
       " (126, 35.925999611616135),\n",
       " (641, 36.225200891494751),\n",
       " (224, 36.288904815912247),\n",
       " (69, 36.294638693332672),\n",
       " (418, 36.339611679315567),\n",
       " (644, 36.551581606268883),\n",
       " (717, 36.551734954118729),\n",
       " (564, 36.698720127344131),\n",
       " (657, 36.976373255252838),\n",
       " (703, 37.314140200614929),\n",
       " (380, 37.397779196500778),\n",
       " (692, 37.477728396654129),\n",
       " (311, 37.539410620927811),\n",
       " (419, 37.557032853364944),\n",
       " (402, 37.947169691324234),\n",
       " (592, 37.977077633142471),\n",
       " (408, 38.01310595870018),\n",
       " (377, 38.022224336862564),\n",
       " (710, 38.250484973192215),\n",
       " (361, 38.314140200614929),\n",
       " (363, 38.352608680725098),\n",
       " (643, 38.60182224214077),\n",
       " (21, 38.727204352617264),\n",
       " (55, 38.727204352617264),\n",
       " (101, 38.727204352617264),\n",
       " (193, 38.737293273210526),\n",
       " (404, 38.737293273210526),\n",
       " (415, 38.737293273210526),\n",
       " (262, 38.773968487977982),\n",
       " (466, 39.166077703237534),\n",
       " (748, 39.211618214845657),\n",
       " (645, 39.339611679315567),\n",
       " (465, 39.565417319536209),\n",
       " (753, 39.919949531555176),\n",
       " (668, 40.394378304481506),\n",
       " (161, 40.725284367799759),\n",
       " (168, 40.725284367799759),\n",
       " (367, 40.76593229174614),\n",
       " (29, 40.795829653739929),\n",
       " (368, 40.911566585302353),\n",
       " (94, 40.992758423089981),\n",
       " (99, 40.992758423089981),\n",
       " (73, 41.088667422533035),\n",
       " (376, 41.127604156732559),\n",
       " (691, 41.14931458234787),\n",
       " (208, 41.304637342691422),\n",
       " (709, 41.352288991212845),\n",
       " (754, 41.352827548980713),\n",
       " (176, 41.405397593975067),\n",
       " (677, 41.430666714906693),\n",
       " (435, 41.482967138290405),\n",
       " (191, 41.839549750089645),\n",
       " (696, 41.961321026086807),\n",
       " (534, 42.081045776605606),\n",
       " (743, 42.617455393075943),\n",
       " (734, 42.664794117212296),\n",
       " (297, 42.7707259953022),\n",
       " (296, 42.7974833548069),\n",
       " (298, 42.817002564668655),\n",
       " (250, 43.255131036043167),\n",
       " (475, 43.255131036043167),\n",
       " (637, 43.36455699801445),\n",
       " (670, 43.546527653932571),\n",
       " (612, 44.193808794021606),\n",
       " (468, 44.220606416463852),\n",
       " (285, 44.223100811243057),\n",
       " (730, 44.223100811243057),\n",
       " (97, 44.713659077882767),\n",
       " (100, 44.713659077882767),\n",
       " (699, 45.035845756530762),\n",
       " (636, 45.208702385425568),\n",
       " (220, 45.265928030014038),\n",
       " (223, 45.265928030014038),\n",
       " (487, 45.265928030014038),\n",
       " (546, 45.265928030014038),\n",
       " (90, 45.278901845216751),\n",
       " (316, 45.307766944169998),\n",
       " (382, 45.448494434356689),\n",
       " (467, 45.478803545236588),\n",
       " (209, 45.573400527238846),\n",
       " (58, 45.840603739023209),\n",
       " (89, 45.943033844232559),\n",
       " (92, 45.943033844232559),\n",
       " (93, 45.943033844232559),\n",
       " (98, 45.943033844232559),\n",
       " (676, 46.054267078638077),\n",
       " (399, 46.177555590867996),\n",
       " (513, 46.330269008874893),\n",
       " (726, 46.549817234277725),\n",
       " (344, 46.601810574531555),\n",
       " (729, 46.61253833770752),\n",
       " (708, 46.886689782142639),\n",
       " (617, 46.947381049394608),\n",
       " (581, 47.074151784181595),\n",
       " (87, 47.074875354766846),\n",
       " (268, 47.074875354766846),\n",
       " (269, 47.074875354766846),\n",
       " (683, 47.074875354766846),\n",
       " (587, 47.130043894052505),\n",
       " (695, 47.162157088518143),\n",
       " (253, 47.212395340204239),\n",
       " (104, 47.276275753974915),\n",
       " (252, 47.31453013420105),\n",
       " (476, 47.31453013420105),\n",
       " (474, 47.373937249183655),\n",
       " (32, 47.390614062547684),\n",
       " (105, 47.390614062547684),\n",
       " (5, 47.404583245515823),\n",
       " (658, 47.512090474367142),\n",
       " (504, 47.565056592226028),\n",
       " (249, 47.578786283731461),\n",
       " (535, 47.63309445977211),\n",
       " (358, 47.635439068078995),\n",
       " (396, 47.635439068078995),\n",
       " (437, 47.635439068078995),\n",
       " (569, 47.635439068078995),\n",
       " (389, 47.646607428789139),\n",
       " (360, 47.671919375658035),\n",
       " (398, 47.671919375658035),\n",
       " (438, 47.671919375658035),\n",
       " (570, 47.671919375658035),\n",
       " (357, 47.672900587320328),\n",
       " (436, 47.672900587320328),\n",
       " (62, 47.679068595170975),\n",
       " (246, 47.71503983438015),\n",
       " (23, 47.733384773135185),\n",
       " (71, 47.744762450456619),\n",
       " (134, 47.754577904939651),\n",
       " (84, 47.817407518625259),\n",
       " (682, 47.817407518625259),\n",
       " (662, 47.847994685173035),\n",
       " (75, 47.862673074007034),\n",
       " (247, 47.868534594774246),\n",
       " (64, 47.877435237169266),\n",
       " (500, 47.879399210214615),\n",
       " (56, 47.914753556251526),\n",
       " (136, 47.931314617395401),\n",
       " (503, 47.955222636461258),\n",
       " (22, 47.967438966035843),\n",
       " (102, 47.967438966035843),\n",
       " (60, 47.970911055803299),\n",
       " (133, 47.987737089395523),\n",
       " (672, 47.990759283304214),\n",
       " (354, 47.999634772539139),\n",
       " (282, 47.999911338090897),\n",
       " (327, 48.024102479219437),\n",
       " (328, 48.024102479219437),\n",
       " (356, 48.029255419969559),\n",
       " (473, 48.039876610040665),\n",
       " (689, 48.055579334497452),\n",
       " (353, 48.058462888002396),\n",
       " (281, 48.089227348566055),\n",
       " (387, 48.098616629838943),\n",
       " (283, 48.099843889474869),\n",
       " (290, 48.104057908058167),\n",
       " (742, 48.110679060220718),\n",
       " (279, 48.130034565925598),\n",
       " (663, 48.130034565925598),\n",
       " (11, 48.142707616090775),\n",
       " (16, 48.142707616090775),\n",
       " (18, 48.142707616090775),\n",
       " (20, 48.142707616090775),\n",
       " (243, 48.144802123308182),\n",
       " (244, 48.144802123308182),\n",
       " (248, 48.144802123308182),\n",
       " (284, 48.161810621619225),\n",
       " (575, 48.162060379981995),\n",
       " (576, 48.162060379981995),\n",
       " (472, 48.184733420610428),\n",
       " (490, 48.200726896524429),\n",
       " (659, 48.248484522104263),\n",
       " (138, 48.280513152480125),\n",
       " (135, 48.30771592259407),\n",
       " (464, 48.312627345323563),\n",
       " (728, 48.317437201738358),\n",
       " (680, 48.340797901153564),\n",
       " (6, 48.348130017518997),\n",
       " (7, 48.348130017518997),\n",
       " (10, 48.348130017518997),\n",
       " (12, 48.348130017518997),\n",
       " (13, 48.348130017518997),\n",
       " (14, 48.348130017518997),\n",
       " (15, 48.348130017518997),\n",
       " (17, 48.348130017518997),\n",
       " (19, 48.348130017518997),\n",
       " (26, 48.352525502443314),\n",
       " (647, 48.384759336709976),\n",
       " (512, 48.408977657556534),\n",
       " (91, 48.417851477861404),\n",
       " (665, 48.427359491586685),\n",
       " (731, 48.451653271913528),\n",
       " (664, 48.464228391647339),\n",
       " (57, 48.470150113105774),\n",
       " (751, 48.483735114336014),\n",
       " (190, 48.488876849412918),\n",
       " (336, 48.494386821985245),\n",
       " (312, 48.510041832923889),\n",
       " (24, 48.522324949502945),\n",
       " (192, 48.535212188959122),\n",
       " (132, 48.536277681589127),\n",
       " (210, 48.540846705436707),\n",
       " (681, 48.542835384607315),\n",
       " (633, 48.558327674865723),\n",
       " (514, 48.575562864542007),\n",
       " (141, 48.583825975656509),\n",
       " (214, 48.589998245239258),\n",
       " (218, 48.589998245239258),\n",
       " (217, 48.5906982421875),\n",
       " (139, 48.59604600071907),\n",
       " (733, 48.604848027229309),\n",
       " (140, 48.613340735435486),\n",
       " (314, 48.625379800796509),\n",
       " (616, 48.630747199058533),\n",
       " (732, 48.635268241167068),\n",
       " (432, 48.679659515619278),\n",
       " (582, 48.705219179391861),\n",
       " (219, 48.723576068878174),\n",
       " (313, 48.725980162620544),\n",
       " (420, 48.728437930345535),\n",
       " (215, 48.742507845163345),\n",
       " (688, 48.760026603937149),\n",
       " (378, 48.774615079164505),\n",
       " (137, 48.776017934083939),\n",
       " (212, 48.78320899605751),\n",
       " (651, 48.787258267402649),\n",
       " (266, 48.809784680604935),\n",
       " (267, 48.809784680604935),\n",
       " (270, 48.809784680604935),\n",
       " (272, 48.841424256563187),\n",
       " (186, 48.855175852775574),\n",
       " (287, 48.855175852775574),\n",
       " (288, 48.855175852775574),\n",
       " (671, 48.933954507112503),\n",
       " (690, 49.142001152038574),\n",
       " (156, 50.571877270936966),\n",
       " (163, 50.571877270936966),\n",
       " (393, 50.571877270936966),\n",
       " (185, 51.70781022310257),\n",
       " (187, 51.70781022310257),\n",
       " (182, 52.243810474872589),\n",
       " (238, 53.506119608879089),\n",
       " (184, 53.703404724597931),\n",
       " (242, 54.688731789588928),\n",
       " (391, 56.839912354946136),\n",
       " (362, 56.9939866065979),\n",
       " (213, 57.668474972248077),\n",
       " (443, 58.264072954654694),\n",
       " (77, 58.930510103702545),\n",
       " (78, 58.930510103702545),\n",
       " (79, 58.930510103702545),\n",
       " (80, 58.930510103702545),\n",
       " (81, 58.930510103702545),\n",
       " (82, 58.930510103702545),\n",
       " (83, 58.930510103702545),\n",
       " (85, 58.930510103702545),\n",
       " (86, 58.930510103702545),\n",
       " (88, 58.930510103702545),\n",
       " (442, 58.930510103702545),\n",
       " (444, 58.930510103702545)]"
      ]
     },
     "execution_count": 19,
     "metadata": {},
     "output_type": "execute_result"
    }
   ],
   "source": [
    "x_co"
   ]
  },
  {
   "cell_type": "code",
   "execution_count": 23,
   "metadata": {
    "collapsed": false
   },
   "outputs": [
    {
     "data": {
      "text/plain": [
       "[(705, 0.0),\n",
       " (706, 1.0820066928863525),\n",
       " (721, 7.1238025426864624),\n",
       " (423, 10.841357886791229),\n",
       " (720, 12.221334636211395),\n",
       " (426, 12.614270925521851),\n",
       " (425, 15.082615077495575),\n",
       " (560, 15.395968064665794),\n",
       " (702, 15.770150452852249),\n",
       " (230, 16.24800980091095)]"
      ]
     },
     "execution_count": 23,
     "metadata": {},
     "output_type": "execute_result"
    }
   ],
   "source": [
    "x_co = sorted(enumerate(edit_dist_coff[705]), key=lambda x:x[1])\n",
    "x_co[:10]"
   ]
  },
  {
   "cell_type": "code",
   "execution_count": 46,
   "metadata": {
    "collapsed": false
   },
   "outputs": [
    {
     "data": {
      "text/plain": [
       "[(705, 0.0),\n",
       " (706, 1.0),\n",
       " (721, 7.0),\n",
       " (423, 10.0),\n",
       " (426, 11.0),\n",
       " (720, 12.0),\n",
       " (560, 13.0),\n",
       " (702, 13.0),\n",
       " (724, 13.0),\n",
       " (725, 13.0)]"
      ]
     },
     "execution_count": 46,
     "metadata": {},
     "output_type": "execute_result"
    }
   ],
   "source": [
    "x_no_co = sorted(enumerate(edit_dist_no_coff[705]), key=lambda x:x[1])\n",
    "x_no_co[:10]"
   ]
  },
  {
   "cell_type": "code",
   "execution_count": 36,
   "metadata": {
    "collapsed": false
   },
   "outputs": [
    {
     "data": {
      "text/plain": [
       "[(0,\n",
       "  [(210.59999999999999, 606),\n",
       "   (410.80000000000001, 541),\n",
       "   (213.19999999999999, 537),\n",
       "   (303.0, 533),\n",
       "   (205.59999999999999, 609),\n",
       "   (9.0, 15)]),\n",
       " (1,\n",
       "  [(7.5, 14),\n",
       "   (7.4285714285714288, 14),\n",
       "   (478.28571428571428, 521),\n",
       "   (468.07142857142856, 510),\n",
       "   (7.3571428571428568, 14),\n",
       "   (7.5, 14),\n",
       "   (7.2857142857142856, 14),\n",
       "   (7.2142857142857144, 14),\n",
       "   (7.1428571428571432, 14),\n",
       "   (7.0714285714285712, 14),\n",
       "   (7.4285714285714288, 14),\n",
       "   (7.0, 14),\n",
       "   (7.3571428571428568, 14),\n",
       "   (6.9285714285714288, 14),\n",
       "   (7.2857142857142856, 14)]),\n",
       " (2,\n",
       "  [(257.09090909090907, 624),\n",
       "   (30.727272727272727, 51),\n",
       "   (46.454545454545453, 90),\n",
       "   (37.090909090909093, 84),\n",
       "   (380.27272727272725, 587),\n",
       "   (30.272727272727273, 58),\n",
       "   (327.09090909090907, 587),\n",
       "   (446.36363636363637, 606),\n",
       "   (73.545454545454547, 113),\n",
       "   (385.18181818181819, 604),\n",
       "   (378.72727272727275, 590),\n",
       "   (26.90909090909091, 46)]),\n",
       " (3,\n",
       "  [(84.555555555555557, 462),\n",
       "   (61.777777777777779, 214),\n",
       "   (167.77777777777777, 540),\n",
       "   (80.111111111111114, 445),\n",
       "   (142.77777777777777, 504),\n",
       "   (96.777777777777771, 478),\n",
       "   (46.888888888888886, 187),\n",
       "   (142.66666666666666, 504),\n",
       "   (203.22222222222223, 542),\n",
       "   (216.33333333333334, 585)]),\n",
       " (4,\n",
       "  [(6.0, 11),\n",
       "   (6.0, 11),\n",
       "   (5.9090909090909092, 11),\n",
       "   (6.0, 11),\n",
       "   (5.8181818181818183, 11),\n",
       "   (5.7272727272727275, 11),\n",
       "   (5.6363636363636367, 11),\n",
       "   (6.0, 11),\n",
       "   (5.5454545454545459, 11),\n",
       "   (5.4545454545454541, 11),\n",
       "   (5.3636363636363633, 11),\n",
       "   (5.2727272727272725, 11)]),\n",
       " (5,\n",
       "  [(54.222222222222221, 218),\n",
       "   (8.3333333333333339, 19),\n",
       "   (12.444444444444445, 27),\n",
       "   (47.444444444444443, 53),\n",
       "   (336.77777777777777, 543),\n",
       "   (8.6666666666666661, 20),\n",
       "   (370.0, 542),\n",
       "   (8.8888888888888893, 19),\n",
       "   (345.0, 542),\n",
       "   (8.3333333333333339, 19)]),\n",
       " (6,\n",
       "  [(97.454545454545453, 283),\n",
       "   (261.81818181818181, 518),\n",
       "   (257.90909090909093, 520),\n",
       "   (428.18181818181819, 594),\n",
       "   (53.636363636363633, 314),\n",
       "   (317.27272727272725, 515),\n",
       "   (20.09090909090909, 80),\n",
       "   (399.09090909090907, 603),\n",
       "   (36.909090909090907, 148),\n",
       "   (167.81818181818181, 537),\n",
       "   (24.90909090909091, 94),\n",
       "   (263.54545454545456, 503)]),\n",
       " (7,\n",
       "  [(22.545454545454547, 102),\n",
       "   (22.454545454545453, 102),\n",
       "   (22.363636363636363, 102),\n",
       "   (22.272727272727273, 102),\n",
       "   (22.181818181818183, 102),\n",
       "   (22.09090909090909, 102),\n",
       "   (22.0, 102),\n",
       "   (88.0, 93),\n",
       "   (21.90909090909091, 102),\n",
       "   (21.818181818181817, 102),\n",
       "   (86.0, 91),\n",
       "   (21.727272727272727, 102)]),\n",
       " (8,\n",
       "  [(42.909090909090907, 205),\n",
       "   (48.0, 220),\n",
       "   (39.0, 101),\n",
       "   (42.81818181818182, 205),\n",
       "   (42.727272727272727, 205),\n",
       "   (105.09090909090909, 639),\n",
       "   (546.09090909090912, 619),\n",
       "   (557.4545454545455, 612),\n",
       "   (56.454545454545453, 253),\n",
       "   (42.636363636363633, 205),\n",
       "   (105.0, 639),\n",
       "   (56.363636363636367, 253)]),\n",
       " (9,\n",
       "  [(275.45454545454544, 643),\n",
       "   (27.636363636363637, 113),\n",
       "   (179.54545454545453, 586),\n",
       "   (35.727272727272727, 122),\n",
       "   (31.727272727272727, 112),\n",
       "   (476.81818181818181, 616),\n",
       "   (244.90909090909091, 588),\n",
       "   (184.45454545454547, 587),\n",
       "   (184.45454545454547, 587),\n",
       "   (185.0, 587),\n",
       "   (184.45454545454547, 587),\n",
       "   (184.45454545454547, 587)]),\n",
       " (10,\n",
       "  [(73.444444444444443, 158),\n",
       "   (73.777777777777771, 158),\n",
       "   (12.666666666666666, 32),\n",
       "   (80.333333333333329, 158),\n",
       "   (15.0, 51),\n",
       "   (8.2222222222222214, 38),\n",
       "   (7.7777777777777777, 33),\n",
       "   (7.7777777777777777, 33),\n",
       "   (73.555555555555557, 158),\n",
       "   (130.22222222222223, 200)]),\n",
       " (11,\n",
       "  [(12.375, 39),\n",
       "   (181.375, 326),\n",
       "   (5.5, 16),\n",
       "   (5.5, 16),\n",
       "   (9.0, 28),\n",
       "   (6.125, 21),\n",
       "   (22.25, 52),\n",
       "   (11.5, 36),\n",
       "   (6.125, 21)]),\n",
       " (12,\n",
       "  [(7.2222222222222223, 12),\n",
       "   (21.777777777777779, 148),\n",
       "   (22.555555555555557, 149),\n",
       "   (22.888888888888889, 150),\n",
       "   (7.7777777777777777, 16),\n",
       "   (8.7777777777777786, 14),\n",
       "   (81.555555555555557, 145),\n",
       "   (22.666666666666668, 153),\n",
       "   (21.666666666666668, 149),\n",
       "   (8.0, 15)]),\n",
       " (13,\n",
       "  [(19.125, 104),\n",
       "   (15.875, 21),\n",
       "   (26.25, 104),\n",
       "   (45.0, 104),\n",
       "   (33.5, 104),\n",
       "   (33.375, 104),\n",
       "   (23.0, 80),\n",
       "   (18.75, 104),\n",
       "   (33.5, 107)]),\n",
       " (14, [(2.0, 3), (1.6666666666666667, 3), (1.3333333333333333, 3), (1.0, 2)]),\n",
       " (15,\n",
       "  [(161.5, 164),\n",
       "   (209.5, 653),\n",
       "   (208.66666666666666, 652),\n",
       "   (233.33333333333334, 651),\n",
       "   (213.83333333333334, 654),\n",
       "   (169.83333333333334, 659),\n",
       "   (420.66666666666669, 672)]),\n",
       " (16,\n",
       "  [(167.5, 170),\n",
       "   (210.5, 654),\n",
       "   (209.66666666666666, 653),\n",
       "   (234.33333333333334, 652),\n",
       "   (214.83333333333334, 655),\n",
       "   (171.16666666666666, 660),\n",
       "   (421.66666666666669, 673)]),\n",
       " (17,\n",
       "  [(256.25, 323), (71.0, 207), (130.0, 374), (160.25, 350), (160.25, 325)]),\n",
       " (18,\n",
       "  [(314.83333333333331, 537),\n",
       "   (84.166666666666671, 227),\n",
       "   (92.0, 502),\n",
       "   (99.5, 530),\n",
       "   (105.16666666666667, 500),\n",
       "   (160.33333333333334, 534),\n",
       "   (98.666666666666671, 502)]),\n",
       " (19,\n",
       "  [(67.400000000000006, 166),\n",
       "   (543.0, 557),\n",
       "   (49.799999999999997, 122),\n",
       "   (37.200000000000003, 160),\n",
       "   (32.200000000000003, 50),\n",
       "   (37.0, 160)]),\n",
       " (20,\n",
       "  [(197.5, 390),\n",
       "   (412.83333333333331, 544),\n",
       "   (33.333333333333336, 94),\n",
       "   (119.0, 327),\n",
       "   (32.333333333333336, 93),\n",
       "   (175.83333333333334, 311),\n",
       "   (484.0, 556)]),\n",
       " (21, [(23.25, 44), (30.25, 91), (39.75, 131), (382.0, 434), (41.75, 133)]),\n",
       " (22,\n",
       "  [(50.5, 53),\n",
       "   (69.666666666666671, 158),\n",
       "   (73.166666666666671, 158),\n",
       "   (58.166666666666664, 158),\n",
       "   (58.166666666666664, 158),\n",
       "   (69.666666666666671, 158),\n",
       "   (73.0, 158)]),\n",
       " (23, [(357.5, 538), (269.25, 581), (12.25, 23), (30.0, 77), (260.5, 508)]),\n",
       " (24,\n",
       "  [(21.833333333333332, 73),\n",
       "   (55.666666666666664, 112),\n",
       "   (12.666666666666666, 40),\n",
       "   (24.5, 69),\n",
       "   (572.5, 595),\n",
       "   (13.166666666666666, 39),\n",
       "   (18.5, 62)]),\n",
       " (25,\n",
       "  [(76.599999999999994, 116),\n",
       "   (294.60000000000002, 513),\n",
       "   (518.39999999999998, 650),\n",
       "   (459.0, 650),\n",
       "   (294.39999999999998, 513),\n",
       "   (346.19999999999999, 592)]),\n",
       " (26,\n",
       "  [(26.800000000000001, 87),\n",
       "   (115.59999999999999, 190),\n",
       "   (24.800000000000001, 85),\n",
       "   (100.0, 179),\n",
       "   (100.8, 180),\n",
       "   (19.399999999999999, 72)]),\n",
       " (27,\n",
       "  [(28.199999999999999, 88),\n",
       "   (116.59999999999999, 191),\n",
       "   (26.199999999999999, 86),\n",
       "   (101.0, 180),\n",
       "   (101.8, 181),\n",
       "   (20.800000000000001, 73)]),\n",
       " (28,\n",
       "  [(300.19999999999999, 533),\n",
       "   (97.799999999999997, 242),\n",
       "   (365.60000000000002, 644),\n",
       "   (451.19999999999999, 665),\n",
       "   (332.80000000000001, 644),\n",
       "   (148.19999999999999, 247)]),\n",
       " (29,\n",
       "  [(3.0, 5),\n",
       "   (3.0, 5),\n",
       "   (544.60000000000002, 555),\n",
       "   (3.6000000000000001, 8),\n",
       "   (3.6000000000000001, 8),\n",
       "   (3.0, 5)]),\n",
       " (30,\n",
       "  [(5.4000000000000004, 12),\n",
       "   (6.2000000000000002, 13),\n",
       "   (259.80000000000001, 442),\n",
       "   (5.5999999999999996, 12),\n",
       "   (4.4000000000000004, 10),\n",
       "   (420.0, 490)]),\n",
       " (31,\n",
       "  [(88.400000000000006, 418),\n",
       "   (87.0, 410),\n",
       "   (14.6, 23),\n",
       "   (94.599999999999994, 420),\n",
       "   (94.599999999999994, 420),\n",
       "   (28.399999999999999, 124)]),\n",
       " (32, [(111.75, 438), (5.0, 9), (160.0, 397), (190.5, 399), (218.25, 438)]),\n",
       " (33,\n",
       "  [(135.5, 270), (135.5, 270), (202.75, 271), (202.75, 271), (135.5, 270)]),\n",
       " (34, [(313.75, 561), (55.25, 192), (255.0, 485), (15.0, 29), (221.0, 513)]),\n",
       " (35,\n",
       "  [(363.25, 593), (238.0, 593), (181.75, 590), (103.5, 105), (166.5, 592)]),\n",
       " (36, [(3.25, 7), (2.5, 4), (4.5, 12), (4.25, 11), (550.25, 569)]),\n",
       " (37,\n",
       "  [(446.5, 666), (164.75, 326), (164.5, 326), (562.25, 670), (311.0, 409)]),\n",
       " (38, [(3.0, 6), (3.0, 6), (2.5, 4), (3.0, 6), (3.0, 6)]),\n",
       " (39, [(1.5, 2), (1.5, 2), (1.5, 2)]),\n",
       " (40, [(248.0, 378), (247.66666666666666, 378), (143.0, 214), (27.0, 40)]),\n",
       " (41,\n",
       "  [(267.0, 421),\n",
       "   (68.666666666666671, 103),\n",
       "   (22.666666666666668, 34),\n",
       "   (266.66666666666669, 421)]),\n",
       " (42,\n",
       "  [(160.0, 474),\n",
       "   (171.33333333333334, 504),\n",
       "   (155.33333333333334, 463),\n",
       "   (33.666666666666664, 53)]),\n",
       " (43, [(360.66666666666669, 540), (15.0, 36), (14.0, 27), (31.0, 50)]),\n",
       " (44,\n",
       "  [(214.66666666666666, 532),\n",
       "   (335.0, 336),\n",
       "   (217.33333333333334, 533),\n",
       "   (207.0, 532)]),\n",
       " (45, [(346.0, 346), (139.0, 139)]),\n",
       " (46,\n",
       "  [(23.333333333333332, 51),\n",
       "   (23.0, 51),\n",
       "   (28.0, 29),\n",
       "   (34.666666666666664, 49)]),\n",
       " (47,\n",
       "  [(398.33333333333331, 668),\n",
       "   (403.33333333333331, 670),\n",
       "   (5.666666666666667, 10),\n",
       "   (222.66666666666666, 334)]),\n",
       " (48, [(2.0, 3), (2.0, 3), (2.0, 3), (2.0, 3)]),\n",
       " (49,\n",
       "  [(180.33333333333334, 502),\n",
       "   (382.66666666666669, 518),\n",
       "   (270.66666666666669, 591),\n",
       "   (123.0, 337)]),\n",
       " (50, [(2.0, 3), (2.0, 3), (2.0, 3), (1.6666666666666667, 3)]),\n",
       " (51,\n",
       "  [(328.33333333333331, 606),\n",
       "   (298.66666666666669, 556),\n",
       "   (247.66666666666666, 573),\n",
       "   (216.33333333333334, 258)]),\n",
       " (52,\n",
       "  [(336.0, 464),\n",
       "   (91.0, 209),\n",
       "   (320.66666666666669, 441),\n",
       "   (111.66666666666667, 195)]),\n",
       " (53,\n",
       "  [(249.66666666666666, 379),\n",
       "   (249.33333333333334, 379),\n",
       "   (160.66666666666666, 240),\n",
       "   (33.333333333333336, 49)]),\n",
       " (54, [(2.0, 3), (2.0, 3), (556.0, 557), (2.0, 3)]),\n",
       " (55,\n",
       "  [(124.0, 367),\n",
       "   (125.33333333333333, 367),\n",
       "   (691.0, 692),\n",
       "   (125.33333333333333, 367)]),\n",
       " (56, [(79.5, 112), (2.0, 3), (7.5, 8)]),\n",
       " (57, [(47.5, 84), (124.0, 141), (33.5, 66)]),\n",
       " (58, [(46.5, 92), (40.0, 79), (517.5, 518)]),\n",
       " (59, [(72.0, 142), (510.0, 527), (185.0, 369)]),\n",
       " (60, [(437.0, 437), (172.0, 172)]),\n",
       " (61, [(474.5, 489), (53.5, 106), (58.0, 115)]),\n",
       " (62, [(52.5, 69), (537.0, 570), (479.0, 547)]),\n",
       " (63, [(267.5, 534), (62.5, 63), (267.0, 533)]),\n",
       " (64, [(296.0, 307), (90.0, 179), (29.5, 58)]),\n",
       " (65, [(204.5, 389), (622.0, 684), (398.5, 399)]),\n",
       " (66, [(253.0, 505), (37.5, 38), (253.0, 505)]),\n",
       " (67, [(394.5, 395), (353.5, 705), (353.5, 705)]),\n",
       " (68, [(204.5, 403), (705.5, 706), (204.5, 403)]),\n",
       " (69, [(611.5, 612), (351.0, 694), (350.5, 694)]),\n",
       " (70, [(486.0, 486), (54.0, 54)]),\n",
       " (71, [(1.0, 1), (0.0, 0)]),\n",
       " (72, [(75.5, 76), (7.0, 13), (8.5, 16)]),\n",
       " (73, [(66.0, 66), (42.0, 42)]),\n",
       " (74, [(438.0, 438), (176.0, 176)]),\n",
       " (75, [(690.0, 690), (601.0, 601)]),\n",
       " (76, [(175.0, 348), (175.0, 348), (5.5, 6)]),\n",
       " (77, [(261.0, 515), (31.0, 40), (506.5, 567)]),\n",
       " (78, [(11.0, 11), (20.0, 20)]),\n",
       " (79, [(17.5, 18), (7.5, 14), (8.5, 16)]),\n",
       " (80, [(60.5, 120), (43.0, 85), (307.5, 320)]),\n",
       " (81, [(524.5, 718), (461.5, 724), (522.5, 523)]),\n",
       " (82, [(420.0, 498), (98.0, 195), (144.5, 288)]),\n",
       " (83, [(6.5, 7), (7.5, 8), (7.5, 8)]),\n",
       " (84, [(404.5, 412), (181.0, 361), (184.0, 367)]),\n",
       " (85, [(1.5, 2), (1.5, 2), (1.5, 2)]),\n",
       " (86, [(3.0, 5), (2.5, 3), (2.5, 5)]),\n",
       " (87, [(1.5, 2), (23.5, 46), (23.5, 46)]),\n",
       " (88, [(1.5, 2), (1.5, 2), (1.5, 2)]),\n",
       " (89, [(1.5, 2), (1.5, 2), (1.5, 2)]),\n",
       " (90, [(128.5, 129), (136.5, 214), (136.5, 214)]),\n",
       " (91, [(144.5, 288), (208.5, 209), (86.0, 171)]),\n",
       " (92, [(595.0, 697), (513.5, 514), (539.5, 720)]),\n",
       " (93, [(1.5, 2), (1.5, 2), (1.5, 2)]),\n",
       " (94, [(2.0, 3), (1.5, 2), (2.0, 3)]),\n",
       " (95, [(10.0, 12), (2.5, 4), (2.5, 4)]),\n",
       " (96, [(10.0, 14), (9.5, 14), (460.0, 493)]),\n",
       " (97, [(133.0, 265), (109.5, 218), (377.0, 401)]),\n",
       " (98, [(56.0, 111), (431.0, 437), (40.0, 79)]),\n",
       " (99, [(475.0, 475), (226.0, 226)]),\n",
       " (100, [(538.0, 538), (144.0, 144)]),\n",
       " (101, [(5.0, 5), (276.0, 276)]),\n",
       " (102, [(491.0, 491), (704.0, 704)]),\n",
       " (103, [(1.0, 1), (1.0, 1)]),\n",
       " (104, [(1.0, 1), (0.0, 0)]),\n",
       " (105, [(1.0, 1), (216.0, 216)]),\n",
       " (106, [(279.0, 279), (1.0, 1)]),\n",
       " (107, [(78.0, 78), (106.0, 106)]),\n",
       " (108, [(509.0, 509), (713.0, 713)]),\n",
       " (109, [(343.0, 343), (383.0, 383)]),\n",
       " (110, [(27.0, 27), (32.0, 32)]),\n",
       " (111, [(65.0, 65), (50.0, 50)]),\n",
       " (112, [(513.0, 513), (708.0, 708)]),\n",
       " (113, [(66.0, 66), (52.0, 52)]),\n",
       " (114, [(1.0, 1), (67.0, 67)]),\n",
       " (115, [(1.0, 1), (1.0, 1)]),\n",
       " (116, [(234.0, 234), (165.0, 165)]),\n",
       " (117, [(314.0, 314), (61.0, 61)]),\n",
       " (118, [(1.0, 1), (1.0, 1)]),\n",
       " (119, [(3.0, 3), (4.0, 4)]),\n",
       " (120, [(1.0, 1), (1.0, 1)]),\n",
       " (121, [(405.0, 405), (211.0, 211)]),\n",
       " (122, [(180.0, 180), (438.0, 438)]),\n",
       " (123, [(466.0, 466), (325.0, 325)]),\n",
       " (124, [(144.0, 144), (117.0, 117)]),\n",
       " (125, [(569.0, 569), (263.0, 263)]),\n",
       " (126, [(431.0, 431), (123.0, 123)]),\n",
       " (127, [(287.0, 287), (385.0, 385)]),\n",
       " (128, [(3.0, 3), (309.0, 309)]),\n",
       " (129, [(257.0, 257), (211.0, 211)]),\n",
       " (130, [(33.0, 33), (29.0, 29)]),\n",
       " (131, [(290.0, 290), (258.0, 258)]),\n",
       " (132, [(70.0, 70), (66.0, 66)]),\n",
       " (133, [(439.0, 439), (7.0, 7)]),\n",
       " (134, [(89.0, 89), (343.0, 343)]),\n",
       " (135, [(9.0, 9), (9.0, 9)]),\n",
       " (136, [(169.0, 169), (140.0, 140)]),\n",
       " (137, [(3.0, 3), (7.0, 7)]),\n",
       " (138, [(1.0, 1), (1.0, 1)]),\n",
       " (139, [(1.0, 1), (1.0, 1)]),\n",
       " (140, [(438.0, 438), (435.0, 435)]),\n",
       " (141, [(644.0, 644), (608.0, 608)]),\n",
       " (142, [(112.0, 112), (112.0, 112)]),\n",
       " (143, [(199.0, 199), (9.0, 9)]),\n",
       " (144, [(657.0, 657), (717.0, 717)]),\n",
       " (145, [(217.0, 217), (11.0, 11)]),\n",
       " (146, [(1.0, 1), (1.0, 1)]),\n",
       " (147, [(20.0, 20), (30.0, 30)]),\n",
       " (148, [(1.0, 1), (1.0, 1)]),\n",
       " (149, [(1.0, 1), (1.0, 1)]),\n",
       " (150, [(7.0, 7), (157.0, 157)]),\n",
       " (151, [(304.0, 304), (335.0, 335)]),\n",
       " (152, [(46.0, 46), (1.0, 1)]),\n",
       " (153, [(1.0, 1), (0.0, 0)]),\n",
       " (154, [(62.0, 62), (54.0, 54)]),\n",
       " (155, [(61.0, 61), (297.0, 297)]),\n",
       " (156, [(560.0, 560), (147.0, 147)]),\n",
       " (157, [(477.0, 477), (4.0, 4)]),\n",
       " (158, [(2.0, 2), (3.0, 3)]),\n",
       " (159, [(2.0, 2), (1.0, 1)]),\n",
       " (160, [(65.0, 65), (263.0, 263)]),\n",
       " (161, [(27.0, 27), (320.0, 320)]),\n",
       " (162, [(442.0, 442), (23.0, 23)]),\n",
       " (163, [(68.0, 68), (71.0, 71)]),\n",
       " (164, [(66.0, 66), (264.0, 264)]),\n",
       " (165, [(736.0, 736), (654.0, 654)]),\n",
       " (166, [(67.0, 67), (265.0, 265)]),\n",
       " (167, [(1.0, 1), (1.0, 1)]),\n",
       " (168, [(1.0, 1), (1.0, 1)]),\n",
       " (169, [(22.0, 22), (9.0, 9)]),\n",
       " (170, [(1.0, 1), (1.0, 1)]),\n",
       " (171, [(723.0, 723), (669.0, 669)]),\n",
       " (172, [(6.0, 6), (2.0, 2)]),\n",
       " (173, [(724.0, 724), (668.0, 668)]),\n",
       " (174, [(484.0, 484), (459.0, 459)]),\n",
       " (175, [(55.0, 55), (311.0, 311)]),\n",
       " (176, [(409.0, 409), (92.0, 92)]),\n",
       " (177, [(662.0, 662), (663.0, 663)]),\n",
       " (178, [(7.0, 7), (3.0, 3)]),\n",
       " (179, [(2.0, 2), (2.0, 2)]),\n",
       " (180, [(1.0, 1), (10.0, 10)]),\n",
       " (181, [(1.0, 1), (0.0, 0)]),\n",
       " (182, [(142.0, 142), (499.0, 499)]),\n",
       " (183, [(1.0, 1), (1.0, 1)]),\n",
       " (184, [(683.0, 683), (742.0, 742)]),\n",
       " (185, [(1.0, 1), (1.0, 1)]),\n",
       " (186, [(1.0, 1), (3.0, 3)]),\n",
       " (187, [(2.0, 2), (1.0, 1)]),\n",
       " (188, [(3.0, 3), (4.0, 4)]),\n",
       " (189, [(686.0, 686), (683.0, 683)]),\n",
       " (190, [(456.0, 456), (496.0, 496)]),\n",
       " (191, [(13.0, 13), (1.0, 1)]),\n",
       " (192, [(65.0, 65), (1.0, 1)]),\n",
       " (193, [(102.0, 102), (232.0, 232)]),\n",
       " (194, [(1.0, 1), (1.0, 1)]),\n",
       " (195, [(1.0, 1), (1.0, 1)]),\n",
       " (196, [(179.0, 179), (183.0, 183)]),\n",
       " (197, [(1.0, 1), (387.0, 387)]),\n",
       " (198, [(279.0, 279), (11.0, 11)]),\n",
       " (199, [(102.0, 102), (475.0, 475)]),\n",
       " (200, [(1.0, 1), (1.0, 1)]),\n",
       " (201, [(484.0, 484), (10.0, 10)]),\n",
       " (202, [(1.0, 1), (1.0, 1)]),\n",
       " (203, [(108.0, 108), (457.0, 457)]),\n",
       " (204, [(1.0, 1), (0.0, 0)]),\n",
       " (205, [(14.0, 14), (27.0, 27)]),\n",
       " (206, [(1.0, 1), (1.0, 1)]),\n",
       " (207, [(1.0, 1), (1.0, 1)]),\n",
       " (208, [(1.0, 1), (1.0, 1)]),\n",
       " (209, [(1.0, 1), (1.0, 1)]),\n",
       " (210, [(733.0, 733), (746.0, 746)]),\n",
       " (211, [(1.0, 1), (5.0, 5)]),\n",
       " (212, [(9.0, 9), (3.0, 3)]),\n",
       " (213, [(7.0, 7), (1.0, 1)]),\n",
       " (214, [(1.0, 1), (2.0, 2)]),\n",
       " (215, [(13.0, 13), (4.0, 4)]),\n",
       " (216, [(546.0, 546), (1.0, 1)]),\n",
       " (217, [(57.0, 57), (498.0, 498)]),\n",
       " (218, [(2.0, 2), (30.0, 30)]),\n",
       " (219, [(522.0, 522), (565.0, 565)]),\n",
       " (220, [(5.0, 5), (2.0, 2)]),\n",
       " (221, [(39.0, 39), (513.0, 513)]),\n",
       " (222, [(8.0, 8), (49.0, 49)])]"
      ]
     },
     "execution_count": 36,
     "metadata": {},
     "output_type": "execute_result"
    }
   ],
   "source": [
    "list(enumerate(scores_no_coff))"
   ]
  },
  {
   "cell_type": "code",
   "execution_count": 32,
   "metadata": {
    "collapsed": false
   },
   "outputs": [],
   "source": [
    "scores_coff = []\n",
    "for group in groups:\n",
    "    scores_coff.append(group_score(group, edit_dist_coff))"
   ]
  },
  {
   "cell_type": "code",
   "execution_count": 67,
   "metadata": {
    "collapsed": false
   },
   "outputs": [
    {
     "data": {
      "text/plain": [
       "(1.582178, 1.5107409)"
      ]
     },
     "execution_count": 67,
     "metadata": {},
     "output_type": "execute_result"
    }
   ],
   "source": [
    "st = compressed_corpus[groups[70][0]].words\n",
    "distance_calculator.compressed_words_dist(st[2], st[3]), distance_calculator.compressed_words_dist(st[3], st[4])"
   ]
  },
  {
   "cell_type": "code",
   "execution_count": 70,
   "metadata": {
    "collapsed": false
   },
   "outputs": [
    {
     "data": {
      "text/plain": [
       "[(403, 0.0),\n",
       " (648, 3.3931815028190613),\n",
       " (660, 3.3931815028190613),\n",
       " (440, 3.4005177021026611),\n",
       " (455, 4.033565491437912),\n",
       " (454, 4.0385113656520844),\n",
       " (441, 4.4005177021026611),\n",
       " (456, 5.033565491437912),\n",
       " (397, 7.917635440826416),\n",
       " (649, 8.565386950969696)]"
      ]
     },
     "execution_count": 70,
     "metadata": {},
     "output_type": "execute_result"
    }
   ],
   "source": [
    "xxx  = sorted(enumerate(edit_dist_coff[groups[70][0]]), key=lambda x:x[1])\n",
    "xxx[:10]"
   ]
  },
  {
   "cell_type": "code",
   "execution_count": 93,
   "metadata": {
    "collapsed": false
   },
   "outputs": [
    {
     "data": {
      "text/plain": [
       "['base::linearhistogram::factoryget',\n",
       " 'getprocesspriorityboost',\n",
       " 'mozilla::bootstrapimpl::xre_initchildprocess',\n",
       " 'base::histogram::sampleset::accumulate',\n",
       " 'k32getmoduleinformationstub',\n",
       " 'sdp_set_owner_sessionid',\n",
       " 'uhash_close_55',\n",
       " 'cmpegvideoprop::videodialogproc',\n",
       " 'libcertcheckcertificatehygiene',\n",
       " 'filebearsmarkoftheweb']"
      ]
     },
     "execution_count": 93,
     "metadata": {},
     "output_type": "execute_result"
    }
   ],
   "source": [
    "sim = model.wv.most_similar(compressed_corpus[403].words[-5])\n",
    "[pos2vocab[int(i[0])] for i in sim]"
   ]
  },
  {
   "cell_type": "code",
   "execution_count": 1,
   "metadata": {
    "collapsed": false
   },
   "outputs": [
    {
     "ename": "NameError",
     "evalue": "name 'compressed_corpus' is not defined",
     "output_type": "error",
     "traceback": [
      "\u001b[0;31m---------------------------------------------------------------------------\u001b[0m",
      "\u001b[0;31mNameError\u001b[0m                                 Traceback (most recent call last)",
      "\u001b[0;32m<ipython-input-1-bb70b6303a42>\u001b[0m in \u001b[0;36m<module>\u001b[0;34m()\u001b[0m\n\u001b[0;32m----> 1\u001b[0;31m \u001b[0mcompressed_corpus\u001b[0m\u001b[0;34m[\u001b[0m\u001b[0;36m403\u001b[0m\u001b[0;34m]\u001b[0m\u001b[0;34m.\u001b[0m\u001b[0mwords\u001b[0m\u001b[0;34m[\u001b[0m\u001b[0;34m-\u001b[0m\u001b[0;36m5\u001b[0m\u001b[0;34m]\u001b[0m\u001b[0;34m\u001b[0m\u001b[0m\n\u001b[0m",
      "\u001b[0;31mNameError\u001b[0m: name 'compressed_corpus' is not defined"
     ]
    }
   ],
   "source": [
    "compressed_corpus[403].words[-5]"
   ]
  },
  {
   "cell_type": "code",
   "execution_count": 82,
   "metadata": {
    "collapsed": false
   },
   "outputs": [
    {
     "data": {
      "text/plain": [
       "'mozilla::d3d9dxva2manager::init'"
      ]
     },
     "execution_count": 82,
     "metadata": {},
     "output_type": "execute_result"
    }
   ],
   "source": [
    "pos2vocab[2726]"
   ]
  },
  {
   "cell_type": "code",
   "execution_count": 78,
   "metadata": {
    "collapsed": false
   },
   "outputs": [
    {
     "data": {
      "text/plain": [
       "(7.917635440826416, 6.0)"
      ]
     },
     "execution_count": 78,
     "metadata": {},
     "output_type": "execute_result"
    }
   ],
   "source": [
    "st1 = corpus[397]\n",
    "st2 = st1\n",
    "st2[0] = \n",
    "edit_dist_coff[397, 403], edit_dist_no_coff[397, 403]"
   ]
  },
  {
   "cell_type": "code",
   "execution_count": 74,
   "metadata": {
    "collapsed": false
   },
   "outputs": [
    {
     "data": {
      "text/plain": [
       "['mozilla::a11y::docaccessibleparent::recvmsaaid',\n",
       " 'mozilla::a11y::pdocaccessibleparent::onmessagereceived',\n",
       " 'mozilla::dom::pcontentparent::onmessagereceived',\n",
       " 'mozilla::ipc::messagechannel::dispatchasyncmessage',\n",
       " 'mozilla::ipc::messagechannel::dispatchmessagew',\n",
       " 'mozilla::ipc::messagechannel::onmaybedequeueone',\n",
       " 'mozilla::detail::runnablemethodimpl<t>::run',\n",
       " 'mozilla::ipc::messagechannel::dequeuetask::run',\n",
       " 'nsthread::processnextevent',\n",
       " 'mozilla::ipc::messagepump::run',\n",
       " 'messageloop::runhandler',\n",
       " 'messageloop::run',\n",
       " 'nsbaseappshell::run',\n",
       " 'nsappshell::run',\n",
       " 'nsappstartup::run',\n",
       " 'xremain::xre_mainrun',\n",
       " 'xremain::xre_main',\n",
       " 'xre_main',\n",
       " 'do_main',\n",
       " 'wmain',\n",
       " '__scrt_common_main_seh',\n",
       " 'basethreadinitthunk',\n",
       " 'rtluserthreadstart']"
      ]
     },
     "execution_count": 74,
     "metadata": {},
     "output_type": "execute_result"
    }
   ],
   "source": [
    "corpus[397]"
   ]
  },
  {
   "cell_type": "code",
   "execution_count": 75,
   "metadata": {
    "collapsed": false
   },
   "outputs": [
    {
     "data": {
      "text/plain": [
       "['mozilla::ipc::fatalerror',\n",
       " 'mozilla::a11y::pdocaccessibleparent::onmessagereceived',\n",
       " 'mozilla::dom::pcontentparent::onmessagereceived',\n",
       " 'mozilla::ipc::messagechannel::dispatchasyncmessage',\n",
       " 'mozilla::ipc::messagechannel::dispatchmessagew',\n",
       " 'mozilla::ipc::messagechannel::runmessage',\n",
       " 'mozilla::ipc::messagechannel::messagetask::run',\n",
       " 'nsthread::processnextevent',\n",
       " 'mozilla::ipc::messagepump::run',\n",
       " 'messageloop::runhandler',\n",
       " 'messageloop::run',\n",
       " 'nsbaseappshell::run',\n",
       " 'nsappshell::run',\n",
       " 'nsappstartup::run',\n",
       " 'xremain::xre_mainrun',\n",
       " 'xremain::xre_main',\n",
       " 'mozilla::bootstrapimpl::xre_main',\n",
       " 'ns_internal_main',\n",
       " 'wmain',\n",
       " '__scrt_common_main_seh',\n",
       " 'basethreadinitthunk',\n",
       " 'rtluserthreadstart']"
      ]
     },
     "execution_count": 75,
     "metadata": {},
     "output_type": "execute_result"
    }
   ],
   "source": [
    "corpus[403]"
   ]
  },
  {
   "cell_type": "code",
   "execution_count": 37,
   "metadata": {
    "collapsed": false
   },
   "outputs": [
    {
     "data": {
      "text/plain": [
       "[(0,\n",
       "  [(184.19999999999999, 575),\n",
       "   (261.60000000000002, 543),\n",
       "   (212.0, 533),\n",
       "   (220.80000000000001, 561),\n",
       "   (185.0, 583),\n",
       "   (213.0, 540)]),\n",
       " (1,\n",
       "  [(7.5, 14),\n",
       "   (7.4285714285714288, 14),\n",
       "   (431.85714285714283, 471),\n",
       "   (411.5, 456),\n",
       "   (7.3571428571428568, 14),\n",
       "   (7.5, 14),\n",
       "   (7.2857142857142856, 14),\n",
       "   (7.2142857142857144, 14),\n",
       "   (7.1428571428571432, 14),\n",
       "   (7.0714285714285712, 14),\n",
       "   (7.4285714285714288, 14),\n",
       "   (7.0, 14),\n",
       "   (7.3571428571428568, 14),\n",
       "   (6.9285714285714288, 14),\n",
       "   (7.2857142857142856, 14)]),\n",
       " (2,\n",
       "  [(290.18181818181819, 597),\n",
       "   (136.0, 448),\n",
       "   (120.0, 472),\n",
       "   (161.81818181818181, 460),\n",
       "   (406.09090909090907, 714),\n",
       "   (155.81818181818181, 453),\n",
       "   (301.81818181818181, 622),\n",
       "   (378.54545454545456, 589),\n",
       "   (222.54545454545453, 484),\n",
       "   (345.09090909090907, 582),\n",
       "   (377.63636363636363, 626),\n",
       "   (230.90909090909091, 466)]),\n",
       " (3,\n",
       "  [(88.444444444444443, 445),\n",
       "   (50.888888888888886, 168),\n",
       "   (122.0, 505),\n",
       "   (84.222222222222229, 411),\n",
       "   (102.11111111111111, 446),\n",
       "   (99.111111111111114, 469),\n",
       "   (30.333333333333332, 168),\n",
       "   (102.0, 446),\n",
       "   (177.22222222222223, 528),\n",
       "   (211.55555555555554, 630)]),\n",
       " (4,\n",
       "  [(6.0, 11),\n",
       "   (6.0, 11),\n",
       "   (5.9090909090909092, 11),\n",
       "   (6.0, 11),\n",
       "   (5.8181818181818183, 11),\n",
       "   (5.7272727272727275, 11),\n",
       "   (5.6363636363636367, 11),\n",
       "   (6.0, 11),\n",
       "   (5.5454545454545459, 11),\n",
       "   (5.4545454545454541, 11),\n",
       "   (5.3636363636363633, 11),\n",
       "   (5.2727272727272725, 11)]),\n",
       " (5,\n",
       "  [(114.11111111111111, 564),\n",
       "   (26.555555555555557, 183),\n",
       "   (28.666666666666668, 165),\n",
       "   (343.55555555555554, 497),\n",
       "   (194.55555555555554, 695),\n",
       "   (53.888888888888886, 424),\n",
       "   (171.33333333333334, 566),\n",
       "   (47.666666666666664, 365),\n",
       "   (197.11111111111111, 703),\n",
       "   (49.444444444444443, 388)]),\n",
       " (6,\n",
       "  [(127.72727272727273, 542),\n",
       "   (230.36363636363637, 557),\n",
       "   (262.90909090909093, 658),\n",
       "   (427.18181818181819, 660),\n",
       "   (85.818181818181813, 367),\n",
       "   (265.54545454545456, 573),\n",
       "   (23.09090909090909, 93),\n",
       "   (409.45454545454544, 732),\n",
       "   (59.272727272727273, 327),\n",
       "   (129.36363636363637, 548),\n",
       "   (147.0, 320),\n",
       "   (218.09090909090909, 504)]),\n",
       " (7,\n",
       "  [(26.818181818181817, 127),\n",
       "   (26.727272727272727, 127),\n",
       "   (26.636363636363637, 127),\n",
       "   (26.545454545454547, 127),\n",
       "   (26.454545454545453, 127),\n",
       "   (26.363636363636363, 127),\n",
       "   (26.272727272727273, 127),\n",
       "   (414.45454545454544, 754),\n",
       "   (83.090909090909093, 753),\n",
       "   (83.0, 753),\n",
       "   (322.90909090909093, 754),\n",
       "   (140.09090909090909, 753)]),\n",
       " (8,\n",
       "  [(60.454545454545453, 325),\n",
       "   (68.818181818181813, 327),\n",
       "   (147.72727272727272, 478),\n",
       "   (41.090909090909093, 325),\n",
       "   (41.0, 325),\n",
       "   (98.272727272727266, 584),\n",
       "   (587.90909090909088, 679),\n",
       "   (615.0, 725),\n",
       "   (44.909090909090907, 314),\n",
       "   (40.909090909090907, 325),\n",
       "   (98.181818181818187, 584),\n",
       "   (44.81818181818182, 314)]),\n",
       " (9,\n",
       "  [(320.45454545454544, 595),\n",
       "   (77.181818181818187, 453),\n",
       "   (173.54545454545453, 603),\n",
       "   (84.818181818181813, 454),\n",
       "   (281.72727272727275, 460),\n",
       "   (487.63636363636363, 569),\n",
       "   (218.63636363636363, 602),\n",
       "   (189.81818181818181, 603),\n",
       "   (189.27272727272728, 603),\n",
       "   (184.90909090909091, 603),\n",
       "   (188.0, 603),\n",
       "   (189.45454545454547, 602)]),\n",
       " (10,\n",
       "  [(79.222222222222229, 160),\n",
       "   (79.111111111111114, 159),\n",
       "   (38.222222222222221, 93),\n",
       "   (78.333333333333329, 165),\n",
       "   (29.777777777777779, 70),\n",
       "   (10.666666666666666, 56),\n",
       "   (10.111111111111111, 53),\n",
       "   (10.333333333333334, 53),\n",
       "   (80.0, 161),\n",
       "   (136.33333333333334, 206)]),\n",
       " (11,\n",
       "  [(11.875, 32),\n",
       "   (64.125, 124),\n",
       "   (4.625, 9),\n",
       "   (4.625, 9),\n",
       "   (10.0, 26),\n",
       "   (4.625, 9),\n",
       "   (14.0, 34),\n",
       "   (8.875, 32),\n",
       "   (4.625, 9)]),\n",
       " (12,\n",
       "  [(5.0, 9),\n",
       "   (5.1111111111111107, 10),\n",
       "   (5.0, 9),\n",
       "   (5.0, 9),\n",
       "   (5.5555555555555554, 11),\n",
       "   (5.0, 9),\n",
       "   (5.0, 9),\n",
       "   (5.0, 9),\n",
       "   (5.0, 9),\n",
       "   (5.0, 9)]),\n",
       " (13,\n",
       "  [(20.0, 91),\n",
       "   (21.875, 92),\n",
       "   (26.25, 99),\n",
       "   (41.625, 98),\n",
       "   (34.5, 105),\n",
       "   (34.375, 105),\n",
       "   (31.625, 104),\n",
       "   (17.25, 88),\n",
       "   (62.5, 87)]),\n",
       " (14, [(2.0, 3), (1.6666666666666667, 3), (1.3333333333333333, 3), (1.0, 2)]),\n",
       " (15,\n",
       "  [(505.16666666666669, 710),\n",
       "   (222.66666666666666, 730),\n",
       "   (220.33333333333334, 729),\n",
       "   (246.66666666666666, 726),\n",
       "   (225.16666666666666, 730),\n",
       "   (283.0, 731),\n",
       "   (418.66666666666669, 734)]),\n",
       " (16,\n",
       "  [(506.16666666666669, 711),\n",
       "   (223.66666666666666, 731),\n",
       "   (221.33333333333334, 730),\n",
       "   (247.66666666666666, 727),\n",
       "   (226.16666666666666, 731),\n",
       "   (284.0, 732),\n",
       "   (419.66666666666669, 735)]),\n",
       " (17,\n",
       "  [(258.25, 376), (239.0, 364), (122.75, 377), (143.75, 381), (122.75, 340)]),\n",
       " (18,\n",
       "  [(313.83333333333331, 542),\n",
       "   (49.666666666666664, 162),\n",
       "   (86.0, 489),\n",
       "   (93.0, 490),\n",
       "   (93.833333333333329, 499),\n",
       "   (149.5, 506),\n",
       "   (94.5, 499)]),\n",
       " (19,\n",
       "  [(107.59999999999999, 292),\n",
       "   (664.39999999999998, 733),\n",
       "   (101.40000000000001, 263),\n",
       "   (58.799999999999997, 283),\n",
       "   (156.59999999999999, 290),\n",
       "   (58.600000000000001, 283)]),\n",
       " (20,\n",
       "  [(284.0, 558),\n",
       "   (441.83333333333331, 584),\n",
       "   (249.33333333333334, 586),\n",
       "   (279.33333333333331, 508),\n",
       "   (263.5, 611),\n",
       "   (339.0, 624),\n",
       "   (552.83333333333337, 710)]),\n",
       " (21, [(22.0, 45), (61.5, 210), (61.5, 217), (378.75, 422), (47.0, 158)]),\n",
       " (22,\n",
       "  [(39.833333333333336, 115),\n",
       "   (72.0, 158),\n",
       "   (73.166666666666671, 158),\n",
       "   (44.5, 147),\n",
       "   (43.666666666666664, 141),\n",
       "   (73.166666666666671, 158),\n",
       "   (73.0, 158)]),\n",
       " (23, [(323.5, 566), (546.75, 574), (106.5, 355), (168.5, 576), (313.0, 551)]),\n",
       " (24,\n",
       "  [(184.0, 737),\n",
       "   (486.33333333333331, 553),\n",
       "   (174.33333333333334, 733),\n",
       "   (186.66666666666666, 738),\n",
       "   (654.16666666666663, 741),\n",
       "   (157.5, 736),\n",
       "   (182.83333333333334, 737)]),\n",
       " (25,\n",
       "  [(285.60000000000002, 418),\n",
       "   (404.60000000000002, 585),\n",
       "   (559.0, 693),\n",
       "   (506.60000000000002, 720),\n",
       "   (404.39999999999998, 585),\n",
       "   (408.60000000000002, 575)]),\n",
       " (26,\n",
       "  [(32.600000000000001, 74),\n",
       "   (119.40000000000001, 186),\n",
       "   (33.0, 76),\n",
       "   (115.2, 197),\n",
       "   (116.40000000000001, 199),\n",
       "   (29.600000000000001, 68)]),\n",
       " (27,\n",
       "  [(33.600000000000001, 75),\n",
       "   (120.40000000000001, 187),\n",
       "   (34.0, 77),\n",
       "   (116.2, 198),\n",
       "   (117.40000000000001, 200),\n",
       "   (30.600000000000001, 69)]),\n",
       " (28,\n",
       "  [(309.19999999999999, 543),\n",
       "   (121.0, 469),\n",
       "   (365.60000000000002, 644),\n",
       "   (408.80000000000001, 739),\n",
       "   (397.80000000000001, 739),\n",
       "   (123.40000000000001, 492)]),\n",
       " (29,\n",
       "  [(3.0, 5),\n",
       "   (3.0, 5),\n",
       "   (346.60000000000002, 363),\n",
       "   (3.0, 5),\n",
       "   (3.0, 5),\n",
       "   (3.0, 5)]),\n",
       " (30,\n",
       "  [(5.0, 9),\n",
       "   (6.4000000000000004, 11),\n",
       "   (207.40000000000001, 376),\n",
       "   (5.0, 9),\n",
       "   (4.2000000000000002, 8),\n",
       "   (360.39999999999998, 476)]),\n",
       " (31,\n",
       "  [(110.8, 372),\n",
       "   (71.400000000000006, 333),\n",
       "   (20.0, 28),\n",
       "   (94.400000000000006, 349),\n",
       "   (95.0, 350),\n",
       "   (55.399999999999999, 258)]),\n",
       " (32,\n",
       "  [(111.25, 436), (88.0, 207), (146.75, 435), (193.5, 463), (214.25, 466)]),\n",
       " (33, [(19.25, 48), (17.75, 45), (44.75, 109), (69.75, 107), (43.5, 86)]),\n",
       " (34, [(324.25, 673), (124.0, 282), (230.0, 500), (96.5, 315), (225.25, 559)]),\n",
       " (35,\n",
       "  [(364.75, 600), (268.25, 609), (202.75, 608), (339.75, 443), (209.0, 606)]),\n",
       " (36, [(184.5, 732), (177.0, 702), (184.5, 732), (184.5, 732), (541.75, 555)]),\n",
       " (37,\n",
       "  [(490.0, 635), (283.5, 560), (283.25, 560), (578.25, 710), (423.75, 652)]),\n",
       " (38, [(3.0, 6), (2.5, 4), (2.5, 4), (2.5, 4), (2.5, 4)]),\n",
       " (39, [(1.5, 2), (1.5, 2), (1.5, 2)]),\n",
       " (40,\n",
       "  [(251.33333333333334, 377),\n",
       "   (251.0, 377),\n",
       "   (25.0, 37),\n",
       "   (17.666666666666668, 26)]),\n",
       " (41, [(269.33333333333331, 432), (26.0, 39), (8.0, 12), (269.0, 432)]),\n",
       " (42,\n",
       "  [(130.33333333333334, 388),\n",
       "   (185.33333333333334, 527),\n",
       "   (147.66666666666666, 410),\n",
       "   (49.333333333333336, 132)]),\n",
       " (43,\n",
       "  [(292.33333333333331, 437),\n",
       "   (34.666666666666664, 94),\n",
       "   (9.3333333333333339, 14),\n",
       "   (65.0, 139)]),\n",
       " (44,\n",
       "  [(219.0, 529),\n",
       "   (88.0, 103),\n",
       "   (222.66666666666666, 539),\n",
       "   (209.33333333333334, 534)]),\n",
       " (45, [(342.0, 342), (202.0, 202)]),\n",
       " (46,\n",
       "  [(20.333333333333332, 43),\n",
       "   (20.0, 43),\n",
       "   (13.333333333333334, 20),\n",
       "   (27.0, 38)]),\n",
       " (47,\n",
       "  [(357.33333333333331, 543),\n",
       "   (349.33333333333331, 542),\n",
       "   (8.0, 12),\n",
       "   (104.0, 241)]),\n",
       " (48, [(2.0, 3), (2.0, 3), (2.0, 3), (2.0, 3)]),\n",
       " (49,\n",
       "  [(275.66666666666669, 504),\n",
       "   (382.66666666666669, 559),\n",
       "   (342.33333333333331, 604),\n",
       "   (291.66666666666669, 458)]),\n",
       " (50, [(2.0, 3), (2.0, 3), (2.0, 3), (1.6666666666666667, 3)]),\n",
       " (51,\n",
       "  [(332.0, 610),\n",
       "   (330.66666666666669, 600),\n",
       "   (284.66666666666669, 586),\n",
       "   (337.66666666666669, 385)]),\n",
       " (52,\n",
       "  [(382.33333333333331, 459),\n",
       "   (107.66666666666667, 262),\n",
       "   (309.66666666666669, 434),\n",
       "   (101.33333333333333, 161)]),\n",
       " (53, [(253.33333333333334, 379), (253.0, 379), (27.0, 40), (20.0, 29)]),\n",
       " (54, [(2.0, 3), (2.0, 3), (96.666666666666671, 130), (2.0, 3)]),\n",
       " (55, [(194.0, 574), (195.0, 576), (582.66666666666663, 586), (195.0, 574)]),\n",
       " (56, [(276.0, 542), (56.0, 111), (250.5, 498)]),\n",
       " (57, [(27.0, 29), (124.5, 149), (28.5, 56)]),\n",
       " (58, [(61.0, 121), (15.5, 30), (520.0, 528)]),\n",
       " (59, [(20.0, 39), (438.5, 468), (20.0, 39)]),\n",
       " (60, [(467.0, 467), (187.0, 187)]),\n",
       " (61, [(432.5, 446), (40.5, 80), (41.0, 81)]),\n",
       " (62, [(218.5, 376), (519.5, 522), (494.0, 553)]),\n",
       " (63, [(345.0, 689), (416.5, 484), (333.0, 665)]),\n",
       " (64, [(213.5, 270), (13.5, 26), (24.5, 48)]),\n",
       " (65, [(310.0, 515), (583.0, 621), (323.0, 431)]),\n",
       " (66, [(369.5, 738), (130.0, 147), (369.0, 737)]),\n",
       " (67, [(395.0, 398), (367.0, 732), (367.0, 732)]),\n",
       " (68, [(268.5, 532), (598.0, 600), (270.5, 534)]),\n",
       " (69, [(449.5, 486), (295.0, 585), (296.5, 587)]),\n",
       " (70, [(445.0, 445), (40.0, 40)]),\n",
       " (71, [(1.0, 1), (0.0, 0)]),\n",
       " (72, [(73.5, 75), (9.5, 18), (11.5, 22)]),\n",
       " (73, [(71.0, 71), (38.0, 38)]),\n",
       " (74, [(468.0, 468), (188.0, 188)]),\n",
       " (75, [(555.0, 555), (336.0, 336)]),\n",
       " (76, [(164.0, 326), (165.0, 328), (6.5, 7)]),\n",
       " (77, [(81.5, 96), (10.5, 12), (391.5, 395)]),\n",
       " (78, [(12.0, 12), (20.0, 20)]),\n",
       " (79, [(101.5, 135), (28.0, 55), (19.5, 38)]),\n",
       " (80, [(59.5, 118), (50.0, 99), (327.5, 339)]),\n",
       " (81, [(489.0, 694), (454.5, 714), (390.0, 414)]),\n",
       " (82, [(411.0, 500), (155.0, 165), (139.0, 263)]),\n",
       " (83, [(5.0, 6), (5.5, 6), (6.5, 8)]),\n",
       " (84, [(397.5, 403), (153.5, 306), (158.0, 315)]),\n",
       " (85, [(116.5, 232), (96.0, 191), (211.0, 232)]),\n",
       " (86, [(3.0, 5), (1.5, 2), (2.5, 5)]),\n",
       " (87, [(1.5, 2), (22.0, 43), (22.0, 43)]),\n",
       " (88, [(1.5, 2), (1.5, 2), (1.5, 2)]),\n",
       " (89, [(1.5, 2), (1.5, 2), (1.5, 2)]),\n",
       " (90, [(108.5, 111), (138.5, 208), (138.0, 208)]),\n",
       " (91, [(143.5, 286), (304.5, 308), (140.0, 279)]),\n",
       " (92, [(530.5, 568), (290.0, 463), (377.0, 635)]),\n",
       " (93, [(1.5, 2), (1.5, 2), (1.5, 2)]),\n",
       " (94, [(1.5, 2), (1.5, 2), (1.5, 2)]),\n",
       " (95, [(4.5, 5), (2.5, 4), (2.5, 4)]),\n",
       " (96, [(9.0, 10), (7.5, 10), (394.0, 472)]),\n",
       " (97, [(12.5, 24), (19.5, 38), (326.0, 371)]),\n",
       " (98, [(137.0, 273), (431.0, 436), (113.0, 225)]),\n",
       " (99, [(482.0, 482), (136.0, 136)]),\n",
       " (100, [(570.0, 570), (272.0, 272)]),\n",
       " (101, [(5.0, 5), (239.0, 239)]),\n",
       " (102, [(25.0, 25), (573.0, 573)]),\n",
       " (103, [(1.0, 1), (1.0, 1)]),\n",
       " (104, [(1.0, 1), (0.0, 0)]),\n",
       " (105, [(1.0, 1), (204.0, 204)]),\n",
       " (106, [(302.0, 302), (1.0, 1)]),\n",
       " (107, [(24.0, 24), (89.0, 89)]),\n",
       " (108, [(649.0, 649), (700.0, 700)]),\n",
       " (109, [(155.0, 155), (382.0, 382)]),\n",
       " (110, [(11.0, 11), (33.0, 33)]),\n",
       " (111, [(58.0, 58), (21.0, 21)]),\n",
       " (112, [(362.0, 362), (395.0, 395)]),\n",
       " (113, [(34.0, 34), (16.0, 16)]),\n",
       " (114, [(1.0, 1), (16.0, 16)]),\n",
       " (115, [(1.0, 1), (1.0, 1)]),\n",
       " (116, [(219.0, 219), (48.0, 48)]),\n",
       " (117, [(203.0, 203), (15.0, 15)]),\n",
       " (118, [(1.0, 1), (1.0, 1)]),\n",
       " (119, [(1.0, 1), (1.0, 1)]),\n",
       " (120, [(1.0, 1), (1.0, 1)]),\n",
       " (121, [(421.0, 421), (248.0, 248)]),\n",
       " (122, [(148.0, 148), (446.0, 446)]),\n",
       " (123, [(466.0, 466), (238.0, 238)]),\n",
       " (124, [(134.0, 134), (129.0, 129)]),\n",
       " (125, [(580.0, 580), (231.0, 231)]),\n",
       " (126, [(368.0, 368), (72.0, 72)]),\n",
       " (127, [(91.0, 91), (378.0, 378)]),\n",
       " (128, [(3.0, 3), (310.0, 310)]),\n",
       " (129, [(250.0, 250), (189.0, 189)]),\n",
       " (130, [(33.0, 33), (12.0, 12)]),\n",
       " (131, [(283.0, 283), (59.0, 59)]),\n",
       " (132, [(70.0, 70), (21.0, 21)]),\n",
       " (133, [(453.0, 453), (217.0, 217)]),\n",
       " (134, [(287.0, 287), (364.0, 364)]),\n",
       " (135, [(6.0, 6), (9.0, 9)]),\n",
       " (136, [(169.0, 169), (40.0, 40)]),\n",
       " (137, [(3.0, 3), (2.0, 2)]),\n",
       " (138, [(1.0, 1), (1.0, 1)]),\n",
       " (139, [(1.0, 1), (2.0, 2)]),\n",
       " (140, [(437.0, 437), (286.0, 286)]),\n",
       " (141, [(575.0, 575), (668.0, 668)]),\n",
       " (142, [(83.0, 83), (86.0, 86)]),\n",
       " (143, [(205.0, 205), (25.0, 25)]),\n",
       " (144, [(248.0, 248), (657.0, 657)]),\n",
       " (145, [(226.0, 226), (88.0, 88)]),\n",
       " (146, [(1.0, 1), (1.0, 1)]),\n",
       " (147, [(18.0, 18), (29.0, 29)]),\n",
       " (148, [(1.0, 1), (1.0, 1)]),\n",
       " (149, [(1.0, 1), (1.0, 1)]),\n",
       " (150, [(1.0, 1), (122.0, 122)]),\n",
       " (151, [(61.0, 61), (332.0, 332)]),\n",
       " (152, [(48.0, 48), (1.0, 1)]),\n",
       " (153, [(1.0, 1), (0.0, 0)]),\n",
       " (154, [(58.0, 58), (52.0, 52)]),\n",
       " (155, [(47.0, 47), (159.0, 159)]),\n",
       " (156, [(552.0, 552), (344.0, 344)]),\n",
       " (157, [(504.0, 504), (15.0, 15)]),\n",
       " (158, [(1.0, 1), (1.0, 1)]),\n",
       " (159, [(2.0, 2), (1.0, 1)]),\n",
       " (160, [(87.0, 87), (228.0, 228)]),\n",
       " (161, [(95.0, 95), (266.0, 266)]),\n",
       " (162, [(459.0, 459), (174.0, 174)]),\n",
       " (163, [(26.0, 26), (64.0, 64)]),\n",
       " (164, [(88.0, 88), (229.0, 229)]),\n",
       " (165, [(706.0, 706), (410.0, 410)]),\n",
       " (166, [(89.0, 89), (230.0, 230)]),\n",
       " (167, [(1.0, 1), (1.0, 1)]),\n",
       " (168, [(1.0, 1), (1.0, 1)]),\n",
       " (169, [(18.0, 18), (9.0, 9)]),\n",
       " (170, [(1.0, 1), (1.0, 1)]),\n",
       " (171, [(613.0, 613), (96.0, 96)]),\n",
       " (172, [(7.0, 7), (2.0, 2)]),\n",
       " (173, [(724.0, 724), (64.0, 64)]),\n",
       " (174, [(486.0, 486), (453.0, 453)]),\n",
       " (175, [(177.0, 177), (303.0, 303)]),\n",
       " (176, [(388.0, 388), (67.0, 67)]),\n",
       " (177, [(655.0, 655), (513.0, 513)]),\n",
       " (178, [(8.0, 8), (3.0, 3)]),\n",
       " (179, [(1.0, 1), (2.0, 2)]),\n",
       " (180, [(3.0, 3), (31.0, 31)]),\n",
       " (181, [(1.0, 1), (0.0, 0)]),\n",
       " (182, [(352.0, 352), (545.0, 545)]),\n",
       " (183, [(1.0, 1), (1.0, 1)]),\n",
       " (184, [(225.0, 225), (597.0, 597)]),\n",
       " (185, [(1.0, 1), (1.0, 1)]),\n",
       " (186, [(1.0, 1), (1.0, 1)]),\n",
       " (187, [(1.0, 1), (1.0, 1)]),\n",
       " (188, [(5.0, 5), (72.0, 72)]),\n",
       " (189, [(57.0, 57), (42.0, 42)]),\n",
       " (190, [(451.0, 451), (171.0, 171)]),\n",
       " (191, [(1.0, 1), (1.0, 1)]),\n",
       " (192, [(331.0, 331), (296.0, 296)]),\n",
       " (193, [(498.0, 498), (724.0, 724)]),\n",
       " (194, [(1.0, 1), (1.0, 1)]),\n",
       " (195, [(1.0, 1), (1.0, 1)]),\n",
       " (196, [(19.0, 19), (183.0, 183)]),\n",
       " (197, [(1.0, 1), (349.0, 349)]),\n",
       " (198, [(135.0, 135), (15.0, 15)]),\n",
       " (199, [(96.0, 96), (417.0, 417)]),\n",
       " (200, [(1.0, 1), (1.0, 1)]),\n",
       " (201, [(516.0, 516), (33.0, 33)]),\n",
       " (202, [(1.0, 1), (1.0, 1)]),\n",
       " (203, [(124.0, 124), (468.0, 468)]),\n",
       " (204, [(1.0, 1), (0.0, 0)]),\n",
       " (205, [(13.0, 13), (7.0, 7)]),\n",
       " (206, [(1.0, 1), (1.0, 1)]),\n",
       " (207, [(1.0, 1), (1.0, 1)]),\n",
       " (208, [(1.0, 1), (1.0, 1)]),\n",
       " (209, [(1.0, 1), (1.0, 1)]),\n",
       " (210, [(115.0, 115), (610.0, 610)]),\n",
       " (211, [(3.0, 3), (41.0, 41)]),\n",
       " (212, [(411.0, 411), (316.0, 316)]),\n",
       " (213, [(2.0, 2), (1.0, 1)]),\n",
       " (214, [(1.0, 1), (2.0, 2)]),\n",
       " (215, [(25.0, 25), (2.0, 2)]),\n",
       " (216, [(520.0, 520), (2.0, 2)]),\n",
       " (217, [(234.0, 234), (527.0, 527)]),\n",
       " (218, [(2.0, 2), (14.0, 14)]),\n",
       " (219, [(527.0, 527), (558.0, 558)]),\n",
       " (220, [(2.0, 2), (1.0, 1)]),\n",
       " (221, [(2.0, 2), (328.0, 328)]),\n",
       " (222, [(8.0, 8), (24.0, 24)])]"
      ]
     },
     "execution_count": 37,
     "metadata": {},
     "output_type": "execute_result"
    }
   ],
   "source": [
    "list(enumerate(scores_coff))"
   ]
  },
  {
   "cell_type": "code",
   "execution_count": 47,
   "metadata": {
    "collapsed": false
   },
   "outputs": [
    {
     "data": {
      "text/plain": [
       "31.0"
      ]
     },
     "execution_count": 47,
     "metadata": {},
     "output_type": "execute_result"
    }
   ],
   "source": [
    "edit_dist_no_coff[groups[5][5], groups[5][0]]"
   ]
  },
  {
   "cell_type": "code",
   "execution_count": 57,
   "metadata": {
    "collapsed": false
   },
   "outputs": [
    {
     "data": {
      "text/plain": [
       "array([  0.,  31.,  31.,  36.,  28.,  31.,  28.,  31.,  28.,  31.])"
      ]
     },
     "execution_count": 57,
     "metadata": {},
     "output_type": "execute_result"
    }
   ],
   "source": [
    "group_dist(groups[5], edit_dist_no_coff)[0]"
   ]
  },
  {
   "cell_type": "code",
   "execution_count": 58,
   "metadata": {
    "collapsed": false
   },
   "outputs": [
    {
     "data": {
      "text/plain": [
       "array([  0.        ,  33.37286228,  38.71433285,  47.27805412,\n",
       "        36.20078218,  34.66117102,  34.56650436,  33.59761113,\n",
       "        35.85789943,  30.71762544])"
      ]
     },
     "execution_count": 58,
     "metadata": {},
     "output_type": "execute_result"
    }
   ],
   "source": [
    "group_dist(groups[5], edit_dist_coff)[0]"
   ]
  },
  {
   "cell_type": "code",
   "execution_count": 51,
   "metadata": {
    "collapsed": false
   },
   "outputs": [
    {
     "data": {
      "text/plain": [
       "array([ 52.70696092,  41.17193735,  41.65851724,  41.97689366,\n",
       "        52.10872817,  35.32200879,  48.19659567,  48.19659567,\n",
       "        41.31118453,  42.24538065,  48.19659567,  48.3113544 ,\n",
       "        48.19659567,  48.19659567,  48.19659567,  48.19659567,\n",
       "        48.3113544 ,  48.19659567,  48.3113544 ,  48.19659567,\n",
       "        48.3113544 ,  34.66117102,  45.18863028,  28.52014011,\n",
       "        31.81839079,  17.78045142,  34.99709117,  20.45093381,\n",
       "        42.14386785,  46.95585424,  43.17442429,  41.12287574,\n",
       "        47.14800915,  41.86997581,  47.52182174,  41.70254409,\n",
       "        42.82147229,  41.97952855,  41.96060604,  46.83314916,\n",
       "        41.97952855,  40.62980103,  41.91887951,  43.07189885,\n",
       "        43.7237896 ,  43.7237896 ,  42.99223596,  43.7237896 ,\n",
       "        43.7237896 ,  43.7237896 ,  43.15226692,  43.7237896 ,\n",
       "        43.7237896 ,  43.7237896 ,  43.7237896 ,  34.66117102,\n",
       "        22.70004776,  34.7504425 ,  48.27107418,  18.69962126,\n",
       "         0.        ,  20.45093381,  11.40219256,  16.74078077,\n",
       "        21.22147369,  49.58424644,  42.51614463,  41.04555827,\n",
       "        41.17193735,  49.27855968,  42.64731777,  39.1529319 ,\n",
       "        41.10259771,  48.76847461,  48.03905308,  49.50165753,\n",
       "        44.24586082,  80.        ,  80.        ,  80.        ,\n",
       "        80.        ,  80.        ,  80.        ,  80.        ,\n",
       "        45.00048104,  80.        ,  80.        ,  41.97567213,\n",
       "        80.        ,  49.79259636,  50.21336798,  44.2519784 ,\n",
       "        49.79259636,  49.79259636,  37.66404775,  43.86504865,\n",
       "        40.78966546,  50.52634697,  49.79259636,  37.66404775,\n",
       "        50.52634697,  34.66117102,  43.77920783,  45.42989916,\n",
       "        47.23150091,  49.95704861,  44.25944316,  45.57971978,\n",
       "        45.42937994,  45.41916859,  45.25553167,  45.34848988,\n",
       "        45.3485992 ,  42.55587637,  42.52862883,  44.01611662,\n",
       "        42.95853674,  44.35761738,  44.90573584,  44.0419457 ,\n",
       "        44.04862785,  42.50677466,  41.38058412,  49.25585469,\n",
       "        46.15040834,  52.30555227,  52.33254363,  48.98426618,\n",
       "        51.52148321,  48.50524522,  50.48566457,  51.44171932,\n",
       "        50.61883995,  50.696033  ,  50.31697878,  52.22294641,\n",
       "        51.82054615,  52.5271568 ,  49.34325913,  50.57324904,\n",
       "        50.44064242,  49.73156118,  42.46499145,  42.52941012,\n",
       "        42.08007956,  41.83497119,  41.6863271 ,  41.6863271 ,\n",
       "        41.73884082,  42.42440569,  43.5801239 ,  43.55671875,\n",
       "        42.7666104 ,  42.7666104 ,  42.7666104 ,  42.7666104 ,\n",
       "        59.0163722 ,  51.1845451 ,  52.17316377,  53.40040934,\n",
       "        50.70330065,  56.22709155,  45.58641469,  59.0163722 ,\n",
       "        51.1845451 ,  52.17316377,  53.40040934,  50.70330065,\n",
       "        56.22709155,  45.58641469,  41.27207804,  50.00364363,\n",
       "        45.83534145,  44.75226152,  46.23653471,  41.81533347,\n",
       "        52.19172728,  43.47817104,  44.54628684,  42.94898288,\n",
       "        46.25889678,  42.99332885,  55.11769414,  45.37568867,\n",
       "        55.98824669,  54.44781828,  58.3876611 ,  54.44781828,\n",
       "        54.37456357,  46.44464332,  57.29661271,  56.67939341,\n",
       "        57.6227605 ,  55.74400923,  42.80719095,  50.5208447 ,\n",
       "        50.99393123,  51.39912838,  43.92283356,  50.74730408,\n",
       "        44.01584578,  40.        ,  40.        ,  43.68387473,\n",
       "        43.48117602,  40.        ,  40.        ,  50.60642564,\n",
       "        56.28348428,  60.49018252,  57.18590486,  53.85439777,\n",
       "        57.5691157 ,  68.79507482,  56.45199309,  56.6131328 ,\n",
       "        47.01538742,  55.97804657,  57.01239525,  56.19611761,\n",
       "        54.92171282,  43.45446777,  48.15063345,  54.92171282,\n",
       "        50.96124959,  44.24065387,  41.3341074 ,  44.30904198,\n",
       "        41.22409558,  41.6189872 ,  43.60493934,  44.24065387,\n",
       "        41.3341074 ,  44.30904198,  41.22409558,  41.6189872 ,\n",
       "        43.60493934,  43.62829304,  67.94238806,  40.        ,\n",
       "        50.45592391,  41.41211057,  68.07679629,  53.60341489,\n",
       "        53.73726535,  41.14910614,  53.53487092,  53.78719708,\n",
       "        53.69609225,  55.69616699,  54.13960707,  49.03451812,\n",
       "        55.83331072,  55.47635603,  44.88335752,  46.91561836,\n",
       "        48.26940788,  50.57097591,  47.67743623,  47.70771706,\n",
       "        49.54131593,  47.69025487,  50.92941651,  45.27292098,\n",
       "        42.70191398,  41.81985021,  40.5194397 ,  40.65923178,\n",
       "        40.85478997,  40.74099684,  40.50379646,  44.96891832,\n",
       "        56.16522688,  43.336456  ,  49.31731202,  45.68461533,\n",
       "        44.94284332,  46.22220981,  49.0172929 ,  53.56262732,\n",
       "        46.44280434,  55.27484149,  53.19170475,  54.01529384,\n",
       "        52.8664068 ,  62.42774767,  45.37568867,  58.3876611 ,\n",
       "        58.3876611 ,  45.77501632,  53.86036878,  46.27732241,\n",
       "        47.21937978,  48.12140536,  47.20221162,  47.17724383,\n",
       "        54.37402868,  54.44179511,  54.54576886,  40.        ,\n",
       "        40.        ,  43.56931603,  42.51378655,  41.69701827,\n",
       "        49.88097972,  48.8196305 ,  41.69701827,  42.11142862,\n",
       "        42.00853229,  41.97433174,  49.17894858,  51.71996051,\n",
       "        55.8175658 ,  55.3036373 ,  56.16450113,  41.17359088,\n",
       "        55.11678502,  41.80159235,  41.95040315,  44.30418617,\n",
       "        49.74838066,  41.05133347,  41.05133347,  41.054685  ,\n",
       "        40.45349789,  43.01828039,  45.37568867,  43.31652474,\n",
       "        42.09546626,  40.        ,  41.44563568,  40.63884616,\n",
       "        41.6613301 ,  50.83187902,  45.58641469,  50.81411409,\n",
       "        58.55098319,  46.2805531 ,  46.66472089,  45.83452427,\n",
       "        46.66472089,  44.10746609,  45.65386955,  46.23971498,\n",
       "        55.16783005,  44.30418617,  51.1845451 ,  45.58641469,\n",
       "        52.9209832 ,  40.        ,  40.        ,  43.56931603,\n",
       "        42.51378655,  52.52919239,  52.24521399,  40.        ,\n",
       "        48.81009954,  48.35411324,  48.35411324,  50.81427503,\n",
       "        48.35411324,  53.00658083,  65.95394719,  50.49573401,\n",
       "        43.38254982,  40.68159294,  43.06462437,  55.31186736,\n",
       "        55.6028935 ,  44.96403128,  50.21281338,  42.3198328 ,\n",
       "        49.35988498,  41.12370908,  52.18172464,  47.44593033,\n",
       "        53.70520619,  53.33853224,  55.83792312,  47.03419277,\n",
       "        52.93513367,  47.36214773,  54.40518722,  44.80281587,\n",
       "        44.62643206,  46.78206992,  47.93697512,  14.77822751,\n",
       "        42.64696175,  47.28214002,  42.76657158,  66.37274128,\n",
       "        42.37725621,  59.0163722 ,  49.0172929 ,  49.02791397,\n",
       "        48.35411324,  49.40480709,  48.35411324,  56.34647942,\n",
       "        45.05626792,  46.64140761,  56.24747264,  49.13520575,\n",
       "        55.74400923,  41.92175339,  41.92175339,  50.11516082,\n",
       "        54.66233063,  54.0390408 ,  47.21106637,  50.30232751,\n",
       "        41.12370908,  52.18172464,  44.30418617,  55.74400923,\n",
       "        46.60846241,  46.15040834,  49.22665536,  51.30225134,\n",
       "        56.23071647,  46.70516431,  46.90984322,  47.67781997,\n",
       "        46.31525804,  46.24458182,  45.86513555,  48.5369004 ,\n",
       "        48.22637153,  41.2351197 ,  46.46001875,  48.1011773 ,\n",
       "        57.64722931,  44.83945459,  46.42971726,  47.85816424,\n",
       "        48.35411324,  48.35411324,  48.35411324,  44.30418617,\n",
       "        50.05212736,  50.4452908 ,  76.40010595,  75.76908636,\n",
       "        76.40010595,  51.24307454,  50.81432402,  51.24307454,\n",
       "        49.52250972,  49.19295672,  49.16579166,  46.80383444,\n",
       "        48.15989566,  46.89296758,  51.19931388,  51.22630525,\n",
       "        51.67163837,  45.70167804,  41.72778225,  42.01555514,\n",
       "        45.69732431,  46.63542889,  46.25063069,  42.24886119,\n",
       "        57.84150356,  50.25638548,  52.51958929,  54.42250673,\n",
       "        54.60855949,  44.37623441,  44.13223267,  44.41618204,\n",
       "        54.61364862,  53.92641397,  53.78853843,  54.13960707,\n",
       "        55.83331072,  44.88335752,  46.02545393,  45.02071106,\n",
       "        42.88106966,  49.27504933,  46.9670639 ,  49.2199527 ,\n",
       "        40.97583294,  52.53305827,  44.6647421 ,  54.92171282,\n",
       "        47.69025487,  41.81985021,  55.22786939,  41.33431804,\n",
       "        45.44047022,  45.57874966,  45.95121753,  45.95121753,\n",
       "        46.28396353,  42.69251907,  51.09837067,  48.99696112,\n",
       "        56.68506539,  42.58577794,  41.21360576,  54.04280764,\n",
       "        54.27361339,  49.49261761,  42.29084897,  41.13570619,\n",
       "        40.        ,  41.4251819 ,  41.79667473,  53.50993192,\n",
       "        45.33713803,  49.08177254,  55.03682649,  42.8745153 ,\n",
       "        43.66129106,  41.37703562,  41.67288302,  42.69181088,\n",
       "        42.0420872 ,  42.3485682 ,  41.8447201 ,  42.00487101,\n",
       "        45.80182636,  50.07074559,  41.10259771,  41.04555827,\n",
       "        45.28780282,  53.11900404,  53.56450489,  50.23089337,\n",
       "        43.3072809 ,  43.30430201,  48.80232847,  49.51606047,\n",
       "        42.11286849,  51.06680799,  50.90164748,  42.24715221,\n",
       "        44.17918289,  48.67620613,  43.51608479,  43.61722207,\n",
       "        43.40190709,  42.64140069,  54.92171282,  43.47137141,\n",
       "        50.06043243,  49.42889318,  42.13815641,  48.15063345,\n",
       "        43.45446777,  48.13106382,  42.7581352 ,  43.70674527,\n",
       "        45.91575348,  40.        ,  41.17158437,  41.27057528,\n",
       "        46.13105749,  40.        ,  41.73989511,  49.79676545,\n",
       "        49.3232728 ,  50.82944062,  43.86462922,  45.50301242,\n",
       "        46.3511188 ,  48.35411324,  48.35411324,  41.30630553,\n",
       "        43.02270518,  44.65738583,  42.9380976 ,  55.76957916,\n",
       "        55.20278631,  44.19551289,  43.30758083,  42.52862883,\n",
       "        50.8905164 ,  60.34276345,  54.43538359,  43.37105966,\n",
       "        42.50323629,  42.80719095,  46.44464332,  54.77190189,\n",
       "        43.08083835,  44.54636347,  47.33666183,  52.71560329,\n",
       "        53.30029333,  53.40040934,  51.1845451 ,  44.72607616,\n",
       "        45.30666399,  50.25789893,  52.03358948,  41.50510597,\n",
       "        41.14161491,  47.99015746,  41.2467607 ,  48.67520523,\n",
       "        48.52506924,  46.07323585,  46.07323585,  50.81427503,\n",
       "        53.27444708,  51.21449196,  45.87944716,  46.03415227,\n",
       "        48.27078307,  43.1946491 ,  42.57447743,  44.85417789,\n",
       "        56.87537724,  44.48434865,  49.80427837,  50.07074559,\n",
       "        50.07074559,  46.71321976,  44.54969114,  46.46001875,\n",
       "        45.7035836 ,  42.49045455,  43.90835369,  49.34210014,\n",
       "        41.90380916,  40.73142016,  46.71321976,  44.54969114,\n",
       "        48.32233651,  60.77345152,  46.71321976,  44.54969114,\n",
       "        54.2470901 ,  52.51051854,  42.8957908 ,  42.92681257,\n",
       "        50.97208297,  53.27588177,  50.85632232,  47.98595001,\n",
       "        47.44261381,  53.44699633,  42.39391673,  54.31872061,\n",
       "        50.59468067,  51.56520593,  40.        ,  55.77542976,\n",
       "        51.12113445,  47.37016904,  47.63049719,  44.59629558,\n",
       "        43.336456  ,  52.87950514,  46.95192116,  56.82064211,\n",
       "        50.59468067,  51.56520593,  53.96961737,  53.56262732,\n",
       "        57.7203526 ,  58.01632094,  47.69620895,  47.69620895,\n",
       "        55.09384799,  45.00377083,  54.99292284,  55.68818071,\n",
       "        55.87067044,  46.26878287,  43.75659892,  42.81063555,\n",
       "        54.24907577,  54.71485686,  49.07941289,  49.1863257 ,\n",
       "        53.61348647,  49.48728783,  45.00048104,  41.97567213,\n",
       "        40.93705487,  51.44884849,  42.70874989,  42.72101939,\n",
       "        55.73105013,  53.4535079 ,  63.75714672,  53.73410109,\n",
       "        51.74223781,  49.51329303,  50.03572118,  54.52146874,\n",
       "        56.06329323,  44.65738583,  40.        ,  56.205208  ,\n",
       "        47.61230308,  46.14304838,  49.06466591,  52.53485543,\n",
       "        50.48155272,  47.97091106,  48.06213894,  47.71705511,\n",
       "        56.66163614,  56.41243368,  56.04484028,  48.78779566,\n",
       "        55.73039305,  45.82522833,  45.75884461,  45.75884461,\n",
       "        50.34259181,  52.77021217,  50.79111981,  50.48068297,\n",
       "        50.03832522,  48.23894492,  45.20553941,  44.23064095,\n",
       "        48.22200382,  47.82553506,  55.74215364,  42.69047168,\n",
       "        57.04565501,  57.5197314 ,  62.42774767,  50.01057962,\n",
       "        55.69430338,  54.50780188,  52.7663548 ,  43.66129106,\n",
       "        43.66129106,  48.75361425,  48.11010158,  45.02093272,\n",
       "        48.23206751,  44.25359768,  49.07985705,  53.49667498,\n",
       "        43.87690854,  50.48392169,  48.5071398 ,  52.55631131,\n",
       "        55.6683284 ,  45.81901395,  46.71961892,  56.3786428 ,\n",
       "        44.19206846,  52.66838634,  55.94531354])"
      ]
     },
     "execution_count": 51,
     "metadata": {},
     "output_type": "execute_result"
    }
   ],
   "source": [
    "edit_dist_coff[groups[5][5]]\n"
   ]
  },
  {
   "cell_type": "code",
   "execution_count": 48,
   "metadata": {
    "collapsed": false
   },
   "outputs": [
    {
     "data": {
      "text/plain": [
       "34.661171019077301"
      ]
     },
     "execution_count": 48,
     "metadata": {},
     "output_type": "execute_result"
    }
   ],
   "source": [
    "edit_dist_coff[groups[5][5], groups[5][0]]"
   ]
  },
  {
   "cell_type": "code",
   "execution_count": 40,
   "metadata": {
    "collapsed": false
   },
   "outputs": [
    {
     "data": {
      "text/plain": [
       "['igd10umd64.dll@0x',\n",
       " 'igd10umd64.dll@0x',\n",
       " 'igd10umd64.dll@0x',\n",
       " 'igd10umd64.dll@0x',\n",
       " 'igd10umd64.dll@0x',\n",
       " 'igd10umd64.dll@0x',\n",
       " 'igd10umd64.dll@0x',\n",
       " 'igd10umd64.dll@0x',\n",
       " 'ccontext::id3d11devicecontext1_setshaderresources_<t>',\n",
       " 'igd10umd64.dll@0x',\n",
       " 'igd10umd64.dll@0x',\n",
       " 'ccontext::id3d11devicecontext1_setsamplers_<t>',\n",
       " 'igd10umd64.dll@0x',\n",
       " 'chwshaderstate::sendstate',\n",
       " 'igd10umd64.dll@0x',\n",
       " 'ccontext::id3d11devicecontext1_draw_<t>',\n",
       " 'cd3ddevicelevel1::drawdynamicvb',\n",
       " 'igd10umd64.dll@0x',\n",
       " 'igd10umd64.dll@0x',\n",
       " 'ntdll.dll@0x',\n",
       " 'igd10umd64.dll@0x',\n",
       " 'igd10umd64.dll@0x',\n",
       " 'igd10umd64.dll@0x',\n",
       " 'igd10umd64.dll@0x',\n",
       " 'ccontext::umquerycs_constbuf_',\n",
       " 'igd10umd64.dll@0x',\n",
       " 'igd10umd64.dll@0x',\n",
       " 'igd10umd64.dll@0x',\n",
       " 'igd10umd64.dll@0x',\n",
       " 'igd10umd64.dll@0x',\n",
       " 'ccontext::id3d11devicecontext1_updatesubresource_<t>',\n",
       " 'igd10umd64.dll@0x',\n",
       " 'ccontext::id3d11devicecontext1_rssetscissorrects_<t>',\n",
       " 'd3dlargesurface::d3dlargesurface',\n",
       " 'ccontext::id3d11devicecontext1_discardresource_<t>',\n",
       " 'cd3ddevicelevel1::processdeferredoperations',\n",
       " 'chwsurfacerendertarget::flushqueuedoperations',\n",
       " 'refcountedobject<t>::release',\n",
       " 'chwsurfacerendertarget::processbatch',\n",
       " 'd2dlayer::registerhazard']"
      ]
     },
     "execution_count": 40,
     "metadata": {},
     "output_type": "execute_result"
    }
   ],
   "source": [
    "corpus[groups[5][5]]"
   ]
  },
  {
   "cell_type": "code",
   "execution_count": 34,
   "metadata": {
    "collapsed": false
   },
   "outputs": [],
   "source": [
    "# clear_scores = []\n",
    "# for group in clear_groups:\n",
    "#     clear_scores.append(group_score(group, wmd_all))"
   ]
  },
  {
   "cell_type": "code",
   "execution_count": 35,
   "metadata": {
    "collapsed": false
   },
   "outputs": [],
   "source": [
    "# list(enumerate(clear_scores))"
   ]
  },
  {
   "cell_type": "code",
   "execution_count": 197,
   "metadata": {
    "collapsed": false
   },
   "outputs": [
    {
     "data": {
      "text/plain": [
       "[('defaultfreeentry', 3, 2),\n",
       " ('pl_hashtabledestroy', 4, 3),\n",
       " ('secoid_shutdown', 5, 4),\n",
       " ('nss_shutdown', 6, 5),\n",
       " ('nss_shutdown', 7, 6),\n",
       " ('nsnsscomponent::shutdownnss', 8, 7),\n",
       " ('nsnsscomponent::observe', 10, 9),\n",
       " ('nsobserverservice::notifyobservers', 12, 10),\n",
       " ('nsxredirprovider::doshutdown', 13, 11),\n",
       " ('scopedxpcomstartup::~scopedxpcomstartup', 14, 12),\n",
       " ('xremain::xre_main', 15, 13),\n",
       " ('xre_main', 16, 14)]"
      ]
     },
     "execution_count": 197,
     "metadata": {},
     "output_type": "execute_result"
    }
   ],
   "source": [
    "tmp.lcs(corpus[cg[9][0]], corpus[cg[9][8]])"
   ]
  },
  {
   "cell_type": "code",
   "execution_count": 93,
   "metadata": {
    "collapsed": false
   },
   "outputs": [],
   "source": [
    "def clear_groups(groups):\n",
    "    rv = []\n",
    "    for g in groups:\n",
    "        cg = [i for i in g if len(corpus[i]) > 3]\n",
    "        avg = np.average([len(corpus[i]) for i in cg])\n",
    "        cg = [i for i in cg if len(corpus[i]) > avg/2]\n",
    "        rv.append(cg)\n",
    "    return rv"
   ]
  },
  {
   "cell_type": "code",
   "execution_count": 177,
   "metadata": {
    "collapsed": false
   },
   "outputs": [
    {
     "data": {
      "text/plain": [
       "[228, 232]"
      ]
     },
     "execution_count": 177,
     "metadata": {},
     "output_type": "execute_result"
    }
   ],
   "source": [
    "cg = clear_groups(group_5_and_more)\n",
    "cg[2]"
   ]
  },
  {
   "cell_type": "code",
   "execution_count": null,
   "metadata": {
    "collapsed": true
   },
   "outputs": [],
   "source": []
  }
 ],
 "metadata": {
  "kernelspec": {
   "display_name": "Python 3",
   "language": "python",
   "name": "python3"
  },
  "language_info": {
   "codemirror_mode": {
    "name": "ipython",
    "version": 3
   },
   "file_extension": ".py",
   "mimetype": "text/x-python",
   "name": "python",
   "nbconvert_exporter": "python",
   "pygments_lexer": "ipython3",
   "version": "3.6.0"
  }
 },
 "nbformat": 4,
 "nbformat_minor": 2
}
