{
 "cells": [
  {
   "cell_type": "code",
   "execution_count": 593,
   "metadata": {
    "collapsed": true
   },
   "outputs": [],
   "source": [
    "import requests\n",
    "import re\n",
    "import time\n",
    "import numpy as np\n",
    "from scipy.sparse import lil_matrix\n",
    "from sklearn.metrics import pairwise \n",
    "import pickle\n",
    "from datetime import timedelta\n",
    "from crashsimilarity.downloader import SocorroDownloader\n",
    "from crashsimilarity import utils\n",
    "from gensim.models import doc2vec\n",
    "from gensim import corpora\n",
    "import crashsimilarity.tmp as tmp\n",
    "import logging"
   ]
  },
  {
   "cell_type": "code",
   "execution_count": 479,
   "metadata": {
    "collapsed": false
   },
   "outputs": [
    {
     "data": {
      "text/plain": [
       "(None, <pyximport.pyximport.PyxImporter at 0x7f78f7b27160>)"
      ]
     },
     "execution_count": 479,
     "metadata": {},
     "output_type": "execute_result"
    }
   ],
   "source": [
    "from pyemd import emd\n",
    "import pyximport\n",
    "pyximport.install()"
   ]
  },
  {
   "cell_type": "code",
   "execution_count": 22,
   "metadata": {
    "collapsed": true
   },
   "outputs": [],
   "source": [
    "BASE_URL = 'https://bugzilla.mozilla.org/rest/bug?'\n",
    "# url = 'https://bugzilla.mozilla.org/rest/bug?product=Firefox&version=51 branch&limit=1000'"
   ]
  },
  {
   "cell_type": "code",
   "execution_count": 49,
   "metadata": {
    "collapsed": true
   },
   "outputs": [],
   "source": [
    "url1 = 'https://bugzilla.mozilla.org/rest/bug?include_fields=id,summary,status,cf_crash_signature,see_also&f1=cf_crash_signature&f2=see_also&o1=isnotempty&o2=isnotempty&product=Core&product=Firefox'"
   ]
  },
  {
   "cell_type": "code",
   "execution_count": 50,
   "metadata": {
    "collapsed": false
   },
   "outputs": [
    {
     "data": {
      "text/plain": [
       "<Response [200]>"
      ]
     },
     "execution_count": 50,
     "metadata": {},
     "output_type": "execute_result"
    }
   ],
   "source": [
    "r1 = requests.get(url1)\n",
    "r1"
   ]
  },
  {
   "cell_type": "code",
   "execution_count": 54,
   "metadata": {
    "collapsed": false
   },
   "outputs": [
    {
     "data": {
      "text/plain": [
       "10000"
      ]
     },
     "execution_count": 54,
     "metadata": {},
     "output_type": "execute_result"
    }
   ],
   "source": [
    "data = r1.json()\n",
    "bugs = data['bugs']\n",
    "len(bugs)"
   ]
  },
  {
   "cell_type": "code",
   "execution_count": 222,
   "metadata": {
    "collapsed": false
   },
   "outputs": [
    {
     "data": {
      "text/plain": [
       "69"
      ]
     },
     "execution_count": 222,
     "metadata": {},
     "output_type": "execute_result"
    }
   ],
   "source": [
    "see_also = [i for i in bugs if i['see_also'] and any(['bugzilla.mozilla' in s for s in i['see_also']])]\n",
    "len(see_also)"
   ]
  },
  {
   "cell_type": "code",
   "execution_count": 160,
   "metadata": {
    "collapsed": false
   },
   "outputs": [
    {
     "data": {
      "text/plain": [
       "686"
      ]
     },
     "execution_count": 160,
     "metadata": {},
     "output_type": "execute_result"
    }
   ],
   "source": [
    "def clean_signatures(sigs):\n",
    "    sigs = [re.sub(r'\\(.*\\)', '', s.strip('[] ')) for s in sigs.split('\\r\\n')]\n",
    "    sigs = [s[2:] if s.startswith('@ ') else s for s in sigs]\n",
    "    sigs = [s.strip() for s in sigs]\n",
    "    return list(set(sigs))\n",
    "multiple_sig = [i for i in bugs if len(clean_signatures(i['cf_crash_signature'])) > 1]\n",
    "for sig in multiple_sig:\n",
    "    sig['clean'] = clean_signatures(sig['cf_crash_signature'])\n",
    "len(multiple_sig)"
   ]
  },
  {
   "cell_type": "code",
   "execution_count": 97,
   "metadata": {
    "collapsed": false
   },
   "outputs": [],
   "source": [
    "multiple_sig.sort(key=lambda x: len(x['clean']), reverse=True)"
   ]
  },
  {
   "cell_type": "code",
   "execution_count": 171,
   "metadata": {
    "collapsed": false
   },
   "outputs": [
    {
     "name": "stdout",
     "output_type": "stream",
     "text": [
      "0, time spent for last 100: 0.00019550323486328125 (s)\n",
      "100, time spent for last 100: 318.5518651008606 (s)\n",
      "200, time spent for last 100: 400.7205352783203 (s)\n",
      "300, time spent for last 100: 450.31249618530273 (s)\n",
      "400, time spent for last 100: 383.8052191734314 (s)\n",
      "500, time spent for last 100: 537.849912405014 (s)\n",
      "600, time spent for last 100: 615.417822599411 (s)\n"
     ]
    }
   ],
   "source": [
    "traces = []\n",
    "prev_t = time.time()\n",
    "for i, bug in enumerate(multiple_sig):\n",
    "    if i % 100 == 0:\n",
    "        print('{}, time spent for last 100: {} (s)'.format(i, time.time() - prev_t))\n",
    "        prev_t = time.time()\n",
    "    cur = []\n",
    "    for sig in bug['clean']:\n",
    "        try:\n",
    "            r = list(SocorroDownloader().download_stack_traces_for_signature(sig, traces_num=1, period=timedelta(days=350)))[0]\n",
    "            if r:\n",
    "                cur.append(r)\n",
    "        except:\n",
    "            pass\n",
    "    traces.append(cur)"
   ]
  },
  {
   "cell_type": "code",
   "execution_count": 190,
   "metadata": {
    "collapsed": false
   },
   "outputs": [],
   "source": [
    "prepared = []\n",
    "for group in traces:\n",
    "    processed = [utils.StackTraceProcessor.preprocess(i) for i in group]\n",
    "    prepared.append(processed)"
   ]
  },
  {
   "cell_type": "code",
   "execution_count": 198,
   "metadata": {
    "collapsed": false
   },
   "outputs": [],
   "source": [
    "for i, p in enumerate(prepared):\n",
    "    multiple_sig[i]['prepared'] = p"
   ]
  },
  {
   "cell_type": "code",
   "execution_count": 4,
   "metadata": {
    "collapsed": false
   },
   "outputs": [
    {
     "data": {
      "text/plain": [
       "222895"
      ]
     },
     "execution_count": 4,
     "metadata": {},
     "output_type": "execute_result"
    }
   ],
   "source": [
    "vocab = pickle.load(open('data/compressed_vocab.pickle', 'rb'))\n",
    "len(vocab)"
   ]
  },
  {
   "cell_type": "code",
   "execution_count": 2,
   "metadata": {
    "collapsed": false
   },
   "outputs": [
    {
     "data": {
      "text/plain": [
       "686"
      ]
     },
     "execution_count": 2,
     "metadata": {},
     "output_type": "execute_result"
    }
   ],
   "source": [
    "# pickle.dump(multiple_sig, open('data/multiple_sig.pickle', 'wb'))\n",
    "multiple_sig = pickle.load(open('data/multiple_sig.pickle', 'rb'))\n",
    "prepared = [sig['prepared'] for sig in multiple_sig]\n",
    "len(multiple_sig)"
   ]
  },
  {
   "cell_type": "code",
   "execution_count": 244,
   "metadata": {
    "collapsed": false
   },
   "outputs": [],
   "source": [
    "groups = []\n",
    "corpus = []\n",
    "for p in prepared:\n",
    "    group = []\n",
    "    for t in p:\n",
    "        corpus.append(t)\n",
    "        group.append(len(corpus)-1)\n",
    "    groups.append(group)\n",
    "compressed_corpus = [[str(vocab.get(i, i)) for i in c] for c in corpus]\n",
    "compressed_corpus = [doc2vec.TaggedDocument(trace, [i]) for i, trace in enumerate(compressed_corpus)]"
   ]
  },
  {
   "cell_type": "code",
   "execution_count": 6,
   "metadata": {
    "collapsed": false
   },
   "outputs": [
    {
     "data": {
      "text/plain": [
       "TaggedDocument(words=['2595', '571', '1510', '348', '349', '3443', '11904', '2787', '348', '572', '573'], tags=[42])"
      ]
     },
     "execution_count": 6,
     "metadata": {},
     "output_type": "execute_result"
    }
   ],
   "source": [
    "compressed_corpus[42]"
   ]
  },
  {
   "cell_type": "code",
   "execution_count": 7,
   "metadata": {
    "collapsed": false
   },
   "outputs": [
    {
     "data": {
      "text/plain": [
       "<gensim.models.doc2vec.Doc2Vec at 0x7f7969e84cc0>"
      ]
     },
     "execution_count": 7,
     "metadata": {},
     "output_type": "execute_result"
    }
   ],
   "source": [
    "model = doc2vec.Doc2Vec.load('data/model/dm_d200_all.model')\n",
    "model"
   ]
  },
  {
   "cell_type": "code",
   "execution_count": 8,
   "metadata": {
    "collapsed": false
   },
   "outputs": [
    {
     "data": {
      "text/plain": [
       "95"
      ]
     },
     "execution_count": 8,
     "metadata": {},
     "output_type": "execute_result"
    }
   ],
   "source": [
    "len([i for i in prepared if len(i) > 2])"
   ]
  },
  {
   "cell_type": "code",
   "execution_count": 698,
   "metadata": {
    "collapsed": true
   },
   "outputs": [],
   "source": [
    "def fast_rwmd_distances(model, corpus, dist, w2pos, idx):\n",
    "    words = corpus[idx].words\n",
    "    words = [w for w in words if w in model]\n",
    "    idx_poss = [w2pos[w] for w in words if w in w2pos]\n",
    "    distances = []\n",
    "    for ind, doc in enumerate(corpus):\n",
    "        words_pos = [w2pos[w] for w in doc.words if w in w2pos]\n",
    "        if words_pos and idx_poss:\n",
    "            s_dists = np.zeros((len(words_pos), len(idx_poss)), dtype=np.double)\n",
    "            for i, d in enumerate(words_pos):\n",
    "                for j, f in enumerate(idx_poss):\n",
    "                    s_dists[i, j] = dist[d][f]\n",
    "            rwmd = max(np.sum(np.min(s_dists, axis=0)), np.sum(np.min(s_dists, axis=1)))\n",
    "        else:\n",
    "            rwmd = float('inf')\n",
    "        distances.append((ind, rwmd))\n",
    "    return distances"
   ]
  },
  {
   "cell_type": "code",
   "execution_count": 699,
   "metadata": {
    "collapsed": true
   },
   "outputs": [],
   "source": [
    "def create_distance_matrix(model, dictionary, all_distances):\n",
    "    distances = np.zeros((len(dictionary), len(dictionary)), dtype=np.double)\n",
    "    \n",
    "    view = list(dictionary.items())\n",
    "    for i, w1 in dictionary.items():\n",
    "        for j, w2 in view:\n",
    "            distances[i, j] = all_distances[int(w1), int(w2)]\n",
    "\n",
    "    return distances\n",
    "\n",
    "\n",
    "def fast_wmdistance(model, words1, words2, w2pos, dist):\n",
    "    \n",
    "    words1 = [w for w in words1 if w in model]\n",
    "    words1 = [str(w2pos[w]) for w in words1 if w in w2pos]\n",
    "    words2 = [w for w in words2 if w in model]\n",
    "    words2 = [str(w2pos[w]) for w in words2 if w in w2pos]\n",
    "    \n",
    "    dictionary = corpora.Dictionary(documents=[words1, words2])\n",
    "    vocab_len = len(dictionary)\n",
    "\n",
    "    if len(words1) == 0 or len(words1) == 0:\n",
    "        return np.double('inf')\n",
    "    \n",
    "    if vocab_len == 1:\n",
    "        return 0.0\n",
    "    \n",
    "    # create bag of words from document\n",
    "    def create_bow(doc):\n",
    "        norm_bow = np.zeros(vocab_len, dtype=np.double)\n",
    "        bow = dictionary.doc2bow(doc)\n",
    "\n",
    "        for idx, count in bow:\n",
    "            norm_bow[idx] = count / float(len(doc))\n",
    "\n",
    "        return norm_bow\n",
    "\n",
    "    bow1 = create_bow(words1)\n",
    "    bow2 = create_bow(words2)\n",
    "\n",
    "    distances = create_distance_matrix(model, dictionary, dist)\n",
    "\n",
    "    return emd(bow1, bow2, distances)"
   ]
  },
  {
   "cell_type": "code",
   "execution_count": 644,
   "metadata": {
    "collapsed": false
   },
   "outputs": [],
   "source": [
    "def words_distance(corpus, model):\n",
    "    model.init_sims(replace=True)\n",
    "    words = set()\n",
    "    for trace in corpus:\n",
    "        for w in trace.words:\n",
    "            words.add(w)\n",
    "    words = [w for w in words if w in model]\n",
    "    print ('len(words) = {}'.format(len(words)))\n",
    "    w2pos = dict([(w, i) for i, w in enumerate(words)])\n",
    "    wi = [model.wv.vocab[word].index for word in words]\n",
    "    wv = np.array([model.wv.syn0norm[i] for i in wi])\n",
    "    # dist = 1 - cosine_similarity(wv)\n",
    "    # dist = np.zeros((len(wi), len(wi)), dtype=np.double)\n",
    "    # for i, t1 in enumerate(wi):\n",
    "    #    if i % 500 == 0:\n",
    "    #        print (i)\n",
    "    #    for j, t2 in enumerate(wi):\n",
    "    #        if j > i:\n",
    "    #            dist[i, j] = np.sqrt(np.sum((model.wv.syn0norm[t1] - model.wv.syn0norm[t2])**2))\n",
    "    #            dist[j, i] = dist[i, j]\n",
    "    dist = pairwise.euclidean_distances(wv)\n",
    "    return dist, w2pos"
   ]
  },
  {
   "cell_type": "code",
   "execution_count": 656,
   "metadata": {
    "collapsed": false
   },
   "outputs": [
    {
     "name": "stdout",
     "output_type": "stream",
     "text": [
      "len(words) = 4103\n"
     ]
    }
   ],
   "source": [
    "dist, w2pos = words_distance(compressed_corpus, model)"
   ]
  },
  {
   "cell_type": "code",
   "execution_count": 646,
   "metadata": {
    "collapsed": false
   },
   "outputs": [
    {
     "data": {
      "text/plain": [
       "26"
      ]
     },
     "execution_count": 646,
     "metadata": {},
     "output_type": "execute_result"
    }
   ],
   "source": [
    "group_more5 = [g for g in groups if len(g) >= 5]\n",
    "len(group_more5)"
   ]
  },
  {
   "cell_type": "code",
   "execution_count": 700,
   "metadata": {
    "collapsed": false
   },
   "outputs": [
    {
     "name": "stderr",
     "output_type": "stream",
     "text": [
      "INFO:gensim.corpora.dictionary:adding document #0 to Dictionary(0 unique tokens: [])\n",
      "INFO:gensim.corpora.dictionary:built Dictionary(25 unique tokens: ['973', '3608', '1072', '11832', '11833']...) from 2 documents (total 46 corpus positions)\n"
     ]
    },
    {
     "data": {
      "text/plain": [
       "0.04838442680510924"
      ]
     },
     "execution_count": 700,
     "metadata": {},
     "output_type": "execute_result"
    }
   ],
   "source": [
    "model.wmdistance(compressed_corpus[551].words, compressed_corpus[552].words)"
   ]
  },
  {
   "cell_type": "code",
   "execution_count": 703,
   "metadata": {
    "collapsed": false
   },
   "outputs": [
    {
     "name": "stderr",
     "output_type": "stream",
     "text": [
      "INFO:gensim.corpora.dictionary:adding document #0 to Dictionary(0 unique tokens: [])\n",
      "INFO:gensim.corpora.dictionary:built Dictionary(25 unique tokens: ['3896', '2295', '915', '1467', '2123']...) from 2 documents (total 46 corpus positions)\n"
     ]
    },
    {
     "data": {
      "text/plain": [
       "0.04838442680510924"
      ]
     },
     "execution_count": 703,
     "metadata": {},
     "output_type": "execute_result"
    }
   ],
   "source": [
    "fast_wmdistance(model, compressed_corpus[551].words, compressed_corpus[552].words, w2pos, dist)"
   ]
  },
  {
   "cell_type": "code",
   "execution_count": 489,
   "metadata": {
    "collapsed": true
   },
   "outputs": [],
   "source": [
    "pos2w = dict([(i[1], i[0]) for i in w2pos.items()])\n",
    "pos2vocab = dict([(i[1], i[0]) for i in vocab.items()])"
   ]
  },
  {
   "cell_type": "code",
   "execution_count": 741,
   "metadata": {
    "collapsed": false
   },
   "outputs": [],
   "source": [
    "def group_score(group, dist):\n",
    "    closest = [[x[0] for x in sorted(rwmd_all[i], key=lambda x:x[1])] for i in group]\n",
    "    score = []\n",
    "    for i, c in enumerate(closest):\n",
    "        others = others = [x for x in group if x != group[i]]\n",
    "        pos = [c.index(o) for o in others]\n",
    "        score.append((np.mean(pos), np.max(pos)))\n",
    "    return score"
   ]
  },
  {
   "cell_type": "code",
   "execution_count": 394,
   "metadata": {
    "collapsed": true
   },
   "outputs": [],
   "source": [
    "closest = sorted(list(enumerate(dist[551])), key=lambda x:x[1])\n",
    "others = [x for x in g if x != g[0]]"
   ]
  },
  {
   "cell_type": "code",
   "execution_count": 713,
   "metadata": {
    "collapsed": false
   },
   "outputs": [
    {
     "name": "stdout",
     "output_type": "stream",
     "text": [
      "2.2254691123962402\n"
     ]
    }
   ],
   "source": [
    "logging.root.setLevel(logging.CRITICAL)\n",
    "t = time.time()\n",
    "res = []\n",
    "idx = g[0]\n",
    "for i in range(len(compressed_corpus)):\n",
    "    d = fast_wmdistance(model, compressed_corpus[idx].words, compressed_corpus[i].words, w2pos, dist)\n",
    "    res.append(d)\n",
    "print (time.time() - t)\n",
    "logging.root.setLevel(logging.INFO)"
   ]
  },
  {
   "cell_type": "code",
   "execution_count": 711,
   "metadata": {
    "collapsed": true
   },
   "outputs": [],
   "source": [
    "closest = sorted(rwmd_all[g[0]], key=lambda x:x[1])"
   ]
  },
  {
   "cell_type": "code",
   "execution_count": 715,
   "metadata": {
    "collapsed": false
   },
   "outputs": [],
   "source": [
    "closest_wmd = sorted(list(enumerate(res)), key=lambda x:x[1])"
   ]
  },
  {
   "cell_type": "code",
   "execution_count": 716,
   "metadata": {
    "collapsed": false
   },
   "outputs": [
    {
     "data": {
      "text/plain": [
       "[(551, 0.0),\n",
       " (552, 0.04838442680510924),\n",
       " (555, 0.1415106299697912),\n",
       " (554, 0.2816956092271322),\n",
       " (553, 0.3483668778315673),\n",
       " (922, 0.45063622904741113),\n",
       " (923, 0.4530710519116199),\n",
       " (531, 0.5792857161297745),\n",
       " (909, 0.753549104651525),\n",
       " (252, 0.7541491725111394)]"
      ]
     },
     "execution_count": 716,
     "metadata": {},
     "output_type": "execute_result"
    }
   ],
   "source": [
    "closest_wmd[:10]"
   ]
  },
  {
   "cell_type": "code",
   "execution_count": 731,
   "metadata": {
    "collapsed": false
   },
   "outputs": [],
   "source": [
    "closest = [[x[0] for x in sorted(rwmd_all[i], key=lambda x:x[1])] for i in g]"
   ]
  },
  {
   "cell_type": "code",
   "execution_count": 738,
   "metadata": {
    "collapsed": false
   },
   "outputs": [],
   "source": [
    "closest = [[x[0] for x in sorted(rwmd_all[i], key=lambda x:x[1])] for i in g]\n",
    "score = []\n",
    "for i, c in enumerate(closest):\n",
    "    others = others = [x for x in g if x != g[i]]\n",
    "    pos = [c.index(o) for o in others]\n",
    "    score.append((np.mean(pos), np.max(pos)))\n",
    "return score"
   ]
  },
  {
   "cell_type": "code",
   "execution_count": 743,
   "metadata": {
    "collapsed": false
   },
   "outputs": [
    {
     "data": {
      "text/plain": [
       "[(2.5, 4), (2.5, 4), (3.0, 6), (2.5, 4), (2.5, 4)]"
      ]
     },
     "execution_count": 743,
     "metadata": {},
     "output_type": "execute_result"
    }
   ],
   "source": [
    "group_score(g, rwmd_all)"
   ]
  },
  {
   "cell_type": "code",
   "execution_count": 744,
   "metadata": {
    "collapsed": false
   },
   "outputs": [],
   "source": [
    "scores = [group_score(i, rwmd_all) for i in group_more5]"
   ]
  },
  {
   "cell_type": "code",
   "execution_count": 745,
   "metadata": {
    "collapsed": false
   },
   "outputs": [
    {
     "data": {
      "text/plain": [
       "[[(491.5, 696), (230.0, 689), (198.5, 550), (396.75, 682), (587.25, 782)],\n",
       " [(973.0, 1043), (390.75, 1013), (482.5, 1024), (459.0, 959), (915.5, 987)],\n",
       " [(202.59999999999999, 514),\n",
       "  (67.0, 130),\n",
       "  (277.80000000000001, 518),\n",
       "  (160.19999999999999, 451),\n",
       "  (287.80000000000001, 532),\n",
       "  (41.200000000000003, 70)],\n",
       " [(218.59999999999999, 890),\n",
       "  (360.39999999999998, 870),\n",
       "  (384.39999999999998, 923),\n",
       "  (228.19999999999999, 857),\n",
       "  (298.19999999999999, 852),\n",
       "  (190.19999999999999, 715)],\n",
       " [(119.25, 483),\n",
       "  (635.625, 862),\n",
       "  (78.75, 313),\n",
       "  (626.0, 836),\n",
       "  (76.125, 300),\n",
       "  (141.25, 597),\n",
       "  (49.375, 194),\n",
       "  (119.125, 483),\n",
       "  (60.5, 253)],\n",
       " [(262.80000000000001, 787),\n",
       "  (320.0, 772),\n",
       "  (942.60000000000002, 988),\n",
       "  (739.60000000000002, 897),\n",
       "  (867.79999999999995, 935),\n",
       "  (326.0, 839)],\n",
       " [(213.75, 778), (387.25, 885), (161.5, 444), (215.75, 769), (430.75, 899)],\n",
       " [(3.0, 5),\n",
       "  (23.0, 79),\n",
       "  (3.0, 5),\n",
       "  (3.0, 5),\n",
       "  (75.200000000000003, 256),\n",
       "  (3.0, 5)],\n",
       " [(47.200000000000003, 53),\n",
       "  (7.5999999999999996, 16),\n",
       "  (574.0, 861),\n",
       "  (349.0, 911),\n",
       "  (361.19999999999999, 942),\n",
       "  (188.19999999999999, 920)],\n",
       " [(6.8888888888888893, 18),\n",
       "  (6.1111111111111107, 11),\n",
       "  (77.666666666666671, 655),\n",
       "  (6.333333333333333, 11),\n",
       "  (8.1111111111111107, 19),\n",
       "  (7.2222222222222223, 15),\n",
       "  (9.8888888888888893, 39),\n",
       "  (6.333333333333333, 11),\n",
       "  (9.1111111111111107, 32),\n",
       "  (6.5555555555555554, 13)]]"
      ]
     },
     "execution_count": 745,
     "metadata": {},
     "output_type": "execute_result"
    }
   ],
   "source": [
    "scores[:10]"
   ]
  },
  {
   "cell_type": "code",
   "execution_count": 719,
   "metadata": {
    "collapsed": false
   },
   "outputs": [
    {
     "data": {
      "text/plain": [
       "1.6000000000000001"
      ]
     },
     "execution_count": 719,
     "metadata": {},
     "output_type": "execute_result"
    }
   ],
   "source": [
    "group_score(g, rwmd_all)"
   ]
  },
  {
   "cell_type": "code",
   "execution_count": 708,
   "metadata": {
    "collapsed": false
   },
   "outputs": [
    {
     "data": {
      "text/plain": [
       "[551, 552, 553, 554, 555]"
      ]
     },
     "execution_count": 708,
     "metadata": {},
     "output_type": "execute_result"
    }
   ],
   "source": [
    "g"
   ]
  },
  {
   "cell_type": "code",
   "execution_count": 707,
   "metadata": {
    "collapsed": false
   },
   "outputs": [
    {
     "name": "stdout",
     "output_type": "stream",
     "text": [
      "0\n",
      "200\n",
      "400\n",
      "600\n",
      "800\n",
      "1000\n"
     ]
    }
   ],
   "source": [
    "rwmd_all = []\n",
    "for i, c in enumerate(compressed_corpus):\n",
    "    if i % 200 == 0:\n",
    "        print (i)\n",
    "    r = fast_rwmd_distances(model, compressed_corpus, dist, w2pos, i)\n",
    "    rwmd_all.append(r) "
   ]
  }
 ],
 "metadata": {
  "kernelspec": {
   "display_name": "Python 3",
   "language": "python",
   "name": "python3"
  },
  "language_info": {
   "codemirror_mode": {
    "name": "ipython",
    "version": 3
   },
   "file_extension": ".py",
   "mimetype": "text/x-python",
   "name": "python",
   "nbconvert_exporter": "python",
   "pygments_lexer": "ipython3",
   "version": "3.6.0"
  }
 },
 "nbformat": 4,
 "nbformat_minor": 2
}
