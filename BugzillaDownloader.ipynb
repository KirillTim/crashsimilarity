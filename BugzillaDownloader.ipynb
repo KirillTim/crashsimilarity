{
 "cells": [
  {
   "cell_type": "code",
   "execution_count": 169,
   "metadata": {
    "collapsed": true
   },
   "outputs": [],
   "source": [
    "import requests\n",
    "import re\n",
    "import time\n",
    "import numpy as np\n",
    "from datetime import timedelta\n",
    "from crashsimilarity.downloader import SocorroDownloader"
   ]
  },
  {
   "cell_type": "code",
   "execution_count": 7,
   "metadata": {
    "collapsed": true
   },
   "outputs": [],
   "source": [
    "BASE_URL = 'https://bugzilla.mozilla.org/rest/bug?'\n",
    "URL_LIST = BASE_URL + 'quicksearch=cf_crash_signature:' + '&limit=100'\n",
    "# URL_LIST = BASE_URL + 'quicksearch=\\\\\"f1=cf_crash_signature&o1=isnotempty&resolution=---&query_format=advanced&bug_status=NEW&bug_status=ASSIGNED&bug_status=REOPENED&bug_status=RESOLVED&bug_status=VERIFIED&bug_status=CLOSED&product=Firefox\\\\\"'"
   ]
  },
  {
   "cell_type": "code",
   "execution_count": 26,
   "metadata": {
    "collapsed": true
   },
   "outputs": [],
   "source": [
    "url = 'https://bugzilla.mozilla.org/rest/bug?product=Firefox&version=51 branch&limit=1000'"
   ]
  },
  {
   "cell_type": "code",
   "execution_count": 49,
   "metadata": {
    "collapsed": true
   },
   "outputs": [],
   "source": [
    "url1 = 'https://bugzilla.mozilla.org/rest/bug?include_fields=id,summary,status,cf_crash_signature,see_also&f1=cf_crash_signature&f2=see_also&o1=isnotempty&o2=isnotempty&product=Core&product=Firefox'"
   ]
  },
  {
   "cell_type": "code",
   "execution_count": 50,
   "metadata": {
    "collapsed": false
   },
   "outputs": [
    {
     "data": {
      "text/plain": [
       "<Response [200]>"
      ]
     },
     "execution_count": 50,
     "metadata": {},
     "output_type": "execute_result"
    }
   ],
   "source": [
    "r1 = requests.get(url1)\n",
    "r1"
   ]
  },
  {
   "cell_type": "code",
   "execution_count": 54,
   "metadata": {
    "collapsed": false
   },
   "outputs": [
    {
     "data": {
      "text/plain": [
       "10000"
      ]
     },
     "execution_count": 54,
     "metadata": {},
     "output_type": "execute_result"
    }
   ],
   "source": [
    "data = r1.json()\n",
    "bugs = data['bugs']\n",
    "len(bugs)"
   ]
  },
  {
   "cell_type": "code",
   "execution_count": 52,
   "metadata": {
    "collapsed": false
   },
   "outputs": [],
   "source": [
    "r2 = requests.get(url1+'&limit=1000&offset=10000')\n",
    "data = r2.json()"
   ]
  },
  {
   "cell_type": "code",
   "execution_count": 53,
   "metadata": {
    "collapsed": false
   },
   "outputs": [
    {
     "data": {
      "text/plain": [
       "1000"
      ]
     },
     "execution_count": 53,
     "metadata": {},
     "output_type": "execute_result"
    }
   ],
   "source": [
    "len(data['bugs'])"
   ]
  },
  {
   "cell_type": "code",
   "execution_count": 55,
   "metadata": {
    "collapsed": false
   },
   "outputs": [
    {
     "data": {
      "text/plain": [
       "133"
      ]
     },
     "execution_count": 55,
     "metadata": {},
     "output_type": "execute_result"
    }
   ],
   "source": [
    "see_also = [i for i in bugs if i['see_also']]\n",
    "len(see_also)"
   ]
  },
  {
   "cell_type": "code",
   "execution_count": 160,
   "metadata": {
    "collapsed": false
   },
   "outputs": [
    {
     "data": {
      "text/plain": [
       "686"
      ]
     },
     "execution_count": 160,
     "metadata": {},
     "output_type": "execute_result"
    }
   ],
   "source": [
    "def clean_signatures(sigs):\n",
    "    sigs = [re.sub(r'\\(.*\\)', '', s.strip('[] ')) for s in sigs.split('\\r\\n')]\n",
    "    sigs = [s[2:] if s.startswith('@ ') else s for s in sigs]\n",
    "    sigs = [s.strip() for s in sigs]\n",
    "    return list(set(sigs))\n",
    "multiple_sig = [i for i in bugs if len(clean_signatures(i['cf_crash_signature'])) > 1]\n",
    "for sig in multiple_sig:\n",
    "    sig['clean'] = clean_signatures(sig['cf_crash_signature'])\n",
    "len(multiple_sig)"
   ]
  },
  {
   "cell_type": "code",
   "execution_count": 170,
   "metadata": {
    "collapsed": false
   },
   "outputs": [
    {
     "data": {
      "text/plain": [
       "1494376090.2972512"
      ]
     },
     "execution_count": 170,
     "metadata": {},
     "output_type": "execute_result"
    }
   ],
   "source": [
    "time.time()"
   ]
  },
  {
   "cell_type": "code",
   "execution_count": 97,
   "metadata": {
    "collapsed": false
   },
   "outputs": [],
   "source": [
    "multiple_sig.sort(key=lambda x: len(x['clean']), reverse=True)"
   ]
  },
  {
   "cell_type": "code",
   "execution_count": 171,
   "metadata": {
    "collapsed": false
   },
   "outputs": [
    {
     "name": "stdout",
     "output_type": "stream",
     "text": [
      "0, time spent for last 100: 0.00019550323486328125 (s)\n",
      "100, time spent for last 100: 318.5518651008606 (s)\n",
      "200, time spent for last 100: 400.7205352783203 (s)\n",
      "300, time spent for last 100: 450.31249618530273 (s)\n",
      "400, time spent for last 100: 383.8052191734314 (s)\n",
      "500, time spent for last 100: 537.849912405014 (s)\n",
      "600, time spent for last 100: 615.417822599411 (s)\n"
     ]
    }
   ],
   "source": [
    "traces = []\n",
    "prev_t = time.time()\n",
    "for i, bug in enumerate(multiple_sig):\n",
    "    if i % 100 == 0:\n",
    "        print('{}, time spent for last 100: {} (s)'.format(i, time.time() - prev_t))\n",
    "        prev_t = time.time()\n",
    "    cur = []\n",
    "    for sig in bug['clean']:\n",
    "        try:\n",
    "            r = list(SocorroDownloader().download_stack_traces_for_signature(sig, traces_num=1, period=timedelta(days=350)))[0]\n",
    "            if r:\n",
    "                cur.append(r)\n",
    "        except:\n",
    "            pass\n",
    "    traces.append(cur)"
   ]
  },
  {
   "cell_type": "code",
   "execution_count": 178,
   "metadata": {
    "collapsed": false
   },
   "outputs": [],
   "source": [
    "sorted_traces = sorted(traces, key = lambda x: len(x), reverse=True)"
   ]
  },
  {
   "cell_type": "code",
   "execution_count": 181,
   "metadata": {
    "collapsed": false
   },
   "outputs": [
    {
     "data": {
      "text/plain": [
       "2"
      ]
     },
     "execution_count": 181,
     "metadata": {},
     "output_type": "execute_result"
    }
   ],
   "source": [
    "len(sorted_traces[100])"
   ]
  },
  {
   "cell_type": "code",
   "execution_count": 168,
   "metadata": {
    "collapsed": false
   },
   "outputs": [
    {
     "data": {
      "text/plain": [
       "[1, 1, 1, 1, 1, 1, 1, 1, 1, 1]"
      ]
     },
     "execution_count": 168,
     "metadata": {},
     "output_type": "execute_result"
    }
   ],
   "source": [
    "[len(i) for i in traces]"
   ]
  },
  {
   "cell_type": "code",
   "execution_count": 162,
   "metadata": {
    "collapsed": true
   },
   "outputs": [],
   "source": [
    "xx = list(SocorroDownloader().download_stack_traces_for_signature('nsBoxFrame::AttributeChanged',traces_num=1, period=timedelta(days=350)))"
   ]
  },
  {
   "cell_type": "code",
   "execution_count": 164,
   "metadata": {
    "collapsed": false
   },
   "outputs": [
    {
     "data": {
      "text/plain": [
       "'nsBoxFrame::AttributeChanged | mozilla::RestyleManager::AttributeChanged | PresShell::AttributeChanged | mozilla::dom::Element::SetAttrAndNotify | mozilla::dom::Element::SetAttr | mozilla::dom::Element::SetAttribute | mozilla::dom::Element::GetAttribute | mozilla::dom::ElementBinding::setAttribute | mozilla::dom::ElementBinding::hasAttribute | js::GetProperty'"
      ]
     },
     "execution_count": 164,
     "metadata": {},
     "output_type": "execute_result"
    }
   ],
   "source": [
    "xx[0]"
   ]
  },
  {
   "cell_type": "code",
   "execution_count": 161,
   "metadata": {
    "collapsed": false
   },
   "outputs": [
    {
     "data": {
      "text/plain": [
       "[['0x00000000 - nsDSURIContentListener::IsPreferred',\n",
       "  'nsDSURIContentListener::IsPreferred'],\n",
       " ['nsCSSFrameConstructor::ConstructDocElementFrame',\n",
       "  '.__ptr_glue - nsCSSFrameConstructor::ContentInserted'],\n",
       " ['0x00000000 - nsFrameList::DestroyFrames', 'nsLineLayout::ReflowFrame'],\n",
       " ['nsTableRowFrame::IR_TargetIsChild', 'nsBlockFrame::ComputeFinalSize'],\n",
       " ['nsHttpConnection::Init', 'nsHttpHandler::InitiateTransaction_Locked'],\n",
       " ['SearchTable', 'AtomKey_base::HashCode'],\n",
       " ['nsBoxFrame::AttributeChanged', 'nsMenuPopupFrame::RelayoutDirtyChild'],\n",
       " ['nsEventStateManager::DispatchMouseEvent',\n",
       "  '0x00000960 | 0x00000780 | 0x00000000'],\n",
       " ['nsXBLInsertionPoint::GetDefaultContent',\n",
       "  'nsXBLPrototypeHandler::GetEventName'],\n",
       " ['@0x0 | nsRuleNode::Transition',\n",
       "  'nsRefPtr<imgRequest>::operator=',\n",
       "  'nsRefPtr<T>::operator= | nsRuleNode::Transition']]"
      ]
     },
     "execution_count": 161,
     "metadata": {},
     "output_type": "execute_result"
    }
   ],
   "source": [
    "[(i['clean']) for i in multiple_sig[:10]]"
   ]
  },
  {
   "cell_type": "code",
   "execution_count": 145,
   "metadata": {
    "collapsed": false
   },
   "outputs": [
    {
     "data": {
      "text/plain": [
       "{'@0x12f6a2 | nsDSURIContentListener::IsPreferred | nsDocumentOpenInfo::TryContentListener | PR_Assert | nsDocumentOpenInfo::OnStartRequest | mozilla::net::nsHttpChannel::ContinueOnStartRequest2',\n",
       " 'nsDSURIContentListener::IsPreferred | nsDocumentOpenInfo::TryContentListener | mozilla::net::HttpBaseChannel::GetContentDisposition | nsDocumentOpenInfo::DispatchContent'}"
      ]
     },
     "execution_count": 145,
     "metadata": {},
     "output_type": "execute_result"
    }
   ],
   "source": [
    "traces = SocorroDownloader().download_stack_traces_for_signature(multiple_sig[0]['clean'][1], period=timedelta(days=350))\n",
    "traces"
   ]
  },
  {
   "cell_type": "code",
   "execution_count": 136,
   "metadata": {
    "collapsed": false
   },
   "outputs": [
    {
     "data": {
      "text/plain": [
       "{'cf_crash_signature': '[@ nsDSURIContentListener::IsPreferred]\\r\\n[@ 0x00000000 - nsDSURIContentListener::IsPreferred]',\n",
       " 'clean': ['0x00000000 - nsDSURIContentListener::IsPreferred',\n",
       "  'nsDSURIContentListener::IsPreferred'],\n",
       " 'id': 67721,\n",
       " 'see_also': [],\n",
       " 'status': 'VERIFIED',\n",
       " 'summary': 'Trunk M096 N621 - Win2K/WinNT crash [@ nsDSURIContentListener::IsPreferred] [@ 0x00000000 - nsDSURIContentListener::IsPreferred]'}"
      ]
     },
     "execution_count": 136,
     "metadata": {},
     "output_type": "execute_result"
    }
   ],
   "source": [
    "multiple_sig[0]"
   ]
  },
  {
   "cell_type": "code",
   "execution_count": 106,
   "metadata": {
    "collapsed": false
   },
   "outputs": [
    {
     "data": {
      "text/plain": [
       "78"
      ]
     },
     "execution_count": 106,
     "metadata": {},
     "output_type": "execute_result"
    }
   ],
   "source": [
    "see_also = [i for i in see_also if any(['bugzilla' in s for s in i['see_also']])]\n",
    "len(see_also)"
   ]
  },
  {
   "cell_type": "code",
   "execution_count": 107,
   "metadata": {
    "collapsed": false
   },
   "outputs": [
    {
     "data": {
      "text/plain": [
       "[{'cf_crash_signature': '[@ InlineBackgroundData::GetContinuousRect]',\n",
       "  'id': 421203,\n",
       "  'see_also': ['https://bugzilla.mozilla.org/show_bug.cgi?id=1209896'],\n",
       "  'status': 'VERIFIED',\n",
       "  'summary': 'Crash [@ InlineBackgroundData::GetContinuousRect] with XUL, rtl, background image'},\n",
       " {'cf_crash_signature': '[@ gtk_widget_get_toplevel]',\n",
       "  'id': 444055,\n",
       "  'see_also': ['https://bugzilla.gnome.org/show_bug.cgi?id=494542'],\n",
       "  'status': 'RESOLVED',\n",
       "  'summary': 'browser crashes when a file is downloaded [@ gtk_widget_get_toplevel]'},\n",
       " {'cf_crash_signature': '[@ nsRDFPropertyTestNode::FilterInstantiations]',\n",
       "  'id': 461695,\n",
       "  'see_also': ['https://bugzilla.mozilla.org/show_bug.cgi?id=1057581'],\n",
       "  'status': 'NEW',\n",
       "  'summary': '[@ nsRDFPropertyTestNode::FilterInstantiations]'},\n",
       " {'cf_crash_signature': '[@XPCWrappedNative::GetNewOrUsed]',\n",
       "  'id': 487619,\n",
       "  'see_also': ['https://bugzilla.mozilla.org/show_bug.cgi?id=603075'],\n",
       "  'status': 'RESOLVED',\n",
       "  'summary': 'Crash [@XPCWrappedNative::GetNewOrUsed] at browser startup.'},\n",
       " {'cf_crash_signature': '[@ nsScrollPortView::IncrementalScroll]',\n",
       "  'id': 490461,\n",
       "  'see_also': ['https://bugzilla.redhat.com/show_bug.cgi?id=546153'],\n",
       "  'status': 'RESOLVED',\n",
       "  'summary': 'Clicking embedded pdf (Adobe Reader plugin) while page scrolling crashes Firefox. [@ nsScrollPortView::IncrementalScroll]'},\n",
       " {'cf_crash_signature': '[@ nsPluginInstancePeerImpl::GetJSContext]',\n",
       "  'id': 499295,\n",
       "  'see_also': ['https://bugzilla.redhat.com/show_bug.cgi?id=579463'],\n",
       "  'status': 'RESOLVED',\n",
       "  'summary': 'NULL crash [@ nsPluginInstancePeerImpl::GetJSContext]'},\n",
       " {'cf_crash_signature': '[@ free | js3250.dll@0xb00ae]\\r\\n[@ mozcrt19.dll@0x9b68]\\r\\n[@ mozalloc_abort(char const* const) | NS_DebugBreak_P | AppendUTF8toUTF16(nsACString_internal const&, nsAString_internal&)]\\r\\n[@ mozalloc_abort | NS_DebugBreak_P | AppendUTF8toUTF16]',\n",
       "  'clean': ['mozalloc_abort | NS_DebugBreak_P | AppendUTF8toUTF16',\n",
       "   'mozcrt19.dll@0x9b68',\n",
       "   'mozalloc_abort',\n",
       "   'free | js3250.dll@0xb00ae'],\n",
       "  'id': 511135,\n",
       "  'see_also': ['https://bugzilla.mozilla.org/show_bug.cgi?id=1106264'],\n",
       "  'status': 'RESOLVED',\n",
       "  'summary': 'crash  in AppendUTF8toUTF16 during startup due to large sessionstore.js'},\n",
       " {'cf_crash_signature': '[@ nsAppShell::ProcessNextNativeEvent(int)]',\n",
       "  'id': 528708,\n",
       "  'see_also': ['https://bugzilla.gnome.org/show_bug.cgi?id=496546',\n",
       "   'https://bugzilla.mozilla.org/show_bug.cgi?id=563399'],\n",
       "  'status': 'RESOLVED',\n",
       "  'summary': 'Talos shutdown crash during Ts_cold test [@ nsAppShell::ProcessNextNativeEvent(int)] involving libgtk'},\n",
       " {'cf_crash_signature': '[@ StrChrIA ]\\r\\n[@ StrCmpNIA]\\r\\n[@ StrStrIA ]',\n",
       "  'clean': ['StrCmpNIA', 'StrStrIA ', 'StrChrIA '],\n",
       "  'id': 530074,\n",
       "  'see_also': ['https://bugzilla.mozilla.org/show_bug.cgi?id=547588',\n",
       "   'https://bugzilla.mozilla.org/show_bug.cgi?id=627238'],\n",
       "  'status': 'NEW',\n",
       "  'summary': 'Crash [@ StrChrIA ] from winsock and shlwapi.dll (LSP, evil *x86.dll module)'},\n",
       " {'cf_crash_signature': '[@ strchr]',\n",
       "  'id': 530968,\n",
       "  'see_also': ['https://bugzilla.mozilla.org/show_bug.cgi?id=484576'],\n",
       "  'status': 'RESOLVED',\n",
       "  'summary': 'Crash [@ strchr] due to Internet Download Manager (idmmzcc.dll)'}]"
      ]
     },
     "execution_count": 107,
     "metadata": {},
     "output_type": "execute_result"
    }
   ],
   "source": [
    "see_also[:10]"
   ]
  },
  {
   "cell_type": "code",
   "execution_count": 74,
   "metadata": {
    "collapsed": false
   },
   "outputs": [
    {
     "data": {
      "text/plain": [
       "['[@ js::types::TypeCompartment::markSetsUnknown ]']"
      ]
     },
     "execution_count": 74,
     "metadata": {},
     "output_type": "execute_result"
    }
   ],
   "source": [
    "clean_signatures(multiple_sig[999]['cf_crash_signature'])"
   ]
  },
  {
   "cell_type": "code",
   "execution_count": 65,
   "metadata": {
    "collapsed": false
   },
   "outputs": [
    {
     "data": {
      "text/plain": [
       "{'cf_crash_signature': '[@ js::types::TypeCompartment::markSetsUnknown(JSContext*, js::types::TypeObject*) ]\\r\\n[@ js::types::TypeCompartment::markSetsUnknown ]',\n",
       " 'id': 714625,\n",
       " 'see_also': [],\n",
       " 'status': 'NEW',\n",
       " 'summary': 'crash in js::types::TypeCompartment::markSetsUnknown'}"
      ]
     },
     "execution_count": 65,
     "metadata": {},
     "output_type": "execute_result"
    }
   ],
   "source": [
    "multiple_sig[999]"
   ]
  },
  {
   "cell_type": "code",
   "execution_count": 36,
   "metadata": {
    "collapsed": false
   },
   "outputs": [
    {
     "data": {
      "text/plain": [
       "<Response [200]>"
      ]
     },
     "execution_count": 36,
     "metadata": {},
     "output_type": "execute_result"
    }
   ],
   "source": [
    "url2 = url1 + '&limit=10'\n",
    "r2 = requests.get(url2)\n",
    "r2"
   ]
  },
  {
   "cell_type": "code",
   "execution_count": 27,
   "metadata": {
    "collapsed": false
   },
   "outputs": [
    {
     "data": {
      "text/plain": [
       "<Response [200]>"
      ]
     },
     "execution_count": 27,
     "metadata": {},
     "output_type": "execute_result"
    }
   ],
   "source": [
    "url3 = url2+'&offset=20'\n",
    "r3 = requests.get(url3)\n",
    "r3"
   ]
  },
  {
   "cell_type": "code",
   "execution_count": 37,
   "metadata": {
    "collapsed": false
   },
   "outputs": [
    {
     "data": {
      "text/plain": [
       "[{'cf_crash_signature': '[@ ns4xPlugin::_memalloc]',\n",
       "  'id': 3391,\n",
       "  'see_also': [],\n",
       "  'status': 'VERIFIED',\n",
       "  'summary': 'Cosmoplayer causes a crash [@ ns4xPlugin::_memalloc]'},\n",
       " {'id': 28358,\n",
       "  'see_also': [],\n",
       "  'status': 'RESOLVED',\n",
       "  'summary': 'Crash triggering when (folder) object inserted in AddFile, AddDir, or Patch version string [@ ConvertJSvalToVersionString]'},\n",
       " {'cf_crash_signature': '[@ js_LockScope1]\\n[@ js_GetSlotWhileLocked]',\n",
       "  'id': 31847,\n",
       "  'see_also': [],\n",
       "  'status': 'RESOLVED',\n",
       "  'summary': 'Need to solve problem of JS roots for event handler funcs [@ js_LockScope1] [@ js_GetSlotWhileLocked]'},\n",
       " {'id': 33604,\n",
       "  'see_also': [],\n",
       "  'status': 'VERIFIED',\n",
       "  'summary': 'N601 Crash (Mac) #2: Browser crashes on loading applet after creating new profile [@ OTClientLib + 0x85c]'},\n",
       " {'cf_crash_signature': '[@ nsView::GetDimensions ]',\n",
       "  'id': 35299,\n",
       "  'see_also': [],\n",
       "  'status': 'RESOLVED',\n",
       "  'summary': 'textfield inside menupopup does not behave, causes crash [@ nsView::GetDimensions ]'},\n",
       " {'id': 36902,\n",
       "  'see_also': [],\n",
       "  'status': 'VERIFIED',\n",
       "  'summary': 'Trunk crash [FIX]SEGV in [@ nsImageFrame::Paint] when visiting Dejanews powersearch'},\n",
       " {'id': 38589,\n",
       "  'see_also': [],\n",
       "  'status': 'RESOLVED',\n",
       "  'summary': 'Mozilla crashes when certain widgets are made semi-transparent (opacity) [@ nsView::GetDimensions ]'},\n",
       " {'cf_crash_signature': '[@ nsMultiMixedConv::SendStop]',\n",
       "  'id': 39987,\n",
       "  'see_also': [],\n",
       "  'status': 'VERIFIED',\n",
       "  'summary': 'Crash in nsMultiMixedConv::SendStop after submitting form [@ nsMultiMixedConv::SendStop]'},\n",
       " {'cf_crash_signature': '[@ nsRenderingContextMac::SelectDrawingSurface]',\n",
       "  'id': 41348,\n",
       "  'see_also': [],\n",
       "  'status': 'VERIFIED',\n",
       "  'summary': 'RTM Crash (Mac) #5: Crash at changing Character coding in this site on Mac [@ nsRenderingContextMac::SelectDrawingSurface]'},\n",
       " {'cf_crash_signature': '[@nsProxyEventObject::GetNewOrUsedProxy()]',\n",
       "  'id': 41414,\n",
       "  'see_also': [],\n",
       "  'status': 'RESOLVED',\n",
       "  'summary': 'Crash in [@nsProxyEventObject::GetNewOrUsedProxy()]'}]"
      ]
     },
     "execution_count": 37,
     "metadata": {},
     "output_type": "execute_result"
    }
   ],
   "source": [
    "r2.json()['bugs']"
   ]
  },
  {
   "cell_type": "code",
   "execution_count": 33,
   "metadata": {
    "collapsed": false
   },
   "outputs": [
    {
     "data": {
      "text/plain": [
       "True"
      ]
     },
     "execution_count": 33,
     "metadata": {},
     "output_type": "execute_result"
    }
   ],
   "source": [
    "bugs[20:30] == r3.json()['bugs']"
   ]
  },
  {
   "cell_type": "code",
   "execution_count": 50,
   "metadata": {
    "collapsed": false
   },
   "outputs": [
    {
     "data": {
      "text/plain": [
       "list"
      ]
     },
     "execution_count": 50,
     "metadata": {},
     "output_type": "execute_result"
    }
   ],
   "source": [
    "type(data)"
   ]
  },
  {
   "cell_type": "code",
   "execution_count": 29,
   "metadata": {
    "collapsed": false
   },
   "outputs": [],
   "source": [
    "with_sig = [i for i in data if i['cf_crash_signature']]"
   ]
  },
  {
   "cell_type": "code",
   "execution_count": 31,
   "metadata": {
    "collapsed": false
   },
   "outputs": [
    {
     "data": {
      "text/plain": [
       "[{'alias': None,\n",
       "  'assigned_to': 'nobody@mozilla.org',\n",
       "  'assigned_to_detail': {'email': 'nobody@mozilla.org',\n",
       "   'id': 1,\n",
       "   'name': 'nobody@mozilla.org',\n",
       "   'real_name': 'Nobody; OK to take it and work on it'},\n",
       "  'blocks': [],\n",
       "  'cc': ['aklotz@mozilla.com',\n",
       "   'gijskruitbosch+bugs@gmail.com',\n",
       "   'mcastelluccio@mozilla.com'],\n",
       "  'cc_detail': [{'email': 'aklotz@mozilla.com',\n",
       "    'id': 454100,\n",
       "    'name': 'aklotz@mozilla.com',\n",
       "    'real_name': 'Aaron Klotz [:aklotz] (a11y work receiving priority right now)'},\n",
       "   {'email': 'gijskruitbosch+bugs@gmail.com',\n",
       "    'id': 159069,\n",
       "    'name': 'gijskruitbosch+bugs@gmail.com',\n",
       "    'real_name': ':Gijs'},\n",
       "   {'email': 'mcastelluccio@mozilla.com',\n",
       "    'id': 420453,\n",
       "    'name': 'mcastelluccio@mozilla.com',\n",
       "    'real_name': 'Marco Castelluccio [:marco]'}],\n",
       "  'cf_crash_signature': '[@ NotifyInitializeSpies]',\n",
       "  'cf_fx_iteration': '---',\n",
       "  'cf_fx_points': '---',\n",
       "  'cf_has_regression_range': '---',\n",
       "  'cf_has_str': '---',\n",
       "  'cf_last_resolved': '2016-10-13T06:20:14Z',\n",
       "  'cf_platform_rel': '---',\n",
       "  'cf_qa_whiteboard': '',\n",
       "  'cf_rank': None,\n",
       "  'cf_status_firefox53': '---',\n",
       "  'cf_status_firefox54': '---',\n",
       "  'cf_status_firefox55': '---',\n",
       "  'cf_status_firefox56': '---',\n",
       "  'cf_status_firefox57': '---',\n",
       "  'cf_status_firefox_esr45': 'affected',\n",
       "  'cf_status_firefox_esr52': '---',\n",
       "  'cf_tracking_firefox53': '---',\n",
       "  'cf_tracking_firefox54': '---',\n",
       "  'cf_tracking_firefox55': '---',\n",
       "  'cf_tracking_firefox56': '---',\n",
       "  'cf_tracking_firefox57': '---',\n",
       "  'cf_tracking_firefox_esr45': '---',\n",
       "  'cf_tracking_firefox_esr52': '---',\n",
       "  'cf_tracking_firefox_relnote': '---',\n",
       "  'cf_user_story': '',\n",
       "  'classification': 'Client Software',\n",
       "  'comment_count': 6,\n",
       "  'component': 'Untriaged',\n",
       "  'creation_time': '2016-10-11T20:08:48Z',\n",
       "  'creator': 'mozillamarcia.knous@gmail.com',\n",
       "  'creator_detail': {'email': 'mozillamarcia.knous@gmail.com',\n",
       "   'id': 8519,\n",
       "   'name': 'mozillamarcia.knous@gmail.com',\n",
       "   'real_name': 'Marcia Knous [:marcia - use ni]'},\n",
       "  'depends_on': [],\n",
       "  'dupe_of': 1294903,\n",
       "  'flags': [],\n",
       "  'groups': [],\n",
       "  'id': 1309355,\n",
       "  'is_cc_accessible': True,\n",
       "  'is_confirmed': True,\n",
       "  'is_creator_accessible': True,\n",
       "  'is_open': False,\n",
       "  'keywords': ['crash', 'sec-high', 'testcase-wanted'],\n",
       "  'last_change_time': '2016-10-19T17:31:49Z',\n",
       "  'mentors': [],\n",
       "  'mentors_detail': [],\n",
       "  'op_sys': 'Windows 7',\n",
       "  'platform': 'x86',\n",
       "  'priority': '--',\n",
       "  'product': 'Firefox',\n",
       "  'qa_contact': '',\n",
       "  'resolution': 'DUPLICATE',\n",
       "  'see_also': [],\n",
       "  'severity': 'critical',\n",
       "  'status': 'RESOLVED',\n",
       "  'summary': 'Crash in NotifyInitializeSpies',\n",
       "  'target_milestone': '---',\n",
       "  'url': '',\n",
       "  'version': '51 Branch',\n",
       "  'votes': 0,\n",
       "  'whiteboard': ''},\n",
       " {'alias': None,\n",
       "  'assigned_to': 'nobody@mozilla.org',\n",
       "  'assigned_to_detail': {'email': 'nobody@mozilla.org',\n",
       "   'id': 1,\n",
       "   'name': 'nobody@mozilla.org',\n",
       "   'real_name': 'Nobody; OK to take it and work on it'},\n",
       "  'blocks': [],\n",
       "  'cc': [],\n",
       "  'cc_detail': [],\n",
       "  'cf_crash_signature': '[@ nsAutoJSString::init]',\n",
       "  'cf_fx_iteration': '---',\n",
       "  'cf_fx_points': '---',\n",
       "  'cf_has_regression_range': '---',\n",
       "  'cf_has_str': '---',\n",
       "  'cf_last_resolved': '2017-01-16T19:18:00Z',\n",
       "  'cf_platform_rel': '---',\n",
       "  'cf_qa_whiteboard': '',\n",
       "  'cf_rank': None,\n",
       "  'cf_status_firefox53': '---',\n",
       "  'cf_status_firefox54': '---',\n",
       "  'cf_status_firefox55': '---',\n",
       "  'cf_status_firefox56': '---',\n",
       "  'cf_status_firefox57': '---',\n",
       "  'cf_status_firefox_esr45': '---',\n",
       "  'cf_status_firefox_esr52': '---',\n",
       "  'cf_tracking_firefox53': '---',\n",
       "  'cf_tracking_firefox54': '---',\n",
       "  'cf_tracking_firefox55': '---',\n",
       "  'cf_tracking_firefox56': '---',\n",
       "  'cf_tracking_firefox57': '---',\n",
       "  'cf_tracking_firefox_esr45': '---',\n",
       "  'cf_tracking_firefox_esr52': '---',\n",
       "  'cf_tracking_firefox_relnote': '---',\n",
       "  'cf_user_story': '',\n",
       "  'classification': 'Client Software',\n",
       "  'comment_count': 2,\n",
       "  'component': 'Untriaged',\n",
       "  'creation_time': '2017-01-16T19:14:50Z',\n",
       "  'creator': 'human.peng@gmail.com',\n",
       "  'creator_detail': {'email': 'human.peng@gmail.com',\n",
       "   'id': 376587,\n",
       "   'name': 'human.peng@gmail.com',\n",
       "   'real_name': 'fireattack'},\n",
       "  'depends_on': [],\n",
       "  'dupe_of': 1331451,\n",
       "  'flags': [],\n",
       "  'groups': [],\n",
       "  'id': 1331450,\n",
       "  'is_cc_accessible': True,\n",
       "  'is_confirmed': True,\n",
       "  'is_creator_accessible': True,\n",
       "  'is_open': False,\n",
       "  'keywords': [],\n",
       "  'last_change_time': '2017-01-16T19:18:00Z',\n",
       "  'mentors': [],\n",
       "  'mentors_detail': [],\n",
       "  'op_sys': 'Windows 7',\n",
       "  'platform': 'x86',\n",
       "  'priority': '--',\n",
       "  'product': 'Firefox',\n",
       "  'qa_contact': '',\n",
       "  'resolution': 'DUPLICATE',\n",
       "  'see_also': [],\n",
       "  'severity': 'critical',\n",
       "  'status': 'RESOLVED',\n",
       "  'summary': 'Crash in nsAutoJSString::init',\n",
       "  'target_milestone': '---',\n",
       "  'url': '',\n",
       "  'version': '51 Branch',\n",
       "  'votes': 0,\n",
       "  'whiteboard': ''},\n",
       " {'alias': None,\n",
       "  'assigned_to': 'nobody@mozilla.org',\n",
       "  'assigned_to_detail': {'email': 'nobody@mozilla.org',\n",
       "   'id': 1,\n",
       "   'name': 'nobody@mozilla.org',\n",
       "   'real_name': 'Nobody; OK to take it and work on it'},\n",
       "  'blocks': [],\n",
       "  'cc': ['continuation@gmail.com',\n",
       "   'epinal99-bugzilla2@yahoo.fr',\n",
       "   'mcastelluccio@mozilla.com',\n",
       "   'skywalker333@gmail.com'],\n",
       "  'cc_detail': [{'email': 'continuation@gmail.com',\n",
       "    'id': 406194,\n",
       "    'name': 'continuation@gmail.com',\n",
       "    'real_name': 'Andrew McCreight [:mccr8]'},\n",
       "   {'email': 'epinal99-bugzilla2@yahoo.fr',\n",
       "    'id': 337567,\n",
       "    'name': 'epinal99-bugzilla2@yahoo.fr',\n",
       "    'real_name': 'Loic'},\n",
       "   {'email': 'mcastelluccio@mozilla.com',\n",
       "    'id': 420453,\n",
       "    'name': 'mcastelluccio@mozilla.com',\n",
       "    'real_name': 'Marco Castelluccio [:marco]'},\n",
       "   {'email': 'skywalker333@gmail.com',\n",
       "    'id': 451488,\n",
       "    'name': 'skywalker333@gmail.com',\n",
       "    'real_name': ''}],\n",
       "  'cf_crash_signature': '[@ OOM | large | js::AutoEnterOOMUnsafeRegion::crash | js::AutoEnterOOMUnsafeRegion::crash | js::TenuringTracer::moveToTenured]',\n",
       "  'cf_fx_iteration': '---',\n",
       "  'cf_fx_points': '---',\n",
       "  'cf_has_regression_range': '---',\n",
       "  'cf_has_str': '---',\n",
       "  'cf_last_resolved': None,\n",
       "  'cf_platform_rel': '---',\n",
       "  'cf_qa_whiteboard': '',\n",
       "  'cf_rank': None,\n",
       "  'cf_status_firefox51': '---',\n",
       "  'cf_status_firefox53': '---',\n",
       "  'cf_status_firefox54': '---',\n",
       "  'cf_status_firefox55': '---',\n",
       "  'cf_status_firefox56': '---',\n",
       "  'cf_status_firefox57': '---',\n",
       "  'cf_status_firefox_esr45': '---',\n",
       "  'cf_status_firefox_esr52': '---',\n",
       "  'cf_tracking_firefox53': '---',\n",
       "  'cf_tracking_firefox54': '---',\n",
       "  'cf_tracking_firefox55': '---',\n",
       "  'cf_tracking_firefox56': '---',\n",
       "  'cf_tracking_firefox57': '---',\n",
       "  'cf_tracking_firefox_esr45': '---',\n",
       "  'cf_tracking_firefox_esr52': '---',\n",
       "  'cf_tracking_firefox_relnote': '---',\n",
       "  'cf_user_story': '',\n",
       "  'classification': 'Client Software',\n",
       "  'comment_count': 11,\n",
       "  'component': 'General',\n",
       "  'creation_time': '2017-02-06T20:07:10Z',\n",
       "  'creator': 'adamam@ohsu.edu',\n",
       "  'creator_detail': {'email': 'adamam@ohsu.edu',\n",
       "   'id': 588554,\n",
       "   'name': 'adamam@ohsu.edu',\n",
       "   'real_name': 'AmandaMarie Adams'},\n",
       "  'depends_on': [],\n",
       "  'dupe_of': None,\n",
       "  'flags': [],\n",
       "  'groups': [],\n",
       "  'id': 1337105,\n",
       "  'is_cc_accessible': True,\n",
       "  'is_confirmed': True,\n",
       "  'is_creator_accessible': True,\n",
       "  'is_open': True,\n",
       "  'keywords': ['crash'],\n",
       "  'last_change_time': '2017-05-09T10:16:31Z',\n",
       "  'mentors': [],\n",
       "  'mentors_detail': [],\n",
       "  'op_sys': 'Windows 7',\n",
       "  'platform': 'x86_64',\n",
       "  'priority': '--',\n",
       "  'product': 'Firefox',\n",
       "  'qa_contact': '',\n",
       "  'resolution': '',\n",
       "  'see_also': ['https://bugzilla.mozilla.org/show_bug.cgi?id=1335086'],\n",
       "  'severity': 'critical',\n",
       "  'status': 'NEW',\n",
       "  'summary': 'Crash in OOM | large | js::AutoEnterOOMUnsafeRegion::crash | js::AutoEnterOOMUnsafeRegion::crash | js::TenuringTracer::moveToTenured',\n",
       "  'target_milestone': '---',\n",
       "  'url': '',\n",
       "  'version': '51 Branch',\n",
       "  'votes': 1,\n",
       "  'whiteboard': ''},\n",
       " {'alias': None,\n",
       "  'assigned_to': 'nobody@mozilla.org',\n",
       "  'assigned_to_detail': {'email': 'nobody@mozilla.org',\n",
       "   'id': 1,\n",
       "   'name': 'nobody@mozilla.org',\n",
       "   'real_name': 'Nobody; OK to take it and work on it'},\n",
       "  'blocks': [],\n",
       "  'cc': ['epinal99-bugzilla2@yahoo.fr'],\n",
       "  'cc_detail': [{'email': 'epinal99-bugzilla2@yahoo.fr',\n",
       "    'id': 337567,\n",
       "    'name': 'epinal99-bugzilla2@yahoo.fr',\n",
       "    'real_name': 'Loic'}],\n",
       "  'cf_crash_signature': 'https://crash-stats.mozilla.com/report/index/406e1427-ff39-42e4-b07f-370ab2170217',\n",
       "  'cf_fx_iteration': '---',\n",
       "  'cf_fx_points': '---',\n",
       "  'cf_has_regression_range': '---',\n",
       "  'cf_has_str': '---',\n",
       "  'cf_last_resolved': '2017-02-18T13:47:58Z',\n",
       "  'cf_platform_rel': '---',\n",
       "  'cf_qa_whiteboard': '',\n",
       "  'cf_rank': None,\n",
       "  'cf_status_firefox53': '---',\n",
       "  'cf_status_firefox54': '---',\n",
       "  'cf_status_firefox55': '---',\n",
       "  'cf_status_firefox56': '---',\n",
       "  'cf_status_firefox57': '---',\n",
       "  'cf_status_firefox_esr45': '---',\n",
       "  'cf_status_firefox_esr52': '---',\n",
       "  'cf_tracking_firefox53': '---',\n",
       "  'cf_tracking_firefox54': '---',\n",
       "  'cf_tracking_firefox55': '---',\n",
       "  'cf_tracking_firefox56': '---',\n",
       "  'cf_tracking_firefox57': '---',\n",
       "  'cf_tracking_firefox_esr45': '---',\n",
       "  'cf_tracking_firefox_esr52': '---',\n",
       "  'cf_tracking_firefox_relnote': '---',\n",
       "  'cf_user_story': '',\n",
       "  'classification': 'Client Software',\n",
       "  'comment_count': 3,\n",
       "  'component': 'Untriaged',\n",
       "  'creation_time': '2017-02-17T19:40:29Z',\n",
       "  'creator': 'dirk@computer42.org',\n",
       "  'creator_detail': {'email': 'dirk@computer42.org',\n",
       "   'id': 450088,\n",
       "   'name': 'dirk@computer42.org',\n",
       "   'real_name': 'H.-Dirk Schmitt'},\n",
       "  'depends_on': [],\n",
       "  'dupe_of': 1335827,\n",
       "  'flags': [],\n",
       "  'groups': [],\n",
       "  'id': 1340647,\n",
       "  'is_cc_accessible': True,\n",
       "  'is_confirmed': False,\n",
       "  'is_creator_accessible': True,\n",
       "  'is_open': False,\n",
       "  'keywords': [],\n",
       "  'last_change_time': '2017-02-18T13:47:58Z',\n",
       "  'mentors': [],\n",
       "  'mentors_detail': [],\n",
       "  'op_sys': 'Unspecified',\n",
       "  'platform': 'Unspecified',\n",
       "  'priority': '--',\n",
       "  'product': 'Firefox',\n",
       "  'qa_contact': '',\n",
       "  'resolution': 'DUPLICATE',\n",
       "  'see_also': [],\n",
       "  'severity': 'major',\n",
       "  'status': 'RESOLVED',\n",
       "  'summary': 'crash if  started in a ssh session with ForwardX11',\n",
       "  'target_milestone': '---',\n",
       "  'url': '',\n",
       "  'version': '51 Branch',\n",
       "  'votes': 0,\n",
       "  'whiteboard': ''},\n",
       " {'alias': None,\n",
       "  'assigned_to': 'nobody@mozilla.org',\n",
       "  'assigned_to_detail': {'email': 'nobody@mozilla.org',\n",
       "   'id': 1,\n",
       "   'name': 'nobody@mozilla.org',\n",
       "   'real_name': 'Nobody; OK to take it and work on it'},\n",
       "  'blocks': [],\n",
       "  'cc': ['imz@altlinux.org'],\n",
       "  'cc_detail': [{'email': 'imz@altlinux.org',\n",
       "    'id': 513191,\n",
       "    'name': 'imz@altlinux.org',\n",
       "    'real_name': ''}],\n",
       "  'cf_crash_signature': '[@ libc-2.23.so@0x9889d]',\n",
       "  'cf_fx_iteration': '---',\n",
       "  'cf_fx_points': '---',\n",
       "  'cf_has_regression_range': '---',\n",
       "  'cf_has_str': '---',\n",
       "  'cf_last_resolved': '2017-02-28T08:06:55Z',\n",
       "  'cf_platform_rel': '---',\n",
       "  'cf_qa_whiteboard': '',\n",
       "  'cf_rank': None,\n",
       "  'cf_status_firefox51': '---',\n",
       "  'cf_status_firefox53': '---',\n",
       "  'cf_status_firefox54': '---',\n",
       "  'cf_status_firefox55': '---',\n",
       "  'cf_status_firefox56': '---',\n",
       "  'cf_status_firefox57': '---',\n",
       "  'cf_status_firefox_esr45': '---',\n",
       "  'cf_status_firefox_esr52': '---',\n",
       "  'cf_tracking_firefox53': '---',\n",
       "  'cf_tracking_firefox54': '---',\n",
       "  'cf_tracking_firefox55': '---',\n",
       "  'cf_tracking_firefox56': '---',\n",
       "  'cf_tracking_firefox57': '---',\n",
       "  'cf_tracking_firefox_esr45': '---',\n",
       "  'cf_tracking_firefox_esr52': '---',\n",
       "  'cf_tracking_firefox_relnote': '---',\n",
       "  'cf_user_story': '',\n",
       "  'classification': 'Client Software',\n",
       "  'comment_count': 5,\n",
       "  'component': 'General',\n",
       "  'creation_time': '2017-02-27T12:45:20Z',\n",
       "  'creator': 'z.vanya@gmail.com',\n",
       "  'creator_detail': {'email': 'z.vanya@gmail.com',\n",
       "   'id': 513190,\n",
       "   'name': 'z.vanya@gmail.com',\n",
       "   'real_name': ''},\n",
       "  'depends_on': [],\n",
       "  'dupe_of': None,\n",
       "  'flags': [],\n",
       "  'groups': [],\n",
       "  'id': 1342894,\n",
       "  'is_cc_accessible': True,\n",
       "  'is_confirmed': False,\n",
       "  'is_creator_accessible': True,\n",
       "  'is_open': False,\n",
       "  'keywords': [],\n",
       "  'last_change_time': '2017-02-28T08:06:55Z',\n",
       "  'mentors': [],\n",
       "  'mentors_detail': [],\n",
       "  'op_sys': 'Linux',\n",
       "  'platform': 'x86_64',\n",
       "  'priority': '--',\n",
       "  'product': 'Firefox',\n",
       "  'qa_contact': '',\n",
       "  'resolution': 'INVALID',\n",
       "  'see_also': [],\n",
       "  'severity': 'critical',\n",
       "  'status': 'RESOLVED',\n",
       "  'summary': 'Crash in libc-2.23.so@0x9889d',\n",
       "  'target_milestone': '---',\n",
       "  'url': '',\n",
       "  'version': '51 Branch',\n",
       "  'votes': 0,\n",
       "  'whiteboard': ''}]"
      ]
     },
     "execution_count": 31,
     "metadata": {},
     "output_type": "execute_result"
    }
   ],
   "source": [
    "with_sig"
   ]
  }
 ],
 "metadata": {
  "kernelspec": {
   "display_name": "Python 3",
   "language": "python",
   "name": "python3"
  },
  "language_info": {
   "codemirror_mode": {
    "name": "ipython",
    "version": 3
   },
   "file_extension": ".py",
   "mimetype": "text/x-python",
   "name": "python",
   "nbconvert_exporter": "python",
   "pygments_lexer": "ipython3",
   "version": "3.6.0"
  }
 },
 "nbformat": 4,
 "nbformat_minor": 2
}
