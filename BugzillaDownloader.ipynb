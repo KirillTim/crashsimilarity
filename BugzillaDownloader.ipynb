{
 "cells": [
  {
   "cell_type": "code",
   "execution_count": 2,
   "metadata": {
    "collapsed": true
   },
   "outputs": [],
   "source": [
    "import requests\n",
    "import re\n",
    "import time\n",
    "import numpy as np\n",
    "import pickle\n",
    "from datetime import timedelta\n",
    "from crashsimilarity.downloader import SocorroDownloader\n",
    "from crashsimilarity import utils\n",
    "from crashsimilarity.distance import DistanceCalculator\n",
    "from gensim.models import doc2vec\n",
    "import crashsimilarity.tmp as tmp\n",
    "import logging"
   ]
  },
  {
   "cell_type": "code",
   "execution_count": 1,
   "metadata": {
    "collapsed": false
   },
   "outputs": [],
   "source": [
    "BASE_URL = 'https://bugzilla.mozilla.org/rest/bug?'\n",
    "fields = ['id', 'summary', 'status', 'cf_crash_signature', 'see_also']\n",
    "from_date = '2015-05-31'\n",
    "to_date = '2016-05-31'\n",
    "suffix = '&chfield=[Bug creation]&chfieldfrom='+from_date+'&chfieldto='+to_date+'&f2=cf_crash_signature&o2=isnotempty&product=Core&product=Firefox'\n",
    "url_cf_not_empty_core_firefox_last_year = BASE_URL+'include_fields='+','.join(fields)+suffix"
   ]
  },
  {
   "cell_type": "code",
   "execution_count": 3,
   "metadata": {
    "collapsed": false
   },
   "outputs": [
    {
     "data": {
      "text/plain": [
       "1844"
      ]
     },
     "execution_count": 3,
     "metadata": {},
     "output_type": "execute_result"
    }
   ],
   "source": [
    "r1 = requests.get(url_cf_not_empty_core_firefox_last_year)\n",
    "data = r1.json()\n",
    "bugs = data['bugs']\n",
    "len(bugs)"
   ]
  },
  {
   "cell_type": "code",
   "execution_count": 4,
   "metadata": {
    "collapsed": false
   },
   "outputs": [
    {
     "data": {
      "text/plain": [
       "299"
      ]
     },
     "execution_count": 4,
     "metadata": {},
     "output_type": "execute_result"
    }
   ],
   "source": [
    "see_also = [i for i in bugs if i['see_also'] and any(['bugzilla.mozilla' in s for s in i['see_also']])]\n",
    "len(see_also)"
   ]
  },
  {
   "cell_type": "code",
   "execution_count": 5,
   "metadata": {
    "collapsed": false
   },
   "outputs": [
    {
     "data": {
      "text/plain": [
       "317"
      ]
     },
     "execution_count": 5,
     "metadata": {},
     "output_type": "execute_result"
    }
   ],
   "source": [
    "def clean_signatures(sigs):\n",
    "    sigs = [re.sub(r'\\(.*\\)', '', s.strip('[] ')) for s in sigs.split('\\r\\n')]\n",
    "    sigs = [s[2:] if s.startswith('@ ') else s for s in sigs]\n",
    "    sigs = [s.strip() for s in sigs]\n",
    "    return list(set(sigs))\n",
    "multiple_sig = [i for i in bugs if len(clean_signatures(i['cf_crash_signature'])) > 1]\n",
    "for sig in multiple_sig:\n",
    "    sig['clean'] = clean_signatures(sig['cf_crash_signature'])\n",
    "len(multiple_sig)"
   ]
  },
  {
   "cell_type": "code",
   "execution_count": 11,
   "metadata": {
    "collapsed": false
   },
   "outputs": [],
   "source": [
    "multiple_sig.sort(key=lambda x: len(x['clean']), reverse=True)"
   ]
  },
  {
   "cell_type": "code",
   "execution_count": 13,
   "metadata": {
    "collapsed": false
   },
   "outputs": [],
   "source": [
    "def download_stack_traces(sigs, traces_num=1):\n",
    "    from_date = utils.utc_today() - timedelta(days=360)\n",
    "    if isinstance(sigs, str):\n",
    "        sigs = [sigs]\n",
    "    params = {'signature': ['^'+i for i in sigs],\n",
    "              'date': ['>=' + str(from_date)],\n",
    "              '_facets': ['proto_signature'],\n",
    "              '_facets_size': traces_num\n",
    "             }\n",
    "    _SUPER_SEARCH_URL = 'https://crash-stats.mozilla.com/api/SuperSearch'\n",
    "    r = requests.get(_SUPER_SEARCH_URL, params)\n",
    "    return r.json()['facets']['proto_signature']"
   ]
  },
  {
   "cell_type": "code",
   "execution_count": 6,
   "metadata": {
    "collapsed": false
   },
   "outputs": [],
   "source": [
    "multiple_sig = [i for i in multiple_sig if len(i['clean']) < 20]"
   ]
  },
  {
   "cell_type": "code",
   "execution_count": 69,
   "metadata": {
    "collapsed": false
   },
   "outputs": [],
   "source": [
    "for i in range(len(traces)):\n",
    "    multiple_sig[i]['prepared'] = groups[i]"
   ]
  },
  {
   "cell_type": "code",
   "execution_count": 72,
   "metadata": {
    "collapsed": true
   },
   "outputs": [],
   "source": [
    "# pickle.dump(multiple_sig, open('data/multiple_sig_last_year.pickle', 'wb'))"
   ]
  },
  {
   "cell_type": "code",
   "execution_count": 14,
   "metadata": {
    "collapsed": false,
    "scrolled": true
   },
   "outputs": [
    {
     "name": "stdout",
     "output_type": "stream",
     "text": [
      "0 0.0002472400665283203\n",
      "20 76.9627845287323\n",
      "40 159.09608268737793\n",
      "60 254.4182641506195\n",
      "80 343.0237798690796\n",
      "100 418.8179714679718\n",
      "120 476.75723099708557\n",
      "140 612.9023175239563\n",
      "160 693.8782925605774\n",
      "180 799.8837325572968\n",
      "200 880.2676274776459\n",
      "220 992.3882038593292\n",
      "240 1080.863703250885\n",
      "260 1190.1470143795013\n",
      "280 1305.6669027805328\n",
      "300 1432.0678486824036\n",
      "311 1486.387377500534\n"
     ]
    }
   ],
   "source": [
    "traces = []\n",
    "t = time.time()\n",
    "for i, sig in enumerate(multiple_sig):\n",
    "    if i % 20 == 0:\n",
    "        print(i, time.time() - t)\n",
    "    cur = [download_stack_traces(x) for x in sig['clean']]\n",
    "    traces.append(cur)\n",
    "print(i, time.time() - t)"
   ]
  },
  {
   "cell_type": "code",
   "execution_count": 20,
   "metadata": {
    "collapsed": false
   },
   "outputs": [],
   "source": [
    "# groups = []\n",
    "# for i, t in enumerate(traces):\n",
    "#     clean = []\n",
    "#     for x in t:\n",
    "#         if x:\n",
    "#             x = x[0]\n",
    "#             words = utils.StackTraceProcessor.preprocess(x['term'])\n",
    "#             if words[0] == '@0x':\n",
    "#                 words = words[1:]\n",
    "#             clean.append(words)\n",
    "#     groups.append(clean)"
   ]
  },
  {
   "cell_type": "code",
   "execution_count": 27,
   "metadata": {
    "collapsed": false
   },
   "outputs": [],
   "source": [
    "# for i, p in enumerate(groups):\n",
    "#     multiple_sig[i]['prepared'] = p"
   ]
  },
  {
   "cell_type": "code",
   "execution_count": 28,
   "metadata": {
    "collapsed": true
   },
   "outputs": [],
   "source": [
    "# pickle.dump(multiple_sig, open('data/model-size/multiple_sig_year_before.pickle', 'wb'))"
   ]
  },
  {
   "cell_type": "code",
   "execution_count": 29,
   "metadata": {
    "collapsed": false
   },
   "outputs": [],
   "source": [
    "# # pickle.dump(multiple_sig, open('data/multiple_sig.pickle', 'wb'))\n",
    "# multiple_sig = pickle.load(open('data/multiple_sig_last_year.pickle', 'rb'))\n",
    "# prepared = [sig['prepared'] for sig in multiple_sig]\n",
    "# len(multiple_sig)"
   ]
  },
  {
   "cell_type": "code",
   "execution_count": 30,
   "metadata": {
    "collapsed": false
   },
   "outputs": [],
   "source": [
    "# groups = []\n",
    "# corpus = []\n",
    "# for p in prepared:\n",
    "#     group = []\n",
    "#     for t in p:\n",
    "#         corpus.append(t)\n",
    "#         group.append(len(corpus)-1)\n",
    "#     groups.append(group)\n",
    "# compressed_corpus = [[str(vocab.get(i, i)) for i in c] for c in corpus]\n",
    "# compressed_corpus = [doc2vec.TaggedDocument(trace, [i]) for i, trace in enumerate(compressed_corpus)]\n",
    "# groups = [g for g in groups if len(g) > 1]"
   ]
  },
  {
   "cell_type": "code",
   "execution_count": 32,
   "metadata": {
    "collapsed": false
   },
   "outputs": [],
   "source": [
    "# model = doc2vec.Doc2Vec.load('data/model/dm_d200_all.model')\n",
    "# model"
   ]
  },
  {
   "cell_type": "code",
   "execution_count": 31,
   "metadata": {
    "collapsed": false
   },
   "outputs": [],
   "source": [
    "# dist, w2pos =  DistanceCalculator.words_distance(compressed_corpus, model)\n",
    "# distance_calculator = DistanceCalculator(model, w2pos, dist)\n",
    "# pos2w = dict([(i[1], i[0]) for i in w2pos.items()])\n",
    "# pos2vocab = dict([(i[1], i[0]) for i in vocab.items()])"
   ]
  }
 ],
 "metadata": {
  "kernelspec": {
   "display_name": "Python 3",
   "language": "python",
   "name": "python3"
  },
  "language_info": {
   "codemirror_mode": {
    "name": "ipython",
    "version": 3
   },
   "file_extension": ".py",
   "mimetype": "text/x-python",
   "name": "python",
   "nbconvert_exporter": "python",
   "pygments_lexer": "ipython3",
   "version": "3.6.0"
  }
 },
 "nbformat": 4,
 "nbformat_minor": 2
}
