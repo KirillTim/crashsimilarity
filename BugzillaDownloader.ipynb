{
 "cells": [
  {
   "cell_type": "code",
   "execution_count": 17,
   "metadata": {
    "collapsed": true
   },
   "outputs": [],
   "source": [
    "import requests\n",
    "import re\n",
    "import time\n",
    "import numpy as np\n",
    "import pickle\n",
    "from datetime import timedelta\n",
    "from crashsimilarity.downloader import SocorroDownloader\n",
    "from crashsimilarity import utils\n",
    "from crashsimilarity.distance import DistanceCalculator\n",
    "from gensim.models import doc2vec\n",
    "import crashsimilarity.tmp as tmp\n",
    "import logging"
   ]
  },
  {
   "cell_type": "code",
   "execution_count": null,
   "metadata": {
    "collapsed": true
   },
   "outputs": [],
   "source": [
    "BASE_URL = 'https://bugzilla.mozilla.org/rest/bug?'\n",
    "# url = 'https://bugzilla.mozilla.org/rest/bug?product=Firefox&version=51 branch&limit=1000'"
   ]
  },
  {
   "cell_type": "code",
   "execution_count": null,
   "metadata": {
    "collapsed": true
   },
   "outputs": [],
   "source": [
    "url1 = 'https://bugzilla.mozilla.org/rest/bug?include_fields=id,summary,status,cf_crash_signature,see_also&f1=cf_crash_signature&f2=see_also&o1=isnotempty&o2=isnotempty&product=Core&product=Firefox'"
   ]
  },
  {
   "cell_type": "code",
   "execution_count": null,
   "metadata": {
    "collapsed": false
   },
   "outputs": [],
   "source": [
    "r1 = requests.get(url1)\n",
    "r1"
   ]
  },
  {
   "cell_type": "code",
   "execution_count": null,
   "metadata": {
    "collapsed": false
   },
   "outputs": [],
   "source": [
    "data = r1.json()\n",
    "bugs = data['bugs']\n",
    "len(bugs)"
   ]
  },
  {
   "cell_type": "code",
   "execution_count": null,
   "metadata": {
    "collapsed": false
   },
   "outputs": [],
   "source": [
    "see_also = [i for i in bugs if i['see_also'] and any(['bugzilla.mozilla' in s for s in i['see_also']])]\n",
    "len(see_also)"
   ]
  },
  {
   "cell_type": "code",
   "execution_count": null,
   "metadata": {
    "collapsed": false
   },
   "outputs": [],
   "source": [
    "def clean_signatures(sigs):\n",
    "    sigs = [re.sub(r'\\(.*\\)', '', s.strip('[] ')) for s in sigs.split('\\r\\n')]\n",
    "    sigs = [s[2:] if s.startswith('@ ') else s for s in sigs]\n",
    "    sigs = [s.strip() for s in sigs]\n",
    "    return list(set(sigs))\n",
    "multiple_sig = [i for i in bugs if len(clean_signatures(i['cf_crash_signature'])) > 1]\n",
    "for sig in multiple_sig:\n",
    "    sig['clean'] = clean_signatures(sig['cf_crash_signature'])\n",
    "len(multiple_sig)"
   ]
  },
  {
   "cell_type": "code",
   "execution_count": null,
   "metadata": {
    "collapsed": false
   },
   "outputs": [],
   "source": [
    "multiple_sig.sort(key=lambda x: len(x['clean']), reverse=True)"
   ]
  },
  {
   "cell_type": "code",
   "execution_count": null,
   "metadata": {
    "collapsed": false
   },
   "outputs": [],
   "source": [
    "# traces = []\n",
    "# prev_t = time.time()\n",
    "# for i, bug in enumerate(multiple_sig):\n",
    "#     if i % 100 == 0:\n",
    "#         print('{}, time spent for last 100: {} (s)'.format(i, time.time() - prev_t))\n",
    "#         prev_t = time.time()\n",
    "#     cur = []\n",
    "#     for sig in bug['clean']:\n",
    "#         try:\n",
    "#             r = list(SocorroDownloader().download_stack_traces_for_signature(sig, traces_num=1, period=timedelta(days=350)))[0]\n",
    "#             if r:\n",
    "#                 cur.append(r)\n",
    "#         except:\n",
    "#             pass\n",
    "#     traces.append(cur)"
   ]
  },
  {
   "cell_type": "code",
   "execution_count": null,
   "metadata": {
    "collapsed": false
   },
   "outputs": [],
   "source": [
    "prepared = []\n",
    "for group in traces:\n",
    "    processed = [utils.StackTraceProcessor.preprocess(i) for i in group]\n",
    "    prepared.append(processed)"
   ]
  },
  {
   "cell_type": "code",
   "execution_count": null,
   "metadata": {
    "collapsed": false
   },
   "outputs": [],
   "source": [
    "for i, p in enumerate(prepared):\n",
    "    multiple_sig[i]['prepared'] = p"
   ]
  },
  {
   "cell_type": "code",
   "execution_count": 2,
   "metadata": {
    "collapsed": false
   },
   "outputs": [
    {
     "data": {
      "text/plain": [
       "222895"
      ]
     },
     "execution_count": 2,
     "metadata": {},
     "output_type": "execute_result"
    }
   ],
   "source": [
    "vocab = pickle.load(open('data/compressed_vocab.pickle', 'rb'))\n",
    "len(vocab)"
   ]
  },
  {
   "cell_type": "code",
   "execution_count": 3,
   "metadata": {
    "collapsed": false
   },
   "outputs": [
    {
     "data": {
      "text/plain": [
       "686"
      ]
     },
     "execution_count": 3,
     "metadata": {},
     "output_type": "execute_result"
    }
   ],
   "source": [
    "# pickle.dump(multiple_sig, open('data/multiple_sig.pickle', 'wb'))\n",
    "multiple_sig = pickle.load(open('data/multiple_sig.pickle', 'rb'))\n",
    "prepared = [sig['prepared'] for sig in multiple_sig]\n",
    "len(multiple_sig)"
   ]
  },
  {
   "cell_type": "code",
   "execution_count": 5,
   "metadata": {
    "collapsed": false
   },
   "outputs": [],
   "source": [
    "groups = []\n",
    "corpus = []\n",
    "for p in prepared:\n",
    "    group = []\n",
    "    for t in p:\n",
    "        corpus.append(t)\n",
    "        group.append(len(corpus)-1)\n",
    "    groups.append(group)\n",
    "compressed_corpus = [[str(vocab.get(i, i)) for i in c] for c in corpus]\n",
    "compressed_corpus = [doc2vec.TaggedDocument(trace, [i]) for i, trace in enumerate(compressed_corpus)]"
   ]
  },
  {
   "cell_type": "code",
   "execution_count": 6,
   "metadata": {
    "collapsed": false
   },
   "outputs": [
    {
     "data": {
      "text/plain": [
       "TaggedDocument(words=['2595', '571', '1510', '348', '349', '3443', '11904', '2787', '348', '572', '573'], tags=[42])"
      ]
     },
     "execution_count": 6,
     "metadata": {},
     "output_type": "execute_result"
    }
   ],
   "source": [
    "compressed_corpus[42]"
   ]
  },
  {
   "cell_type": "code",
   "execution_count": 7,
   "metadata": {
    "collapsed": false
   },
   "outputs": [
    {
     "name": "stderr",
     "output_type": "stream",
     "text": [
      "INFO:gensim.utils:loading Doc2Vec object from data/model/dm_d200_all.model\n",
      "INFO:gensim.utils:loading wv recursively from data/model/dm_d200_all.model.wv.* with mmap=None\n",
      "INFO:gensim.utils:loading syn0 from data/model/dm_d200_all.model.wv.syn0.npy with mmap=None\n",
      "INFO:gensim.utils:setting ignored attribute syn0norm to None\n",
      "INFO:gensim.utils:loading docvecs recursively from data/model/dm_d200_all.model.docvecs.* with mmap=None\n",
      "INFO:gensim.utils:loading doctag_syn0 from data/model/dm_d200_all.model.docvecs.doctag_syn0.npy with mmap=None\n",
      "INFO:gensim.utils:loading syn1neg from data/model/dm_d200_all.model.syn1neg.npy with mmap=None\n",
      "INFO:gensim.utils:setting ignored attribute cum_table to None\n",
      "INFO:gensim.utils:loaded data/model/dm_d200_all.model\n"
     ]
    },
    {
     "data": {
      "text/plain": [
       "<gensim.models.doc2vec.Doc2Vec at 0x7f9ad5f88eb8>"
      ]
     },
     "execution_count": 7,
     "metadata": {},
     "output_type": "execute_result"
    }
   ],
   "source": [
    "model = doc2vec.Doc2Vec.load('data/model/dm_d200_all.model')\n",
    "model"
   ]
  },
  {
   "cell_type": "code",
   "execution_count": 52,
   "metadata": {
    "collapsed": false
   },
   "outputs": [
    {
     "data": {
      "text/plain": [
       "26"
      ]
     },
     "execution_count": 52,
     "metadata": {},
     "output_type": "execute_result"
    }
   ],
   "source": [
    "group_5_and_more = [g for g in groups if len(g) >= 5]\n",
    "len(group_5_and_more)"
   ]
  },
  {
   "cell_type": "code",
   "execution_count": 8,
   "metadata": {
    "collapsed": false
   },
   "outputs": [
    {
     "name": "stderr",
     "output_type": "stream",
     "text": [
      "INFO:gensim.models.keyedvectors:precomputing L2-norms of word weight vectors\n"
     ]
    },
    {
     "name": "stdout",
     "output_type": "stream",
     "text": [
      "len(words) = 4103\n"
     ]
    }
   ],
   "source": [
    "dist, w2pos =  DistanceCalculator.words_distance(compressed_corpus, model)\n",
    "distance_calculator = DistanceCalculator(model, w2pos, dist)\n",
    "pos2w = dict([(i[1], i[0]) for i in w2pos.items()])\n",
    "pos2vocab = dict([(i[1], i[0]) for i in vocab.items()])"
   ]
  },
  {
   "cell_type": "code",
   "execution_count": 40,
   "metadata": {
    "collapsed": true
   },
   "outputs": [],
   "source": [
    "def wmd_mat(corpus, calculator, prog=10):\n",
    "    wmd_dist = np.zeros((len(corpus), len(corpus)), dtype=np.double)\n",
    "    idx = []\n",
    "    for i in range(len(corpus)):\n",
    "        for j in range(i+1, len(corpus)):\n",
    "            idx.append((i, j))\n",
    "    say = len(idx) // prog\n",
    "    t = time.time()\n",
    "    for s, (i, j) in enumerate(idx):\n",
    "        if s and s % say == 0:\n",
    "            print('{}%, {} s.'.format(s / (len(idx) * 0.01), time.time() - t))\n",
    "        doc1 = corpus[i].words\n",
    "        doc2 = corpus[j].words\n",
    "        wmd_dist[i, j] = wmd_dist[j, i] = calculator.fast_wmd(doc1, doc2)\n",
    "    return wmd_dist"
   ]
  },
  {
   "cell_type": "code",
   "execution_count": 45,
   "metadata": {
    "collapsed": false
   },
   "outputs": [],
   "source": [
    "# wmd_all = wmd_mat(compressed_corpus, distance_calculator, 50)\n",
    "# pickle.dump(wmd_all, open('data/wmd_all.pickle', 'wb'))\n",
    "wmd_all = pickle.load(open('data/wmd_all.pickle', 'rb'))"
   ]
  },
  {
   "cell_type": "code",
   "execution_count": 46,
   "metadata": {
    "collapsed": false
   },
   "outputs": [
    {
     "data": {
      "text/plain": [
       "(1051, 1051)"
      ]
     },
     "execution_count": 46,
     "metadata": {},
     "output_type": "execute_result"
    }
   ],
   "source": [
    "wmd_all.shape"
   ]
  },
  {
   "cell_type": "code",
   "execution_count": 61,
   "metadata": {
    "collapsed": false
   },
   "outputs": [],
   "source": [
    "def group_score(group, dist):\n",
    "    closest = [[x[0] for x in sorted(enumerate(dist[i]), key=lambda x:x[1])] for i in group]\n",
    "    score = []\n",
    "    for i, c in enumerate(closest):\n",
    "        others = others = [x for x in group if x != group[i]]\n",
    "        pos = [c.index(o) for o in others]\n",
    "        score.append((np.mean(pos), np.max(pos)))\n",
    "    return score"
   ]
  },
  {
   "cell_type": "code",
   "execution_count": 86,
   "metadata": {
    "collapsed": false
   },
   "outputs": [],
   "source": [
    "scores = []\n",
    "for group in group_5_and_more:\n",
    "    scores.append(group_score(group, wmd_all))"
   ]
  },
  {
   "cell_type": "code",
   "execution_count": 87,
   "metadata": {
    "collapsed": false
   },
   "outputs": [
    {
     "data": {
      "text/plain": [
       "[[(204.25, 807), (254.0, 763), (225.0, 605), (123.0, 368), (356.5, 769)],\n",
       " [(871.0, 928), (381.5, 1012), (458.75, 1022), (429.75, 945), (572.75, 1000)],\n",
       " [(145.40000000000001, 639),\n",
       "  (93.799999999999997, 157),\n",
       "  (79.599999999999994, 324),\n",
       "  (23.800000000000001, 37),\n",
       "  (276.60000000000002, 636),\n",
       "  (64.599999999999994, 119)],\n",
       " [(55.200000000000003, 138),\n",
       "  (31.600000000000001, 110),\n",
       "  (37.600000000000001, 126),\n",
       "  (17.600000000000001, 48),\n",
       "  (119.0, 254),\n",
       "  (67.400000000000006, 235)],\n",
       " [(136.125, 546),\n",
       "  (303.375, 653),\n",
       "  (64.125, 309),\n",
       "  (386.625, 605),\n",
       "  (61.375, 302),\n",
       "  (191.5, 841),\n",
       "  (63.0, 291),\n",
       "  (136.0, 546),\n",
       "  (81.75, 317)],\n",
       " [(270.19999999999999, 863),\n",
       "  (277.60000000000002, 771),\n",
       "  (529.79999999999995, 986),\n",
       "  (613.0, 776),\n",
       "  (150.19999999999999, 506),\n",
       "  (297.0, 891)],\n",
       " [(21.0, 63), (50.0, 77), (84.5, 201), (30.25, 110), (60.75, 89)],\n",
       " [(3.0, 5), (3.0, 5), (3.0, 5), (3.0, 5), (3.0, 5), (3.0, 5)],\n",
       " [(43.0, 50),\n",
       "  (7.2000000000000002, 13),\n",
       "  (8.0, 22),\n",
       "  (11.4, 37),\n",
       "  (47.200000000000003, 200),\n",
       "  (12.199999999999999, 48)],\n",
       " [(5.666666666666667, 11),\n",
       "  (5.8888888888888893, 11),\n",
       "  (6.1111111111111107, 11),\n",
       "  (6.1111111111111107, 11),\n",
       "  (7.2222222222222223, 13),\n",
       "  (6.7777777777777777, 13),\n",
       "  (6.7777777777777777, 11),\n",
       "  (6.1111111111111107, 11),\n",
       "  (6.7777777777777777, 11),\n",
       "  (6.1111111111111107, 11)],\n",
       " [(2.5, 4), (2.5, 4), (2.5, 4), (2.5, 4), (2.5, 4)],\n",
       " [(235.40000000000001, 870),\n",
       "  (315.19999999999999, 722),\n",
       "  (294.60000000000002, 961),\n",
       "  (274.39999999999998, 1036),\n",
       "  (311.39999999999998, 757),\n",
       "  (366.60000000000002, 917)],\n",
       " [(353.33333333333331, 995),\n",
       "  (749.5, 962),\n",
       "  (256.16666666666669, 674),\n",
       "  (651.66666666666663, 908),\n",
       "  (356.33333333333331, 942),\n",
       "  (444.5, 599),\n",
       "  (451.83333333333331, 1005)],\n",
       " [(47.428571428571431, 72),\n",
       "  (17.0, 25),\n",
       "  (4.1428571428571432, 8),\n",
       "  (4.0, 7),\n",
       "  (4.0, 7),\n",
       "  (3.8571428571428572, 7),\n",
       "  (43.285714285714285, 66),\n",
       "  (4.0, 8)],\n",
       " [(8.6666666666666661, 37),\n",
       "  (12.333333333333334, 59),\n",
       "  (8.5, 36),\n",
       "  (8.6666666666666661, 37),\n",
       "  (13.0, 63),\n",
       "  (8.5, 36),\n",
       "  (21.833333333333332, 28)],\n",
       " [(5.333333333333333, 10),\n",
       "  (5.0, 8),\n",
       "  (4.5, 8),\n",
       "  (3.5, 6),\n",
       "  (4.166666666666667, 8),\n",
       "  (4.166666666666667, 8),\n",
       "  (3.5, 6)],\n",
       " [(311.75, 502), (310.25, 521), (248.5, 822), (642.25, 953), (309.5, 800)],\n",
       " [(12.166666666666666, 51),\n",
       "  (13.166666666666666, 64),\n",
       "  (90.166666666666671, 207),\n",
       "  (10.888888888888889, 30),\n",
       "  (24.555555555555557, 141),\n",
       "  (24.5, 141),\n",
       "  (10.555555555555555, 26),\n",
       "  (10.5, 27),\n",
       "  (10.166666666666666, 22),\n",
       "  (10.555555555555555, 27),\n",
       "  (24.444444444444443, 141),\n",
       "  (10.444444444444445, 27),\n",
       "  (10.333333333333334, 24),\n",
       "  (11.111111111111111, 23),\n",
       "  (10.5, 26),\n",
       "  (10.833333333333334, 29),\n",
       "  (26.5, 54),\n",
       "  (41.722222222222221, 82),\n",
       "  (11.777777777777779, 26)],\n",
       " [(2.75, 5), (2.5, 4), (2.5, 4), (2.5, 4), (2.5, 4)],\n",
       " [(66.416666666666671, 194),\n",
       "  (67.083333333333329, 638),\n",
       "  (55.25, 181),\n",
       "  (173.0, 874),\n",
       "  (43.666666666666664, 273),\n",
       "  (42.5, 296),\n",
       "  (68.5, 667),\n",
       "  (49.583333333333336, 461),\n",
       "  (67.083333333333329, 223),\n",
       "  (71.416666666666671, 186),\n",
       "  (33.166666666666664, 157),\n",
       "  (85.416666666666671, 287),\n",
       "  (60.75, 537)],\n",
       " [(153.0, 309), (84.25, 172), (237.25, 614), (285.25, 317), (208.25, 464)],\n",
       " [(48.875, 268),\n",
       "  (55.75, 194),\n",
       "  (35.75, 213),\n",
       "  (226.5, 802),\n",
       "  (99.5, 743),\n",
       "  (126.875, 485),\n",
       "  (65.875, 430),\n",
       "  (11.875, 47),\n",
       "  (47.0, 341)],\n",
       " [(20.699999999999999, 124),\n",
       "  (7.0, 19),\n",
       "  (6.9000000000000004, 17),\n",
       "  (7.4000000000000004, 19),\n",
       "  (22.699999999999999, 143),\n",
       "  (7.0999999999999996, 18),\n",
       "  (7.0, 17),\n",
       "  (28.800000000000001, 200),\n",
       "  (123.5, 298),\n",
       "  (6.9000000000000004, 17),\n",
       "  (6.9000000000000004, 17)],\n",
       " [(163.66666666666666, 414),\n",
       "  (305.88888888888891, 427),\n",
       "  (79.111111111111114, 464),\n",
       "  (71.888888888888886, 162),\n",
       "  (52.888888888888886, 232),\n",
       "  (72.555555555555557, 334),\n",
       "  (41.555555555555557, 183),\n",
       "  (50.0, 291),\n",
       "  (73.666666666666671, 384),\n",
       "  (70.444444444444443, 404)],\n",
       " [(102.75, 186), (126.5, 500), (164.25, 577), (191.25, 424), (99.0, 342)],\n",
       " [(11.0, 39),\n",
       "  (11.714285714285714, 44),\n",
       "  (15.0, 71),\n",
       "  (21.142857142857142, 106),\n",
       "  (15.285714285714286, 70),\n",
       "  (203.85714285714286, 376),\n",
       "  (14.857142857142858, 71),\n",
       "  (14.285714285714286, 67)]]"
      ]
     },
     "execution_count": 87,
     "metadata": {},
     "output_type": "execute_result"
    }
   ],
   "source": [
    "scores"
   ]
  },
  {
   "cell_type": "code",
   "execution_count": 85,
   "metadata": {
    "collapsed": false
   },
   "outputs": [],
   "source": [
    "clear_scores = []\n",
    "for group in clear_groups:\n",
    "    clear_scores.append(group_score(group, wmd_all))"
   ]
  },
  {
   "cell_type": "code",
   "execution_count": 88,
   "metadata": {
    "collapsed": false
   },
   "outputs": [
    {
     "data": {
      "text/plain": [
       "[[(53.0, 105), (54.0, 107), (42.5, 47)],\n",
       " [(171.33333333333334, 343),\n",
       "  (271.0, 430),\n",
       "  (258.0, 282),\n",
       "  (430.33333333333331, 554)],\n",
       " [(19.0, 19), (3.0, 3)],\n",
       " [(50.0, 50), (32.0, 32)],\n",
       " [(136.125, 546),\n",
       "  (303.375, 653),\n",
       "  (64.125, 309),\n",
       "  (386.625, 605),\n",
       "  (61.375, 302),\n",
       "  (191.5, 841),\n",
       "  (63.0, 291),\n",
       "  (136.0, 546),\n",
       "  (81.75, 317)],\n",
       " [(322.75, 863), (324.5, 771), (415.75, 516), (611.5, 776), (316.5, 891)],\n",
       " [(11.0, 11), (2.0, 2)],\n",
       " [(3.0, 5), (3.0, 5), (3.0, 5), (3.0, 5), (3.0, 5), (3.0, 5)],\n",
       " [(45.5, 50), (7.75, 13), (13.5, 37), (57.25, 200), (14.75, 48)],\n",
       " [(5.666666666666667, 11),\n",
       "  (5.8888888888888893, 11),\n",
       "  (6.1111111111111107, 11),\n",
       "  (6.1111111111111107, 11),\n",
       "  (7.2222222222222223, 13),\n",
       "  (6.7777777777777777, 13),\n",
       "  (6.7777777777777777, 11),\n",
       "  (6.1111111111111107, 11),\n",
       "  (6.7777777777777777, 11),\n",
       "  (6.1111111111111107, 11)],\n",
       " [(2.5, 4), (2.5, 4), (2.5, 4), (2.5, 4), (2.5, 4)],\n",
       " [(43.666666666666664, 104),\n",
       "  (62.0, 172),\n",
       "  (14.333333333333334, 18),\n",
       "  (49.333333333333336, 129)],\n",
       " [(133.5, 165), (389.0, 523), (351.0, 680)],\n",
       " [(47.428571428571431, 72),\n",
       "  (17.0, 25),\n",
       "  (4.1428571428571432, 8),\n",
       "  (4.0, 7),\n",
       "  (4.0, 7),\n",
       "  (3.8571428571428572, 7),\n",
       "  (43.285714285714285, 66),\n",
       "  (4.0, 8)],\n",
       " [(8.6666666666666661, 37),\n",
       "  (12.333333333333334, 59),\n",
       "  (8.5, 36),\n",
       "  (8.6666666666666661, 37),\n",
       "  (13.0, 63),\n",
       "  (8.5, 36),\n",
       "  (21.833333333333332, 28)],\n",
       " [(5.333333333333333, 10),\n",
       "  (5.0, 8),\n",
       "  (4.5, 8),\n",
       "  (3.5, 6),\n",
       "  (4.166666666666667, 8),\n",
       "  (4.166666666666667, 8),\n",
       "  (3.5, 6)],\n",
       " [(204.5, 408), (215.0, 429), (350.5, 384)],\n",
       " [(47.545454545454547, 68),\n",
       "  (9.1818181818181817, 30),\n",
       "  (8.7272727272727266, 26),\n",
       "  (9.0909090909090917, 27),\n",
       "  (8.8181818181818183, 27),\n",
       "  (9.0, 27),\n",
       "  (8.1818181818181817, 23),\n",
       "  (8.7272727272727266, 26),\n",
       "  (9.0, 29),\n",
       "  (16.09090909090909, 54),\n",
       "  (27.818181818181817, 41),\n",
       "  (8.545454545454545, 26)],\n",
       " [(2.75, 5), (2.5, 4), (2.5, 4), (2.5, 4), (2.5, 4)],\n",
       " [(82.75, 194),\n",
       "  (15.25, 46),\n",
       "  (104.25, 238),\n",
       "  (27.125, 108),\n",
       "  (22.0, 112),\n",
       "  (14.5, 46),\n",
       "  (11.625, 28),\n",
       "  (79.625, 223),\n",
       "  (19.0, 97)],\n",
       " [(36.0, 69), (144.5, 286), (311.0, 317)],\n",
       " [(19.833333333333332, 67),\n",
       "  (11.5, 20),\n",
       "  (129.0, 258),\n",
       "  (7.666666666666667, 21),\n",
       "  (67.333333333333329, 154),\n",
       "  (14.666666666666666, 33),\n",
       "  (5.666666666666667, 14)],\n",
       " [(25.0, 124),\n",
       "  (6.625, 19),\n",
       "  (6.0, 17),\n",
       "  (6.375, 19),\n",
       "  (6.25, 18),\n",
       "  (6.375, 17),\n",
       "  (80.875, 284),\n",
       "  (6.25, 17),\n",
       "  (6.0, 17)],\n",
       " [(156.25, 364), (200.25, 338), (90.25, 232), (70.0, 183), (15.75, 44)],\n",
       " [(2.0, 3), (26.666666666666668, 77), (113.66666666666667, 276), (18.0, 47)],\n",
       " [(11.0, 39),\n",
       "  (11.714285714285714, 44),\n",
       "  (15.0, 71),\n",
       "  (21.142857142857142, 106),\n",
       "  (15.285714285714286, 70),\n",
       "  (203.85714285714286, 376),\n",
       "  (14.857142857142858, 71),\n",
       "  (14.285714285714286, 67)]]"
      ]
     },
     "execution_count": 88,
     "metadata": {},
     "output_type": "execute_result"
    }
   ],
   "source": [
    "clear_scores"
   ]
  },
  {
   "cell_type": "code",
   "execution_count": 93,
   "metadata": {
    "collapsed": false
   },
   "outputs": [],
   "source": [
    "def clear_groups(groups):\n",
    "    rv = []\n",
    "    for g in groups:\n",
    "        cg = [i for i in g if len(corpus[i]) > 3]\n",
    "        avg = np.average([len(corpus[i]) for i in cg])\n",
    "        cg = [i for i in cg if len(corpus[i]) > avg/2]\n",
    "        rv.append(cg)\n",
    "    return rv"
   ]
  },
  {
   "cell_type": "code",
   "execution_count": 60,
   "metadata": {
    "collapsed": false
   },
   "outputs": [
    {
     "data": {
      "text/plain": [
       "[['arena_dalloc_small',\n",
       "  'arena_dalloc',\n",
       "  'free',\n",
       "  \"nsprefbranch::`vector deleting destructor'\",\n",
       "  'nsprefbranch::release',\n",
       "  'mozilla::preferences::~preferences',\n",
       "  \"mozilla::preferences::`scalar deleting destructor'\",\n",
       "  'mozilla::preferences::release',\n",
       "  'mozilla::preferences::shutdown',\n",
       "  'nscomponentmanagerimpl::knownmodule::~knownmodule',\n",
       "  'nstarray<t>::destructrange',\n",
       "  'nstarray<t>::removeelementsat',\n",
       "  'nscomponentmanagerimpl::shutdown',\n",
       "  'mozilla::shutdownxpcom',\n",
       "  'scopedxpcomstartup::~scopedxpcomstartup',\n",
       "  'xre_main',\n",
       "  'wmain',\n",
       "  '_rtc_initialize',\n",
       "  '__tmaincrtstartup',\n",
       "  'firefox.exe@0x',\n",
       "  'basethreadinitthunk',\n",
       "  '__rtluserthreadstart',\n",
       "  '_rtluserthreadstart'],\n",
       " ['arena_dalloc_small',\n",
       "  'arena_dalloc',\n",
       "  'free',\n",
       "  \"nsprefbranch::`scalar deleting destructor'\",\n",
       "  'nsprefbranch::release',\n",
       "  'mozilla::preferences::~preferences',\n",
       "  \"mozilla::preferences::`vector deleting destructor'\",\n",
       "  'mozilla::preferences::release',\n",
       "  'mozilla::preferences::shutdown',\n",
       "  'nscomponentmanagerimpl::knownmodule::~knownmodule',\n",
       "  'nstarray<t>::destructrange',\n",
       "  'nstarray<t>::removeelementsat',\n",
       "  'nscomponentmanagerimpl::shutdown',\n",
       "  'mozilla::shutdownxpcom',\n",
       "  'scopedxpcomstartup::~scopedxpcomstartup',\n",
       "  'xre_main',\n",
       "  'wmain',\n",
       "  '_rtc_initialize',\n",
       "  '__tmaincrtstartup',\n",
       "  'firefox.exe@0x',\n",
       "  'basethreadinitthunk',\n",
       "  '__rtluserthreadstart',\n",
       "  '_rtluserthreadstart'],\n",
       " ['je_free',\n",
       "  'clearprefentry',\n",
       "  'clearprefentry',\n",
       "  'pl_dhashtablefinish',\n",
       "  'mozalloc.dll@0x',\n",
       "  'pref_cleanupprefs',\n",
       "  'mozilla::preferences::~preferences',\n",
       "  \"mozilla::preferences::`scalar deleting destructor'\",\n",
       "  'nscacheentrydescriptor::nsoutputstreamwrapper::release',\n",
       "  'mozilla::preferences::shutdown',\n",
       "  'nstarray<t>::destructrange',\n",
       "  'xul.dll@0x',\n",
       "  'nstarray<t>::removeelementsat',\n",
       "  'nscomponentmanagerimpl::shutdown',\n",
       "  'mozilla::shutdownxpcom',\n",
       "  'scopedxpcomstartup::~scopedxpcomstartup',\n",
       "  'xre_main',\n",
       "  'wmain',\n",
       "  'firefox.exe@0x',\n",
       "  '__tmaincrtstartup',\n",
       "  '_seh_epilog4',\n",
       "  'basethreadinitthunk',\n",
       "  '__rtluserthreadstart',\n",
       "  '_rtluserthreadstart'],\n",
       " ['je_free',\n",
       "  'xul.dll@0x',\n",
       "  'clearprefentry',\n",
       "  'pl_dhashtablefinish',\n",
       "  'mozalloc.dll@0x',\n",
       "  'pref_cleanupprefs',\n",
       "  'mozilla::preferences::~preferences',\n",
       "  \"mozilla::preferences::`vector deleting destructor'\",\n",
       "  'mozilla::preferences::release',\n",
       "  'mozilla::preferences::shutdown',\n",
       "  'nscomponentmanagerimpl::knownmodule::~knownmodule',\n",
       "  'nstarray<t>::destructrange',\n",
       "  'nstarray<t>::removeelementsat',\n",
       "  'nscomponentmanagerimpl::shutdown',\n",
       "  'mozilla::shutdownxpcom',\n",
       "  'scopedxpcomstartup::~scopedxpcomstartup',\n",
       "  'xre_main',\n",
       "  'wmain',\n",
       "  'firefox.exe@0x',\n",
       "  '__tmaincrtstartup',\n",
       "  '_seh_epilog4',\n",
       "  'basethreadinitthunk',\n",
       "  '__rtluserthreadstart',\n",
       "  '_rtluserthreadstart'],\n",
       " ['arena_dalloc_small',\n",
       "  'arena_dalloc',\n",
       "  'free',\n",
       "  'clearprefentry',\n",
       "  'pl_dhashtablefinish',\n",
       "  'mozalloc.dll@0x',\n",
       "  'pref_cleanupprefs',\n",
       "  'mozilla::preferences::~preferences',\n",
       "  \"mozilla::preferences::`scalar deleting destructor'\",\n",
       "  'mozilla::preferences::release',\n",
       "  'mozilla::preferences::shutdown',\n",
       "  'nscomponentmanagerimpl::knownmodule::~knownmodule',\n",
       "  'nstarray<t>::destructrange',\n",
       "  'nstarray<t>::removeelementsat',\n",
       "  'nscomponentmanagerimpl::shutdown',\n",
       "  'mozilla::shutdownxpcom',\n",
       "  'scopedxpcomstartup::~scopedxpcomstartup',\n",
       "  'xre_main',\n",
       "  'wmain',\n",
       "  '_rtc_initialize',\n",
       "  '__tmaincrtstartup',\n",
       "  'firefox.exe@0x',\n",
       "  'basethreadinitthunk',\n",
       "  '__rtluserthreadstart',\n",
       "  '_rtluserthreadstart']]"
      ]
     },
     "execution_count": 60,
     "metadata": {},
     "output_type": "execute_result"
    }
   ],
   "source": [
    "[corpus[i] for i in clear_groups[10]]"
   ]
  }
 ],
 "metadata": {
  "kernelspec": {
   "display_name": "Python 3",
   "language": "python",
   "name": "python3"
  },
  "language_info": {
   "codemirror_mode": {
    "name": "ipython",
    "version": 3
   },
   "file_extension": ".py",
   "mimetype": "text/x-python",
   "name": "python",
   "nbconvert_exporter": "python",
   "pygments_lexer": "ipython3",
   "version": "3.6.0"
  }
 },
 "nbformat": 4,
 "nbformat_minor": 2
}
