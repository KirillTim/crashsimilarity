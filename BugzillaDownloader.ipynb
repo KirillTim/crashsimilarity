{
 "cells": [
  {
   "cell_type": "code",
   "execution_count": 1,
   "metadata": {
    "collapsed": true
   },
   "outputs": [],
   "source": [
    "import requests\n",
    "import re\n",
    "import time\n",
    "import numpy as np\n",
    "import pickle\n",
    "from datetime import timedelta\n",
    "from crashsimilarity.downloader import SocorroDownloader\n",
    "from crashsimilarity import utils\n",
    "from crashsimilarity.distance import DistanceCalculator\n",
    "from gensim.models import doc2vec\n",
    "import crashsimilarity.tmp as tmp\n",
    "import logging"
   ]
  },
  {
   "cell_type": "code",
   "execution_count": 22,
   "metadata": {
    "collapsed": true
   },
   "outputs": [],
   "source": [
    "BASE_URL = 'https://bugzilla.mozilla.org/rest/bug?'\n",
    "# url = 'https://bugzilla.mozilla.org/rest/bug?product=Firefox&version=51 branch&limit=1000'"
   ]
  },
  {
   "cell_type": "code",
   "execution_count": 49,
   "metadata": {
    "collapsed": true
   },
   "outputs": [],
   "source": [
    "url1 = 'https://bugzilla.mozilla.org/rest/bug?include_fields=id,summary,status,cf_crash_signature,see_also&f1=cf_crash_signature&f2=see_also&o1=isnotempty&o2=isnotempty&product=Core&product=Firefox'"
   ]
  },
  {
   "cell_type": "code",
   "execution_count": 50,
   "metadata": {
    "collapsed": false
   },
   "outputs": [
    {
     "data": {
      "text/plain": [
       "<Response [200]>"
      ]
     },
     "execution_count": 50,
     "metadata": {},
     "output_type": "execute_result"
    }
   ],
   "source": [
    "r1 = requests.get(url1)\n",
    "r1"
   ]
  },
  {
   "cell_type": "code",
   "execution_count": 54,
   "metadata": {
    "collapsed": false
   },
   "outputs": [
    {
     "data": {
      "text/plain": [
       "10000"
      ]
     },
     "execution_count": 54,
     "metadata": {},
     "output_type": "execute_result"
    }
   ],
   "source": [
    "data = r1.json()\n",
    "bugs = data['bugs']\n",
    "len(bugs)"
   ]
  },
  {
   "cell_type": "code",
   "execution_count": 222,
   "metadata": {
    "collapsed": false
   },
   "outputs": [
    {
     "data": {
      "text/plain": [
       "69"
      ]
     },
     "execution_count": 222,
     "metadata": {},
     "output_type": "execute_result"
    }
   ],
   "source": [
    "see_also = [i for i in bugs if i['see_also'] and any(['bugzilla.mozilla' in s for s in i['see_also']])]\n",
    "len(see_also)"
   ]
  },
  {
   "cell_type": "code",
   "execution_count": 160,
   "metadata": {
    "collapsed": false
   },
   "outputs": [
    {
     "data": {
      "text/plain": [
       "686"
      ]
     },
     "execution_count": 160,
     "metadata": {},
     "output_type": "execute_result"
    }
   ],
   "source": [
    "def clean_signatures(sigs):\n",
    "    sigs = [re.sub(r'\\(.*\\)', '', s.strip('[] ')) for s in sigs.split('\\r\\n')]\n",
    "    sigs = [s[2:] if s.startswith('@ ') else s for s in sigs]\n",
    "    sigs = [s.strip() for s in sigs]\n",
    "    return list(set(sigs))\n",
    "multiple_sig = [i for i in bugs if len(clean_signatures(i['cf_crash_signature'])) > 1]\n",
    "for sig in multiple_sig:\n",
    "    sig['clean'] = clean_signatures(sig['cf_crash_signature'])\n",
    "len(multiple_sig)"
   ]
  },
  {
   "cell_type": "code",
   "execution_count": 97,
   "metadata": {
    "collapsed": false
   },
   "outputs": [],
   "source": [
    "multiple_sig.sort(key=lambda x: len(x['clean']), reverse=True)"
   ]
  },
  {
   "cell_type": "code",
   "execution_count": 171,
   "metadata": {
    "collapsed": false
   },
   "outputs": [
    {
     "name": "stdout",
     "output_type": "stream",
     "text": [
      "0, time spent for last 100: 0.00019550323486328125 (s)\n",
      "100, time spent for last 100: 318.5518651008606 (s)\n",
      "200, time spent for last 100: 400.7205352783203 (s)\n",
      "300, time spent for last 100: 450.31249618530273 (s)\n",
      "400, time spent for last 100: 383.8052191734314 (s)\n",
      "500, time spent for last 100: 537.849912405014 (s)\n",
      "600, time spent for last 100: 615.417822599411 (s)\n"
     ]
    }
   ],
   "source": [
    "# traces = []\n",
    "# prev_t = time.time()\n",
    "# for i, bug in enumerate(multiple_sig):\n",
    "#     if i % 100 == 0:\n",
    "#         print('{}, time spent for last 100: {} (s)'.format(i, time.time() - prev_t))\n",
    "#         prev_t = time.time()\n",
    "#     cur = []\n",
    "#     for sig in bug['clean']:\n",
    "#         try:\n",
    "#             r = list(SocorroDownloader().download_stack_traces_for_signature(sig, traces_num=1, period=timedelta(days=350)))[0]\n",
    "#             if r:\n",
    "#                 cur.append(r)\n",
    "#         except:\n",
    "#             pass\n",
    "#     traces.append(cur)"
   ]
  },
  {
   "cell_type": "code",
   "execution_count": 190,
   "metadata": {
    "collapsed": false
   },
   "outputs": [],
   "source": [
    "prepared = []\n",
    "for group in traces:\n",
    "    processed = [utils.StackTraceProcessor.preprocess(i) for i in group]\n",
    "    prepared.append(processed)"
   ]
  },
  {
   "cell_type": "code",
   "execution_count": 198,
   "metadata": {
    "collapsed": false
   },
   "outputs": [],
   "source": [
    "for i, p in enumerate(prepared):\n",
    "    multiple_sig[i]['prepared'] = p"
   ]
  },
  {
   "cell_type": "code",
   "execution_count": 2,
   "metadata": {
    "collapsed": false
   },
   "outputs": [
    {
     "data": {
      "text/plain": [
       "222895"
      ]
     },
     "execution_count": 2,
     "metadata": {},
     "output_type": "execute_result"
    }
   ],
   "source": [
    "vocab = pickle.load(open('data/compressed_vocab.pickle', 'rb'))\n",
    "len(vocab)"
   ]
  },
  {
   "cell_type": "code",
   "execution_count": 3,
   "metadata": {
    "collapsed": false
   },
   "outputs": [
    {
     "data": {
      "text/plain": [
       "686"
      ]
     },
     "execution_count": 3,
     "metadata": {},
     "output_type": "execute_result"
    }
   ],
   "source": [
    "# pickle.dump(multiple_sig, open('data/multiple_sig.pickle', 'wb'))\n",
    "multiple_sig = pickle.load(open('data/multiple_sig.pickle', 'rb'))\n",
    "prepared = [sig['prepared'] for sig in multiple_sig]\n",
    "len(multiple_sig)"
   ]
  },
  {
   "cell_type": "code",
   "execution_count": 4,
   "metadata": {
    "collapsed": false
   },
   "outputs": [],
   "source": [
    "groups = []\n",
    "corpus = []\n",
    "for p in prepared:\n",
    "    group = []\n",
    "    for t in p:\n",
    "        corpus.append(t)\n",
    "        group.append(len(corpus)-1)\n",
    "    groups.append(group)\n",
    "compressed_corpus = [[str(vocab.get(i, i)) for i in c] for c in corpus]\n",
    "compressed_corpus = [doc2vec.TaggedDocument(trace, [i]) for i, trace in enumerate(compressed_corpus)]"
   ]
  },
  {
   "cell_type": "code",
   "execution_count": 6,
   "metadata": {
    "collapsed": false
   },
   "outputs": [
    {
     "data": {
      "text/plain": [
       "TaggedDocument(words=['2595', '571', '1510', '348', '349', '3443', '11904', '2787', '348', '572', '573'], tags=[42])"
      ]
     },
     "execution_count": 6,
     "metadata": {},
     "output_type": "execute_result"
    }
   ],
   "source": [
    "compressed_corpus[42]"
   ]
  },
  {
   "cell_type": "code",
   "execution_count": 7,
   "metadata": {
    "collapsed": false
   },
   "outputs": [
    {
     "name": "stderr",
     "output_type": "stream",
     "text": [
      "INFO:gensim.utils:loading Doc2Vec object from data/model/dm_d200_all.model\n",
      "INFO:gensim.utils:loading wv recursively from data/model/dm_d200_all.model.wv.* with mmap=None\n",
      "INFO:gensim.utils:loading syn0 from data/model/dm_d200_all.model.wv.syn0.npy with mmap=None\n",
      "INFO:gensim.utils:setting ignored attribute syn0norm to None\n",
      "INFO:gensim.utils:loading docvecs recursively from data/model/dm_d200_all.model.docvecs.* with mmap=None\n",
      "INFO:gensim.utils:loading doctag_syn0 from data/model/dm_d200_all.model.docvecs.doctag_syn0.npy with mmap=None\n",
      "INFO:gensim.utils:loading syn1neg from data/model/dm_d200_all.model.syn1neg.npy with mmap=None\n",
      "INFO:gensim.utils:setting ignored attribute cum_table to None\n",
      "INFO:gensim.utils:loaded data/model/dm_d200_all.model\n"
     ]
    },
    {
     "data": {
      "text/plain": [
       "<gensim.models.doc2vec.Doc2Vec at 0x7fe71d3c7780>"
      ]
     },
     "execution_count": 7,
     "metadata": {},
     "output_type": "execute_result"
    }
   ],
   "source": [
    "model = doc2vec.Doc2Vec.load('data/model/dm_d200_all.model')\n",
    "model"
   ]
  },
  {
   "cell_type": "code",
   "execution_count": 24,
   "metadata": {
    "collapsed": false
   },
   "outputs": [
    {
     "data": {
      "text/plain": [
       "26"
      ]
     },
     "execution_count": 24,
     "metadata": {},
     "output_type": "execute_result"
    }
   ],
   "source": [
    "group_5_and_more = [g for g in groups if len(g) >= 5]\n",
    "len(group_5_and_more)"
   ]
  },
  {
   "cell_type": "code",
   "execution_count": 9,
   "metadata": {
    "collapsed": false
   },
   "outputs": [
    {
     "name": "stderr",
     "output_type": "stream",
     "text": [
      "INFO:gensim.models.keyedvectors:precomputing L2-norms of word weight vectors\n"
     ]
    },
    {
     "name": "stdout",
     "output_type": "stream",
     "text": [
      "len(words) = 4103\n"
     ]
    }
   ],
   "source": [
    "dist, w2pos =  DistanceCalculator.words_distance(compressed_corpus, model)\n",
    "distance_calculator = DistanceCalculator(model, w2pos, dist)\n",
    "pos2w = dict([(i[1], i[0]) for i in w2pos.items()])\n",
    "pos2vocab = dict([(i[1], i[0]) for i in vocab.items()])"
   ]
  },
  {
   "cell_type": "code",
   "execution_count": 16,
   "metadata": {
    "collapsed": false
   },
   "outputs": [],
   "source": [
    "def group_score(group, corpus, calc):\n",
    "    dist = dict()\n",
    "    for g in group:\n",
    "        dist[g] = [(i, calc.fast_wmd(corpus[g].words, c.words)) for i, c in enumerate(corpus)]\n",
    "    closest = [[x[0] for x in sorted(dist[i], key=lambda x:x[1])] for i in group]\n",
    "    score = []\n",
    "    for i, c in enumerate(closest):\n",
    "        others = others = [x for x in group if x != group[i]]\n",
    "        pos = [c.index(o) for o in others]\n",
    "        score.append((np.mean(pos), np.max(pos)))\n",
    "    return score"
   ]
  },
  {
   "cell_type": "code",
   "execution_count": 26,
   "metadata": {
    "collapsed": false
   },
   "outputs": [],
   "source": [
    "scores = []\n",
    "for group in group_5_and_more[:10]:\n",
    "    scores.append(group_score(group, compressed_corpus, distance_calculator))"
   ]
  },
  {
   "cell_type": "code",
   "execution_count": 27,
   "metadata": {
    "collapsed": false
   },
   "outputs": [
    {
     "data": {
      "text/plain": [
       "[[(204.25, 807), (254.0, 763), (225.0, 605), (123.0, 368), (356.5, 769)],\n",
       " [(871.0, 928), (381.5, 1012), (458.75, 1022), (429.75, 945), (572.75, 1000)],\n",
       " [(145.40000000000001, 639),\n",
       "  (93.799999999999997, 157),\n",
       "  (79.599999999999994, 324),\n",
       "  (23.800000000000001, 37),\n",
       "  (276.60000000000002, 636),\n",
       "  (64.599999999999994, 119)],\n",
       " [(55.200000000000003, 138),\n",
       "  (31.600000000000001, 110),\n",
       "  (37.600000000000001, 126),\n",
       "  (17.600000000000001, 48),\n",
       "  (119.0, 254),\n",
       "  (67.400000000000006, 235)],\n",
       " [(136.125, 546),\n",
       "  (303.375, 653),\n",
       "  (64.125, 309),\n",
       "  (386.625, 605),\n",
       "  (61.375, 302),\n",
       "  (191.5, 841),\n",
       "  (63.0, 291),\n",
       "  (136.0, 546),\n",
       "  (81.75, 317)],\n",
       " [(270.19999999999999, 863),\n",
       "  (277.60000000000002, 771),\n",
       "  (529.79999999999995, 986),\n",
       "  (613.0, 776),\n",
       "  (150.19999999999999, 506),\n",
       "  (297.0, 891)],\n",
       " [(21.0, 63), (50.0, 77), (84.5, 201), (30.25, 110), (60.75, 89)],\n",
       " [(3.0, 5), (3.0, 5), (3.0, 5), (3.0, 5), (3.0, 5), (3.0, 5)],\n",
       " [(43.0, 50),\n",
       "  (7.2000000000000002, 13),\n",
       "  (8.0, 22),\n",
       "  (11.4, 37),\n",
       "  (47.200000000000003, 200),\n",
       "  (12.199999999999999, 48)],\n",
       " [(5.666666666666667, 11),\n",
       "  (5.8888888888888893, 11),\n",
       "  (6.1111111111111107, 11),\n",
       "  (6.1111111111111107, 11),\n",
       "  (7.2222222222222223, 13),\n",
       "  (6.7777777777777777, 13),\n",
       "  (6.7777777777777777, 11),\n",
       "  (6.1111111111111107, 11),\n",
       "  (6.7777777777777777, 11),\n",
       "  (6.1111111111111107, 11)]]"
      ]
     },
     "execution_count": 27,
     "metadata": {},
     "output_type": "execute_result"
    }
   ],
   "source": [
    "scores"
   ]
  },
  {
   "cell_type": "code",
   "execution_count": 18,
   "metadata": {
    "collapsed": false
   },
   "outputs": [
    {
     "data": {
      "text/plain": [
       "[(134.0, 235), (438.5, 873), (335.0, 668)]"
      ]
     },
     "execution_count": 18,
     "metadata": {},
     "output_type": "execute_result"
    }
   ],
   "source": [
    "score"
   ]
  },
  {
   "cell_type": "code",
   "execution_count": 19,
   "metadata": {
    "collapsed": false
   },
   "outputs": [
    {
     "data": {
      "text/plain": [
       "[43, 44, 45]"
      ]
     },
     "execution_count": 19,
     "metadata": {},
     "output_type": "execute_result"
    }
   ],
   "source": [
    "group_3_and_more[0]"
   ]
  },
  {
   "cell_type": "code",
   "execution_count": 23,
   "metadata": {
    "collapsed": false
   },
   "outputs": [
    {
     "data": {
      "text/plain": [
       "['nsdocshell::setupnewviewer',\n",
       " 'nsdocshell::embed',\n",
       " 'nsdocshell::createcontentviewer',\n",
       " 'nsdsuricontentlistener::docontent',\n",
       " 'nsdocumentopeninfo::trycontentlistener',\n",
       " 'nsdocumentopeninfo::dispatchcontent',\n",
       " 'nsdocumentopeninfo::onstartrequest',\n",
       " 'nsjarchannel::onstartrequest',\n",
       " 'nsinputstreampump::onstatestart',\n",
       " 'nsinputstreampump::oninputstreamready',\n",
       " 'nsinputstreamreadyevent::run',\n",
       " 'nsthread::processnextevent',\n",
       " 'ns_processnextevent',\n",
       " 'nsthread::shutdown',\n",
       " 'mozilla::crashreporter::lspannotationgatherer::annotate',\n",
       " 'nsrunnablemethodimpl<t>::run',\n",
       " 'nsthread::processnextevent',\n",
       " 'ns_processnextevent',\n",
       " 'messageloop::runhandler',\n",
       " 'nsbaseappshell::run',\n",
       " 'nsappshell::run']"
      ]
     },
     "execution_count": 23,
     "metadata": {},
     "output_type": "execute_result"
    }
   ],
   "source": [
    "corpus[44]"
   ]
  },
  {
   "cell_type": "code",
   "execution_count": 22,
   "metadata": {
    "collapsed": false
   },
   "outputs": [
    {
     "data": {
      "text/plain": [
       "['nscomptr_base::assign_with_addref',\n",
       " 'documentviewerimpl::close',\n",
       " 'nsdocshell::setupnewviewer',\n",
       " 'nsdocshell::embed',\n",
       " 'nsdocshell::createcontentviewer',\n",
       " 'nsdsuricontentlistener::docontent',\n",
       " 'nsdocumentopeninfo::trycontentlistener',\n",
       " 'nsdocumentopeninfo::dispatchcontent',\n",
       " 'nsdocumentopeninfo::onstartrequest',\n",
       " 'nsjarchannel::onstartrequest',\n",
       " 'nsinputstreampump::onstatestart',\n",
       " 'nsinputstreampump::oninputstreamready',\n",
       " 'nsinputstreamreadyevent::run',\n",
       " 'nsthread::processnextevent',\n",
       " 'ns_processpendingevents_p',\n",
       " 'nswindow::dispatchpendingevents',\n",
       " 'nswindow::processmessage',\n",
       " 'nswindow::windowprocinternal',\n",
       " 'callwindowproccrashprotected',\n",
       " '@0x',\n",
       " 'callwindowproccrashprotected',\n",
       " '@0x',\n",
       " 'stringduplicatew',\n",
       " 'stringduplicatew',\n",
       " 'xul.dll@0x',\n",
       " 'firefox.exe@0x',\n",
       " 'getcodepagefileinfo',\n",
       " 'baseprocessstart',\n",
       " 'firefox.exe@0x']"
      ]
     },
     "execution_count": 22,
     "metadata": {},
     "output_type": "execute_result"
    }
   ],
   "source": [
    "corpus[45]"
   ]
  },
  {
   "cell_type": "code",
   "execution_count": 38,
   "metadata": {
    "collapsed": false
   },
   "outputs": [],
   "source": [
    "d2 = []\n",
    "for c in compressed_corpus:\n",
    "    d2.append(fast_rwmd_distance(model, compressed_corpus[idx].words, c.words, w2pos, dist))"
   ]
  },
  {
   "cell_type": "code",
   "execution_count": 29,
   "metadata": {
    "collapsed": false
   },
   "outputs": [
    {
     "ename": "TypeError",
     "evalue": "only integer arrays with one element can be converted to an index",
     "output_type": "error",
     "traceback": [
      "\u001b[0;31m---------------------------------------------------------------------------\u001b[0m",
      "\u001b[0;31mTypeError\u001b[0m                                 Traceback (most recent call last)",
      "\u001b[0;32m<ipython-input-29-f3d88e98a908>\u001b[0m in \u001b[0;36m<module>\u001b[0;34m()\u001b[0m\n\u001b[1;32m      4\u001b[0m \u001b[0midx\u001b[0m \u001b[0;34m=\u001b[0m \u001b[0mg\u001b[0m\u001b[0;34m[\u001b[0m\u001b[0;36m0\u001b[0m\u001b[0;34m]\u001b[0m\u001b[0;34m\u001b[0m\u001b[0m\n\u001b[1;32m      5\u001b[0m \u001b[0;32mfor\u001b[0m \u001b[0mi\u001b[0m \u001b[0;32min\u001b[0m \u001b[0mrange\u001b[0m\u001b[0;34m(\u001b[0m\u001b[0mlen\u001b[0m\u001b[0;34m(\u001b[0m\u001b[0mcompressed_corpus\u001b[0m\u001b[0;34m)\u001b[0m\u001b[0;34m)\u001b[0m\u001b[0;34m:\u001b[0m\u001b[0;34m\u001b[0m\u001b[0m\n\u001b[0;32m----> 6\u001b[0;31m     \u001b[0md\u001b[0m \u001b[0;34m=\u001b[0m \u001b[0mfast_rwmd_distances_all\u001b[0m\u001b[0;34m(\u001b[0m\u001b[0mmodel\u001b[0m\u001b[0;34m,\u001b[0m \u001b[0mcompressed_corpus\u001b[0m\u001b[0;34m[\u001b[0m\u001b[0midx\u001b[0m\u001b[0;34m]\u001b[0m\u001b[0;34m.\u001b[0m\u001b[0mwords\u001b[0m\u001b[0;34m,\u001b[0m \u001b[0mcompressed_corpus\u001b[0m\u001b[0;34m[\u001b[0m\u001b[0mi\u001b[0m\u001b[0;34m]\u001b[0m\u001b[0;34m.\u001b[0m\u001b[0mwords\u001b[0m\u001b[0;34m,\u001b[0m \u001b[0mw2pos\u001b[0m\u001b[0;34m,\u001b[0m \u001b[0mdist\u001b[0m\u001b[0;34m)\u001b[0m\u001b[0;34m\u001b[0m\u001b[0m\n\u001b[0m\u001b[1;32m      7\u001b[0m     \u001b[0mres\u001b[0m\u001b[0;34m.\u001b[0m\u001b[0mappend\u001b[0m\u001b[0;34m(\u001b[0m\u001b[0md\u001b[0m\u001b[0;34m)\u001b[0m\u001b[0;34m\u001b[0m\u001b[0m\n\u001b[1;32m      8\u001b[0m \u001b[0mprint\u001b[0m \u001b[0;34m(\u001b[0m\u001b[0mtime\u001b[0m\u001b[0;34m.\u001b[0m\u001b[0mtime\u001b[0m\u001b[0;34m(\u001b[0m\u001b[0;34m)\u001b[0m \u001b[0;34m-\u001b[0m \u001b[0mt\u001b[0m\u001b[0;34m)\u001b[0m\u001b[0;34m\u001b[0m\u001b[0m\n",
      "\u001b[0;32m<ipython-input-13-1ed231ea0572>\u001b[0m in \u001b[0;36mfast_rwmd_distances_all\u001b[0;34m(model, corpus, dist, w2pos, idx)\u001b[0m\n\u001b[1;32m      1\u001b[0m \u001b[0;32mdef\u001b[0m \u001b[0mfast_rwmd_distances_all\u001b[0m\u001b[0;34m(\u001b[0m\u001b[0mmodel\u001b[0m\u001b[0;34m,\u001b[0m \u001b[0mcorpus\u001b[0m\u001b[0;34m,\u001b[0m \u001b[0mdist\u001b[0m\u001b[0;34m,\u001b[0m \u001b[0mw2pos\u001b[0m\u001b[0;34m,\u001b[0m \u001b[0midx\u001b[0m\u001b[0;34m)\u001b[0m\u001b[0;34m:\u001b[0m\u001b[0;34m\u001b[0m\u001b[0m\n\u001b[0;32m----> 2\u001b[0;31m     \u001b[0mwords\u001b[0m \u001b[0;34m=\u001b[0m \u001b[0mcorpus\u001b[0m\u001b[0;34m[\u001b[0m\u001b[0midx\u001b[0m\u001b[0;34m]\u001b[0m\u001b[0;34m.\u001b[0m\u001b[0mwords\u001b[0m\u001b[0;34m\u001b[0m\u001b[0m\n\u001b[0m\u001b[1;32m      3\u001b[0m     \u001b[0mwords\u001b[0m \u001b[0;34m=\u001b[0m \u001b[0;34m[\u001b[0m\u001b[0mw\u001b[0m \u001b[0;32mfor\u001b[0m \u001b[0mw\u001b[0m \u001b[0;32min\u001b[0m \u001b[0mwords\u001b[0m \u001b[0;32mif\u001b[0m \u001b[0mw\u001b[0m \u001b[0;32min\u001b[0m \u001b[0mmodel\u001b[0m\u001b[0;34m]\u001b[0m\u001b[0;34m\u001b[0m\u001b[0m\n\u001b[1;32m      4\u001b[0m     \u001b[0midx_poss\u001b[0m \u001b[0;34m=\u001b[0m \u001b[0;34m[\u001b[0m\u001b[0mw2pos\u001b[0m\u001b[0;34m[\u001b[0m\u001b[0mw\u001b[0m\u001b[0;34m]\u001b[0m \u001b[0;32mfor\u001b[0m \u001b[0mw\u001b[0m \u001b[0;32min\u001b[0m \u001b[0mwords\u001b[0m \u001b[0;32mif\u001b[0m \u001b[0mw\u001b[0m \u001b[0;32min\u001b[0m \u001b[0mw2pos\u001b[0m\u001b[0;34m]\u001b[0m\u001b[0;34m\u001b[0m\u001b[0m\n\u001b[1;32m      5\u001b[0m     \u001b[0mdistances\u001b[0m \u001b[0;34m=\u001b[0m \u001b[0;34m[\u001b[0m\u001b[0;34m]\u001b[0m\u001b[0;34m\u001b[0m\u001b[0m\n",
      "\u001b[0;31mTypeError\u001b[0m: only integer arrays with one element can be converted to an index"
     ]
    }
   ],
   "source": [
    "logging.root.setLevel(logging.CRITICAL)\n",
    "t = time.time()\n",
    "res = []\n",
    "idx = g[0]\n",
    "for i in range(len(compressed_corpus)):\n",
    "    d = fast_wmdistance_all(model, compressed_corpus[idx].words, compressed_corpus[i].words, w2pos, dist)\n",
    "    res.append(d)\n",
    "print (time.time() - t)\n",
    "logging.root.setLevel(logging.INFO)"
   ]
  },
  {
   "cell_type": "code",
   "execution_count": 27,
   "metadata": {
    "collapsed": false
   },
   "outputs": [
    {
     "data": {
      "text/plain": [
       "1051"
      ]
     },
     "execution_count": 27,
     "metadata": {},
     "output_type": "execute_result"
    }
   ],
   "source": [
    "len(res)"
   ]
  },
  {
   "cell_type": "code",
   "execution_count": 711,
   "metadata": {
    "collapsed": true
   },
   "outputs": [],
   "source": [
    "closest = sorted(rwmd_all[g[0]], key=lambda x:x[1])"
   ]
  },
  {
   "cell_type": "code",
   "execution_count": 715,
   "metadata": {
    "collapsed": false
   },
   "outputs": [],
   "source": [
    "closest_wmd = sorted(list(enumerate(res)), key=lambda x:x[1])"
   ]
  },
  {
   "cell_type": "code",
   "execution_count": 716,
   "metadata": {
    "collapsed": false
   },
   "outputs": [
    {
     "data": {
      "text/plain": [
       "[(551, 0.0),\n",
       " (552, 0.04838442680510924),\n",
       " (555, 0.1415106299697912),\n",
       " (554, 0.2816956092271322),\n",
       " (553, 0.3483668778315673),\n",
       " (922, 0.45063622904741113),\n",
       " (923, 0.4530710519116199),\n",
       " (531, 0.5792857161297745),\n",
       " (909, 0.753549104651525),\n",
       " (252, 0.7541491725111394)]"
      ]
     },
     "execution_count": 716,
     "metadata": {},
     "output_type": "execute_result"
    }
   ],
   "source": [
    "closest_wmd[:10]"
   ]
  },
  {
   "cell_type": "code",
   "execution_count": 731,
   "metadata": {
    "collapsed": false
   },
   "outputs": [],
   "source": [
    "closest = [[x[0] for x in sorted(rwmd_all[i], key=lambda x:x[1])] for i in g]"
   ]
  },
  {
   "cell_type": "code",
   "execution_count": 738,
   "metadata": {
    "collapsed": false
   },
   "outputs": [],
   "source": [
    "closest = [[x[0] for x in sorted(rwmd_all[i], key=lambda x:x[1])] for i in g]\n",
    "score = []\n",
    "for i, c in enumerate(closest):\n",
    "    others = others = [x for x in g if x != g[i]]\n",
    "    pos = [c.index(o) for o in others]\n",
    "    score.append((np.mean(pos), np.max(pos)))\n",
    "return score"
   ]
  },
  {
   "cell_type": "code",
   "execution_count": 743,
   "metadata": {
    "collapsed": false
   },
   "outputs": [
    {
     "data": {
      "text/plain": [
       "[(2.5, 4), (2.5, 4), (3.0, 6), (2.5, 4), (2.5, 4)]"
      ]
     },
     "execution_count": 743,
     "metadata": {},
     "output_type": "execute_result"
    }
   ],
   "source": [
    "group_score(g, rwmd_all)"
   ]
  },
  {
   "cell_type": "code",
   "execution_count": 744,
   "metadata": {
    "collapsed": false
   },
   "outputs": [],
   "source": [
    "scores = [group_score(i, rwmd_all) for i in group_more5]"
   ]
  },
  {
   "cell_type": "code",
   "execution_count": 745,
   "metadata": {
    "collapsed": false
   },
   "outputs": [
    {
     "data": {
      "text/plain": [
       "[[(491.5, 696), (230.0, 689), (198.5, 550), (396.75, 682), (587.25, 782)],\n",
       " [(973.0, 1043), (390.75, 1013), (482.5, 1024), (459.0, 959), (915.5, 987)],\n",
       " [(202.59999999999999, 514),\n",
       "  (67.0, 130),\n",
       "  (277.80000000000001, 518),\n",
       "  (160.19999999999999, 451),\n",
       "  (287.80000000000001, 532),\n",
       "  (41.200000000000003, 70)],\n",
       " [(218.59999999999999, 890),\n",
       "  (360.39999999999998, 870),\n",
       "  (384.39999999999998, 923),\n",
       "  (228.19999999999999, 857),\n",
       "  (298.19999999999999, 852),\n",
       "  (190.19999999999999, 715)],\n",
       " [(119.25, 483),\n",
       "  (635.625, 862),\n",
       "  (78.75, 313),\n",
       "  (626.0, 836),\n",
       "  (76.125, 300),\n",
       "  (141.25, 597),\n",
       "  (49.375, 194),\n",
       "  (119.125, 483),\n",
       "  (60.5, 253)],\n",
       " [(262.80000000000001, 787),\n",
       "  (320.0, 772),\n",
       "  (942.60000000000002, 988),\n",
       "  (739.60000000000002, 897),\n",
       "  (867.79999999999995, 935),\n",
       "  (326.0, 839)],\n",
       " [(213.75, 778), (387.25, 885), (161.5, 444), (215.75, 769), (430.75, 899)],\n",
       " [(3.0, 5),\n",
       "  (23.0, 79),\n",
       "  (3.0, 5),\n",
       "  (3.0, 5),\n",
       "  (75.200000000000003, 256),\n",
       "  (3.0, 5)],\n",
       " [(47.200000000000003, 53),\n",
       "  (7.5999999999999996, 16),\n",
       "  (574.0, 861),\n",
       "  (349.0, 911),\n",
       "  (361.19999999999999, 942),\n",
       "  (188.19999999999999, 920)],\n",
       " [(6.8888888888888893, 18),\n",
       "  (6.1111111111111107, 11),\n",
       "  (77.666666666666671, 655),\n",
       "  (6.333333333333333, 11),\n",
       "  (8.1111111111111107, 19),\n",
       "  (7.2222222222222223, 15),\n",
       "  (9.8888888888888893, 39),\n",
       "  (6.333333333333333, 11),\n",
       "  (9.1111111111111107, 32),\n",
       "  (6.5555555555555554, 13)]]"
      ]
     },
     "execution_count": 745,
     "metadata": {},
     "output_type": "execute_result"
    }
   ],
   "source": [
    "scores[:10]"
   ]
  },
  {
   "cell_type": "code",
   "execution_count": 719,
   "metadata": {
    "collapsed": false
   },
   "outputs": [
    {
     "data": {
      "text/plain": [
       "1.6000000000000001"
      ]
     },
     "execution_count": 719,
     "metadata": {},
     "output_type": "execute_result"
    }
   ],
   "source": [
    "group_score(g, rwmd_all)"
   ]
  }
 ],
 "metadata": {
  "kernelspec": {
   "display_name": "Python 3",
   "language": "python",
   "name": "python3"
  },
  "language_info": {
   "codemirror_mode": {
    "name": "ipython",
    "version": 3
   },
   "file_extension": ".py",
   "mimetype": "text/x-python",
   "name": "python",
   "nbconvert_exporter": "python",
   "pygments_lexer": "ipython3",
   "version": "3.6.0"
  }
 },
 "nbformat": 4,
 "nbformat_minor": 2
}
