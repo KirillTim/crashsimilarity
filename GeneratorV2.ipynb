{
 "cells": [
  {
   "cell_type": "code",
   "execution_count": 92,
   "metadata": {
    "collapsed": true
   },
   "outputs": [],
   "source": [
    "import time\n",
    "import pickle\n",
    "import random\n",
    "from collections import defaultdict\n",
    "import numpy as np\n",
    "import matplotlib.pyplot as plt\n",
    "\n",
    "from gensim.models import doc2vec\n",
    "\n",
    "from crashsimilarity import other_distances as od\n",
    "from crashsimilarity import tmp\n",
    "from crashsimilarity.generator import Generator\n",
    "from crashsimilarity.distance import DistanceCalculator\n",
    "\n",
    "from sklearn import metrics\n",
    "from sklearn.metrics import pairwise"
   ]
  },
  {
   "cell_type": "code",
   "execution_count": 2,
   "metadata": {
    "collapsed": false
   },
   "outputs": [
    {
     "data": {
      "text/plain": [
       "222895"
      ]
     },
     "execution_count": 2,
     "metadata": {},
     "output_type": "execute_result"
    }
   ],
   "source": [
    "vocab = pickle.load(open('data/compressed_vocab.pickle', 'rb'))\n",
    "pos2vocab = dict([(i[1], i[0]) for i in vocab.items()])\n",
    "len(vocab)"
   ]
  },
  {
   "cell_type": "code",
   "execution_count": 3,
   "metadata": {
    "collapsed": false
   },
   "outputs": [
    {
     "name": "stderr",
     "output_type": "stream",
     "text": [
      "INFO:gensim.utils:loading Doc2Vec object from data/new-model/model_dm_200_30_days.model\n",
      "INFO:gensim.utils:loading wv recursively from data/new-model/model_dm_200_30_days.model.wv.* with mmap=None\n",
      "INFO:gensim.utils:loading syn0 from data/new-model/model_dm_200_30_days.model.wv.syn0.npy with mmap=None\n",
      "INFO:gensim.utils:setting ignored attribute syn0norm to None\n",
      "INFO:gensim.utils:loading docvecs recursively from data/new-model/model_dm_200_30_days.model.docvecs.* with mmap=None\n",
      "INFO:gensim.utils:loading doctag_syn0 from data/new-model/model_dm_200_30_days.model.docvecs.doctag_syn0.npy with mmap=None\n",
      "INFO:gensim.utils:loading syn1neg from data/new-model/model_dm_200_30_days.model.syn1neg.npy with mmap=None\n",
      "INFO:gensim.utils:setting ignored attribute cum_table to None\n",
      "INFO:gensim.utils:loaded data/new-model/model_dm_200_30_days.model\n"
     ]
    },
    {
     "data": {
      "text/plain": [
       "<gensim.models.doc2vec.Doc2Vec at 0x7f8c339b3630>"
      ]
     },
     "execution_count": 3,
     "metadata": {},
     "output_type": "execute_result"
    }
   ],
   "source": [
    "model = doc2vec.Doc2Vec.load('data/new-model/model_dm_200_30_days.model')\n",
    "model"
   ]
  },
  {
   "cell_type": "code",
   "execution_count": 4,
   "metadata": {
    "collapsed": false
   },
   "outputs": [
    {
     "data": {
      "text/plain": [
       "261"
      ]
     },
     "execution_count": 4,
     "metadata": {},
     "output_type": "execute_result"
    }
   ],
   "source": [
    "multiple_sig = pickle.load(open('data/multiple_sig_last_year.pickle', 'rb'))\n",
    "prepared = [sig['prepared'] for sig in multiple_sig]\n",
    "len(multiple_sig)"
   ]
  },
  {
   "cell_type": "code",
   "execution_count": 5,
   "metadata": {
    "collapsed": false
   },
   "outputs": [
    {
     "data": {
      "text/plain": [
       "221"
      ]
     },
     "execution_count": 5,
     "metadata": {},
     "output_type": "execute_result"
    }
   ],
   "source": [
    "corpus = []\n",
    "for p in prepared:\n",
    "    for t in p:\n",
    "        corpus.append(t)\n",
    "candidates = []\n",
    "for c in corpus:\n",
    "    if any(['@0x' in t for t in c]):\n",
    "        continue\n",
    "    qq = set(c)\n",
    "    if len(qq) > len(c) / 2.0 and len(c) > 10 and c not in candidates:\n",
    "        candidates.append(c)\n",
    "len(candidates)"
   ]
  },
  {
   "cell_type": "code",
   "execution_count": 6,
   "metadata": {
    "collapsed": true
   },
   "outputs": [],
   "source": [
    "random.shuffle(candidates)"
   ]
  },
  {
   "cell_type": "code",
   "execution_count": 7,
   "metadata": {
    "collapsed": false
   },
   "outputs": [
    {
     "name": "stderr",
     "output_type": "stream",
     "text": [
      "INFO:gensim.models.keyedvectors:precomputing L2-norms of word weight vectors\n"
     ]
    }
   ],
   "source": [
    "centers = 50\n",
    "generator = Generator(model, vocab, pos2vocab)\n",
    "clusters = []\n",
    "for i in range(centers):\n",
    "    cnt = random.randint(4, 7)\n",
    "    clusters.append(generator.generate(candidates[i], cnt))"
   ]
  },
  {
   "cell_type": "code",
   "execution_count": 84,
   "metadata": {
    "collapsed": false
   },
   "outputs": [
    {
     "data": {
      "text/plain": [
       "(50, 266)"
      ]
     },
     "execution_count": 84,
     "metadata": {},
     "output_type": "execute_result"
    }
   ],
   "source": [
    "groups = []\n",
    "corpus = []\n",
    "true_labels = []\n",
    "for p in clusters:\n",
    "    group = []\n",
    "    for t in p:\n",
    "        corpus.append(t)\n",
    "        group.append(len(corpus)-1)\n",
    "        true_labels.append(len(groups))\n",
    "    groups.append(group)\n",
    "len(groups), len(corpus)"
   ]
  },
  {
   "cell_type": "code",
   "execution_count": 11,
   "metadata": {
    "collapsed": true
   },
   "outputs": [],
   "source": [
    "compressed_corpus = od.compressed_tagged_corpus(corpus, vocab)"
   ]
  },
  {
   "cell_type": "code",
   "execution_count": 15,
   "metadata": {
    "collapsed": false
   },
   "outputs": [
    {
     "name": "stderr",
     "output_type": "stream",
     "text": [
      "INFO:gensim.models.keyedvectors:precomputing L2-norms of word weight vectors\n"
     ]
    },
    {
     "name": "stdout",
     "output_type": "stream",
     "text": [
      "len(words) = 895\n"
     ]
    }
   ],
   "source": [
    "dist, w2pos =  DistanceCalculator.words_distance(compressed_corpus, model)\n",
    "distance_calculator = DistanceCalculator(model, w2pos, dist)\n",
    "pos2w = dict([(i[1], i[0]) for i in w2pos.items()])\n",
    "pos2vocab = dict([(i[1], i[0]) for i in vocab.items()])"
   ]
  },
  {
   "cell_type": "code",
   "execution_count": 16,
   "metadata": {
    "collapsed": false
   },
   "outputs": [
    {
     "name": "stdout",
     "output_type": "stream",
     "text": [
      "9.998581359058022%, 11.079784154891968 s.\n",
      "19.997162718116044%, 22.78269910812378 s.\n",
      "29.99574407717407%, 34.30571269989014 s.\n",
      "39.99432543623209%, 49.44223165512085 s.\n",
      "49.99290679529011%, 59.97441649436951 s.\n",
      "59.99148815434814%, 68.0391013622284 s.\n",
      "69.99006951340616%, 81.2457709312439 s.\n",
      "79.98865087246418%, 91.76011514663696 s.\n",
      "89.9872322315222%, 103.8180763721466 s.\n",
      "99.98581359058022%, 115.58069109916687 s.\n"
     ]
    }
   ],
   "source": [
    "wmd = od.distance_matrix(compressed_corpus, distance_calculator.fast_wmd)"
   ]
  },
  {
   "cell_type": "code",
   "execution_count": 18,
   "metadata": {
    "collapsed": false
   },
   "outputs": [
    {
     "name": "stdout",
     "output_type": "stream",
     "text": [
      "9.998581359058022%, 2.588167905807495 s.\n",
      "19.997162718116044%, 5.440074682235718 s.\n",
      "29.99574407717407%, 8.47719144821167 s.\n",
      "39.99432543623209%, 12.176542282104492 s.\n",
      "49.99290679529011%, 14.555184602737427 s.\n",
      "59.99148815434814%, 16.225221157073975 s.\n",
      "69.99006951340616%, 19.224300146102905 s.\n",
      "79.98865087246418%, 21.647841215133667 s.\n",
      "89.9872322315222%, 24.463589668273926 s.\n",
      "99.98581359058022%, 27.16572380065918 s.\n"
     ]
    }
   ],
   "source": [
    "editd = od.distance_matrix(compressed_corpus, od.edit_distance2)"
   ]
  },
  {
   "cell_type": "code",
   "execution_count": 22,
   "metadata": {
    "collapsed": false
   },
   "outputs": [
    {
     "data": {
      "text/plain": [
       "(266, 266)"
      ]
     },
     "execution_count": 22,
     "metadata": {},
     "output_type": "execute_result"
    }
   ],
   "source": [
    "editd.shape"
   ]
  },
  {
   "cell_type": "code",
   "execution_count": 21,
   "metadata": {
    "collapsed": false
   },
   "outputs": [
    {
     "data": {
      "text/plain": [
       "(266, 266)"
      ]
     },
     "execution_count": 21,
     "metadata": {},
     "output_type": "execute_result"
    }
   ],
   "source": [
    "paragraph_vec = [model.infer_vector(i.words) for i in compressed_corpus]\n",
    "paragraphd = pairwise.euclidean_distances(paragraph_vec)\n",
    "paragraphd.shape"
   ]
  },
  {
   "cell_type": "code",
   "execution_count": 23,
   "metadata": {
    "collapsed": false
   },
   "outputs": [
    {
     "name": "stdout",
     "output_type": "stream",
     "text": [
      "9.998581359058022%, 15.137603282928467 s.\n",
      "19.997162718116044%, 32.273330211639404 s.\n",
      "29.99574407717407%, 50.40892839431763 s.\n",
      "39.99432543623209%, 72.46771383285522 s.\n",
      "49.99290679529011%, 86.77981281280518 s.\n",
      "59.99148815434814%, 96.73048949241638 s.\n",
      "69.99006951340616%, 114.84463334083557 s.\n",
      "79.98865087246418%, 129.67566847801208 s.\n",
      "89.9872322315222%, 146.49566459655762 s.\n",
      "99.98581359058022%, 162.23114609718323 s.\n"
     ]
    }
   ],
   "source": [
    "def semantic_dist(s1, s2):\n",
    "    return od.edit_distance2(s1, s2, subst_cost=distance_calculator.compressed_words_dist)\n",
    "eidt_semantic_d = od.distance_matrix(compressed_corpus, semantic_dist)"
   ]
  },
  {
   "cell_type": "code",
   "execution_count": 105,
   "metadata": {
    "collapsed": true
   },
   "outputs": [],
   "source": [
    "results = dict()"
   ]
  },
  {
   "cell_type": "code",
   "execution_count": 106,
   "metadata": {
    "collapsed": false
   },
   "outputs": [
    {
     "data": {
      "text/plain": [
       "46"
      ]
     },
     "execution_count": 106,
     "metadata": {},
     "output_type": "execute_result"
    }
   ],
   "source": [
    "results['wmd'] =  od.dbscan(wmd,eps=0.4, min_samples=4)\n",
    "results['wmd'][1]"
   ]
  },
  {
   "cell_type": "code",
   "execution_count": 107,
   "metadata": {
    "collapsed": false
   },
   "outputs": [
    {
     "data": {
      "text/plain": [
       "25"
      ]
     },
     "execution_count": 107,
     "metadata": {},
     "output_type": "execute_result"
    }
   ],
   "source": [
    "results['editd'] = od.dbscan(editd, eps=11, min_samples=4)\n",
    "results['editd'][1]"
   ]
  },
  {
   "cell_type": "code",
   "execution_count": null,
   "metadata": {
    "collapsed": true
   },
   "outputs": [],
   "source": [
    "# results['edit_struct_d'] = od."
   ]
  },
  {
   "cell_type": "code",
   "execution_count": 108,
   "metadata": {
    "collapsed": false
   },
   "outputs": [
    {
     "data": {
      "text/plain": [
       "14"
      ]
     },
     "execution_count": 108,
     "metadata": {},
     "output_type": "execute_result"
    }
   ],
   "source": [
    "results['paragraphd'] = od.dbscan(paragraphd, eps = 1.4, min_samples=4)\n",
    "results['paragraphd'][1]"
   ]
  },
  {
   "cell_type": "code",
   "execution_count": 109,
   "metadata": {
    "collapsed": false
   },
   "outputs": [
    {
     "data": {
      "text/plain": [
       "44"
      ]
     },
     "execution_count": 109,
     "metadata": {},
     "output_type": "execute_result"
    }
   ],
   "source": [
    "results['eidt_semantic_d'] = od.dbscan(eidt_semantic_d, eps=11, min_samples=4)\n",
    "results['eidt_semantic_d'][1]"
   ]
  },
  {
   "cell_type": "code",
   "execution_count": 110,
   "metadata": {
    "collapsed": false
   },
   "outputs": [],
   "source": [
    "def predicted_for_group(group, predicted):\n",
    "    rv = defaultdict(int)\n",
    "    for g in group:\n",
    "        for c, points in predicted.items():\n",
    "            if g in points:\n",
    "                rv[c] += 1\n",
    "    return rv\n",
    "\n",
    "def calc_accuracy(predicted, true):\n",
    "    total = sum([len(i) for i in predicted.values()])     \n",
    "    good = sum([max(predicted_for_group(g, predicted).values() or [0]) for g in true])\n",
    "    return good / float(total)"
   ]
  },
  {
   "cell_type": "code",
   "execution_count": 111,
   "metadata": {
    "collapsed": false
   },
   "outputs": [],
   "source": [
    "extended = dict()\n",
    "for k, v in results.items():\n",
    "    x = dict()\n",
    "    x['labels'] = v[0]\n",
    "    x['noise'] = len([i for i in v[0] if i == -1])\n",
    "    x['clusters_n'] = v[1]\n",
    "    x['clusters'] = od.labels_to_clusters(v[0])\n",
    "    x['accuracy'] = calc_accuracy(x['clusters'], groups)\n",
    "    x['homogeneity'] = metrics.homogeneity_score(true_labels, v[0])\n",
    "    x['completeness'] = metrics.completeness_score(true_labels, v[0])\n",
    "    x['fowlkes_mallows_score'] = metrics.fowlkes_mallows_score(true_labels, v[0])\n",
    "    extended[k] = x"
   ]
  },
  {
   "cell_type": "code",
   "execution_count": 113,
   "metadata": {
    "collapsed": false
   },
   "outputs": [
    {
     "name": "stdout",
     "output_type": "stream",
     "text": [
      "wmd 0 1.0 0.967790555983 1.0 0.892954881868\n",
      "editd 97 1.0 0.655190461119 0.982837203807 0.318721687051\n",
      "paragraphd 101 0.9878787878787879 0.418371028308 0.938122116128 0.224627877806\n",
      "eidt_semantic_d 4 1.0 0.960108677984 1.0 0.873627026459\n"
     ]
    }
   ],
   "source": [
    "for k, v in extended.items():\n",
    "    print(k, v['noise'], v['accuracy'], v['homogeneity'], v['completeness'], v['fowlkes_mallows_score'])"
   ]
  }
 ],
 "metadata": {
  "kernelspec": {
   "display_name": "Python 3",
   "language": "python",
   "name": "python3"
  },
  "language_info": {
   "codemirror_mode": {
    "name": "ipython",
    "version": 3
   },
   "file_extension": ".py",
   "mimetype": "text/x-python",
   "name": "python",
   "nbconvert_exporter": "python",
   "pygments_lexer": "ipython3",
   "version": "3.6.0"
  }
 },
 "nbformat": 4,
 "nbformat_minor": 2
}
