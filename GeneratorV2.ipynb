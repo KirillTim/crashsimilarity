{
 "cells": [
  {
   "cell_type": "code",
   "execution_count": 32,
   "metadata": {
    "collapsed": true
   },
   "outputs": [],
   "source": [
    "import time\n",
    "import pickle\n",
    "import random\n",
    "import math\n",
    "from collections import defaultdict\n",
    "import numpy as np\n",
    "import matplotlib.pyplot as plt\n",
    "\n",
    "from gensim.models import doc2vec\n",
    "\n",
    "from crashsimilarity import other_distances as od\n",
    "from crashsimilarity import tmp\n",
    "from crashsimilarity.generator import Generator\n",
    "from crashsimilarity.distance import DistanceCalculator\n",
    "\n",
    "from sklearn import metrics\n",
    "from sklearn.metrics import pairwise"
   ]
  },
  {
   "cell_type": "code",
   "execution_count": 2,
   "metadata": {
    "collapsed": false
   },
   "outputs": [
    {
     "data": {
      "text/plain": [
       "222895"
      ]
     },
     "execution_count": 2,
     "metadata": {},
     "output_type": "execute_result"
    }
   ],
   "source": [
    "vocab = pickle.load(open('data/compressed_vocab.pickle', 'rb'))\n",
    "pos2vocab = dict([(i[1], i[0]) for i in vocab.items()])\n",
    "len(vocab)"
   ]
  },
  {
   "cell_type": "code",
   "execution_count": 3,
   "metadata": {
    "collapsed": false
   },
   "outputs": [
    {
     "name": "stderr",
     "output_type": "stream",
     "text": [
      "INFO:gensim.utils:loading Doc2Vec object from data/new-model/model_dm_200_30_days.model\n",
      "INFO:gensim.utils:loading wv recursively from data/new-model/model_dm_200_30_days.model.wv.* with mmap=None\n",
      "INFO:gensim.utils:loading syn0 from data/new-model/model_dm_200_30_days.model.wv.syn0.npy with mmap=None\n",
      "INFO:gensim.utils:setting ignored attribute syn0norm to None\n",
      "INFO:gensim.utils:loading docvecs recursively from data/new-model/model_dm_200_30_days.model.docvecs.* with mmap=None\n",
      "INFO:gensim.utils:loading doctag_syn0 from data/new-model/model_dm_200_30_days.model.docvecs.doctag_syn0.npy with mmap=None\n",
      "INFO:gensim.utils:loading syn1neg from data/new-model/model_dm_200_30_days.model.syn1neg.npy with mmap=None\n",
      "INFO:gensim.utils:setting ignored attribute cum_table to None\n",
      "INFO:gensim.utils:loaded data/new-model/model_dm_200_30_days.model\n"
     ]
    },
    {
     "data": {
      "text/plain": [
       "<gensim.models.doc2vec.Doc2Vec at 0x7f715f3104a8>"
      ]
     },
     "execution_count": 3,
     "metadata": {},
     "output_type": "execute_result"
    }
   ],
   "source": [
    "model = doc2vec.Doc2Vec.load('data/new-model/model_dm_200_30_days.model')\n",
    "model"
   ]
  },
  {
   "cell_type": "code",
   "execution_count": 4,
   "metadata": {
    "collapsed": false
   },
   "outputs": [
    {
     "data": {
      "text/plain": [
       "261"
      ]
     },
     "execution_count": 4,
     "metadata": {},
     "output_type": "execute_result"
    }
   ],
   "source": [
    "multiple_sig = pickle.load(open('data/multiple_sig_last_year.pickle', 'rb'))\n",
    "prepared = [sig['prepared'] for sig in multiple_sig]\n",
    "len(multiple_sig)"
   ]
  },
  {
   "cell_type": "code",
   "execution_count": 5,
   "metadata": {
    "collapsed": false
   },
   "outputs": [
    {
     "data": {
      "text/plain": [
       "221"
      ]
     },
     "execution_count": 5,
     "metadata": {},
     "output_type": "execute_result"
    }
   ],
   "source": [
    "corpus = []\n",
    "for p in prepared:\n",
    "    for t in p:\n",
    "        corpus.append(t)\n",
    "candidates = []\n",
    "for c in corpus:\n",
    "    if any(['@0x' in t for t in c]):\n",
    "        continue\n",
    "    qq = set(c)\n",
    "    if len(qq) > len(c) / 2.0 and len(c) > 10 and c not in candidates:\n",
    "        candidates.append(c)\n",
    "len(candidates)"
   ]
  },
  {
   "cell_type": "code",
   "execution_count": 7,
   "metadata": {
    "collapsed": true
   },
   "outputs": [],
   "source": [
    "random.shuffle(candidates)"
   ]
  },
  {
   "cell_type": "code",
   "execution_count": 8,
   "metadata": {
    "collapsed": false
   },
   "outputs": [
    {
     "data": {
      "text/plain": [
       "221"
      ]
     },
     "execution_count": 8,
     "metadata": {},
     "output_type": "execute_result"
    }
   ],
   "source": [
    "len(candidates)"
   ]
  },
  {
   "cell_type": "code",
   "execution_count": 9,
   "metadata": {
    "collapsed": false
   },
   "outputs": [
    {
     "name": "stderr",
     "output_type": "stream",
     "text": [
      "INFO:gensim.models.keyedvectors:precomputing L2-norms of word weight vectors\n"
     ]
    }
   ],
   "source": [
    "centers = 50\n",
    "generator = Generator(model, vocab, pos2vocab)\n",
    "clusters = []\n",
    "for i in range(centers):\n",
    "    cnt = random.randint(4, 7)\n",
    "    clusters.append(generator.generate(candidates[i], cnt))"
   ]
  },
  {
   "cell_type": "code",
   "execution_count": 10,
   "metadata": {
    "collapsed": false
   },
   "outputs": [
    {
     "data": {
      "text/plain": [
       "(50, 270)"
      ]
     },
     "execution_count": 10,
     "metadata": {},
     "output_type": "execute_result"
    }
   ],
   "source": [
    "groups = []\n",
    "corpus = []\n",
    "true_labels = []\n",
    "for p in clusters:\n",
    "    group = []\n",
    "    for t in p:\n",
    "        corpus.append(t)\n",
    "        group.append(len(corpus)-1)\n",
    "        true_labels.append(len(groups))\n",
    "    groups.append(group)\n",
    "len(groups), len(corpus)"
   ]
  },
  {
   "cell_type": "code",
   "execution_count": 11,
   "metadata": {
    "collapsed": true
   },
   "outputs": [],
   "source": [
    "compressed_corpus = od.compressed_tagged_corpus(corpus, vocab)"
   ]
  },
  {
   "cell_type": "code",
   "execution_count": 12,
   "metadata": {
    "collapsed": false
   },
   "outputs": [
    {
     "name": "stderr",
     "output_type": "stream",
     "text": [
      "INFO:gensim.models.keyedvectors:precomputing L2-norms of word weight vectors\n"
     ]
    },
    {
     "name": "stdout",
     "output_type": "stream",
     "text": [
      "len(words) = 955\n"
     ]
    }
   ],
   "source": [
    "dist, w2pos =  DistanceCalculator.words_distance(compressed_corpus, model)\n",
    "distance_calculator = DistanceCalculator(model, w2pos, dist)\n",
    "pos2w = dict([(i[1], i[0]) for i in w2pos.items()])\n",
    "pos2vocab = dict([(i[1], i[0]) for i in vocab.items()])"
   ]
  },
  {
   "cell_type": "code",
   "execution_count": 13,
   "metadata": {
    "collapsed": false
   },
   "outputs": [
    {
     "name": "stdout",
     "output_type": "stream",
     "text": [
      "9.998623158474459%, 16.898571491241455 s.\n",
      "19.997246316948917%, 31.74764132499695 s.\n",
      "29.995869475423376%, 45.916672229766846 s.\n",
      "39.994492633897835%, 56.890480756759644 s.\n",
      "49.99311579237229%, 74.57357168197632 s.\n",
      "59.99173895084675%, 90.20590877532959 s.\n",
      "69.99036210932121%, 102.02522373199463 s.\n",
      "79.98898526779567%, 114.31541061401367 s.\n",
      "89.98760842627013%, 125.70089912414551 s.\n",
      "99.98623158474459%, 135.86778044700623 s.\n"
     ]
    }
   ],
   "source": [
    "wmd = od.distance_matrix(compressed_corpus, distance_calculator.fast_wmd)"
   ]
  },
  {
   "cell_type": "code",
   "execution_count": 14,
   "metadata": {
    "collapsed": false
   },
   "outputs": [
    {
     "name": "stdout",
     "output_type": "stream",
     "text": [
      "9.998623158474459%, 3.380789041519165 s.\n",
      "19.997246316948917%, 6.315523147583008 s.\n",
      "29.995869475423376%, 9.061351537704468 s.\n",
      "39.994492633897835%, 11.08815050125122 s.\n",
      "49.99311579237229%, 14.399194478988647 s.\n",
      "59.99173895084675%, 17.82077932357788 s.\n",
      "69.99036210932121%, 20.33037567138672 s.\n",
      "79.98898526779567%, 23.193928241729736 s.\n",
      "89.98760842627013%, 25.684646368026733 s.\n",
      "99.98623158474459%, 27.95629620552063 s.\n"
     ]
    }
   ],
   "source": [
    "editd = od.distance_matrix(compressed_corpus, od.edit_distance2)"
   ]
  },
  {
   "cell_type": "code",
   "execution_count": 15,
   "metadata": {
    "collapsed": false
   },
   "outputs": [
    {
     "data": {
      "text/plain": [
       "(270, 270)"
      ]
     },
     "execution_count": 15,
     "metadata": {},
     "output_type": "execute_result"
    }
   ],
   "source": [
    "editd.shape"
   ]
  },
  {
   "cell_type": "code",
   "execution_count": 16,
   "metadata": {
    "collapsed": false
   },
   "outputs": [
    {
     "data": {
      "text/plain": [
       "(270, 270)"
      ]
     },
     "execution_count": 16,
     "metadata": {},
     "output_type": "execute_result"
    }
   ],
   "source": [
    "paragraph_vec = [model.infer_vector(i.words) for i in compressed_corpus]\n",
    "paragraphd = pairwise.euclidean_distances(paragraph_vec)\n",
    "paragraphd.shape"
   ]
  },
  {
   "cell_type": "code",
   "execution_count": 17,
   "metadata": {
    "collapsed": false
   },
   "outputs": [
    {
     "name": "stdout",
     "output_type": "stream",
     "text": [
      "9.998623158474459%, 13.883564472198486 s.\n",
      "19.997246316948917%, 25.795589447021484 s.\n",
      "29.995869475423376%, 36.806708097457886 s.\n",
      "39.994492633897835%, 45.530301094055176 s.\n",
      "49.99311579237229%, 59.40377759933472 s.\n",
      "59.99173895084675%, 73.67054176330566 s.\n",
      "69.99036210932121%, 83.83214068412781 s.\n",
      "79.98898526779567%, 96.52167773246765 s.\n",
      "89.98760842627013%, 106.95459794998169 s.\n",
      "99.98623158474459%, 116.74296975135803 s.\n"
     ]
    }
   ],
   "source": [
    "def semantic_dist(s1, s2):\n",
    "    return od.edit_distance2(s1, s2, subst_cost=distance_calculator.compressed_words_dist)\n",
    "eidt_semantic_d = od.distance_matrix(compressed_corpus, semantic_dist)"
   ]
  },
  {
   "cell_type": "code",
   "execution_count": 18,
   "metadata": {
    "collapsed": true
   },
   "outputs": [],
   "source": [
    "results = dict()"
   ]
  },
  {
   "cell_type": "code",
   "execution_count": 19,
   "metadata": {
    "collapsed": false
   },
   "outputs": [
    {
     "data": {
      "text/plain": [
       "48"
      ]
     },
     "execution_count": 19,
     "metadata": {},
     "output_type": "execute_result"
    }
   ],
   "source": [
    "results['wmd'] =  od.dbscan(wmd,eps=0.4, min_samples=4)\n",
    "results['wmd'][1]"
   ]
  },
  {
   "cell_type": "code",
   "execution_count": 20,
   "metadata": {
    "collapsed": false
   },
   "outputs": [
    {
     "data": {
      "text/plain": [
       "27"
      ]
     },
     "execution_count": 20,
     "metadata": {},
     "output_type": "execute_result"
    }
   ],
   "source": [
    "results['editd'] = od.dbscan(editd, eps=11, min_samples=4)\n",
    "results['editd'][1]"
   ]
  },
  {
   "cell_type": "code",
   "execution_count": null,
   "metadata": {
    "collapsed": true
   },
   "outputs": [],
   "source": [
    "# results['edit_struct_d'] = od."
   ]
  },
  {
   "cell_type": "code",
   "execution_count": 41,
   "metadata": {
    "collapsed": false
   },
   "outputs": [
    {
     "data": {
      "text/plain": [
       "14"
      ]
     },
     "execution_count": 41,
     "metadata": {},
     "output_type": "execute_result"
    }
   ],
   "source": [
    "results['paragraphd'] = od.dbscan(paragraphd, eps = 1.4, min_samples=4)\n",
    "results['paragraphd'][1]"
   ]
  },
  {
   "cell_type": "code",
   "execution_count": 42,
   "metadata": {
    "collapsed": false
   },
   "outputs": [
    {
     "data": {
      "text/plain": [
       "44"
      ]
     },
     "execution_count": 42,
     "metadata": {},
     "output_type": "execute_result"
    }
   ],
   "source": [
    "results['eidt_semantic_d'] = od.dbscan(eidt_semantic_d, eps=11, min_samples=4)\n",
    "results['eidt_semantic_d'][1]"
   ]
  },
  {
   "cell_type": "code",
   "execution_count": 34,
   "metadata": {
    "collapsed": true
   },
   "outputs": [],
   "source": [
    "def true_positive(labels_true, labels_pred):\n",
    "    ans = set()\n",
    "    for i, a in enumerate(labels_true):\n",
    "        for j, b in enumerate(labels_true):\n",
    "            if j <= i:\n",
    "                continue\n",
    "            if a == b and labels_pred[i] == labels_pred[j] and labels_pred[i] != -1:\n",
    "                ans.add((min(i,j), max(i,j)))\n",
    "    return len(ans)\n",
    "\n",
    "def false_positive(labels_true, labels_pred):\n",
    "    ans = set()\n",
    "    for i, a in enumerate(labels_true):\n",
    "        for j, b in enumerate(labels_true):\n",
    "            if j <= i:\n",
    "                continue\n",
    "            if a == b and labels_pred[i] != labels_pred[j] and labels_pred[i] != -1:\n",
    "                ans.add((min(i,j), max(i,j)))\n",
    "    return len(ans)\n",
    "    \n",
    "def false_negative(labels_true, labels_pred):\n",
    "    ans = set()\n",
    "    for i, a in enumerate(labels_true):\n",
    "        for j, b in enumerate(labels_true):\n",
    "            if j <= i:\n",
    "                continue\n",
    "            if a != b and labels_pred[i] == labels_pred[j] and labels_pred[i] != -1:\n",
    "                ans.add((min(i,j), max(i,j)))\n",
    "    return len(ans)\n",
    "\n",
    "def my_precision(labels_true, labels_pred):\n",
    "    return float(true_positive(labels_true, labels_pred)) / (true_positive(labels_true, labels_pred) + false_positive(labels_true, labels_pred))\n",
    "\n",
    "def my_recall(labels_true, labels_pred):\n",
    "    return float(true_positive(labels_true, labels_pred)) / (true_positive(labels_true, labels_pred) + false_negative(labels_true, labels_pred))\n",
    "\n",
    "def my_FMI(labels_pred, labels_true):\n",
    "    tp = true_positive(labels_pred, labels_true)\n",
    "    fp = false_positive(labels_pred, labels_true)\n",
    "    fn = false_negative(labels_pred, labels_true)\n",
    "    return float(tp) / math.sqrt((tp+fp) * (tp+fn))\n",
    "\n",
    "def purity(labels_pred, labels_true):\n",
    "    "
   ]
  },
  {
   "cell_type": "code",
   "execution_count": 38,
   "metadata": {
    "collapsed": false
   },
   "outputs": [],
   "source": [
    "def predicted_for_group(group, predicted):\n",
    "    rv = defaultdict(int)\n",
    "    for g in group:\n",
    "        for c, points in predicted.items():\n",
    "            if g in points:\n",
    "                rv[c] += 1\n",
    "    return rv\n",
    "\n",
    "def calc_accuracy(predicted, true):\n",
    "    total = sum([len(i) for i in predicted.values()])     \n",
    "    good = sum([max(predicted_for_group(g, predicted).values() or [0]) for g in true])\n",
    "    return good / float(total)"
   ]
  },
  {
   "cell_type": "code",
   "execution_count": 50,
   "metadata": {
    "collapsed": false
   },
   "outputs": [],
   "source": [
    "extended = dict()\n",
    "for k, v in results.items():\n",
    "    x = dict()\n",
    "    x['labels'] = v[0]\n",
    "    x['noise'] = len([i for i in v[0] if i == -1])\n",
    "    x['clusters_n'] = v[1]\n",
    "    x['clusters'] = od.labels_to_clusters(v[0])\n",
    "    # x['accuracy'] = calc_accuracy(x['clusters'], groups)\n",
    "    # x['homogeneity'] = metrics.homogeneity_score(true_labels, v[0])\n",
    "    # x['completeness'] = metrics.completeness_score(true_labels, v[0])\n",
    "    x['precision'] = my_precision(v[0], true_labels)\n",
    "    x['recall'] = my_recall(v[0], true_labels)\n",
    "    x['my_fmi'] = my_FMI(v[0], true_labels)\n",
    "    x['fowlkes_mallows_score'] = metrics.fowlkes_mallows_score(true_labels, v[0])\n",
    "    extended[k] = x"
   ]
  },
  {
   "cell_type": "code",
   "execution_count": 51,
   "metadata": {
    "collapsed": false
   },
   "outputs": [
    {
     "name": "stdout",
     "output_type": "stream",
     "text": [
      "wmd 0 0.9237536656891495 1.0 0.961121046325\n",
      "editd 86 0.1330715532286213 0.9682539682539683 0.358952725962\n",
      "paragraphd 89 0.07867667500695023 0.8984126984126984 0.265864860211\n",
      "eidt_semantic_d 1 0.7652811735941321 0.9936507936507937 0.872021929488\n"
     ]
    }
   ],
   "source": [
    "for k, v in extended.items():\n",
    "    print(k, v['noise'], v['precision'], v['recall'], v['fowlkes_mallows_score'])"
   ]
  }
 ],
 "metadata": {
  "kernelspec": {
   "display_name": "Python 3",
   "language": "python",
   "name": "python3"
  },
  "language_info": {
   "codemirror_mode": {
    "name": "ipython",
    "version": 3
   },
   "file_extension": ".py",
   "mimetype": "text/x-python",
   "name": "python",
   "nbconvert_exporter": "python",
   "pygments_lexer": "ipython3",
   "version": "3.6.0"
  }
 },
 "nbformat": 4,
 "nbformat_minor": 2
}
