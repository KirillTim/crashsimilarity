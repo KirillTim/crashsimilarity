{
 "cells": [
  {
   "cell_type": "code",
   "execution_count": 230,
   "metadata": {
    "collapsed": true
   },
   "outputs": [],
   "source": [
    "import time\n",
    "import pickle\n",
    "import random\n",
    "from gensim.models import doc2vec\n",
    "import numpy as np\n",
    "import time \n",
    "\n",
    "import matplotlib.pyplot as plt\n",
    "from collections import defaultdict\n",
    "\n",
    "from sklearn.cluster import DBSCAN\n",
    "\n",
    "from crashsimilarity import other_distances as od\n",
    "from crashsimilarity.downloader import SocorroDownloader\n",
    "from crashsimilarity import utils\n",
    "from crashsimilarity import tmp\n",
    "from crashsimilarity.distance import DistanceCalculator"
   ]
  },
  {
   "cell_type": "code",
   "execution_count": 231,
   "metadata": {
    "collapsed": false
   },
   "outputs": [
    {
     "data": {
      "text/plain": [
       "222895"
      ]
     },
     "execution_count": 231,
     "metadata": {},
     "output_type": "execute_result"
    }
   ],
   "source": [
    "vocab = pickle.load(open('data/compressed_vocab.pickle', 'rb'))\n",
    "pos2vocab = dict([(i[1], i[0]) for i in vocab.items()])\n",
    "len(vocab)"
   ]
  },
  {
   "cell_type": "code",
   "execution_count": 52,
   "metadata": {
    "collapsed": false
   },
   "outputs": [
    {
     "name": "stderr",
     "output_type": "stream",
     "text": [
      "INFO:gensim.utils:loading Doc2Vec object from data/new-model/model_dm_200_30_days.model\n",
      "INFO:gensim.utils:loading wv recursively from data/new-model/model_dm_200_30_days.model.wv.* with mmap=None\n",
      "INFO:gensim.utils:loading syn0 from data/new-model/model_dm_200_30_days.model.wv.syn0.npy with mmap=None\n",
      "INFO:gensim.utils:setting ignored attribute syn0norm to None\n",
      "INFO:gensim.utils:loading docvecs recursively from data/new-model/model_dm_200_30_days.model.docvecs.* with mmap=None\n",
      "INFO:gensim.utils:loading doctag_syn0 from data/new-model/model_dm_200_30_days.model.docvecs.doctag_syn0.npy with mmap=None\n",
      "INFO:gensim.utils:loading syn1neg from data/new-model/model_dm_200_30_days.model.syn1neg.npy with mmap=None\n",
      "INFO:gensim.utils:setting ignored attribute cum_table to None\n",
      "INFO:gensim.utils:loaded data/new-model/model_dm_200_30_days.model\n"
     ]
    },
    {
     "data": {
      "text/plain": [
       "<gensim.models.doc2vec.Doc2Vec at 0x7fbecb25fb38>"
      ]
     },
     "execution_count": 52,
     "metadata": {},
     "output_type": "execute_result"
    }
   ],
   "source": [
    "model = doc2vec.Doc2Vec.load('data/new-model/model_dm_200_30_days.model')\n",
    "model"
   ]
  },
  {
   "cell_type": "code",
   "execution_count": 232,
   "metadata": {
    "collapsed": false
   },
   "outputs": [
    {
     "data": {
      "text/plain": [
       "261"
      ]
     },
     "execution_count": 232,
     "metadata": {},
     "output_type": "execute_result"
    }
   ],
   "source": [
    "multiple_sig = pickle.load(open('data/multiple_sig_last_year.pickle', 'rb'))\n",
    "prepared = [sig['prepared'] for sig in multiple_sig]\n",
    "len(multiple_sig)"
   ]
  },
  {
   "cell_type": "code",
   "execution_count": 233,
   "metadata": {
    "collapsed": true
   },
   "outputs": [],
   "source": [
    "groups = []\n",
    "corpus = []\n",
    "for p in prepared:\n",
    "    group = []\n",
    "    for t in p:\n",
    "        corpus.append(t)\n",
    "        group.append(len(corpus)-1)\n",
    "    groups.append(group)\n",
    "compressed_corpus = [[str(vocab.get(i, i)) for i in c] for c in corpus]\n",
    "compressed_corpus = [doc2vec.TaggedDocument(trace, [i]) for i, trace in enumerate(compressed_corpus)]\n",
    "groups = [g for g in groups if len(g) > 1]"
   ]
  },
  {
   "cell_type": "code",
   "execution_count": 234,
   "metadata": {
    "collapsed": false
   },
   "outputs": [
    {
     "data": {
      "text/plain": [
       "221"
      ]
     },
     "execution_count": 234,
     "metadata": {},
     "output_type": "execute_result"
    }
   ],
   "source": [
    "candidates = []\n",
    "for c in corpus:\n",
    "    ok = True\n",
    "    qq = set()\n",
    "    for t in c:\n",
    "        if '@0x' in t:\n",
    "            ok = False\n",
    "        qq.add(t)\n",
    "    if ok and len(qq) > len(c) / 2.0 and len(c) > 10 and c not in candidates:\n",
    "        candidates.append(c)\n",
    "len(candidates)"
   ]
  },
  {
   "cell_type": "code",
   "execution_count": 44,
   "metadata": {
    "collapsed": true
   },
   "outputs": [],
   "source": [
    "class Tmp(object):\n",
    "    def __init__(self, words):\n",
    "        self.words = words\n",
    "def struct_dist_calc(s1, s2):\n",
    "    return od.edit_distance2(s1, s2, subst_cost=od.struct_word_dist)"
   ]
  },
  {
   "cell_type": "code",
   "execution_count": 9,
   "metadata": {
    "collapsed": false
   },
   "outputs": [],
   "source": [
    "# candidates_struct_dist = od.distance_matrix([Tmp(i) for i in candidates], struct_dist_calc)\n",
    "candidates_struct_dist = pickle.load(open('candidates_struct_dist', 'rb'))"
   ]
  },
  {
   "cell_type": "code",
   "execution_count": 10,
   "metadata": {
    "collapsed": false
   },
   "outputs": [
    {
     "data": {
      "text/plain": [
       "(298, 298)"
      ]
     },
     "execution_count": 10,
     "metadata": {},
     "output_type": "execute_result"
    }
   ],
   "source": [
    "candidates_struct_dist.shape"
   ]
  },
  {
   "cell_type": "code",
   "execution_count": 45,
   "metadata": {
    "collapsed": false
   },
   "outputs": [],
   "source": [
    "def lcs_f(s1, s2):\n",
    "    return len(tmp.lcs(s1, s2))"
   ]
  },
  {
   "cell_type": "code",
   "execution_count": 46,
   "metadata": {
    "collapsed": false
   },
   "outputs": [
    {
     "name": "stdout",
     "output_type": "stream",
     "text": [
      "10.0%, 1.1770076751708984 s.\n",
      "20.0%, 2.679997682571411 s.\n",
      "30.0%, 4.053704500198364 s.\n",
      "40.0%, 5.143387317657471 s.\n",
      "50.0%, 6.347704172134399 s.\n",
      "60.0%, 7.663520812988281 s.\n",
      "70.0%, 8.677368402481079 s.\n",
      "80.0%, 10.07191276550293 s.\n",
      "90.0%, 11.303510665893555 s.\n"
     ]
    }
   ],
   "source": [
    "candidates_lcs = od.distance_matrix([Tmp(i) for i in candidates], lcs_f)"
   ]
  },
  {
   "cell_type": "code",
   "execution_count": 145,
   "metadata": {
    "collapsed": true
   },
   "outputs": [],
   "source": [
    "from pprint import pprint"
   ]
  },
  {
   "cell_type": "code",
   "execution_count": 200,
   "metadata": {
    "collapsed": true
   },
   "outputs": [],
   "source": [
    "def generate(trace, count=10, percent=0.33):\n",
    "    rv = []\n",
    "    idx = []\n",
    "    new = int(len(trace) * percent)\n",
    "    for i in range(count):\n",
    "        cur = list(set([random.randint(0, len(trace)-1) for _ in range(new)]))\n",
    "        idx.append(cur)\n",
    "    # pprint(idx)\n",
    "    rv = [change(trace, i) for i in idx]\n",
    "    return rv"
   ]
  },
  {
   "cell_type": "code",
   "execution_count": 199,
   "metadata": {
    "collapsed": true
   },
   "outputs": [],
   "source": [
    "def change(trace, idx):\n",
    "    other = trace[:]\n",
    "    for i in idx:\n",
    "        t = trace[i]\n",
    "        if t in vocab:\n",
    "            similar = model.most_similar(str(vocab[t]))\n",
    "            for w, _ in similar:\n",
    "                x = pos2vocab[int(w)]\n",
    "                if not x.endswith('________'):\n",
    "                    other[i] = x\n",
    "                    break\n",
    "        else:\n",
    "            other[i] = x\n",
    "    return other"
   ]
  },
  {
   "cell_type": "code",
   "execution_count": 104,
   "metadata": {
    "collapsed": false
   },
   "outputs": [
    {
     "data": {
      "text/plain": [
       "25"
      ]
     },
     "execution_count": 104,
     "metadata": {},
     "output_type": "execute_result"
    }
   ],
   "source": [
    "len(candidate)"
   ]
  },
  {
   "cell_type": "code",
   "execution_count": 115,
   "metadata": {
    "collapsed": false
   },
   "outputs": [],
   "source": [
    "idx = generate(candidate, count=5)"
   ]
  },
  {
   "cell_type": "code",
   "execution_count": 47,
   "metadata": {
    "collapsed": false
   },
   "outputs": [
    {
     "data": {
      "text/plain": [
       "812"
      ]
     },
     "execution_count": 47,
     "metadata": {},
     "output_type": "execute_result"
    }
   ],
   "source": [
    "__tmp = []\n",
    "for i in range(candidates_lcs.shape[0]):\n",
    "    for j in range(candidates_lcs.shape[1]):\n",
    "        if j <= i:\n",
    "            continue\n",
    "        if candidates_lcs[i, j] > 0 and candidates_lcs[i, j] > max(len(corpus[i]), len(corpus[j])) / 2.0:\n",
    "            __tmp.append((i,j, candidates_lcs[i, j]))\n",
    "len(__tmp)"
   ]
  },
  {
   "cell_type": "code",
   "execution_count": 191,
   "metadata": {
    "collapsed": false
   },
   "outputs": [
    {
     "data": {
      "text/plain": [
       "['ns_abort_oom',\n",
       " 'nsacstring_internal::assign',\n",
       " \"mozilla::dom::workers::`anonymous namespace'::fetcheventrunnable::handlebodywithheaders\",\n",
       " \"mozilla::dom::workers::`anonymous namespace'::fetcheventrunnable::init\",\n",
       " 'mozilla::dom::workers::serviceworkerprivate::sendfetchevent',\n",
       " \"mozilla::dom::workers::`anonymous namespace'::continuedispatchfetcheventrunnable::run\",\n",
       " 'mozilla::net::httpbasechannel::ensureuploadstreamiscloneablecomplete',\n",
       " 'mozilla::detail::runnablemethodimpl<t>::run',\n",
       " 'nsthread::processnextevent',\n",
       " 'mozilla::ipc::messagepump::run',\n",
       " 'messageloop::runhandler',\n",
       " 'nsbaseappshell::run',\n",
       " 'nsappshell::run',\n",
       " 'nsappstartup::run',\n",
       " 'xremain::xre_mainrun',\n",
       " 'xremain::xre_main',\n",
       " 'xre_main']"
      ]
     },
     "execution_count": 191,
     "metadata": {},
     "output_type": "execute_result"
    }
   ],
   "source": [
    "candidates[24]"
   ]
  },
  {
   "cell_type": "code",
   "execution_count": 192,
   "metadata": {
    "collapsed": false
   },
   "outputs": [
    {
     "name": "stdout",
     "output_type": "stream",
     "text": [
      "[[0, 9, 11, 5], [16, 2, 13], [16, 2, 5, 7], [4, 5, 6, 9, 15], [8, 12, 13, 7]]\n"
     ]
    }
   ],
   "source": [
    "xxx  = generate(candidates[24], count=5)"
   ]
  },
  {
   "cell_type": "code",
   "execution_count": 195,
   "metadata": {
    "collapsed": false
   },
   "outputs": [
    {
     "data": {
      "text/plain": [
       "[98, 68, 74, 43, 138, 206, 111, 178, 85, 216]"
      ]
     },
     "execution_count": 195,
     "metadata": {},
     "output_type": "execute_result"
    }
   ],
   "source": [
    "centers_count = 10\n",
    "centers = list(set([random.randint(0, len(candidates)) for _ in range(centers_count)]))\n",
    "centers"
   ]
  },
  {
   "cell_type": "code",
   "execution_count": 203,
   "metadata": {
    "collapsed": false
   },
   "outputs": [],
   "source": [
    "clusters = [generate(candidates[i], count=5) for i in centers]"
   ]
  },
  {
   "cell_type": "code",
   "execution_count": 202,
   "metadata": {
    "collapsed": false
   },
   "outputs": [
    {
     "data": {
      "text/plain": [
       "False"
      ]
     },
     "execution_count": 202,
     "metadata": {},
     "output_type": "execute_result"
    }
   ],
   "source": [
    "clusters[0][0] == clusters[0][1]"
   ]
  },
  {
   "cell_type": "code",
   "execution_count": 204,
   "metadata": {
    "collapsed": false
   },
   "outputs": [
    {
     "data": {
      "text/plain": [
       "50"
      ]
     },
     "execution_count": 204,
     "metadata": {},
     "output_type": "execute_result"
    }
   ],
   "source": [
    "corpus = []\n",
    "groups = []\n",
    "i = 0\n",
    "for c in clusters:\n",
    "    g = []\n",
    "    for x in c:\n",
    "        corpus.append(x)\n",
    "        g.append(i)\n",
    "        i += 1\n",
    "    groups.append(g)\n",
    "len(corpus)"
   ]
  },
  {
   "cell_type": "code",
   "execution_count": 249,
   "metadata": {
    "collapsed": false
   },
   "outputs": [
    {
     "data": {
      "text/plain": [
       "755"
      ]
     },
     "execution_count": 249,
     "metadata": {},
     "output_type": "execute_result"
    }
   ],
   "source": [
    "len(corpus)"
   ]
  },
  {
   "cell_type": "code",
   "execution_count": 247,
   "metadata": {
    "collapsed": false
   },
   "outputs": [
    {
     "name": "stdout",
     "output_type": "stream",
     "text": [
      "9.999824336430867%, 22.328802585601807 s.\n",
      "19.999648672861735%, 40.243231773376465 s.\n",
      "29.999473009292604%, 63.4761221408844 s.\n",
      "39.99929734572347%, 81.24119281768799 s.\n",
      "49.99912168215434%, 100.24409294128418 s.\n",
      "59.99894601858521%, 116.15589809417725 s.\n",
      "69.99877035501608%, 132.38292479515076 s.\n",
      "79.99859469144694%, 150.78666996955872 s.\n",
      "89.99841902787782%, 167.29236268997192 s.\n",
      "99.99824336430868%, 183.36088466644287 s.\n"
     ]
    }
   ],
   "source": [
    "ced = od.distance_matrix([Tmp(i) for i in corpus], od.edit_distance2)"
   ]
  },
  {
   "cell_type": "code",
   "execution_count": 206,
   "metadata": {
    "collapsed": false
   },
   "outputs": [
    {
     "name": "stdout",
     "output_type": "stream",
     "text": [
      "9.959183673469388%, 0.2979896068572998 s.\n",
      "19.918367346938776%, 0.502507209777832 s.\n",
      "29.877551020408163%, 0.6331648826599121 s.\n",
      "39.83673469387755%, 0.8284823894500732 s.\n",
      "49.795918367346935%, 1.1091279983520508 s.\n",
      "59.755102040816325%, 1.2701685428619385 s.\n",
      "69.71428571428571%, 1.4290871620178223 s.\n",
      "79.6734693877551%, 1.5999040603637695 s.\n",
      "89.63265306122449%, 1.749948263168335 s.\n",
      "99.59183673469387%, 1.8994369506835938 s.\n"
     ]
    }
   ],
   "source": [
    "csd = od.distance_matrix([Tmp(i) for i in corpus], struct_dist_calc)"
   ]
  },
  {
   "cell_type": "code",
   "execution_count": 211,
   "metadata": {
    "collapsed": false
   },
   "outputs": [],
   "source": [
    "def dbscan(dist, eps=0.5, min_samples=5):\n",
    "    db = DBSCAN(eps=eps, min_samples=min_samples, metric='precomputed').fit(dist)\n",
    "    core_samples_mask = np.zeros_like(db.labels_, dtype=bool)\n",
    "    core_samples_mask[db.core_sample_indices_] = True\n",
    "    labels = db.labels_\n",
    "    n_clusters = len(set(labels)) - (1 if -1 in labels else 0)\n",
    "    return labels, n_clusters, core_samples_mask"
   ]
  },
  {
   "cell_type": "code",
   "execution_count": 248,
   "metadata": {
    "collapsed": false
   },
   "outputs": [
    {
     "data": {
      "text/plain": [
       "80"
      ]
     },
     "execution_count": 248,
     "metadata": {},
     "output_type": "execute_result"
    }
   ],
   "source": [
    "l,n, c = dbscan(ced, eps = 9, min_samples=2)\n",
    "n"
   ]
  },
  {
   "cell_type": "code",
   "execution_count": 227,
   "metadata": {
    "collapsed": false
   },
   "outputs": [
    {
     "data": {
      "text/plain": [
       "[[0, 1, 2, 3, 4],\n",
       " [5, 6, 7, 8, 9],\n",
       " [10, 11, 12, 13, 14],\n",
       " [15, 16, 17, 18, 19],\n",
       " [20, 21, 22, 23, 24],\n",
       " [25, 26, 27, 28, 29],\n",
       " [30, 31, 32, 33, 34],\n",
       " [35, 36, 37, 38, 39],\n",
       " [40, 41, 42, 43, 44],\n",
       " [45, 46, 47, 48, 49]]"
      ]
     },
     "execution_count": 227,
     "metadata": {},
     "output_type": "execute_result"
    }
   ],
   "source": [
    "groups"
   ]
  },
  {
   "cell_type": "code",
   "execution_count": 244,
   "metadata": {
    "collapsed": false
   },
   "outputs": [
    {
     "data": {
      "text/plain": [
       "array([ 0,  0,  0,  0,  0,  1,  1,  1,  1,  1, -1, -1, -1,  2,  2,  3,  3,\n",
       "        3,  3,  3,  4,  4,  4,  4,  4,  5,  5,  5,  5,  5,  6,  6,  6,  6,\n",
       "        6,  7,  7,  7,  7,  7,  7,  7,  7,  7,  7,  8, -1,  8,  8,  8])"
      ]
     },
     "execution_count": 244,
     "metadata": {},
     "output_type": "execute_result"
    }
   ],
   "source": [
    "l"
   ]
  },
  {
   "cell_type": "code",
   "execution_count": 246,
   "metadata": {
    "collapsed": false
   },
   "outputs": [
    {
     "data": {
      "text/plain": [
       "defaultdict(list,\n",
       "            {0: [0, 1, 2, 3, 4],\n",
       "             1: [5, 6, 7, 8, 9],\n",
       "             2: [13, 14],\n",
       "             3: [15, 16, 17, 18, 19],\n",
       "             4: [20, 21, 22, 23, 24],\n",
       "             5: [25, 26, 27, 28, 29],\n",
       "             6: [30, 31, 32, 33, 34],\n",
       "             7: [35, 36, 37, 38, 39, 40, 41, 42, 43, 44],\n",
       "             8: [45, 47, 48, 49]})"
      ]
     },
     "execution_count": 246,
     "metadata": {},
     "output_type": "execute_result"
    }
   ],
   "source": [
    "labels_to_clusters(l)"
   ]
  },
  {
   "cell_type": "code",
   "execution_count": 245,
   "metadata": {
    "collapsed": true
   },
   "outputs": [],
   "source": [
    "def labels_to_clusters(labels):\n",
    "    clusters = defaultdict(list)\n",
    "    for i, c in enumerate(labels):\n",
    "        if c != -1:\n",
    "            clusters[c].append(i)\n",
    "    return clusters"
   ]
  },
  {
   "cell_type": "code",
   "execution_count": 76,
   "metadata": {
    "collapsed": false
   },
   "outputs": [],
   "source": [
    "other = []\n",
    "for t in candidate:\n",
    "    if t in vocab:\n",
    "        similar = model.most_similar(str(vocab[t]))\n",
    "        for w, _ in similar:\n",
    "            x = pos2vocab[int(w)]\n",
    "            if not x.endswith('________'):\n",
    "                other.append(x)\n",
    "                break\n",
    "    else:\n",
    "        other.append(t)"
   ]
  }
 ],
 "metadata": {
  "kernelspec": {
   "display_name": "Python 3",
   "language": "python",
   "name": "python3"
  },
  "language_info": {
   "codemirror_mode": {
    "name": "ipython",
    "version": 3
   },
   "file_extension": ".py",
   "mimetype": "text/x-python",
   "name": "python",
   "nbconvert_exporter": "python",
   "pygments_lexer": "ipython3",
   "version": "3.6.0"
  }
 },
 "nbformat": 4,
 "nbformat_minor": 2
}
