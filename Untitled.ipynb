{
 "cells": [
  {
   "cell_type": "code",
   "execution_count": 2,
   "metadata": {
    "collapsed": false
   },
   "outputs": [],
   "source": [
    "import logging\n",
    "import json\n",
    "import random\n",
    "from gensim import models\n",
    "import gensim\n",
    "import time\n",
    "import numpy as np\n",
    "import pickle\n",
    "from gensim.models import doc2vec\n",
    "import matplotlib.pyplot as plt"
   ]
  },
  {
   "cell_type": "code",
   "execution_count": 1,
   "metadata": {
    "collapsed": false
   },
   "outputs": [],
   "source": [
    "from crashsimilarity.downloader import SocorroDownloader, Downloader\n",
    "from crashsimilarity import utils\n",
    "from itertools import islice"
   ]
  },
  {
   "cell_type": "code",
   "execution_count": 3,
   "metadata": {
    "collapsed": false
   },
   "outputs": [],
   "source": [
    "# SocorroDownloader.download_and_save_crashes(10, save_to_dir='../new_crashes')"
   ]
  },
  {
   "cell_type": "code",
   "execution_count": 16,
   "metadata": {
    "collapsed": false
   },
   "outputs": [],
   "source": [
    "# new_clean = open('new_clean.json', 'w')\n",
    "# input_files = SocorroDownloader.get_dump_paths(50, data_dir='../new_crashes')\n",
    "# result = utils.StackTraceProcessor.process(utils.read_files(input_files))"
   ]
  },
  {
   "cell_type": "code",
   "execution_count": 20,
   "metadata": {
    "collapsed": false
   },
   "outputs": [],
   "source": [
    "# new_clean_compressed = open('new_clean_compressed.json', 'w')\n",
    "# input_files = SocorroDownloader.get_dump_paths(50, data_dir='../new_crashes')\n",
    "# result_compressed = utils.StackTraceProcessor.process_compressed(utils.read_files(input_files))\n",
    "# vocab = None\n",
    "# for i, (v, r) in enumerate(result_compressed):\n",
    "#     vocab = v\n",
    "#     if i % 100000 == 0:\n",
    "#         print(i)\n",
    "#     new_clean_compressed.write(json.dumps(r) + '\\n')"
   ]
  },
  {
   "cell_type": "code",
   "execution_count": 7,
   "metadata": {
    "collapsed": false
   },
   "outputs": [
    {
     "data": {
      "text/plain": [
       "222895"
      ]
     },
     "execution_count": 7,
     "metadata": {},
     "output_type": "execute_result"
    }
   ],
   "source": [
    "# pickle.dump(vocab, open('data/compressed_vocab.pickle', 'wb'))\n",
    "# len(vocab)"
   ]
  },
  {
   "cell_type": "code",
   "execution_count": 5,
   "metadata": {
    "collapsed": false
   },
   "outputs": [],
   "source": [
    "# for i, r in enumerate(result):\n",
    "#     if i % 100000 == 0:\n",
    "#         print(i)    \n",
    "#     new_clean.write(json.dumps(r) + '\\n')"
   ]
  },
  {
   "cell_type": "code",
   "execution_count": 3,
   "metadata": {
    "collapsed": true
   },
   "outputs": [],
   "source": [
    "def corpus_generator(file_name):\n",
    "    with open(file_name, 'r') as f:\n",
    "        for i, line in enumerate(f):\n",
    "            j = json.loads(line)\n",
    "            stack_trace = j[0]\n",
    "            yield doc2vec.TaggedDocument(stack_trace, [i])"
   ]
  },
  {
   "cell_type": "code",
   "execution_count": 141,
   "metadata": {
    "collapsed": false,
    "scrolled": true
   },
   "outputs": [
    {
     "name": "stderr",
     "output_type": "stream",
     "text": [
      "/home/kirill/anaconda3/lib/python3.6/site-packages/sklearn/manifold/mds.py:396: UserWarning: The MDS API has changed. ``fit`` now constructs an dissimilarity matrix from data. To use a custom dissimilarity matrix, set ``dissimilarity='precomputed'``.\n",
      "  warnings.warn(\"The MDS API has changed. ``fit`` now constructs an\"\n"
     ]
    },
    {
     "data": {
      "text/plain": [
       "(300, 2)"
      ]
     },
     "execution_count": 141,
     "metadata": {},
     "output_type": "execute_result"
    }
   ],
   "source": [
    "from sklearn.manifold import MDS\n",
    "clf = MDS()\n",
    "X_mds = clf.fit_transform(rwm_dist)\n",
    "X_mds.shape"
   ]
  },
  {
   "cell_type": "code",
   "execution_count": 144,
   "metadata": {
    "collapsed": false
   },
   "outputs": [
    {
     "data": {
      "image/png": "[encoded data removed]",
      "text/plain": [
       "<matplotlib.figure.Figure at 0x7f8d87ffb438>"
      ]
     },
     "metadata": {},
     "output_type": "display_data"
    }
   ],
   "source": [
    "plt.scatter(X_mds[:, 0], X_mds[:, 1])\n",
    "plt.show()"
   ]
  }
 ],
 "metadata": {
  "anaconda-cloud": {},
  "kernelspec": {
   "display_name": "Python 3",
   "language": "python",
   "name": "python3"
  },
  "language_info": {
   "codemirror_mode": {
    "name": "ipython",
    "version": 3
   },
   "file_extension": ".py",
   "mimetype": "text/x-python",
   "name": "python",
   "nbconvert_exporter": "python",
   "pygments_lexer": "ipython3",
   "version": "3.6.0"
  }
 },
 "nbformat": 4,
 "nbformat_minor": 0
}
