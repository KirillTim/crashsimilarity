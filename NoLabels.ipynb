{
 "cells": [
  {
   "cell_type": "code",
   "execution_count": 1,
   "metadata": {
    "collapsed": true
   },
   "outputs": [],
   "source": [
    "import requests\n",
    "import time\n",
    "from datetime import timedelta\n",
    "import pickle\n",
    "from gensim.models import doc2vec\n",
    "import numpy as np\n",
    "import time \n",
    "\n",
    "from sklearn.cluster import DBSCAN\n",
    "\n",
    "from crashsimilarity.downloader import SocorroDownloader\n",
    "from crashsimilarity import utils\n",
    "from crashsimilarity.distance import DistanceCalculator"
   ]
  },
  {
   "cell_type": "code",
   "execution_count": 2,
   "metadata": {
    "collapsed": true
   },
   "outputs": [],
   "source": [
    "signature2 = 'OOM | large | js::AutoEnterOOMUnsafeRegion::crash | js::AutoEnterOOMUnsafeRegion::crash | js::TenuringTracer::moveToTenured'"
   ]
  },
  {
   "cell_type": "code",
   "execution_count": 3,
   "metadata": {
    "collapsed": true
   },
   "outputs": [],
   "source": [
    "def download_stack_traces(sigs, traces_num=1):\n",
    "    from_date = utils.utc_today() - timedelta(days=360)\n",
    "    if isinstance(sigs, str):\n",
    "        sigs = [sigs]\n",
    "    params = {'signature': ['^'+i for i in sigs],\n",
    "              'date': ['>=' + str(from_date)],\n",
    "              '_facets': ['proto_signature'],\n",
    "              '_facets_size': traces_num\n",
    "             }\n",
    "    _SUPER_SEARCH_URL = 'https://crash-stats.mozilla.com/api/SuperSearch'\n",
    "    r = requests.get(_SUPER_SEARCH_URL, params)\n",
    "    return r.json()['facets']['proto_signature']"
   ]
  },
  {
   "cell_type": "code",
   "execution_count": 4,
   "metadata": {
    "collapsed": false
   },
   "outputs": [],
   "source": [
    "traces2 = download_stack_traces(signature2, traces_num=1000)"
   ]
  },
  {
   "cell_type": "code",
   "execution_count": 5,
   "metadata": {
    "collapsed": false
   },
   "outputs": [
    {
     "data": {
      "text/plain": [
       "1000"
      ]
     },
     "execution_count": 5,
     "metadata": {},
     "output_type": "execute_result"
    }
   ],
   "source": [
    "traces2 = set([i['term'] for i in traces2])\n",
    "corpus = []\n",
    "for x in traces2:\n",
    "    words = utils.StackTraceProcessor.preprocess(x)\n",
    "    if words[0] == '@0x':\n",
    "        words = words[1:]\n",
    "    corpus.append(words)\n",
    "len(corpus)"
   ]
  },
  {
   "cell_type": "code",
   "execution_count": null,
   "metadata": {
    "collapsed": true
   },
   "outputs": [],
   "source": []
  }
 ],
 "metadata": {
  "kernelspec": {
   "display_name": "Python 3",
   "language": "python",
   "name": "python3"
  },
  "language_info": {
   "codemirror_mode": {
    "name": "ipython",
    "version": 3
   },
   "file_extension": ".py",
   "mimetype": "text/x-python",
   "name": "python",
   "nbconvert_exporter": "python",
   "pygments_lexer": "ipython3",
   "version": "3.6.0"
  }
 },
 "nbformat": 4,
 "nbformat_minor": 2
}
