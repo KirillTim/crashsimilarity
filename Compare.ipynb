{
 "cells": [
  {
   "cell_type": "code",
   "execution_count": 59,
   "metadata": {
    "collapsed": true
   },
   "outputs": [],
   "source": [
    "import time\n",
    "import pickle\n",
    "import logging\n",
    "import collections\n",
    "\n",
    "import numpy as np\n",
    "import matplotlib.pyplot as plt\n",
    "from sklearn.metrics import pairwise\n",
    "\n",
    "from gensim.models import doc2vec\n",
    "\n",
    "import crashsimilarity.tmp as tmp\n",
    "import crashsimilarity.other_distances as od\n",
    "import crashsimilarity.metrics as metrics\n",
    "from crashsimilarity.distance import DistanceCalculator"
   ]
  },
  {
   "cell_type": "code",
   "execution_count": 2,
   "metadata": {
    "collapsed": false
   },
   "outputs": [
    {
     "data": {
      "text/plain": [
       "222895"
      ]
     },
     "execution_count": 2,
     "metadata": {},
     "output_type": "execute_result"
    }
   ],
   "source": [
    "vocab = pickle.load(open('data/compressed_vocab.pickle', 'rb'))\n",
    "pos2vocab = dict([(i[1], i[0]) for i in vocab.items()])\n",
    "len(vocab)"
   ]
  },
  {
   "cell_type": "code",
   "execution_count": 3,
   "metadata": {
    "collapsed": false
   },
   "outputs": [
    {
     "name": "stderr",
     "output_type": "stream",
     "text": [
      "INFO:gensim.utils:loading Doc2Vec object from data/new-model/model_dm_200_30_days.model\n",
      "INFO:gensim.utils:loading wv recursively from data/new-model/model_dm_200_30_days.model.wv.* with mmap=None\n",
      "INFO:gensim.utils:loading syn0 from data/new-model/model_dm_200_30_days.model.wv.syn0.npy with mmap=None\n",
      "INFO:gensim.utils:setting ignored attribute syn0norm to None\n",
      "INFO:gensim.utils:loading docvecs recursively from data/new-model/model_dm_200_30_days.model.docvecs.* with mmap=None\n",
      "INFO:gensim.utils:loading doctag_syn0 from data/new-model/model_dm_200_30_days.model.docvecs.doctag_syn0.npy with mmap=None\n",
      "INFO:gensim.utils:loading syn1neg from data/new-model/model_dm_200_30_days.model.syn1neg.npy with mmap=None\n",
      "INFO:gensim.utils:setting ignored attribute cum_table to None\n",
      "INFO:gensim.utils:loaded data/new-model/model_dm_200_30_days.model\n"
     ]
    },
    {
     "data": {
      "text/plain": [
       "<gensim.models.doc2vec.Doc2Vec at 0x7fbd7c564a20>"
      ]
     },
     "execution_count": 3,
     "metadata": {},
     "output_type": "execute_result"
    }
   ],
   "source": [
    "model = doc2vec.Doc2Vec.load('data/new-model/model_dm_200_30_days.model')\n",
    "model"
   ]
  },
  {
   "cell_type": "code",
   "execution_count": 48,
   "metadata": {
    "collapsed": false
   },
   "outputs": [
    {
     "data": {
      "text/plain": [
       "261"
      ]
     },
     "execution_count": 48,
     "metadata": {},
     "output_type": "execute_result"
    }
   ],
   "source": [
    "corpus1 = pickle.load(open('data/model-size/multiple_sig_last_year.pickle', 'rb'))\n",
    "corpus1 = [i['prepared'] for i in corpus1]\n",
    "len(corpus1)"
   ]
  },
  {
   "cell_type": "code",
   "execution_count": 47,
   "metadata": {
    "collapsed": true
   },
   "outputs": [],
   "source": [
    "def compress_and_group(prepared):\n",
    "    groups = []\n",
    "    corpus = []\n",
    "    true_labels = []\n",
    "    for p in prepared:\n",
    "        group = []\n",
    "        for t in p:\n",
    "            corpus.append(t)\n",
    "            group.append(len(corpus)-1)\n",
    "            true_labels.append(len(groups))\n",
    "        groups.append(group)\n",
    "    compressed_corpus = [[str(vocab.get(i, i)) for i in c] for c in corpus]\n",
    "    compressed_corpus = [doc2vec.TaggedDocument(trace, [i]) for i, trace in enumerate(compressed_corpus)]\n",
    "    groups = [g for g in groups if len(g) > 1]\n",
    "    return compressed_corpus, corpus, groups, true_labels"
   ]
  },
  {
   "cell_type": "code",
   "execution_count": 49,
   "metadata": {
    "collapsed": false
   },
   "outputs": [
    {
     "data": {
      "text/plain": [
       "(755, 223, 755)"
      ]
     },
     "execution_count": 49,
     "metadata": {},
     "output_type": "execute_result"
    }
   ],
   "source": [
    "compressed_corpus1, corpus1, groups1, true_labels1 = compress_and_group(corpus1)\n",
    "len(corpus1), len(groups1), len(true_labels1)"
   ]
  },
  {
   "cell_type": "code",
   "execution_count": 24,
   "metadata": {
    "collapsed": false
   },
   "outputs": [
    {
     "data": {
      "text/plain": [
       "(38, 38)"
      ]
     },
     "execution_count": 24,
     "metadata": {},
     "output_type": "execute_result"
    }
   ],
   "source": [
    "len(corpus1[0]), len(compressed_corpus1[0].words)"
   ]
  },
  {
   "cell_type": "code",
   "execution_count": 7,
   "metadata": {
    "collapsed": false
   },
   "outputs": [
    {
     "data": {
      "text/plain": [
       "312"
      ]
     },
     "execution_count": 7,
     "metadata": {},
     "output_type": "execute_result"
    }
   ],
   "source": [
    "corpus2 = pickle.load(open('data/model-size/multiple_sig_year_before.pickle', 'rb'))\n",
    "corpus2 = [i['prepared'] for i in corpus2]\n",
    "len(corpus2)"
   ]
  },
  {
   "cell_type": "code",
   "execution_count": 28,
   "metadata": {
    "collapsed": false
   },
   "outputs": [],
   "source": [
    "def report(labels_true, labels_pred):\n",
    "    return {'precision': metrics.my_precision(labels_true, labels_pred), \n",
    "            'recall': metrics.my_recall(labels_true, labels_pred),\n",
    "            'FMI': metrics.my_FMI(labels_true, labels_pred),\n",
    "            'n_clusters': len(set(labels_pred)) - (1 if -1 in labels_pred else 0),\n",
    "            'noise': float(len([i for i in labels_pred if i == -1])) / len(labels_true)\n",
    "           }"
   ]
  },
  {
   "cell_type": "code",
   "execution_count": 91,
   "metadata": {
    "collapsed": true
   },
   "outputs": [],
   "source": [
    "GLOBAL_CACHE = dict()\n",
    "GLOBAL_CACHE['wmd'] = dict()\n",
    "GLOBAL_CACHE['ed'] = dict()\n",
    "GLOBAL_CACHE['ed_struct'] = dict()\n",
    "GLOBAL_CACHE['ed_embedding'] = dict()\n",
    "def cacheable(fun, cache):\n",
    "    def ret(arg1, arg2):\n",
    "        ka1 = arg1 if isinstance(arg1, collections.Hashable) else tuple(arg1)\n",
    "        ka2 = arg2 if isinstance(arg2, collections.Hashable) else tuple(arg2)\n",
    "        key = (ka1, ka2)\n",
    "        if key not in cache:\n",
    "            cache[key] = fun(arg1, arg2)\n",
    "        return cache[key]\n",
    "    return ret"
   ]
  },
  {
   "cell_type": "code",
   "execution_count": 217,
   "metadata": {
    "collapsed": true
   },
   "outputs": [],
   "source": [
    "def iterate_eps(dist, labels_true, min_samples=2, eps=None, steps=None):\n",
    "    if eps:\n",
    "        if not isinstance(eps, list):\n",
    "            eps = [eps]\n",
    "    else:\n",
    "        max_dist = np.max(dist)\n",
    "        min_dist = np.min(dist)\n",
    "        steps = steps or 100\n",
    "        eps = np.linspace(min_dist, max_dist, steps)\n",
    "    results = []\n",
    "    for e in eps:\n",
    "        try:\n",
    "            labels_pred, *_ = od.dbscan(dist, e, min_samples)\n",
    "            results.append((e, report(labels_true, labels_pred)))\n",
    "        except ValueError:\n",
    "            pass\n",
    "    return results"
   ]
  },
  {
   "cell_type": "code",
   "execution_count": 232,
   "metadata": {
    "collapsed": true
   },
   "outputs": [],
   "source": [
    "def build_distance_calculator(compressed_corpus, model):\n",
    "    dist, w2pos =  DistanceCalculator.words_distance(compressed_corpus, model)\n",
    "    return DistanceCalculator(model, w2pos, dist)"
   ]
  },
  {
   "cell_type": "code",
   "execution_count": 234,
   "metadata": {
    "collapsed": false
   },
   "outputs": [
    {
     "name": "stdout",
     "output_type": "stream",
     "text": [
      "len(words) = 2808\n"
     ]
    }
   ],
   "source": [
    "distance_calculator = build_distance_calculator(compressed_corpus1, model)"
   ]
  },
  {
   "cell_type": "code",
   "execution_count": 231,
   "metadata": {
    "collapsed": true
   },
   "outputs": [],
   "source": [
    "def cluster_wmd(compressed_corpus, distance_calculator, labels_true, min_samples=2, eps=None, steps=None):\n",
    "    cacheable_fast_wmd = cacheable(distance_calculator.fast_wmd, GLOBAL_CACHE['wmd'])\n",
    "    \n",
    "    wmd = od.distance_matrix(compressed_corpus, cacheable_fast_wmd)\n",
    "    wmd[wmd == np.inf] = -1\n",
    "    m = np.max(wmd)\n",
    "    wmd[wmd == -1] = m\n",
    "    \n",
    "    return iterate_eps(wmd, labels_true, min_samples, eps, steps)"
   ]
  },
  {
   "cell_type": "code",
   "execution_count": 219,
   "metadata": {
    "collapsed": true
   },
   "outputs": [],
   "source": [
    "def cluster_ed(compressed_corpus, labels_true, min_samples=2, eps=None, steps=None):\n",
    "    cacheable_edit_distance2 = cacheable(od.edit_distance2, GLOBAL_CACHE['ed'])\n",
    "    dist = od.distance_matrix(compressed_corpus, cacheable_edit_distance2)\n",
    "    return iterate_eps(dist, labels_true, min_samples, eps, steps)"
   ]
  },
  {
   "cell_type": "code",
   "execution_count": 229,
   "metadata": {
    "collapsed": true
   },
   "outputs": [],
   "source": [
    "def cluster_ed_struct(corpus, labels_true, min_samples=2, eps=None, steps=None):\n",
    "    class Tmp(object):\n",
    "        def __init__(self, words):\n",
    "            self.words = words\n",
    "    def struct_dist_calc(s1, s2):\n",
    "        return od.edit_distance2(s1, s2, subst_cost=od.struct_word_dist)\n",
    "    cacheable_struct_dist_calc = cacheable(struct_dist_calc, GLOBAL_CACHE['ed_struct'])\n",
    "    dist = od.distance_matrix([Tmp(i) for i in corpus], cacheable_struct_dist_calc)\n",
    "    return iterate_eps(dist, labels_true, min_samples, eps, steps)"
   ]
  },
  {
   "cell_type": "code",
   "execution_count": 246,
   "metadata": {
    "collapsed": true
   },
   "outputs": [],
   "source": [
    "def cluster_ed_embedding(compressed_corpus, distance_calculator, labels_true, min_samples=2, eps=None, steps=None):\n",
    "    def words_dist(s1, s2):\n",
    "        res = distance_calculator.compressed_words_dist(s1, s2)\n",
    "        return res if res >= 0 else 2\n",
    "    def semantic_dist(s1, s2):\n",
    "        return od.edit_distance2(s1, s2,\n",
    "                                 ins_cost=words_dist,\n",
    "                                 del_cost=words_dist,\n",
    "                                 subst_cost=words_dist)\n",
    "    cacheable_semantic_dist = cacheable(semantic_dist, GLOBAL_CACHE['ed_embedding'])\n",
    "    dist = od.distance_matrix(compressed_corpus, cacheable_semantic_dist)\n",
    "    return iterate_eps(dist, labels_true, min_samples, eps, steps)"
   ]
  },
  {
   "cell_type": "code",
   "execution_count": 251,
   "metadata": {
    "collapsed": true
   },
   "outputs": [],
   "source": [
    "def cluster_ed_embedding_only_subst(compressed_corpus, distance_calculator, labels_true, min_samples=2, eps=None, steps=None):\n",
    "    def words_dist(s1, s2):\n",
    "        res = distance_calculator.compressed_words_dist(s1, s2)\n",
    "        return res if res >= 0 else 2\n",
    "    semantic_dist = lambda s1, s2: od.edit_distance2(s1, s2,\n",
    "                                                     ins_cost=lambda a,b: 2,\n",
    "                                                     del_cost=lambda a,b: 2,\n",
    "                                                     subst_cost=words_dist)\n",
    "    cacheable_semantic_dist = cacheable(semantic_dist, GLOBAL_CACHE['ed_embedding_only_subst'])\n",
    "    dist = od.distance_matrix(compressed_corpus, cacheable_semantic_dist)\n",
    "    return iterate_eps(dist, labels_true, min_samples, eps, steps)"
   ]
  },
  {
   "cell_type": "code",
   "execution_count": 182,
   "metadata": {
    "collapsed": true
   },
   "outputs": [],
   "source": [
    "def cluster_paragraph_vec(compressed_corpus, model, labels_true, min_samples=2, eps=None, steps=None):\n",
    "    vectors = [model.infer_vector(i.words) for i in compressed_corpus]\n",
    "    dist_euc = pairwise.euclidean_distances(vectors)\n",
    "    return iterate_eps(dist_euc, labels_true, min_samples, eps, steps)    "
   ]
  },
  {
   "cell_type": "code",
   "execution_count": 187,
   "metadata": {
    "collapsed": true
   },
   "outputs": [],
   "source": [
    "res_pv = cluster_paragraph_vec(compressed_corpus1, model, true_labels1, steps=20)"
   ]
  },
  {
   "cell_type": "code",
   "execution_count": 221,
   "metadata": {
    "collapsed": false
   },
   "outputs": [
    {
     "name": "stdout",
     "output_type": "stream",
     "text": [
      "9.999824336430867%, 0.2523798942565918 s.\n",
      "19.999648672861735%, 0.48029184341430664 s.\n",
      "29.999473009292604%, 0.7380695343017578 s.\n",
      "39.99929734572347%, 0.9714715480804443 s.\n",
      "49.99912168215434%, 1.1903350353240967 s.\n",
      "59.99894601858521%, 1.406470537185669 s.\n",
      "69.99877035501608%, 1.6244194507598877 s.\n",
      "79.99859469144694%, 1.84901762008667 s.\n",
      "89.99841902787782%, 2.0795845985412598 s.\n",
      "99.99824336430868%, 2.3060975074768066 s.\n"
     ]
    }
   ],
   "source": [
    "res_ed = cluster_ed(compressed_corpus1, true_labels1, steps=20)"
   ]
  },
  {
   "cell_type": "code",
   "execution_count": 254,
   "metadata": {
    "collapsed": false
   },
   "outputs": [
    {
     "data": {
      "text/plain": [
       "(2.1052631578947367,\n",
       " {'FMI': 0.40614552623619454,\n",
       "  'n_clusters': 100,\n",
       "  'noise': 0.5880794701986755,\n",
       "  'precision': 0.3717277486910995,\n",
       "  'recall': 0.44375})"
      ]
     },
     "execution_count": 254,
     "metadata": {},
     "output_type": "execute_result"
    }
   ],
   "source": [
    "fff = sorted([i for i in res_ed if True], key=lambda x: x[1]['FMI'], reverse=True)\n",
    "fff[0]"
   ]
  },
  {
   "cell_type": "code",
   "execution_count": 235,
   "metadata": {
    "collapsed": false
   },
   "outputs": [
    {
     "name": "stdout",
     "output_type": "stream",
     "text": [
      "9.999824336430867%, 0.27698493003845215 s.\n",
      "19.999648672861735%, 0.5093905925750732 s.\n",
      "29.999473009292604%, 0.7694272994995117 s.\n",
      "39.99929734572347%, 1.010430097579956 s.\n",
      "49.99912168215434%, 21.314476013183594 s.\n",
      "59.99894601858521%, 65.26431226730347 s.\n",
      "69.99877035501608%, 107.89246392250061 s.\n",
      "79.99859469144694%, 153.3189868927002 s.\n",
      "89.99841902787782%, 197.6563262939453 s.\n",
      "99.99824336430868%, 240.40479803085327 s.\n"
     ]
    }
   ],
   "source": [
    "res_ed_struct = cluster_ed_struct(corpus1, true_labels1, steps=20)"
   ]
  },
  {
   "cell_type": "code",
   "execution_count": 244,
   "metadata": {
    "collapsed": false
   },
   "outputs": [
    {
     "data": {
      "text/plain": [
       "(2.1052631578947367,\n",
       " {'FMI': 0.42958004377146597,\n",
       "  'n_clusters': 97,\n",
       "  'noise': 0.5814569536423841,\n",
       "  'precision': 0.43205128205128207,\n",
       "  'recall': 0.42712294043092525})"
      ]
     },
     "execution_count": 244,
     "metadata": {},
     "output_type": "execute_result"
    }
   ],
   "source": [
    "www = sorted([i for i in res_ed_struct if True], key=lambda x: x[1]['FMI'], reverse=True)\n",
    "www[0]"
   ]
  },
  {
   "cell_type": "code",
   "execution_count": 248,
   "metadata": {
    "collapsed": false
   },
   "outputs": [
    {
     "name": "stdout",
     "output_type": "stream",
     "text": [
      "9.999824336430867%, 186.9552938938141 s.\n",
      "19.999648672861735%, 371.9465489387512 s.\n",
      "29.999473009292604%, 533.4724044799805 s.\n",
      "39.99929734572347%, 743.080971956253 s.\n",
      "49.99912168215434%, 1002.923290014267 s.\n",
      "59.99894601858521%, 1219.9143681526184 s.\n",
      "69.99877035501608%, 1437.819355726242 s.\n",
      "79.99859469144694%, 1664.4323379993439 s.\n",
      "89.99841902787782%, 1878.611498117447 s.\n",
      "99.99824336430868%, 2094.5802342891693 s.\n"
     ]
    }
   ],
   "source": [
    "res_ed_embedding = cluster_ed_embedding(compressed_corpus1, distance_calculator, true_labels1, steps=20)"
   ]
  },
  {
   "cell_type": "code",
   "execution_count": 252,
   "metadata": {
    "collapsed": false
   },
   "outputs": [
    {
     "name": "stdout",
     "output_type": "stream",
     "text": [
      "9.999824336430867%, 101.41087603569031 s.\n",
      "19.999648672861735%, 196.45075488090515 s.\n",
      "29.999473009292604%, 281.76887249946594 s.\n",
      "39.99929734572347%, 391.5591015815735 s.\n",
      "49.99912168215434%, 530.4024062156677 s.\n",
      "59.99894601858521%, 645.6743233203888 s.\n",
      "69.99877035501608%, 761.5606989860535 s.\n",
      "79.99859469144694%, 881.671257019043 s.\n",
      "89.99841902787782%, 993.9774885177612 s.\n",
      "99.99824336430868%, 1109.11283993721 s.\n"
     ]
    }
   ],
   "source": [
    "res_ed_embedding_only_subst =  cluster_ed_embedding_only_subst(compressed_corpus1, distance_calculator, true_labels1, steps=20)"
   ]
  },
  {
   "cell_type": "code",
   "execution_count": 253,
   "metadata": {
    "collapsed": false
   },
   "outputs": [
    {
     "data": {
      "text/plain": [
       "(4.2105263157894735,\n",
       " {'FMI': 0.2588954792167652,\n",
       "  'n_clusters': 98,\n",
       "  'noise': 0.552317880794702,\n",
       "  'precision': 0.375,\n",
       "  'recall': 0.17873831775700935})"
      ]
     },
     "execution_count": 253,
     "metadata": {},
     "output_type": "execute_result"
    }
   ],
   "source": [
    "vvv = sorted([i for i in res_ed_embedding_only_subst if True], key=lambda x: x[1]['FMI'], reverse=True)\n",
    "vvv[0]"
   ]
  },
  {
   "cell_type": "code",
   "execution_count": 249,
   "metadata": {
    "collapsed": false
   },
   "outputs": [
    {
     "data": {
      "text/plain": [
       "(4.2105263157894735,\n",
       " {'FMI': 0.21964251474816823,\n",
       "  'n_clusters': 97,\n",
       "  'noise': 0.5205298013245033,\n",
       "  'precision': 0.38344988344988346,\n",
       "  'recall': 0.12581261950286807})"
      ]
     },
     "execution_count": 249,
     "metadata": {},
     "output_type": "execute_result"
    }
   ],
   "source": [
    "qqq = sorted([i for i in res_ed_embedding if True], key=lambda x: x[1]['FMI'], reverse=True)\n",
    "qqq[0]"
   ]
  },
  {
   "cell_type": "code",
   "execution_count": 245,
   "metadata": {
    "collapsed": false
   },
   "outputs": [
    {
     "data": {
      "text/plain": [
       "[(0.49824647526992294,\n",
       "  {'FMI': 0.07144776636807812,\n",
       "   'n_clusters': 1,\n",
       "   'noise': 0.0,\n",
       "   'precision': 1.0,\n",
       "   'recall': 0.005104783318987475}),\n",
       " (7.7253597912035445,\n",
       "  {'FMI': 0.07144776636807812,\n",
       "   'n_clusters': 1,\n",
       "   'noise': 0.0,\n",
       "   'precision': 1.0,\n",
       "   'recall': 0.005104783318987475}),\n",
       " (14.952473107137166,\n",
       "  {'FMI': 0.07144776636807812,\n",
       "   'n_clusters': 1,\n",
       "   'noise': 0.0,\n",
       "   'precision': 1.0,\n",
       "   'recall': 0.005104783318987475}),\n",
       " (22.179586423070802,\n",
       "  {'FMI': 0.07144776636807812,\n",
       "   'n_clusters': 1,\n",
       "   'noise': 0.0,\n",
       "   'precision': 1.0,\n",
       "   'recall': 0.005104783318987475}),\n",
       " (29.406699739004438,\n",
       "  {'FMI': 0.07144776636807812,\n",
       "   'n_clusters': 1,\n",
       "   'noise': 0.0,\n",
       "   'precision': 1.0,\n",
       "   'recall': 0.005104783318987475}),\n",
       " (36.633813054938059,\n",
       "  {'FMI': 0.07144776636807812,\n",
       "   'n_clusters': 1,\n",
       "   'noise': 0.0,\n",
       "   'precision': 1.0,\n",
       "   'recall': 0.005104783318987475}),\n",
       " (43.860926370871681,\n",
       "  {'FMI': 0.07144776636807812,\n",
       "   'n_clusters': 1,\n",
       "   'noise': 0.0,\n",
       "   'precision': 1.0,\n",
       "   'recall': 0.005104783318987475}),\n",
       " (51.088039686805303,\n",
       "  {'FMI': 0.07144776636807812,\n",
       "   'n_clusters': 1,\n",
       "   'noise': 0.0,\n",
       "   'precision': 1.0,\n",
       "   'recall': 0.005104783318987475}),\n",
       " (58.315153002738953,\n",
       "  {'FMI': 0.07144776636807812,\n",
       "   'n_clusters': 1,\n",
       "   'noise': 0.0,\n",
       "   'precision': 1.0,\n",
       "   'recall': 0.005104783318987475})]"
      ]
     },
     "execution_count": 245,
     "metadata": {},
     "output_type": "execute_result"
    }
   ],
   "source": [
    "qqq"
   ]
  },
  {
   "cell_type": "code",
   "execution_count": 240,
   "metadata": {
    "collapsed": false
   },
   "outputs": [
    {
     "data": {
      "text/plain": [
       "(0.64618380446183055,\n",
       " {'FMI': 0.13671823284065848,\n",
       "  'n_clusters': 26,\n",
       "  'noise': 0.7615894039735099,\n",
       "  'precision': 0.533175355450237,\n",
       "  'recall': 0.035057650358367096})"
      ]
     },
     "execution_count": 240,
     "metadata": {},
     "output_type": "execute_result"
    }
   ],
   "source": [
    "xxx = sorted([i for i in res_pv if i[1]['noise'] < 0.8], key=lambda x: x[1]['FMI'], reverse=True)\n",
    "xxx[0]"
   ]
  },
  {
   "cell_type": "code",
   "execution_count": 157,
   "metadata": {
    "collapsed": false
   },
   "outputs": [
    {
     "name": "stdout",
     "output_type": "stream",
     "text": [
      "len(words) = 2808\n",
      "9.999824336430867%, 0.2626988887786865 s.\n",
      "19.999648672861735%, 0.4864795207977295 s.\n",
      "29.999473009292604%, 0.7420785427093506 s.\n",
      "39.99929734572347%, 0.9653105735778809 s.\n",
      "49.99912168215434%, 1.1895720958709717 s.\n",
      "59.99894601858521%, 1.4084179401397705 s.\n",
      "69.99877035501608%, 1.6325106620788574 s.\n",
      "79.99859469144694%, 1.8525664806365967 s.\n",
      "89.99841902787782%, 2.0749032497406006 s.\n",
      "99.99824336430868%, 2.294243812561035 s.\n"
     ]
    }
   ],
   "source": [
    "res = cluster_wmd(compressed_corpus1, model, true_labels1)"
   ]
  },
  {
   "cell_type": "code",
   "execution_count": 284,
   "metadata": {
    "collapsed": false
   },
   "outputs": [
    {
     "data": {
      "text/plain": [
       "['nvd3dumx.dll@0x',\n",
       " 'werpvalidatepebheader',\n",
       " '@0x',\n",
       " 'heapfree',\n",
       " 'nvd3dumx.dll@0x',\n",
       " 'nvd3dumx.dll@0x',\n",
       " 'nvd3dumx.dll@0x',\n",
       " 'icmselectcolortransform',\n",
       " '@0x',\n",
       " 'destroycontextcb',\n",
       " 'd3d8deletedirectdrawobject',\n",
       " \"`eh vector destructor iterator'\",\n",
       " 'cbasedevice::~cbasedevice',\n",
       " \"cd3dhal::`scalar deleting destructor'\",\n",
       " 'cbaseobject::freeprivatedataimpl',\n",
       " '_gshandlercheck_seh',\n",
       " 'idmap<t>::lookup',\n",
       " '@0x',\n",
       " \"mozilla::layers::dxgid3d9texturedata::`scalar deleting destructor'\",\n",
       " 'mozilla::layers::destroytexturedata',\n",
       " 'mozilla::layers::texturechild::actordestroy',\n",
       " 'mozilla::layers::ptexturechild::onmessagereceived',\n",
       " 'mozilla::layers::pimagebridgechild::onmessagereceived',\n",
       " 'mozilla::ipc::messagechannel::dispatchasyncmessage',\n",
       " 'mozilla::ipc::messagechannel::dispatchmessagew',\n",
       " 'mozilla::ipc::messagechannel::onmaybedequeueone',\n",
       " 'mozilla::detail::runnablemethodimpl<t>::run',\n",
       " 'mozilla::ipc::messagechannel::dequeuetask::run',\n",
       " 'messageloop::runtask',\n",
       " 'messageloop::deferorrunpendingtask',\n",
       " 'messageloop::dowork',\n",
       " 'base::messagepumpdefault::run',\n",
       " 'messageloop::runhandler',\n",
       " 'messageloop::run',\n",
       " 'base::thread::threadmain',\n",
       " \"`anonymous namespace'::threadfunc\",\n",
       " 'basethreadinitthunk',\n",
       " 'rtluserthreadstart']"
      ]
     },
     "execution_count": 284,
     "metadata": {},
     "output_type": "execute_result"
    }
   ],
   "source": [
    "corpus1[0]"
   ]
  },
  {
   "cell_type": "code",
   "execution_count": 168,
   "metadata": {
    "collapsed": false
   },
   "outputs": [
    {
     "data": {
      "text/plain": [
       "[(0.4074780989174891,\n",
       "  {'FMI': 0.35774254147920753,\n",
       "   'n_clusters': 122,\n",
       "   'noise': 0.43178807947019865,\n",
       "   'precision': 0.4444444444444444,\n",
       "   'recall': 0.2879543834640057}),\n",
       " (0.38976165983411998,\n",
       "  {'FMI': 0.37463399887534193,\n",
       "   'n_clusters': 120,\n",
       "   'noise': 0.4463576158940397,\n",
       "   'precision': 0.43512304250559286,\n",
       "   'recall': 0.3225538971807628}),\n",
       " (0.37204522075075086,\n",
       "  {'FMI': 0.39073469479710615,\n",
       "   'n_clusters': 121,\n",
       "   'noise': 0.4543046357615894,\n",
       "   'precision': 0.4346846846846847,\n",
       "   'recall': 0.35122838944494994}),\n",
       " (0.3543287816673818,\n",
       "  {'FMI': 0.43891206928945264,\n",
       "   'n_clusters': 123,\n",
       "   'noise': 0.46357615894039733,\n",
       "   'precision': 0.43815028901734104,\n",
       "   'recall': 0.4396751740139211}),\n",
       " (0.33661234258401274,\n",
       "  {'FMI': 0.46947965343972026,\n",
       "   'n_clusters': 128,\n",
       "   'noise': 0.4728476821192053,\n",
       "   'precision': 0.4133489461358314,\n",
       "   'recall': 0.5332326283987915}),\n",
       " (0.31889590350064362,\n",
       "  {'FMI': 0.473825854690402,\n",
       "   'n_clusters': 129,\n",
       "   'noise': 0.48344370860927155,\n",
       "   'precision': 0.4082624544349939,\n",
       "   'recall': 0.5499181669394435}),\n",
       " (0.3011794644172745,\n",
       "  {'FMI': 0.47542338737200757,\n",
       "   'n_clusters': 124,\n",
       "   'noise': 0.49933774834437084,\n",
       "   'precision': 0.410958904109589,\n",
       "   'recall': 0.55}),\n",
       " (0.28346302533390544,\n",
       "  {'FMI': 0.46424613645653334,\n",
       "   'n_clusters': 123,\n",
       "   'noise': 0.5112582781456954,\n",
       "   'precision': 0.3944374209860936,\n",
       "   'recall': 0.5464098073555166}),\n",
       " (0.26574658625053638,\n",
       "  {'FMI': 0.46889034542030056,\n",
       "   'n_clusters': 121,\n",
       "   'noise': 0.519205298013245,\n",
       "   'precision': 0.4,\n",
       "   'recall': 0.549645390070922}),\n",
       " (0.24803014716716726,\n",
       "  {'FMI': 0.4813902397075796,\n",
       "   'n_clusters': 118,\n",
       "   'noise': 0.5417218543046357,\n",
       "   'precision': 0.3989290495314592,\n",
       "   'recall': 0.580896686159844})]"
      ]
     },
     "execution_count": 168,
     "metadata": {},
     "output_type": "execute_result"
    }
   ],
   "source": [
    "top_pre = sorted([i for i in res if i[1]['FMI'] > 0.1 and i[1]['recall'] > 0.2], key=lambda x: x[1]['noise'])\n",
    "top_pre[:10]"
   ]
  },
  {
   "cell_type": "code",
   "execution_count": null,
   "metadata": {
    "collapsed": true
   },
   "outputs": [],
   "source": [
    "ALL_ALGOS = ['edit-distance', 'paragraph-vectors', 'wmd', 'edit-distance-struct', 'edit-distance-embedding']\n",
    "def cluster_report(compressed_corpus, corpus, labels_true, algos):\n",
    "    result = dict()\n",
    "    paragraph_vectors = [model.infer_vector(i.words) for i in compressed_corpus]\n",
    "    "
   ]
  },
  {
   "cell_type": "code",
   "execution_count": 23,
   "metadata": {
    "collapsed": false
   },
   "outputs": [
    {
     "data": {
      "text/plain": [
       "755"
      ]
     },
     "execution_count": 23,
     "metadata": {},
     "output_type": "execute_result"
    }
   ],
   "source": [
    "vectors = [model.infer_vector(i.words) for i in corpus1]\n",
    "len(vectors)"
   ]
  },
  {
   "cell_type": "code",
   "execution_count": 29,
   "metadata": {
    "collapsed": true
   },
   "outputs": [],
   "source": [
    "dist_cos = pairwise.cosine_distances(vectors)\n",
    "dist_euc = pairwise.euclidean_distances(vectors)"
   ]
  },
  {
   "cell_type": "code",
   "execution_count": 30,
   "metadata": {
    "collapsed": false
   },
   "outputs": [
    {
     "data": {
      "text/plain": [
       "(755, 755)"
      ]
     },
     "execution_count": 30,
     "metadata": {},
     "output_type": "execute_result"
    }
   ],
   "source": [
    "dist_cos.shape"
   ]
  },
  {
   "cell_type": "code",
   "execution_count": 32,
   "metadata": {
    "collapsed": true
   },
   "outputs": [],
   "source": [
    "import matplotlib.pyplot as plt\n",
    "from sklearn.cluster import DBSCAN"
   ]
  },
  {
   "cell_type": "code",
   "execution_count": 46,
   "metadata": {
    "collapsed": false
   },
   "outputs": [],
   "source": [
    "labels, n_cl, mask = dbscan(dist_cos, eps=0.1, min_samples=2)"
   ]
  },
  {
   "cell_type": "code",
   "execution_count": 75,
   "metadata": {
    "collapsed": true
   },
   "outputs": [],
   "source": [
    "labels_e, n_cle, core = dbscan(dist_euc, eps=0.72, min_samples=2)"
   ]
  },
  {
   "cell_type": "code",
   "execution_count": 74,
   "metadata": {
    "collapsed": true
   },
   "outputs": [],
   "source": [
    "def plot_clusters(labels, n_clusters, core_samples_mask, dist, remove_outliers=True):\n",
    "    # Black removed and is used for noise instead.\n",
    "    unique_labels = set(labels)\n",
    "    colors = plt.cm.Spectral(np.linspace(0, 1, len(unique_labels)))\n",
    "    for k, col in zip(unique_labels, colors):\n",
    "        if k == -1:\n",
    "            if remove_outliers:\n",
    "                continue\n",
    "            # Black used for noise.\n",
    "            col = 'k'\n",
    "\n",
    "        class_member_mask = (labels == k)\n",
    "\n",
    "        xy = dist[class_member_mask & core_samples_mask]\n",
    "        plt.plot(xy[:, 0], xy[:, 1], 'o', markerfacecolor=col,\n",
    "                 markeredgecolor='k', markersize=8)\n",
    "\n",
    "        xy = dist[class_member_mask & ~core_samples_mask]\n",
    "        plt.plot(xy[:, 0], xy[:, 1], 'o', markerfacecolor=col,\n",
    "                 markeredgecolor='k', markersize=4)\n",
    "\n",
    "    plt.title('Estimated number of clusters: %d' % n_clusters)\n",
    "    plt.show()"
   ]
  },
  {
   "cell_type": "code",
   "execution_count": 89,
   "metadata": {
    "collapsed": false
   },
   "outputs": [
    {
     "name": "stderr",
     "output_type": "stream",
     "text": [
      "/home/kirill/anaconda3/lib/python3.6/site-packages/matplotlib/lines.py:1206: FutureWarning: comparison to `None` will result in an elementwise object comparison in the future.\n",
      "  if self._markerfacecolor != fc:\n"
     ]
    },
    {
     "data": {
      "image/png": "[encoded data removed]",
      "text/plain": [
       "<matplotlib.figure.Figure at 0x7f2248851a90>"
      ]
     },
     "metadata": {},
     "output_type": "display_data"
    }
   ],
   "source": [
    "plot_clusters(labels, n_cl, mask, dist_cos)"
   ]
  },
  {
   "cell_type": "code",
   "execution_count": 88,
   "metadata": {
    "collapsed": false
   },
   "outputs": [
    {
     "name": "stderr",
     "output_type": "stream",
     "text": [
      "/home/kirill/anaconda3/lib/python3.6/site-packages/matplotlib/lines.py:1206: FutureWarning: comparison to `None` will result in an elementwise object comparison in the future.\n",
      "  if self._markerfacecolor != fc:\n"
     ]
    },
    {
     "data": {
      "image/png": "[encoded data removed]",
      "text/plain": [
       "<matplotlib.figure.Figure at 0x7f224e12a438>"
      ]
     },
     "metadata": {},
     "output_type": "display_data"
    }
   ],
   "source": [
    "plot_clusters(labels_e, n_cle, core, dist_euc)"
   ]
  },
  {
   "cell_type": "code",
   "execution_count": 80,
   "metadata": {
    "collapsed": false
   },
   "outputs": [],
   "source": [
    "true_labels = [-1] * len(corpus1)\n",
    "for i, g in enumerate(groups1):\n",
    "    for x in g:\n",
    "        true_labels[x] = i"
   ]
  },
  {
   "cell_type": "code",
   "execution_count": 84,
   "metadata": {
    "collapsed": false
   },
   "outputs": [
    {
     "data": {
      "text/plain": [
       "0.073797044337169118"
      ]
     },
     "execution_count": 84,
     "metadata": {},
     "output_type": "execute_result"
    }
   ],
   "source": [
    "fowlkes_mallows_score(true_labels, labels_e)"
   ]
  },
  {
   "cell_type": "code",
   "execution_count": 267,
   "metadata": {
    "collapsed": false
   },
   "outputs": [
    {
     "data": {
      "text/plain": [
       "14"
      ]
     },
     "execution_count": 267,
     "metadata": {},
     "output_type": "execute_result"
    }
   ],
   "source": [
    "sa = [i for i in list(vocab.keys()) if i.startswith('') and 'halt' in i]\n",
    "len(sa)"
   ]
  },
  {
   "cell_type": "code",
   "execution_count": 268,
   "metadata": {
    "collapsed": false
   },
   "outputs": [
    {
     "data": {
      "text/plain": [
       "['sqlite3vdbehalt',\n",
       " 'js::jit::x86encoding::baseassembler::haltingalign',\n",
       " 'chaltable::resume',\n",
       " 'createtagstringwithalternates',\n",
       " 'js::jit::assemblerx86shared::haltingalign',\n",
       " 'marshaltogit',\n",
       " 'cobjectingit<t>::createinstanceandmarshaltogit',\n",
       " 'sqlite3haltconstraint',\n",
       " 'chaltable::resumeall',\n",
       " 'cthreadmarshalwnd::postmarshalthreadmessage',\n",
       " 'osf_cconnection::dealwithaltercontextresp',\n",
       " '__halt',\n",
       " 'csession::pollhalt',\n",
       " 'attachalternatestoinkobject']"
      ]
     },
     "execution_count": 268,
     "metadata": {},
     "output_type": "execute_result"
    }
   ],
   "source": [
    "sa"
   ]
  },
  {
   "cell_type": "code",
   "execution_count": 294,
   "metadata": {
    "collapsed": false
   },
   "outputs": [
    {
     "data": {
      "text/plain": [
       "'psetupcreatetextlogsectiona'"
      ]
     },
     "execution_count": 294,
     "metadata": {},
     "output_type": "execute_result"
    }
   ],
   "source": [
    "pos2vocab[158445]"
   ]
  },
  {
   "cell_type": "code",
   "execution_count": 289,
   "metadata": {
    "collapsed": false
   },
   "outputs": [
    {
     "data": {
      "text/plain": [
       "[('167909', 0.9735447764396667),\n",
       " ('159682', 0.8685736060142517),\n",
       " ('159684', 0.8641253113746643),\n",
       " ('166233', 0.860828697681427),\n",
       " ('166235', 0.8605992794036865),\n",
       " ('166234', 0.859000027179718),\n",
       " ('32452', 0.8575301766395569),\n",
       " ('173283', 0.8550620675086975),\n",
       " ('145535', 0.8544099926948547),\n",
       " ('110813', 0.8528043031692505),\n",
       " ('159683', 0.852405309677124),\n",
       " ('166232', 0.8515244722366333),\n",
       " ('145536', 0.8492173552513123),\n",
       " ('158445', 0.8489628434181213),\n",
       " ('132249', 0.8485404849052429),\n",
       " ('159681', 0.8444951772689819),\n",
       " ('170864', 0.8438122868537903),\n",
       " ('139930', 0.8421785235404968),\n",
       " ('135060', 0.8416270017623901),\n",
       " ('156227', 0.841200590133667)]"
      ]
     },
     "execution_count": 289,
     "metadata": {},
     "output_type": "execute_result"
    }
   ],
   "source": [
    "model.most_similar(str(vocab['sqlite3haltconstraint']), topn=20)"
   ]
  },
  {
   "cell_type": "code",
   "execution_count": 71,
   "metadata": {
    "collapsed": false
   },
   "outputs": [
    {
     "data": {
      "text/plain": [
       "(12, 24)"
      ]
     },
     "execution_count": 71,
     "metadata": {},
     "output_type": "execute_result"
    }
   ],
   "source": [
    "n_cl, n_cle"
   ]
  },
  {
   "cell_type": "code",
   "execution_count": 72,
   "metadata": {
    "collapsed": true
   },
   "outputs": [],
   "source": [
    "from sklearn.metrics import fowlkes_mallows_score"
   ]
  }
 ],
 "metadata": {
  "kernelspec": {
   "display_name": "Python 3",
   "language": "python",
   "name": "python3"
  },
  "language_info": {
   "codemirror_mode": {
    "name": "ipython",
    "version": 3
   },
   "file_extension": ".py",
   "mimetype": "text/x-python",
   "name": "python",
   "nbconvert_exporter": "python",
   "pygments_lexer": "ipython3",
   "version": "3.6.0"
  }
 },
 "nbformat": 4,
 "nbformat_minor": 2
}
