{
 "cells": [
  {
   "cell_type": "code",
   "execution_count": 1,
   "metadata": {
    "collapsed": false
   },
   "outputs": [],
   "source": [
    "import logging\n",
    "import json\n",
    "import random\n",
    "import time\n",
    "import numpy as np\n",
    "import pickle\n",
    "from gensim.models import doc2vec\n",
    "import matplotlib.pyplot as plt\n",
    "from collections import Counter"
   ]
  },
  {
   "cell_type": "code",
   "execution_count": 2,
   "metadata": {
    "collapsed": true
   },
   "outputs": [],
   "source": [
    "from crashsimilarity.downloader import SocorroDownloader, Downloader\n",
    "from crashsimilarity import utils\n",
    "from itertools import islice"
   ]
  },
  {
   "cell_type": "code",
   "execution_count": 3,
   "metadata": {
    "collapsed": true
   },
   "outputs": [],
   "source": [
    "def corpus_generator(file_name):\n",
    "    with open(file_name, 'r') as f:\n",
    "        for i, line in enumerate(f):\n",
    "            j = json.loads(line)\n",
    "            stack_trace = j[0]\n",
    "            yield doc2vec.TaggedDocument(stack_trace, [i])"
   ]
  },
  {
   "cell_type": "code",
   "execution_count": 5,
   "metadata": {
    "collapsed": true
   },
   "outputs": [],
   "source": [
    "gen = corpus_generator('data/new_clean_compressed.json')\n",
    "# corpus = list(gen)"
   ]
  },
  {
   "cell_type": "code",
   "execution_count": 6,
   "metadata": {
    "collapsed": false
   },
   "outputs": [
    {
     "name": "stdout",
     "output_type": "stream",
     "text": [
      "0\n",
      "100000\n",
      "200000\n",
      "300000\n",
      "400000\n",
      "500000\n",
      "600000\n",
      "700000\n",
      "800000\n",
      "900000\n",
      "1000000\n",
      "1100000\n",
      "1200000\n",
      "1300000\n",
      "1400000\n"
     ]
    }
   ],
   "source": [
    "c = dict([(5 * i, Counter()) for i in [2,3,4,5,6,7]])\n",
    "# for i, data in enumerate(corpus):\n",
    "for i, data in enumerate(gen):\n",
    "    if i % 100000 == 0:\n",
    "        print(i)\n",
    "    for k in c.keys():\n",
    "        c[k][tuple(data[0][-k:])] += 1"
   ]
  },
  {
   "cell_type": "code",
   "execution_count": 8,
   "metadata": {
    "collapsed": false
   },
   "outputs": [],
   "source": [
    "prefix = list(c[20].most_common(1)[0][0])"
   ]
  },
  {
   "cell_type": "code",
   "execution_count": 25,
   "metadata": {
    "collapsed": true
   },
   "outputs": [],
   "source": [
    "traces = []\n",
    "for data in corpus_generator('data/new_clean_compressed.json'):\n",
    "    tra = data[0]\n",
    "    if tra[-20:] == prefix:\n",
    "        traces.append(tra)"
   ]
  },
  {
   "cell_type": "code",
   "execution_count": 30,
   "metadata": {
    "collapsed": true
   },
   "outputs": [],
   "source": [
    "def lcs(a, b):\n",
    "    lengths = [[0 for j in range(len(b)+1)] for i in range(len(a)+1)]\n",
    "    # row 0 and column 0 are initialized to 0 already\n",
    "    for i, x in enumerate(a):\n",
    "        for j, y in enumerate(b):\n",
    "            if x == y:\n",
    "                lengths[i+1][j+1] = lengths[i][j] + 1\n",
    "            else:\n",
    "                lengths[i+1][j+1] = max(lengths[i+1][j], lengths[i][j+1])\n",
    "    # read the substring out from the matrix\n",
    "    result = []\n",
    "    x, y = len(a), len(b)\n",
    "    while x != 0 and y != 0:\n",
    "        if lengths[x][y] == lengths[x-1][y]:\n",
    "            x -= 1\n",
    "        elif lengths[x][y] == lengths[x][y-1]:\n",
    "            y -= 1\n",
    "        else:\n",
    "            assert a[x-1] == b[y-1]\n",
    "            result = [(a[x-1], x-1, y-1)] + result\n",
    "            x -= 1\n",
    "            y -= 1\n",
    "    return result"
   ]
  },
  {
   "cell_type": "code",
   "execution_count": 26,
   "metadata": {
    "collapsed": false
   },
   "outputs": [],
   "source": [
    "reversed_clean = []\n",
    "for i in traces:\n",
    "    reversed_clean.append(list(reversed(i))[20:])"
   ]
  },
  {
   "cell_type": "code",
   "execution_count": 38,
   "metadata": {
    "collapsed": false
   },
   "outputs": [],
   "source": [
    "data = dict()\n",
    "for i in range(10): # range(len(reversed_clean)):\n",
    "    # if i % 1000 == 0:\n",
    "    #     print(i)\n",
    "    for j in range(i+1, len(reversed_clean)):\n",
    "        data[(i,j)] = lcs(reversed_clean[i], reversed_clean[j])"
   ]
  },
  {
   "cell_type": "code",
   "execution_count": 72,
   "metadata": {
    "collapsed": false
   },
   "outputs": [],
   "source": [
    "lengths = [len(i) for i in data.values()]\n",
    "good = []\n",
    "for k, v in data.items():\n",
    "    if len(v) > 0:\n",
    "        z = 0\n",
    "        for _, x, y in v:\n",
    "            if x != y:\n",
    "                z += 1\n",
    "        max_len = max(len(reversed_clean[k[0]]), len(reversed_clean[k[1]]))\n",
    "        if z > 0:\n",
    "            good.append((z, max_len, v))"
   ]
  },
  {
   "cell_type": "code",
   "execution_count": 75,
   "metadata": {
    "collapsed": false
   },
   "outputs": [],
   "source": [
    "good.sort(key=lambda x:float(x[0])/x[1], reverse=True)\n",
    "good_len = [len(i[2]) for i in good]"
   ]
  },
  {
   "cell_type": "code",
   "execution_count": 76,
   "metadata": {
    "collapsed": false
   },
   "outputs": [
    {
     "data": {
      "text/plain": [
       "[(7,\n",
       "  13,\n",
       "  [('214', 0, 0),\n",
       "   ('201', 4, 6),\n",
       "   ('200', 5, 7),\n",
       "   ('204', 6, 8),\n",
       "   ('199', 7, 9),\n",
       "   ('198', 8, 10),\n",
       "   ('197', 9, 11),\n",
       "   ('196', 10, 12)]),\n",
       " (7,\n",
       "  14,\n",
       "  [('214', 0, 0),\n",
       "   ('201', 4, 6),\n",
       "   ('200', 5, 7),\n",
       "   ('204', 6, 8),\n",
       "   ('358', 7, 9),\n",
       "   ('357', 8, 10),\n",
       "   ('2215', 9, 11),\n",
       "   ('356', 10, 12)]),\n",
       " (6,\n",
       "  12,\n",
       "  [('214', 0, 0),\n",
       "   ('201', 4, 6),\n",
       "   ('200', 5, 7),\n",
       "   ('204', 6, 8),\n",
       "   ('199', 7, 9),\n",
       "   ('198', 8, 10),\n",
       "   ('197', 9, 11)]),\n",
       " (6,\n",
       "  13,\n",
       "  [('214', 0, 0),\n",
       "   ('201', 4, 6),\n",
       "   ('200', 5, 7),\n",
       "   ('204', 6, 8),\n",
       "   ('358', 7, 9),\n",
       "   ('357', 8, 10),\n",
       "   ('90', 9, 12)]),\n",
       " (6,\n",
       "  13,\n",
       "  [('214', 0, 0),\n",
       "   ('201', 4, 6),\n",
       "   ('200', 5, 7),\n",
       "   ('204', 6, 8),\n",
       "   ('199', 7, 9),\n",
       "   ('198', 8, 10),\n",
       "   ('197', 9, 11)]),\n",
       " (6,\n",
       "  13,\n",
       "  [('214', 0, 0),\n",
       "   ('201', 4, 6),\n",
       "   ('200', 5, 7),\n",
       "   ('204', 6, 8),\n",
       "   ('199', 7, 9),\n",
       "   ('198', 8, 10),\n",
       "   ('197', 9, 11)]),\n",
       " (6,\n",
       "  13,\n",
       "  [('214', 0, 0),\n",
       "   ('201', 4, 6),\n",
       "   ('200', 5, 7),\n",
       "   ('204', 6, 8),\n",
       "   ('199', 7, 9),\n",
       "   ('198', 8, 10),\n",
       "   ('197', 9, 11)]),\n",
       " (6,\n",
       "  14,\n",
       "  [('214', 0, 0),\n",
       "   ('201', 4, 6),\n",
       "   ('200', 5, 7),\n",
       "   ('204', 6, 8),\n",
       "   ('199', 7, 9),\n",
       "   ('198', 8, 10),\n",
       "   ('197', 9, 11)]),\n",
       " (6,\n",
       "  14,\n",
       "  [('214', 0, 0),\n",
       "   ('201', 4, 6),\n",
       "   ('200', 5, 7),\n",
       "   ('204', 6, 8),\n",
       "   ('358', 7, 9),\n",
       "   ('357', 8, 10),\n",
       "   ('2215', 9, 11)]),\n",
       " (6,\n",
       "  14,\n",
       "  [('214', 0, 0),\n",
       "   ('201', 4, 6),\n",
       "   ('200', 5, 7),\n",
       "   ('204', 6, 8),\n",
       "   ('358', 7, 9),\n",
       "   ('357', 8, 10),\n",
       "   ('356', 10, 11)])]"
      ]
     },
     "execution_count": 76,
     "metadata": {},
     "output_type": "execute_result"
    }
   ],
   "source": [
    "good[:10]"
   ]
  },
  {
   "cell_type": "code",
   "execution_count": 56,
   "metadata": {
    "collapsed": false
   },
   "outputs": [
    {
     "data": {
      "text/plain": [
       "[[('214', 0, 0),\n",
       "  ('213', 1, 1),\n",
       "  ('212', 2, 2),\n",
       "  ('211', 3, 3),\n",
       "  ('210', 4, 4),\n",
       "  ('209', 5, 5),\n",
       "  ('208', 6, 6),\n",
       "  ('1289', 7, 7),\n",
       "  ('1288', 8, 8),\n",
       "  ('1287', 9, 9),\n",
       "  ('1637', 10, 10),\n",
       "  ('1287', 11, 11),\n",
       "  ('1286', 12, 14),\n",
       "  ('1285', 13, 15),\n",
       "  ('1284', 14, 16),\n",
       "  ('831', 15, 17)],\n",
       " [('214', 0, 0),\n",
       "  ('213', 1, 1),\n",
       "  ('212', 2, 2),\n",
       "  ('211', 3, 3),\n",
       "  ('210', 4, 4),\n",
       "  ('209', 5, 5),\n",
       "  ('208', 6, 6),\n",
       "  ('1289', 7, 7),\n",
       "  ('1288', 8, 8),\n",
       "  ('1287', 9, 9),\n",
       "  ('1637', 10, 10),\n",
       "  ('1287', 11, 11),\n",
       "  ('1286', 12, 14),\n",
       "  ('1285', 13, 15),\n",
       "  ('1284', 14, 16),\n",
       "  ('831', 15, 17)],\n",
       " [('214', 0, 0),\n",
       "  ('213', 1, 1),\n",
       "  ('212', 2, 2),\n",
       "  ('211', 3, 3),\n",
       "  ('210', 4, 4),\n",
       "  ('209', 5, 5),\n",
       "  ('208', 6, 6),\n",
       "  ('1289', 7, 7),\n",
       "  ('1288', 8, 8),\n",
       "  ('1287', 9, 9),\n",
       "  ('1637', 10, 10),\n",
       "  ('1287', 11, 11),\n",
       "  ('1286', 12, 14),\n",
       "  ('1285', 13, 15),\n",
       "  ('1284', 14, 16)],\n",
       " [('214', 0, 0),\n",
       "  ('213', 1, 1),\n",
       "  ('212', 2, 2),\n",
       "  ('211', 3, 3),\n",
       "  ('210', 4, 4),\n",
       "  ('209', 5, 5),\n",
       "  ('208', 6, 6),\n",
       "  ('1289', 7, 7),\n",
       "  ('1288', 8, 8),\n",
       "  ('1287', 9, 9),\n",
       "  ('1637', 10, 10),\n",
       "  ('1287', 11, 11),\n",
       "  ('1286', 12, 14),\n",
       "  ('1285', 13, 15),\n",
       "  ('1284', 14, 16)],\n",
       " [('214', 0, 0),\n",
       "  ('213', 1, 1),\n",
       "  ('212', 2, 2),\n",
       "  ('211', 3, 3),\n",
       "  ('210', 4, 4),\n",
       "  ('209', 5, 5),\n",
       "  ('208', 6, 6),\n",
       "  ('1289', 7, 7),\n",
       "  ('1288', 8, 8),\n",
       "  ('1287', 9, 9),\n",
       "  ('1637', 10, 10),\n",
       "  ('1287', 11, 11),\n",
       "  ('1286', 12, 14),\n",
       "  ('1285', 13, 15),\n",
       "  ('1284', 14, 16)],\n",
       " [('214', 0, 0),\n",
       "  ('213', 1, 1),\n",
       "  ('212', 2, 2),\n",
       "  ('211', 3, 3),\n",
       "  ('210', 4, 4),\n",
       "  ('209', 5, 5),\n",
       "  ('208', 6, 6),\n",
       "  ('1289', 7, 7),\n",
       "  ('1288', 8, 8),\n",
       "  ('1287', 9, 9),\n",
       "  ('1286', 12, 10),\n",
       "  ('1285', 13, 11),\n",
       "  ('1284', 14, 12),\n",
       "  ('831', 15, 13),\n",
       "  ('2443', 16, 14)],\n",
       " [('214', 0, 0),\n",
       "  ('213', 1, 1),\n",
       "  ('212', 2, 2),\n",
       "  ('211', 3, 3),\n",
       "  ('210', 4, 4),\n",
       "  ('209', 5, 5),\n",
       "  ('208', 6, 6),\n",
       "  ('1289', 7, 7),\n",
       "  ('1288', 8, 8),\n",
       "  ('1287', 9, 9),\n",
       "  ('1637', 10, 10),\n",
       "  ('1287', 11, 11),\n",
       "  ('1286', 12, 14),\n",
       "  ('1285', 13, 15)],\n",
       " [('214', 0, 0),\n",
       "  ('213', 1, 1),\n",
       "  ('212', 2, 2),\n",
       "  ('211', 3, 3),\n",
       "  ('210', 4, 4),\n",
       "  ('209', 5, 5),\n",
       "  ('208', 6, 6),\n",
       "  ('1289', 7, 7),\n",
       "  ('1288', 8, 8),\n",
       "  ('1287', 9, 9),\n",
       "  ('1286', 12, 10),\n",
       "  ('1285', 13, 11),\n",
       "  ('1284', 14, 12),\n",
       "  ('831', 15, 13)],\n",
       " [('214', 0, 0),\n",
       "  ('213', 1, 1),\n",
       "  ('212', 2, 2),\n",
       "  ('211', 3, 3),\n",
       "  ('210', 4, 4),\n",
       "  ('209', 5, 5),\n",
       "  ('208', 6, 6),\n",
       "  ('1289', 7, 7),\n",
       "  ('1288', 8, 8),\n",
       "  ('1287', 9, 9),\n",
       "  ('1637', 10, 10),\n",
       "  ('1287', 11, 11),\n",
       "  ('1286', 12, 16),\n",
       "  ('1285', 13, 17)],\n",
       " [('214', 0, 0),\n",
       "  ('213', 1, 1),\n",
       "  ('212', 2, 2),\n",
       "  ('211', 3, 3),\n",
       "  ('210', 4, 4),\n",
       "  ('209', 5, 5),\n",
       "  ('208', 6, 6),\n",
       "  ('1289', 7, 7),\n",
       "  ('1288', 8, 8),\n",
       "  ('1287', 9, 9),\n",
       "  ('1286', 12, 10),\n",
       "  ('1285', 13, 11),\n",
       "  ('1284', 14, 12),\n",
       "  ('831', 15, 13)]]"
      ]
     },
     "execution_count": 56,
     "metadata": {},
     "output_type": "execute_result"
    }
   ],
   "source": [
    "good[:10]"
   ]
  },
  {
   "cell_type": "code",
   "execution_count": 32,
   "metadata": {
    "collapsed": false
   },
   "outputs": [
    {
     "data": {
      "text/plain": [
       "1"
      ]
     },
     "execution_count": 32,
     "metadata": {},
     "output_type": "execute_result"
    }
   ],
   "source": [
    "a = lcs(reversed_clean[0], reversed_clean[1])\n",
    "len(a)"
   ]
  },
  {
   "cell_type": "code",
   "execution_count": 19,
   "metadata": {
    "collapsed": false
   },
   "outputs": [
    {
     "data": {
      "text/plain": [
       "['205',\n",
       " '206',\n",
       " '207',\n",
       " '208',\n",
       " '209',\n",
       " '210',\n",
       " '211',\n",
       " '212',\n",
       " '213',\n",
       " '214',\n",
       " '215',\n",
       " '216',\n",
       " '217',\n",
       " '218',\n",
       " '219',\n",
       " '15',\n",
       " '68',\n",
       " '70',\n",
       " '23',\n",
       " '24',\n",
       " '72',\n",
       " '73',\n",
       " '220',\n",
       " '221',\n",
       " '125',\n",
       " '126',\n",
       " '156',\n",
       " '28',\n",
       " '29',\n",
       " '222']"
      ]
     },
     "execution_count": 19,
     "metadata": {},
     "output_type": "execute_result"
    }
   ],
   "source": [
    "traces[0]"
   ]
  },
  {
   "cell_type": "code",
   "execution_count": 16,
   "metadata": {
    "collapsed": false
   },
   "outputs": [
    {
     "data": {
      "text/plain": [
       "5047"
      ]
     },
     "execution_count": 16,
     "metadata": {},
     "output_type": "execute_result"
    }
   ],
   "source": [
    "len(traces)"
   ]
  },
  {
   "cell_type": "code",
   "execution_count": 14,
   "metadata": {
    "collapsed": false
   },
   "outputs": [
    {
     "data": {
      "text/plain": [
       "['215',\n",
       " '216',\n",
       " '217',\n",
       " '218',\n",
       " '219',\n",
       " '15',\n",
       " '68',\n",
       " '70',\n",
       " '23',\n",
       " '24',\n",
       " '72',\n",
       " '73',\n",
       " '220',\n",
       " '221',\n",
       " '125',\n",
       " '126',\n",
       " '156',\n",
       " '28',\n",
       " '29',\n",
       " '222']"
      ]
     },
     "execution_count": 14,
     "metadata": {},
     "output_type": "execute_result"
    }
   ],
   "source": [
    "prefix"
   ]
  },
  {
   "cell_type": "code",
   "execution_count": 15,
   "metadata": {
    "collapsed": true
   },
   "outputs": [],
   "source": [
    "end1, end2, end3 = list(c[35].most_common(3))"
   ]
  },
  {
   "cell_type": "code",
   "execution_count": 21,
   "metadata": {
    "collapsed": false
   },
   "outputs": [
    {
     "data": {
      "text/plain": [
       "522"
      ]
     },
     "execution_count": 21,
     "metadata": {},
     "output_type": "execute_result"
    }
   ],
   "source": [
    "end1[1] + end2[1] + end3[1]"
   ]
  },
  {
   "cell_type": "code",
   "execution_count": 23,
   "metadata": {
    "collapsed": false
   },
   "outputs": [],
   "source": [
    "group1 = []\n",
    "group2 = []\n",
    "group3 = []\n",
    "for i, c in enumerate(corpus):\n",
    "    if tuple(c[0][-35:]) == end1[0]:\n",
    "        group1.append(i)\n",
    "    elif tuple(c[0][-35:]) == end2[0]:\n",
    "        group2.append(i)\n",
    "    elif tuple(c[0][-35:]) == end3[0]:\n",
    "        group3.append(i)"
   ]
  },
  {
   "cell_type": "code",
   "execution_count": 29,
   "metadata": {
    "collapsed": false
   },
   "outputs": [
    {
     "data": {
      "text/plain": [
       "(478, 1000)"
      ]
     },
     "execution_count": 29,
     "metadata": {},
     "output_type": "execute_result"
    }
   ],
   "source": [
    "dist = np.zeros((1000, 1000), dtype=np.float)\n",
    "others = [random.randint(0, len(corpus)-1) for i in range(1000-522)]\n"
   ]
  },
  {
   "cell_type": "code",
   "execution_count": 1,
   "metadata": {
    "collapsed": true
   },
   "outputs": [],
   "source": [
    "def rwmd_distances(model, corpus, idx):\n",
    "    model.init_sims(replace=True)\n",
    "\n",
    "    words = corpus[idx].words\n",
    "    words = [w for w in words if w in model]\n",
    "    # Cos-similarity\n",
    "    all_distances = np.array(1.0 - \n",
    "                             np.dot(model.wv.syn0norm, \n",
    "                                    model.wv.syn0norm[[model.wv.vocab[word].index for word in words]].transpose()), \n",
    "                             dtype=np.double)\n",
    "    \n",
    "    # Relaxed Word Mover's Distance for selecting\n",
    "    t = time.time()\n",
    "    distances = []\n",
    "    for doc_id in range(0, len(corpus)):\n",
    "        doc_words = [model.wv.vocab[word].index for word in corpus[doc_id].words if word in model]\n",
    "        if len(doc_words) != 0:\n",
    "            word_dists = all_distances[doc_words]\n",
    "            rwmd = max(np.sum(np.min(word_dists, axis=0)), np.sum(np.min(word_dists, axis=1)))\n",
    "        else:\n",
    "            rwmd = float('inf')\n",
    "        distances.append((doc_id, rwmd))\n",
    "\n",
    "    # distances.sort(key=lambda v: v[1])\n",
    "    logging.info('First part done in ' + str(time.time() - t) + ' s.')\n",
    "    return distances"
   ]
  },
  {
   "cell_type": "code",
   "execution_count": 50,
   "metadata": {
    "collapsed": false
   },
   "outputs": [],
   "source": [
    "def create_sample(corpus, group, model, n=350):\n",
    "    dist = np.zeros((n, n), dtype=np.float)\n",
    "    sz = len(group)\n",
    "    others = [random.randint(0, len(corpus)-1) for i in range(n-sz)]\n",
    "    sample = []\n",
    "    for i in (group + others):\n",
    "        sample.append(corpus[i])\n",
    "    for i in range(len(sample)):\n",
    "        if i % 50 == 0:\n",
    "            print(i)\n",
    "        dist[i] = np.array(rwmd_distances(model, sample, i))[:,1]\n",
    "    return dist"
   ]
  },
  {
   "cell_type": "code",
   "execution_count": 35,
   "metadata": {
    "collapsed": true
   },
   "outputs": [],
   "source": [
    "model = doc2vec.Doc2Vec.load('data/model/dm_d200_all.model')"
   ]
  },
  {
   "cell_type": "code",
   "execution_count": 51,
   "metadata": {
    "collapsed": false
   },
   "outputs": [
    {
     "name": "stdout",
     "output_type": "stream",
     "text": [
      "0\n",
      "50\n",
      "100\n",
      "150\n",
      "200\n",
      "250\n",
      "300\n"
     ]
    }
   ],
   "source": [
    "dist = create_sample(corpus, group3, model)"
   ]
  },
  {
   "cell_type": "code",
   "execution_count": 53,
   "metadata": {
    "collapsed": false
   },
   "outputs": [
    {
     "name": "stderr",
     "output_type": "stream",
     "text": [
      "/home/kirill/anaconda3/lib/python3.6/site-packages/sklearn/manifold/mds.py:396: UserWarning: The MDS API has changed. ``fit`` now constructs an dissimilarity matrix from data. To use a custom dissimilarity matrix, set ``dissimilarity='precomputed'``.\n",
      "  warnings.warn(\"The MDS API has changed. ``fit`` now constructs an\"\n"
     ]
    },
    {
     "data": {
      "text/plain": [
       "(350, 2)"
      ]
     },
     "execution_count": 53,
     "metadata": {},
     "output_type": "execute_result"
    }
   ],
   "source": [
    "from sklearn.manifold import MDS\n",
    "clf = MDS()\n",
    "X_mds = clf.fit_transform(dist)\n",
    "X_mds.shape"
   ]
  },
  {
   "cell_type": "code",
   "execution_count": 69,
   "metadata": {
    "collapsed": false
   },
   "outputs": [
    {
     "name": "stderr",
     "output_type": "stream",
     "text": [
      "/home/kirill/anaconda3/lib/python3.6/site-packages/sklearn/manifold/mds.py:396: UserWarning: The MDS API has changed. ``fit`` now constructs an dissimilarity matrix from data. To use a custom dissimilarity matrix, set ``dissimilarity='precomputed'``.\n",
      "  warnings.warn(\"The MDS API has changed. ``fit`` now constructs an\"\n"
     ]
    },
    {
     "data": {
      "image/png": "[encoded data removed]",
      "text/plain": [
       "<matplotlib.figure.Figure at 0x7f1721b14b70>"
      ]
     },
     "metadata": {},
     "output_type": "display_data"
    }
   ],
   "source": [
    "dist_200 = np.zeros((200, 200), dtype=np.float)\n",
    "for i in range(len(dist_200)):\n",
    "    dist_200[i] = dist[i][:200]\n",
    "clf = MDS()\n",
    "X_mds = clf.fit_transform(dist_200)\n",
    "X_mds.shape\n",
    "color = 'r' * len(group3) + 'b'*(len(dist_200) - len(group3))\n",
    "plt.scatter(X_mds[:, 0], X_mds[:, 1], c=color)\n",
    "plt.show()"
   ]
  },
  {
   "cell_type": "code",
   "execution_count": 56,
   "metadata": {
    "collapsed": false
   },
   "outputs": [
    {
     "data": {
      "image/png": "[encoded data removed]",
      "text/plain": [
       "<matplotlib.figure.Figure at 0x7f17230b4978>"
      ]
     },
     "metadata": {},
     "output_type": "display_data"
    }
   ],
   "source": [
    "color = 'r' * len(group3) + 'b'*(len(dist) - len(group3))\n",
    "plt.scatter(X_mds[:, 0], X_mds[:, 1], c=color)\n",
    "plt.show()"
   ]
  },
  {
   "cell_type": "code",
   "execution_count": 89,
   "metadata": {
    "collapsed": false
   },
   "outputs": [
    {
     "data": {
      "image/png": "[encoded data removed]",
      "text/plain": [
       "<matplotlib.figure.Figure at 0x7f172252e860>"
      ]
     },
     "metadata": {},
     "output_type": "display_data"
    }
   ],
   "source": [
    "ll = [len(corpus[i].words) for i in group2]\n",
    "plt.hist(ll)\n",
    "plt.show()"
   ]
  },
  {
   "cell_type": "code",
   "execution_count": 91,
   "metadata": {
    "collapsed": false
   },
   "outputs": [
    {
     "data": {
      "image/png": "[encoded data removed]",
      "text/plain": [
       "<matplotlib.figure.Figure at 0x7f1720fd1c18>"
      ]
     },
     "metadata": {},
     "output_type": "display_data"
    }
   ],
   "source": [
    "ll = [len(corpus[i].words) for i in group1]\n",
    "plt.hist(ll)\n",
    "plt.show()"
   ]
  }
 ],
 "metadata": {
  "kernelspec": {
   "display_name": "Python 3",
   "language": "python",
   "name": "python3"
  },
  "language_info": {
   "codemirror_mode": {
    "name": "ipython",
    "version": 3
   },
   "file_extension": ".py",
   "mimetype": "text/x-python",
   "name": "python",
   "nbconvert_exporter": "python",
   "pygments_lexer": "ipython3",
   "version": "3.6.0"
  }
 },
 "nbformat": 4,
 "nbformat_minor": 2
}
