{
 "cells": [
  {
   "cell_type": "code",
   "execution_count": 2,
   "metadata": {
    "collapsed": true
   },
   "outputs": [],
   "source": [
    "import logging\n",
    "import json\n",
    "import random\n",
    "import time\n",
    "import numpy as np\n",
    "import pickle\n",
    "from gensim.models import doc2vec\n",
    "import matplotlib.pyplot as plt\n",
    "from collections import Counter"
   ]
  },
  {
   "cell_type": "code",
   "execution_count": 3,
   "metadata": {
    "collapsed": true
   },
   "outputs": [],
   "source": [
    "from crashsimilarity.downloader import SocorroDownloader, Downloader\n",
    "from crashsimilarity import utils\n",
    "from itertools import islice"
   ]
  },
  {
   "cell_type": "code",
   "execution_count": 4,
   "metadata": {
    "collapsed": true
   },
   "outputs": [],
   "source": [
    "def corpus_generator(file_name):\n",
    "    with open(file_name, 'r') as f:\n",
    "        for i, line in enumerate(f):\n",
    "            j = json.loads(line)\n",
    "            stack_trace = j[0]\n",
    "            yield doc2vec.TaggedDocument(stack_trace, [i])"
   ]
  },
  {
   "cell_type": "code",
   "execution_count": 5,
   "metadata": {
    "collapsed": true
   },
   "outputs": [],
   "source": [
    "gen = corpus_generator('data/new_clean_compressed.json')"
   ]
  },
  {
   "cell_type": "code",
   "execution_count": 6,
   "metadata": {
    "collapsed": false
   },
   "outputs": [
    {
     "name": "stdout",
     "output_type": "stream",
     "text": [
      "0\n",
      "500000\n",
      "1000000\n"
     ]
    }
   ],
   "source": [
    "c = dict([(5 * i, Counter()) for i in [2,3,4,5,6,7]])\n",
    "for i, data in enumerate(gen):\n",
    "    if i % 500000 == 0:\n",
    "        print(i)\n",
    "    for k in c.keys():\n",
    "        c[k][tuple(data[0][-k:])] += 1"
   ]
  },
  {
   "cell_type": "code",
   "execution_count": 28,
   "metadata": {
    "collapsed": false
   },
   "outputs": [],
   "source": [
    "pref = list(c[20].most_common(1)[0][0])"
   ]
  },
  {
   "cell_type": "code",
   "execution_count": 29,
   "metadata": {
    "collapsed": false
   },
   "outputs": [
    {
     "data": {
      "text/plain": [
       "['215',\n",
       " '216',\n",
       " '217',\n",
       " '218',\n",
       " '219',\n",
       " '15',\n",
       " '68',\n",
       " '70',\n",
       " '23',\n",
       " '24',\n",
       " '72',\n",
       " '73',\n",
       " '220',\n",
       " '221',\n",
       " '125',\n",
       " '126',\n",
       " '156',\n",
       " '28',\n",
       " '29',\n",
       " '222']"
      ]
     },
     "execution_count": 29,
     "metadata": {},
     "output_type": "execute_result"
    }
   ],
   "source": [
    "pref"
   ]
  },
  {
   "cell_type": "code",
   "execution_count": 30,
   "metadata": {
    "collapsed": false
   },
   "outputs": [],
   "source": [
    "pref_20 = []\n",
    "pref_10 = []\n",
    "for data in corpus_generator('data/new_clean_compressed.json'):\n",
    "    if data[0][-20:] == pref:\n",
    "        pref_20.append(data[0])\n",
    "    elif data[0][-10:] == pref[10:]:\n",
    "        pref_10.append(data[0])"
   ]
  },
  {
   "cell_type": "code",
   "execution_count": 32,
   "metadata": {
    "collapsed": false
   },
   "outputs": [
    {
     "data": {
      "text/plain": [
       "30518"
      ]
     },
     "execution_count": 32,
     "metadata": {},
     "output_type": "execute_result"
    }
   ],
   "source": [
    "len(pref_10)"
   ]
  },
  {
   "cell_type": "code",
   "execution_count": 17,
   "metadata": {
    "collapsed": false
   },
   "outputs": [
    {
     "data": {
      "text/plain": [
       "(608701, 961893)"
      ]
     },
     "execution_count": 17,
     "metadata": {},
     "output_type": "execute_result"
    }
   ],
   "source": [
    "len(sz_10), len(sz_20)"
   ]
  }
 ],
 "metadata": {
  "kernelspec": {
   "display_name": "Python 3",
   "language": "python",
   "name": "python3"
  },
  "language_info": {
   "codemirror_mode": {
    "name": "ipython",
    "version": 3
   },
   "file_extension": ".py",
   "mimetype": "text/x-python",
   "name": "python",
   "nbconvert_exporter": "python",
   "pygments_lexer": "ipython3",
   "version": "3.6.0"
  }
 },
 "nbformat": 4,
 "nbformat_minor": 2
}
