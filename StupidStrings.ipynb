{
 "cells": [
  {
   "cell_type": "code",
   "execution_count": 61,
   "metadata": {
    "collapsed": true
   },
   "outputs": [],
   "source": [
    "import time\n",
    "import crash_similarity\n",
    "import utils\n",
    "import numpy as np\n",
    "from collections import Counter\n",
    "import json"
   ]
  },
  {
   "cell_type": "code",
   "execution_count": 66,
   "metadata": {
    "collapsed": true
   },
   "outputs": [],
   "source": [
    "def clean_func(func):\n",
    "    func = func.lower().replace('\\n', '')\n",
    "    return func[:func.index('@0x') + 3] if '@0x' in func else func\n",
    "\n",
    "\n",
    "def preprocess(stack_trace):\n",
    "    return [clean_func(f) for f in stack_trace.split(' | ')]#[:10]  # XXX: 10 bottom frames or all of them?\n",
    "\n",
    "\n",
    "# Exclude stack traces without symbols.\n",
    "def should_skip(stack_trace):\n",
    "    return 'xul.dll@' in stack_trace or 'XUL@' in stack_trace or 'libxul.so@' in stack_trace\n",
    "\n",
    "\n",
    "def read_corpus(fnames):\n",
    "    elems = []\n",
    "    already_selected = set()\n",
    "    for line in utils.read_files(fnames):\n",
    "        data = json.loads(line)\n",
    "        proto_signature = data['proto_signature']\n",
    "\n",
    "        if should_skip(proto_signature):\n",
    "            continue\n",
    "\n",
    "        processed = preprocess(proto_signature)\n",
    "\n",
    "        if frozenset(processed) not in already_selected:\n",
    "            elems.append((processed, data['signature']))\n",
    "        already_selected.add(frozenset(processed))\n",
    "\n",
    "    return [(trace, signature) for i, (trace, signature) in enumerate(elems)]"
   ]
  },
  {
   "cell_type": "code",
   "execution_count": 69,
   "metadata": {
    "collapsed": true
   },
   "outputs": [],
   "source": [
    "paths = ['crashsimilarity_data/firefox-crashes-2016-11-09.json.gz', 'crashsimilarity_data/firefox-crashes-2016-11-08.json.gz', 'crashsimilarity_data/firefox-crashes-2016-11-07.json.gz', 'crashsimilarity_data/firefox-crashes-2016-11-06.json.gz', 'crashsimilarity_data/firefox-crashes-2016-11-05.json.gz', 'crashsimilarity_data/firefox-crashes-2016-11-04.json.gz', 'crashsimilarity_data/firefox-crashes-2016-11-03.json.gz']\n",
    "corpus = read_corpus(paths)"
   ]
  },
  {
   "cell_type": "code",
   "execution_count": 91,
   "metadata": {
    "collapsed": false
   },
   "outputs": [
    {
     "data": {
      "text/plain": [
       "(373196, 20.464399404066494)"
      ]
     },
     "execution_count": 91,
     "metadata": {},
     "output_type": "execute_result"
    }
   ],
   "source": [
    "len(corpus), np.mean([len(i[0]) for i in corpus])"
   ]
  },
  {
   "cell_type": "code",
   "execution_count": 128,
   "metadata": {
    "collapsed": false
   },
   "outputs": [],
   "source": [
    "def get_windows(words, length):\n",
    "    rv = []\n",
    "    for i in range(len(words) - length + 1):\n",
    "        rv.append(tuple(words[i:i+length]))\n",
    "    return rv"
   ]
  },
  {
   "cell_type": "code",
   "execution_count": 133,
   "metadata": {
    "collapsed": false
   },
   "outputs": [
    {
     "data": {
      "text/plain": [
       "1738695"
      ]
     },
     "execution_count": 133,
     "metadata": {},
     "output_type": "execute_result"
    }
   ],
   "source": [
    "windows = Counter()\n",
    "for doc in corpus:\n",
    "    for window in get_windows(doc[0], 10):\n",
    "        windows[window] += 1\n",
    "len(windows)"
   ]
  },
  {
   "cell_type": "code",
   "execution_count": 134,
   "metadata": {
    "collapsed": false
   },
   "outputs": [
    {
     "data": {
      "text/plain": [
       "[(('@0x', '@0x', '@0x', '@0x', '@0x', '@0x', '@0x', '@0x', '@0x', '@0x'),\n",
       "  25163),\n",
       " (('npswf32_23_0_0_205.dll@0x',\n",
       "   'npswf32_23_0_0_205.dll@0x',\n",
       "   'npswf32_23_0_0_205.dll@0x',\n",
       "   'npswf32_23_0_0_205.dll@0x',\n",
       "   'npswf32_23_0_0_205.dll@0x',\n",
       "   'npswf32_23_0_0_205.dll@0x',\n",
       "   'npswf32_23_0_0_205.dll@0x',\n",
       "   'npswf32_23_0_0_205.dll@0x',\n",
       "   'npswf32_23_0_0_205.dll@0x',\n",
       "   'npswf32_23_0_0_205.dll@0x'),\n",
       "  5524),\n",
       " (('mozilla::ipc::messagepump::run',\n",
       "   'mozilla::ipc::messagepumpforchildprocess::run',\n",
       "   'messageloop::runhandler',\n",
       "   'messageloop::run',\n",
       "   'nsbaseappshell::run',\n",
       "   'nsappshell::run',\n",
       "   'xre_runappshell',\n",
       "   'mozilla::ipc::messagepumpforchildprocess::run',\n",
       "   'messageloop::runhandler',\n",
       "   'messageloop::run'),\n",
       "  4299),\n",
       " (('mozilla::ipc::messagepumpforchildprocess::run',\n",
       "   'messageloop::runhandler',\n",
       "   'messageloop::run',\n",
       "   'nsbaseappshell::run',\n",
       "   'nsappshell::run',\n",
       "   'xre_runappshell',\n",
       "   'mozilla::ipc::messagepumpforchildprocess::run',\n",
       "   'messageloop::runhandler',\n",
       "   'messageloop::run',\n",
       "   'xre_initchildprocess'),\n",
       "  4195),\n",
       " (('messageloop::runhandler',\n",
       "   'messageloop::run',\n",
       "   'nsbaseappshell::run',\n",
       "   'nsappshell::run',\n",
       "   'xre_runappshell',\n",
       "   'mozilla::ipc::messagepumpforchildprocess::run',\n",
       "   'messageloop::runhandler',\n",
       "   'messageloop::run',\n",
       "   'xre_initchildprocess',\n",
       "   'content_process_main'),\n",
       "  3541),\n",
       " (('appkit@0x',\n",
       "   'appkit@0x',\n",
       "   'appkit@0x',\n",
       "   'appkit@0x',\n",
       "   'appkit@0x',\n",
       "   'appkit@0x',\n",
       "   'appkit@0x',\n",
       "   'appkit@0x',\n",
       "   'appkit@0x',\n",
       "   'appkit@0x'),\n",
       "  3365),\n",
       " (('mozilla::ipc::messagepump::run',\n",
       "   'messageloop::runhandler',\n",
       "   'messageloop::run',\n",
       "   'nsbaseappshell::run',\n",
       "   'nsappshell::run',\n",
       "   'nsappstartup::run',\n",
       "   'xremain::xre_mainrun',\n",
       "   'xremain::xre_main',\n",
       "   'xre_main',\n",
       "   'do_main'),\n",
       "  2962),\n",
       " (('messageloop::run',\n",
       "   'nsbaseappshell::run',\n",
       "   'nsappshell::run',\n",
       "   'xre_runappshell',\n",
       "   'mozilla::ipc::messagepumpforchildprocess::run',\n",
       "   'messageloop::runhandler',\n",
       "   'messageloop::run',\n",
       "   'xre_initchildprocess',\n",
       "   'content_process_main',\n",
       "   'wmain'),\n",
       "  2935),\n",
       " (('nsthread::processnextevent',\n",
       "   'ns_processnextevent',\n",
       "   'mozilla::ipc::messagepumpfornonmainthreads::run',\n",
       "   'messageloop::runhandler',\n",
       "   'messageloop::run',\n",
       "   'nsthread::threadfunc',\n",
       "   '_pr_nativerunthread',\n",
       "   'pr_root',\n",
       "   '_callthreadstartex',\n",
       "   'msvcr120.dll@0x'),\n",
       "  2878),\n",
       " (('nsthread::processnextevent',\n",
       "   'mozilla::ipc::messagepump::run',\n",
       "   'mozilla::ipc::messagepumpforchildprocess::run',\n",
       "   'messageloop::runhandler',\n",
       "   'messageloop::run',\n",
       "   'nsbaseappshell::run',\n",
       "   'nsappshell::run',\n",
       "   'xre_runappshell',\n",
       "   'mozilla::ipc::messagepumpforchildprocess::run',\n",
       "   'messageloop::runhandler'),\n",
       "  2758)]"
      ]
     },
     "execution_count": 134,
     "metadata": {},
     "output_type": "execute_result"
    }
   ],
   "source": [
    "windows.most_common(10)"
   ]
  },
  {
   "cell_type": "code",
   "execution_count": 74,
   "metadata": {
    "collapsed": false
   },
   "outputs": [
    {
     "data": {
      "text/plain": [
       "[('OOM | small', 29698),\n",
       " ('IPCError-browser | ShutDownKill', 14256),\n",
       " ('moz_abort | pages_commit', 3052),\n",
       " ('js::ObjectGroup::sweep', 3014),\n",
       " ('BlobSet::Flush', 1769),\n",
       " ('js::GCMarker::processMarkStackTop', 1724),\n",
       " ('nsXPCWrappedJS::nsXPCWrappedJS', 1667),\n",
       " ('chtbrkg.dll@0x1beb1', 1652),\n",
       " ('jit | CORRUPT_CODE', 1611),\n",
       " ('js::GCMarker::eagerlyMarkChildren', 1590)]"
      ]
     },
     "execution_count": 74,
     "metadata": {},
     "output_type": "execute_result"
    }
   ],
   "source": [
    "signatures = Counter([i[1] for i in corpus])\n",
    "signatures.most_common(10)"
   ]
  },
  {
   "cell_type": "code",
   "execution_count": 79,
   "metadata": {
    "collapsed": false
   },
   "outputs": [],
   "source": [
    "head_calls = dict()\n",
    "for i in [1,2,3,4,5,6,7,8,9,10]:\n",
    "    head_calls[i] = Counter([' '.join(words[0][:i]) for words in corpus])"
   ]
  },
  {
   "cell_type": "code",
   "execution_count": 90,
   "metadata": {
    "collapsed": false
   },
   "outputs": [
    {
     "data": {
      "text/plain": [
       "[('mozalloc_abort mozalloc_handle_oom moz_xmalloc nstarray_base<t>::ensurecapacity nstarray_impl<t>::appendelements<t> assignrangealgorithm<t>::implementation<t> nstarray_impl<t>::appendelements<t> nsmediaqueryresultcachekey::nsmediaqueryresultcachekey mozilla::makeunique<t> nscssruleprocessor::clonemqcachekey',\n",
       "  1377),\n",
       " ('@0x @0x @0x @0x @0x @0x @0x @0x @0x @0x', 830),\n",
       " ('ntusergetmessage ntusergetmessage ntusergetmessage waitforcompletionmessage documentpropertieswthunk printchangeproperties _alloca_probe internalcallwinproc usercalldlgproccheckwow defdlgprocworker',\n",
       "  645),\n",
       " ('kifastsystemcallret zwwaitforsingleobject waitforsingleobjectex waitforsingleobject pr_waitcondvar mozilla::condvar::wait nseventqueue::getevent nsthread::processnextevent ns_processnextevent nsthread::shutdown',\n",
       "  573),\n",
       " ('ipseng32.dll@0x ipseng32.dll@0x ipseng32.dll@0x ipseng32.dll@0x ipseng32.dll@0x ipseng32.dll@0x ipseng32.dll@0x ipseng32.dll@0x ipseng32.dll@0x ipseng32.dll@0x',\n",
       "  572),\n",
       " ('js::autoenteroomunsaferegion::crash js::autoenteroomunsaferegion::crash js::dispatchtyped<t> js::gc::storebuffer::valueedge::trace js::gc::storebuffer::monotypebuffer<t>::trace js::nursery::collect js::gc::gcruntime::minorgcimpl js::gc::gcruntime::evictnursery js::gc::gcruntime::gccycle js::gc::gcruntime::collect',\n",
       "  553),\n",
       " ('js::autoenteroomunsaferegion::crash js::autoenteroomunsaferegion::crash js::tenuringtracer::movetotenured js::gc::storebuffer::monotypebuffer<t>::trace js::nursery::collect js::gc::gcruntime::minorgcimpl js::gc::gcruntime::evictnursery js::gc::gcruntime::gccycle js::gc::gcruntime::collect js::gc::gcruntime::gc',\n",
       "  415),\n",
       " ('moz_abort arena_run_split arena_malloc_large je_malloc js::lifoalloc::getorcreatechunk js::objectgroup::sweep sweeparenalist<t> js::gc::gcruntime::sweepphase js::gc::gcruntime::incrementalcollectslice js::gc::gcruntime::gccycle',\n",
       "  408),\n",
       " (\"pr_destroycondvar mozilla::condvar::~condvar mozilla::image::imgframe::~imgframe mozilla::image::imgframe::release nsbasehashtableet<t>::`scalar deleting destructor' nsthashtable<t>::s_clearentry pldhashtable::~pldhashtable mozilla::image::surfacecacheimpl::removeimage mozilla::image::surfacecache::removeimage mozilla::image::rasterimage::discard\",\n",
       "  389),\n",
       " ('atidxx32.dll@0x atidxx32.dll@0x atidxx32.dll@0x atidxx32.dll@0x atidxx32.dll@0x atidxx32.dll@0x atidxx32.dll@0x atidxx32.dll@0x atidxx32.dll@0x atidxx32.dll@0x',\n",
       "  321)]"
      ]
     },
     "execution_count": 90,
     "metadata": {},
     "output_type": "execute_result"
    }
   ],
   "source": [
    "head_calls[10].most_common(10)"
   ]
  }
 ],
 "metadata": {
  "anaconda-cloud": {},
  "kernelspec": {
   "display_name": "Python [default]",
   "language": "python",
   "name": "python3"
  },
  "language_info": {
   "codemirror_mode": {
    "name": "ipython",
    "version": 3
   },
   "file_extension": ".py",
   "mimetype": "text/x-python",
   "name": "python",
   "nbconvert_exporter": "python",
   "pygments_lexer": "ipython3",
   "version": "3.5.2"
  }
 },
 "nbformat": 4,
 "nbformat_minor": 2
}
